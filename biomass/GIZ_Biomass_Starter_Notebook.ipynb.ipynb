{
 "cells": [
  {
   "cell_type": "markdown",
   "metadata": {
    "toc": true
   },
   "source": [
    "<h1>Table of Contents<span class=\"tocSkip\"></span></h1>\n",
    "<div class=\"toc\"><ul class=\"toc-item\"><li><span><a href=\"#Images-Extractions\" data-toc-modified-id=\"Images-Extractions-1\"><span class=\"toc-item-num\">1&nbsp;&nbsp;</span>Images Extractions</a></span><ul class=\"toc-item\"><li><span><a href=\"#Explore-datasets\" data-toc-modified-id=\"Explore-datasets-1.1\"><span class=\"toc-item-num\">1.1&nbsp;&nbsp;</span>Explore datasets</a></span></li><li><span><a href=\"#Checking-if-cloud-is-uniform-on-all-the-coordinate-of-an-image\" data-toc-modified-id=\"Checking-if-cloud-is-uniform-on-all-the-coordinate-of-an-image-1.2\"><span class=\"toc-item-num\">1.2&nbsp;&nbsp;</span>Checking if cloud is uniform on all the coordinate of an image</a></span></li><li><span><a href=\"#Some-visulizations\" data-toc-modified-id=\"Some-visulizations-1.3\"><span class=\"toc-item-num\">1.3&nbsp;&nbsp;</span>Some visulizations</a></span></li></ul></li><li><span><a href=\"#First-Baseline-With-Sklearn\" data-toc-modified-id=\"First-Baseline-With-Sklearn-2\"><span class=\"toc-item-num\">2&nbsp;&nbsp;</span>First Baseline With Sklearn</a></span></li><li><span><a href=\"#Preprocessing\" data-toc-modified-id=\"Preprocessing-3\"><span class=\"toc-item-num\">3&nbsp;&nbsp;</span>Preprocessing</a></span><ul class=\"toc-item\"><li><span><a href=\"#Modelisation\" data-toc-modified-id=\"Modelisation-3.1\"><span class=\"toc-item-num\">3.1&nbsp;&nbsp;</span>Modelisation</a></span></li><li><span><a href=\"#convert-To-tensor-Dataset\" data-toc-modified-id=\"convert-To-tensor-Dataset-3.2\"><span class=\"toc-item-num\">3.2&nbsp;&nbsp;</span>convert To tensor Dataset</a></span></li><li><span><a href=\"#Eval-on-test-set\" data-toc-modified-id=\"Eval-on-test-set-3.3\"><span class=\"toc-item-num\">3.3&nbsp;&nbsp;</span>Eval on test set</a></span><ul class=\"toc-item\"><li><span><a href=\"#Gridsearch\" data-toc-modified-id=\"Gridsearch-3.3.1\"><span class=\"toc-item-num\">3.3.1&nbsp;&nbsp;</span>Gridsearch</a></span></li><li><span><a href=\"#Predict-GIZ-Biomass\" data-toc-modified-id=\"Predict-GIZ-Biomass-3.3.2\"><span class=\"toc-item-num\">3.3.2&nbsp;&nbsp;</span>Predict GIZ Biomass</a></span></li></ul></li></ul></li></ul></div>"
   ]
  },
  {
   "cell_type": "markdown",
   "metadata": {
    "id": "28R01eNOra9X"
   },
   "source": [
    "In this notebook, we will show you the differents steps to train step by step dly your model in this competition."
   ]
  },
  {
   "cell_type": "markdown",
   "metadata": {
    "id": "BiF5fKp2Qv1d"
   },
   "source": [
    "# Images Extractions"
   ]
  },
  {
   "cell_type": "code",
   "execution_count": 1,
   "metadata": {
    "ExecuteTime": {
     "end_time": "2023-04-29T12:48:27.180446Z",
     "start_time": "2023-04-29T12:48:25.710461Z"
    },
    "executionInfo": {
     "elapsed": 662,
     "status": "ok",
     "timestamp": 1674723307296,
     "user": {
      "displayName": "Nelson Mganga",
      "userId": "15984282569117459010"
     },
     "user_tz": -180
    },
    "id": "ghyAh0w20yIH"
   },
   "outputs": [
    {
     "name": "stderr",
     "output_type": "stream",
     "text": [
      "2023-04-29 14:48:26.133220: I tensorflow/core/platform/cpu_feature_guard.cc:193] This TensorFlow binary is optimized with oneAPI Deep Neural Network Library (oneDNN) to use the following CPU instructions in performance-critical operations:  AVX2 AVX_VNNI FMA\n",
      "To enable them in other operations, rebuild TensorFlow with the appropriate compiler flags.\n",
      "2023-04-29 14:48:26.218178: I tensorflow/core/util/port.cc:104] oneDNN custom operations are on. You may see slightly different numerical results due to floating-point round-off errors from different computation orders. To turn them off, set the environment variable `TF_ENABLE_ONEDNN_OPTS=0`.\n",
      "2023-04-29 14:48:26.220600: W tensorflow/compiler/xla/stream_executor/platform/default/dso_loader.cc:64] Could not load dynamic library 'libcudart.so.11.0'; dlerror: libcudart.so.11.0: cannot open shared object file: No such file or directory\n",
      "2023-04-29 14:48:26.220615: I tensorflow/compiler/xla/stream_executor/cuda/cudart_stub.cc:29] Ignore above cudart dlerror if you do not have a GPU set up on your machine.\n",
      "2023-04-29 14:48:26.635600: W tensorflow/compiler/xla/stream_executor/platform/default/dso_loader.cc:64] Could not load dynamic library 'libnvinfer.so.7'; dlerror: libnvinfer.so.7: cannot open shared object file: No such file or directory\n",
      "2023-04-29 14:48:26.635637: W tensorflow/compiler/xla/stream_executor/platform/default/dso_loader.cc:64] Could not load dynamic library 'libnvinfer_plugin.so.7'; dlerror: libnvinfer_plugin.so.7: cannot open shared object file: No such file or directory\n",
      "2023-04-29 14:48:26.635653: W tensorflow/compiler/tf2tensorrt/utils/py_utils.cc:38] TF-TRT Warning: Cannot dlopen some TensorRT libraries. If you would like to use Nvidia GPU with TensorRT, please make sure the missing libraries mentioned above are installed properly.\n"
     ]
    }
   ],
   "source": [
    "import h5py\n",
    "import matplotlib.pyplot as plt\n",
    "import pandas as pd\n",
    "import numpy as np\n",
    "import warnings\n",
    "import tensorflow as tf\n",
    "import seaborn as sns\n",
    "warnings.filterwarnings('ignore')"
   ]
  },
  {
   "cell_type": "code",
   "execution_count": 2,
   "metadata": {
    "ExecuteTime": {
     "end_time": "2023-04-29T12:48:28.787757Z",
     "start_time": "2023-04-29T12:48:28.785681Z"
    },
    "executionInfo": {
     "elapsed": 15503,
     "status": "ok",
     "timestamp": 1674723322797,
     "user": {
      "displayName": "Nelson Mganga",
      "userId": "15984282569117459010"
     },
     "user_tz": -180
    },
    "id": "FSbBd9XiQ5q5"
   },
   "outputs": [],
   "source": [
    "#!wget -q  https://share.phys.ethz.ch/~pf/albecker/abc/09072022_1154_train.h5\n",
    "#!wget -q  https://share.phys.ethz.ch/~pf/albecker/abc/09072022_1154_val.h5\n",
    "#!wget -q https://share.phys.ethz.ch/~pf/albecker/abc/09072022_1154_test.h5"
   ]
  },
  {
   "cell_type": "code",
   "execution_count": 67,
   "metadata": {
    "ExecuteTime": {
     "end_time": "2023-04-29T23:20:10.999076Z",
     "start_time": "2023-04-29T23:20:10.993918Z"
    },
    "executionInfo": {
     "elapsed": 7,
     "status": "ok",
     "timestamp": 1674723322798,
     "user": {
      "displayName": "Nelson Mganga",
      "userId": "15984282569117459010"
     },
     "user_tz": -180
    },
    "id": "k3ZQRlZOQ65B"
   },
   "outputs": [],
   "source": [
    "trainset = h5py.File(\"./data/09072022_1154_train.h5\", \"r\")\n",
    "validateset = h5py.File(\"./data/09072022_1154_val.h5\", \"r\")\n",
    "testset = h5py.File(\"./data/09072022_1154_test.h5\", \"r\")\n",
    "ID_S2_pair = pd.read_csv('./data/UniqueID-SentinelPair.csv')\n"
   ]
  },
  {
   "cell_type": "code",
   "execution_count": 4,
   "metadata": {
    "ExecuteTime": {
     "end_time": "2023-04-29T12:48:29.331720Z",
     "start_time": "2023-04-29T12:48:29.327422Z"
    },
    "colab": {
     "base_uri": "https://localhost:8080/"
    },
    "executionInfo": {
     "elapsed": 6,
     "status": "ok",
     "timestamp": 1674723322798,
     "user": {
      "displayName": "Nelson Mganga",
      "userId": "15984282569117459010"
     },
     "user_tz": -180
    },
    "id": "sQnKRSw9RDu6",
    "outputId": "3db2d7d8-aee9-4a1a-a8a2-bcf59fff71ee"
   },
   "outputs": [
    {
     "data": {
      "text/plain": [
       "<KeysViewHDF5 ['agbd', 'cloud', 'images', 'lat', 'lon', 'scl']>"
      ]
     },
     "execution_count": 4,
     "metadata": {},
     "output_type": "execute_result"
    }
   ],
   "source": [
    "# attributes of trainset\n",
    "trainset.keys()"
   ]
  },
  {
   "cell_type": "code",
   "execution_count": 5,
   "metadata": {
    "ExecuteTime": {
     "end_time": "2023-04-29T12:48:29.587422Z",
     "start_time": "2023-04-29T12:48:29.578954Z"
    }
   },
   "outputs": [
    {
     "data": {
      "text/plain": [
       "10"
      ]
     },
     "execution_count": 5,
     "metadata": {},
     "output_type": "execute_result"
    }
   ],
   "source": [
    "np.array(trainset['scl']).max()"
   ]
  },
  {
   "cell_type": "markdown",
   "metadata": {
    "id": "2rKhoGtGR1Xu"
   },
   "source": [
    "## Explore datasets"
   ]
  },
  {
   "cell_type": "code",
   "execution_count": 6,
   "metadata": {
    "ExecuteTime": {
     "end_time": "2023-04-29T12:48:31.090026Z",
     "start_time": "2023-04-29T12:48:30.568891Z"
    },
    "executionInfo": {
     "elapsed": 1089,
     "status": "ok",
     "timestamp": 1674723355639,
     "user": {
      "displayName": "Nelson Mganga",
      "userId": "15984282569117459010"
     },
     "user_tz": -180
    },
    "id": "YgOvKhevSGNV"
   },
   "outputs": [],
   "source": [
    "# train\n",
    "train_images = np.array(trainset['images'],dtype=np.float64)\n",
    "train_images = train_images.transpose(0,3,1,2)\n",
    "\n",
    "train_lat = np.array(trainset['lat'],dtype=np.float64)\n",
    "train_lon = np.array(trainset['lon'],dtype=np.float64)\n",
    "train_cloud = np.array(trainset['cloud'],dtype=np.float64)\n",
    "\n",
    "\n",
    "train_biomasses = np.array(trainset['agbd'],dtype=np.float64)\n",
    "\n",
    "# validate\n",
    "validate_images = np.array(validateset['images'],dtype=np.float64)\n",
    "validate_images = validate_images.transpose(0,3,1,2)\n",
    "\n",
    "validate_lat = np.array(validateset['lat'],dtype=np.float64)\n",
    "validate_lon = np.array(validateset['lon'],dtype=np.float64)\n",
    "validate_cloud = np.array(validateset['cloud'],dtype=np.float64)\n",
    "\n",
    "\n",
    "validate_biomasses = np.array(validateset['agbd'],dtype=np.float64)\n",
    "\n",
    "# test \n",
    "test_images = np.array(testset['images'],dtype=np.float32)\n",
    "test_images = test_images.transpose(0,3,1,2)\n",
    "test_lat = np.array(testset['lat'],dtype=np.float64)\n",
    "test_lon = np.array(testset['lon'],dtype=np.float64)\n",
    "test_cloud = np.array(testset['cloud'],dtype=np.float64)\n",
    "\n",
    "\n",
    "test_biomasses = np.array(testset['agbd'],dtype=np.float32)"
   ]
  },
  {
   "cell_type": "code",
   "execution_count": 54,
   "metadata": {
    "ExecuteTime": {
     "end_time": "2023-04-29T23:00:21.473679Z",
     "start_time": "2023-04-29T23:00:21.469330Z"
    }
   },
   "outputs": [
    {
     "data": {
      "text/plain": [
       "array([32.716705, 16.435284, 28.50325 , ..., 17.065517, 30.835793,\n",
       "       15.964449], dtype=float32)"
      ]
     },
     "execution_count": 54,
     "metadata": {},
     "output_type": "execute_result"
    }
   ],
   "source": [
    "test_biomasses"
   ]
  },
  {
   "cell_type": "code",
   "execution_count": 7,
   "metadata": {
    "ExecuteTime": {
     "end_time": "2023-04-29T12:48:31.379536Z",
     "start_time": "2023-04-29T12:48:31.376718Z"
    },
    "colab": {
     "base_uri": "https://localhost:8080/"
    },
    "executionInfo": {
     "elapsed": 2,
     "status": "ok",
     "timestamp": 1674723355639,
     "user": {
      "displayName": "Nelson Mganga",
      "userId": "15984282569117459010"
     },
     "user_tz": -180
    },
    "id": "Ps-9IeIgSJ4w",
    "outputId": "8ed5a021-0c63-4eab-b4ac-1095c4158ee6"
   },
   "outputs": [
    {
     "name": "stdout",
     "output_type": "stream",
     "text": [
      "train dataset size (25036, 12, 15, 15) train lab size (25036,)\n",
      "\n",
      "validate dataset size (5174, 12, 15, 15) validate lab size (5174,)\n",
      "\n",
      "test dataset size (5190, 12, 15, 15) test lab size (5190,)\n"
     ]
    }
   ],
   "source": [
    "print(f\"train dataset size {train_images.shape} train lab size {train_biomasses.shape}\")\n",
    "print()\n",
    "print(f\"validate dataset size {validate_images.shape} validate lab size {validate_biomasses.shape}\")\n",
    "print()\n",
    "print(f\"test dataset size {test_images.shape} test lab size {test_biomasses.shape}\")"
   ]
  },
  {
   "cell_type": "code",
   "execution_count": 8,
   "metadata": {
    "ExecuteTime": {
     "end_time": "2023-04-29T12:48:34.082741Z",
     "start_time": "2023-04-29T12:48:34.004918Z"
    }
   },
   "outputs": [
    {
     "data": {
      "text/plain": [
       "<AxesSubplot: ylabel='Frequency'>"
      ]
     },
     "execution_count": 8,
     "metadata": {},
     "output_type": "execute_result"
    },
    {
     "data": {
      "image/png": "[encoded data removed]",
      "text/plain": [
       "<Figure size 640x480 with 1 Axes>"
      ]
     },
     "metadata": {},
     "output_type": "display_data"
    }
   ],
   "source": [
    "pd.Series(train_biomasses).plot(kind='hist')"
   ]
  },
  {
   "cell_type": "code",
   "execution_count": 9,
   "metadata": {
    "ExecuteTime": {
     "end_time": "2023-04-29T12:48:34.787510Z",
     "start_time": "2023-04-29T12:48:34.712672Z"
    }
   },
   "outputs": [
    {
     "data": {
      "text/plain": [
       "<AxesSubplot: ylabel='Frequency'>"
      ]
     },
     "execution_count": 9,
     "metadata": {},
     "output_type": "execute_result"
    },
    {
     "data": {
      "image/png": "[encoded data removed]",
      "text/plain": [
       "<Figure size 640x480 with 1 Axes>"
      ]
     },
     "metadata": {},
     "output_type": "display_data"
    }
   ],
   "source": [
    "pd.Series(validate_biomasses).plot(kind='hist')"
   ]
  },
  {
   "cell_type": "markdown",
   "metadata": {},
   "source": [
    "We can see that in validation set there are higher values that in the train set. Maybe it can explain the difference between the train performance and the submition score"
   ]
  },
  {
   "cell_type": "code",
   "execution_count": 10,
   "metadata": {
    "ExecuteTime": {
     "end_time": "2023-04-29T12:49:01.049915Z",
     "start_time": "2023-04-29T12:49:01.046835Z"
    }
   },
   "outputs": [
    {
     "data": {
      "text/plain": [
       "(25036, 15, 15, 1)"
      ]
     },
     "execution_count": 10,
     "metadata": {},
     "output_type": "execute_result"
    }
   ],
   "source": [
    "train_cloud.shape"
   ]
  },
  {
   "cell_type": "code",
   "execution_count": 11,
   "metadata": {
    "ExecuteTime": {
     "end_time": "2023-04-29T12:49:01.490395Z",
     "start_time": "2023-04-29T12:49:01.486964Z"
    }
   },
   "outputs": [
    {
     "data": {
      "text/plain": [
       "(15, 15, 1)"
      ]
     },
     "execution_count": 11,
     "metadata": {},
     "output_type": "execute_result"
    }
   ],
   "source": [
    "train_cloud[0].shape"
   ]
  },
  {
   "cell_type": "markdown",
   "metadata": {},
   "source": [
    "## Checking if cloud is uniform on all the coordinate of an image"
   ]
  },
  {
   "cell_type": "code",
   "execution_count": 12,
   "metadata": {
    "ExecuteTime": {
     "end_time": "2023-04-18T19:02:09.882314Z",
     "start_time": "2023-04-18T19:02:09.725389Z"
    }
   },
   "outputs": [
    {
     "data": {
      "image/png": "[encoded data removed]",
      "text/plain": [
       "<Figure size 1000x1500 with 1 Axes>"
      ]
     },
     "metadata": {},
     "output_type": "display_data"
    }
   ],
   "source": [
    "def visualize_cloud( index):\n",
    "    plt.figure(figsize=(10,15))\n",
    "    plt.imshow(train_cloud[index])\n",
    "    \n",
    "    \n",
    "visualize_cloud(-2)"
   ]
  },
  {
   "cell_type": "code",
   "execution_count": 13,
   "metadata": {
    "ExecuteTime": {
     "end_time": "2023-04-18T19:02:09.898935Z",
     "start_time": "2023-04-18T19:02:09.884253Z"
    }
   },
   "outputs": [],
   "source": [
    "index_dif=np.max(train_cloud.reshape((-1, 225)), axis=-1)!=np.min(train_cloud.reshape((-1, 225)), axis=-1)"
   ]
  },
  {
   "cell_type": "code",
   "execution_count": 14,
   "metadata": {
    "ExecuteTime": {
     "end_time": "2023-04-18T19:02:09.906991Z",
     "start_time": "2023-04-18T19:02:09.900280Z"
    }
   },
   "outputs": [
    {
     "data": {
      "text/plain": [
       "(7254, 15, 15, 1)"
      ]
     },
     "execution_count": 14,
     "metadata": {},
     "output_type": "execute_result"
    }
   ],
   "source": [
    "train_cloud[index_dif].shape"
   ]
  },
  {
   "cell_type": "markdown",
   "metadata": {
    "id": "zNdh9lMISRdZ"
   },
   "source": [
    "##  Some visulizations"
   ]
  },
  {
   "cell_type": "code",
   "execution_count": 15,
   "metadata": {
    "ExecuteTime": {
     "end_time": "2023-04-18T19:02:09.911679Z",
     "start_time": "2023-04-18T19:02:09.908260Z"
    }
   },
   "outputs": [
    {
     "data": {
      "text/plain": [
       "(25036, 12, 15, 15)"
      ]
     },
     "execution_count": 15,
     "metadata": {},
     "output_type": "execute_result"
    }
   ],
   "source": [
    "train_images.shape"
   ]
  },
  {
   "cell_type": "code",
   "execution_count": 16,
   "metadata": {
    "ExecuteTime": {
     "end_time": "2023-04-18T19:02:10.589421Z",
     "start_time": "2023-04-18T19:02:09.913004Z"
    }
   },
   "outputs": [
    {
     "data": {
      "image/png": "[encoded data removed]",
      "text/plain": [
       "<Figure size 640x480 with 12 Axes>"
      ]
     },
     "metadata": {},
     "output_type": "display_data"
    }
   ],
   "source": [
    "def visualize_images( index):\n",
    "    fig, axs = plt.subplots(3,4, sharex=True, sharey=True)\n",
    "    for k in range(3):\n",
    "        for l in range (4):\n",
    "            axs[k,l].imshow(train_images[index,3*l+k])\n",
    "            fig.suptitle(f'For target {train_biomasses[index]}')\n",
    "visualize_images(1)\n"
   ]
  },
  {
   "cell_type": "code",
   "execution_count": 17,
   "metadata": {
    "ExecuteTime": {
     "end_time": "2023-04-18T19:02:10.678901Z",
     "start_time": "2023-04-18T19:02:10.590882Z"
    }
   },
   "outputs": [
    {
     "data": {
      "text/plain": [
       "(array([2.1933e+04, 2.1950e+03, 5.4600e+02, 2.2100e+02, 9.1000e+01,\n",
       "        3.4000e+01, 1.0000e+01, 3.0000e+00, 1.0000e+00, 2.0000e+00]),\n",
       " array([  4.51173067,  90.35848851, 176.20524635, 262.05200419,\n",
       "        347.89876204, 433.74551988, 519.59227772, 605.43903556,\n",
       "        691.2857934 , 777.13255124, 862.97930908]),\n",
       " <BarContainer object of 10 artists>)"
      ]
     },
     "execution_count": 17,
     "metadata": {},
     "output_type": "execute_result"
    },
    {
     "data": {
      "image/png": "[encoded data removed]",
      "text/plain": [
       "<Figure size 640x480 with 1 Axes>"
      ]
     },
     "metadata": {},
     "output_type": "display_data"
    }
   ],
   "source": [
    "plt.hist(train_biomasses)"
   ]
  },
  {
   "cell_type": "code",
   "execution_count": 18,
   "metadata": {
    "ExecuteTime": {
     "end_time": "2023-04-18T19:02:10.859380Z",
     "start_time": "2023-04-18T19:02:10.680515Z"
    }
   },
   "outputs": [
    {
     "data": {
      "image/png": "[encoded data removed]",
      "text/plain": [
       "<Figure size 640x480 with 1 Axes>"
      ]
     },
     "metadata": {},
     "output_type": "display_data"
    }
   ],
   "source": [
    "def image_pos(index,f):\n",
    "    x=train_lat[index].reshape(225)\n",
    "    y=train_lon[index].reshape(225)\n",
    "    area=train_images[0,f].reshape(225)\n",
    "    #colors = np.random.rand(225)\n",
    "    plt.scatter(x, y, s=area\n",
    "                #,c=colors\n",
    "                ,alpha=0.5)\n",
    "image_pos(1,11)"
   ]
  },
  {
   "cell_type": "markdown",
   "metadata": {
    "id": "ffXv4PbxI5QS"
   },
   "source": [
    " **Below we explore the skewness of train dataset in each channel**"
   ]
  },
  {
   "cell_type": "code",
   "execution_count": 42,
   "metadata": {
    "ExecuteTime": {
     "end_time": "2023-04-29T22:12:51.067177Z",
     "start_time": "2023-04-29T22:12:49.033544Z"
    },
    "executionInfo": {
     "elapsed": 3367,
     "status": "ok",
     "timestamp": 1674723363080,
     "user": {
      "displayName": "Nelson Mganga",
      "userId": "15984282569117459010"
     },
     "user_tz": -180
    },
    "id": "CrCKjC-mSmJm"
   },
   "outputs": [],
   "source": [
    "band_skewness = []\n",
    "band_skewness_after_sqrt = []\n",
    "for c in range(12):\n",
    "    #calculate skewness\n",
    "    band_skewness.append(pd.Series(train_images[:,c].flatten()).skew())\n",
    "    #calculate skewness after applying sqrt\n",
    "    band_skewness_after_sqrt.append(pd.Series(np.sqrt(train_images[:,c].flatten())).skew())"
   ]
  },
  {
   "cell_type": "code",
   "execution_count": 43,
   "metadata": {
    "ExecuteTime": {
     "end_time": "2023-04-29T22:12:51.151540Z",
     "start_time": "2023-04-29T22:12:51.069381Z"
    },
    "colab": {
     "base_uri": "https://localhost:8080/",
     "height": 279
    },
    "executionInfo": {
     "elapsed": 7,
     "status": "ok",
     "timestamp": 1674723363081,
     "user": {
      "displayName": "Nelson Mganga",
      "userId": "15984282569117459010"
     },
     "user_tz": -180
    },
    "id": "mQuF1liYSppT",
    "outputId": "25110683-aea1-44d1-fe7a-f460c69d3ae7"
   },
   "outputs": [
    {
     "data": {
      "image/png": "[encoded data removed]",
      "text/plain": [
       "<Figure size 640x480 with 1 Axes>"
      ]
     },
     "metadata": {},
     "output_type": "display_data"
    }
   ],
   "source": [
    "# skweness\n",
    "width = 0.25\n",
    "\n",
    "rng = [i for i in range(0,12)]\n",
    "rng2 = [i+width for i in range(0,12)]\n",
    "\n",
    "plt.bar(rng, band_skewness, align='center', width = width, label='Original', color ='b')\n",
    "plt.bar(rng2, band_skewness_after_sqrt, align='center', width = width, label='After sqrt', color ='g')\n",
    "plt.gca().set_xticks(rng)\n",
    "plt.legend()\n",
    "plt.xlabel('Band ID')\n",
    "plt.ylabel('Skewness')\n",
    "plt.show()"
   ]
  },
  {
   "cell_type": "code",
   "execution_count": 44,
   "metadata": {
    "ExecuteTime": {
     "end_time": "2023-04-29T22:19:00.560629Z",
     "start_time": "2023-04-29T22:18:58.453008Z"
    }
   },
   "outputs": [],
   "source": [
    "band_skewness = []\n",
    "band_skewness_after_sqrt = []\n",
    "for c in range(12):\n",
    "    #calculate skewness\n",
    "    band_skewness.append(pd.Series(train_images[:,c].flatten()).skew())\n",
    "    #calculate skewness after applying sqrt\n",
    "    band_skewness_after_sqrt.append(pd.Series(np.log(train_images[:,c].flatten()+1)).skew())"
   ]
  },
  {
   "cell_type": "code",
   "execution_count": 45,
   "metadata": {
    "ExecuteTime": {
     "end_time": "2023-04-29T22:19:01.490126Z",
     "start_time": "2023-04-29T22:19:01.411700Z"
    }
   },
   "outputs": [
    {
     "data": {
      "image/png": "[encoded data removed]",
      "text/plain": [
       "<Figure size 640x480 with 1 Axes>"
      ]
     },
     "metadata": {},
     "output_type": "display_data"
    }
   ],
   "source": [
    "# skweness\n",
    "width = 0.25\n",
    "\n",
    "rng = [i for i in range(0,12)]\n",
    "rng2 = [i+width for i in range(0,12)]\n",
    "\n",
    "plt.bar(rng, band_skewness, align='center', width = width, label='Original', color ='b')\n",
    "plt.bar(rng2, band_skewness_after_sqrt, align='center', width = width, label='After sqrt', color ='g')\n",
    "plt.gca().set_xticks(rng)\n",
    "plt.legend()\n",
    "plt.xlabel('Band ID')\n",
    "plt.ylabel('Skewness')\n",
    "plt.show()"
   ]
  },
  {
   "cell_type": "markdown",
   "metadata": {
    "ExecuteTime": {
     "end_time": "2023-04-29T13:04:44.000198Z",
     "start_time": "2023-04-29T13:04:43.995963Z"
    }
   },
   "source": [
    "**Lets do the same for validation**"
   ]
  },
  {
   "cell_type": "code",
   "execution_count": 29,
   "metadata": {
    "ExecuteTime": {
     "end_time": "2023-04-29T22:10:10.743946Z",
     "start_time": "2023-04-29T22:10:10.304955Z"
    }
   },
   "outputs": [],
   "source": [
    "band_skewness_val = []\n",
    "band_skewness_after_sqrt_val = []\n",
    "for c in range(12):\n",
    "    #calculate skewness\n",
    "    band_skewness_val.append(pd.Series(validate_images[:,c].flatten()).skew())\n",
    "    #calculate skewness after applying sqrt\n",
    "    band_skewness_after_sqrt_val.append(pd.Series(np.log(validate_images[:,c].flatten()+1)).skew())"
   ]
  },
  {
   "cell_type": "code",
   "execution_count": 33,
   "metadata": {
    "ExecuteTime": {
     "end_time": "2023-04-29T22:10:12.313831Z",
     "start_time": "2023-04-29T22:10:12.229312Z"
    }
   },
   "outputs": [
    {
     "data": {
      "image/png": "[encoded data removed]",
      "text/plain": [
       "<Figure size 640x480 with 1 Axes>"
      ]
     },
     "metadata": {},
     "output_type": "display_data"
    }
   ],
   "source": [
    "# skweness\n",
    "width = 0.25\n",
    "\n",
    "rng = [i for i in range(0,12)]\n",
    "rng2 = [i+width for i in range(0,12)]\n",
    "\n",
    "plt.bar(rng, band_skewness_val, align='center', width = width, label='Original', color ='b')\n",
    "plt.bar(rng2, band_skewness_after_sqrt_val, align='center', width = width, label='After sqrt', color ='g')\n",
    "plt.gca().set_xticks(rng)\n",
    "plt.legend()\n",
    "plt.xlabel('Band ID')\n",
    "plt.ylabel('Skewness')\n",
    "plt.show()"
   ]
  },
  {
   "cell_type": "markdown",
   "metadata": {
    "id": "SYkqo_nDQlzS"
   },
   "source": [
    "# First Baseline With Sklearn"
   ]
  },
  {
   "cell_type": "code",
   "execution_count": 46,
   "metadata": {
    "ExecuteTime": {
     "end_time": "2023-04-29T22:39:58.907180Z",
     "start_time": "2023-04-29T22:39:58.785555Z"
    },
    "executionInfo": {
     "elapsed": 1159,
     "status": "ok",
     "timestamp": 1674723364234,
     "user": {
      "displayName": "Nelson Mganga",
      "userId": "15984282569117459010"
     },
     "user_tz": -180
    },
    "id": "is7xLI-1VzAW"
   },
   "outputs": [],
   "source": [
    "from sklearn.linear_model import LinearRegression,Ridge,Lasso\n",
    "from sklearn.svm import LinearSVR\n",
    "from sklearn.neighbors import KNeighborsRegressor\n",
    "from sklearn.ensemble import RandomForestRegressor, GradientBoostingRegressor\n",
    "from sklearn.model_selection import GridSearchCV,KFold, train_test_split\n",
    "from sklearn.pipeline import Pipeline\n",
    "from sklearn.metrics import mean_squared_error\n",
    "from sklearn import model_selection\n",
    "from sklearn.compose import ColumnTransformer\n",
    "from sklearn.impute import SimpleImputer\n",
    "from sklearn.preprocessing import StandardScaler,OneHotEncoder\n",
    "from sklearn.base import BaseEstimator, TransformerMixin\n",
    "from sklearn.decomposition import TruncatedSVD,PCA"
   ]
  },
  {
   "cell_type": "code",
   "execution_count": 47,
   "metadata": {
    "ExecuteTime": {
     "end_time": "2023-04-29T22:39:59.257516Z",
     "start_time": "2023-04-29T22:39:59.255021Z"
    },
    "executionInfo": {
     "elapsed": 3,
     "status": "ok",
     "timestamp": 1674723364234,
     "user": {
      "displayName": "Nelson Mganga",
      "userId": "15984282569117459010"
     },
     "user_tz": -180
    },
    "id": "t54SAWW6pr1S"
   },
   "outputs": [],
   "source": [
    "from sklearn import set_config\n",
    "set_config(display='diagram')"
   ]
  },
  {
   "cell_type": "code",
   "execution_count": 48,
   "metadata": {
    "ExecuteTime": {
     "end_time": "2023-04-29T22:39:59.624943Z",
     "start_time": "2023-04-29T22:39:59.621038Z"
    }
   },
   "outputs": [
    {
     "data": {
      "text/plain": [
       "((25036, 12, 15, 15),\n",
       " (25036, 15, 15, 1),\n",
       " (25036, 15, 15, 1),\n",
       " (25036, 15, 15, 1))"
      ]
     },
     "execution_count": 48,
     "metadata": {},
     "output_type": "execute_result"
    }
   ],
   "source": [
    "train_images.shape, train_lat.shape, train_lon.shape, train_cloud.shape"
   ]
  },
  {
   "cell_type": "code",
   "execution_count": 49,
   "metadata": {
    "ExecuteTime": {
     "end_time": "2023-04-29T22:40:00.112613Z",
     "start_time": "2023-04-29T22:39:59.989962Z"
    }
   },
   "outputs": [
    {
     "data": {
      "text/plain": [
       "((25036, 2700), (25036, 15), (25036, 225))"
      ]
     },
     "execution_count": 49,
     "metadata": {},
     "output_type": "execute_result"
    }
   ],
   "source": [
    "train_images.reshape((25036, 2700)).shape,train_lat[:,:,0].reshape((-1,15)).shape,train_cloud[:,:,:].reshape((-1,225)).shape"
   ]
  },
  {
   "cell_type": "code",
   "execution_count": 50,
   "metadata": {
    "ExecuteTime": {
     "end_time": "2023-04-29T22:40:01.593785Z",
     "start_time": "2023-04-29T22:40:01.516395Z"
    }
   },
   "outputs": [
    {
     "data": {
      "text/plain": [
       "(12,)"
      ]
     },
     "execution_count": 50,
     "metadata": {},
     "output_type": "execute_result"
    }
   ],
   "source": [
    "train_images.mean((0,2,3)).shape"
   ]
  },
  {
   "cell_type": "markdown",
   "metadata": {},
   "source": [
    "# Preprocessing"
   ]
  },
  {
   "cell_type": "code",
   "execution_count": 69,
   "metadata": {
    "ExecuteTime": {
     "end_time": "2023-04-29T23:34:00.391605Z",
     "start_time": "2023-04-29T23:33:59.371404Z"
    }
   },
   "outputs": [],
   "source": [
    "def preprocessing(trainset, is_test=False):\n",
    "    train_images = np.array(trainset['images'],dtype=np.float64)\n",
    "    train_images = train_images.transpose(0,3,1,2)\n",
    "\n",
    "    train_lat = np.array(trainset['lat'],dtype=np.float64)\n",
    "    train_lon = np.array(trainset['lon'],dtype=np.float64)\n",
    "    train_cloud = np.array(trainset['cloud'],dtype=np.float64)\n",
    "    train_scl = np.array(trainset['scl'],dtype=np.float64)\n",
    "\n",
    "    if not is_test:\n",
    "        train_biomasses = np.array(trainset['agbd'],dtype=np.float64)\n",
    "        Y= train_biomasses\n",
    "    X=np.concatenate((\n",
    "                    train_images.reshape((-1, 2700)), \n",
    "                    train_lat[:,:,0][:,0],\n",
    "                    train_lat[:,:,0][:,-1],\n",
    "        \n",
    "                    train_lon[:,0,:][:,0],\n",
    "                    train_lon[:,0,:][:,-1]\n",
    "                    #train_scl[:,:,:].reshape((-1,225))\n",
    "                    ), axis=-1)\n",
    "    columns_names=[f'image_{k}' for k in range(2700)]\\\n",
    "                    +['lat_max']\\\n",
    "                    +['lat_min']\\\n",
    "                    +['lon_min']\\\n",
    "                    +['lon_max']\n",
    "            #+[f'cloud_{k}' for k in range(225)]\\\n",
    "            #+[f'scl_{k}' for k in range(225)]\\\n",
    "\n",
    "            #+[f'lon{k}' for k in range(15)]\\\n",
    "    X=pd.DataFrame(X, columns=columns_names)\n",
    "    \n",
    "    return X,Y if not is_test else X\n",
    "X,Y=preprocessing(trainset)\n",
    "X_valide,Y_valide=preprocessing(validateset)\n",
    "X_test,Y_test=preprocessing(testset)"
   ]
  },
  {
   "cell_type": "code",
   "execution_count": 82,
   "metadata": {
    "ExecuteTime": {
     "end_time": "2023-04-30T17:49:00.584116Z",
     "start_time": "2023-04-30T17:49:00.575719Z"
    }
   },
   "outputs": [
    {
     "data": {
      "text/html": [
       "<div>\n",
       "<style scoped>\n",
       "    .dataframe tbody tr th:only-of-type {\n",
       "        vertical-align: middle;\n",
       "    }\n",
       "\n",
       "    .dataframe tbody tr th {\n",
       "        vertical-align: top;\n",
       "    }\n",
       "\n",
       "    .dataframe thead th {\n",
       "        text-align: right;\n",
       "    }\n",
       "</style>\n",
       "<table border=\"1\" class=\"dataframe\">\n",
       "  <thead>\n",
       "    <tr style=\"text-align: right;\">\n",
       "      <th></th>\n",
       "      <th>ID</th>\n",
       "      <th>S2_idx</th>\n",
       "    </tr>\n",
       "  </thead>\n",
       "  <tbody>\n",
       "    <tr>\n",
       "      <th>0</th>\n",
       "      <td>ID_1EB0DGFP07</td>\n",
       "      <td>44</td>\n",
       "    </tr>\n",
       "    <tr>\n",
       "      <th>1</th>\n",
       "      <td>ID_844T2PSXTK</td>\n",
       "      <td>58</td>\n",
       "    </tr>\n",
       "    <tr>\n",
       "      <th>2</th>\n",
       "      <td>ID_4MCV3S8MLN</td>\n",
       "      <td>27</td>\n",
       "    </tr>\n",
       "    <tr>\n",
       "      <th>3</th>\n",
       "      <td>ID_L7441JV5F3</td>\n",
       "      <td>68</td>\n",
       "    </tr>\n",
       "    <tr>\n",
       "      <th>4</th>\n",
       "      <td>ID_5GUVM4YEWZ</td>\n",
       "      <td>57</td>\n",
       "    </tr>\n",
       "    <tr>\n",
       "      <th>...</th>\n",
       "      <td>...</td>\n",
       "      <td>...</td>\n",
       "    </tr>\n",
       "    <tr>\n",
       "      <th>85</th>\n",
       "      <td>ID_MEW6189J1B</td>\n",
       "      <td>41</td>\n",
       "    </tr>\n",
       "    <tr>\n",
       "      <th>86</th>\n",
       "      <td>ID_TH9HRUXGTP</td>\n",
       "      <td>52</td>\n",
       "    </tr>\n",
       "    <tr>\n",
       "      <th>87</th>\n",
       "      <td>ID_GPC7YS3JG8</td>\n",
       "      <td>79</td>\n",
       "    </tr>\n",
       "    <tr>\n",
       "      <th>88</th>\n",
       "      <td>ID_1P7PJMPV0R</td>\n",
       "      <td>0</td>\n",
       "    </tr>\n",
       "    <tr>\n",
       "      <th>89</th>\n",
       "      <td>ID_NTFSOIOEOG</td>\n",
       "      <td>55</td>\n",
       "    </tr>\n",
       "  </tbody>\n",
       "</table>\n",
       "<p>90 rows × 2 columns</p>\n",
       "</div>"
      ],
      "text/plain": [
       "               ID  S2_idx\n",
       "0   ID_1EB0DGFP07      44\n",
       "1   ID_844T2PSXTK      58\n",
       "2   ID_4MCV3S8MLN      27\n",
       "3   ID_L7441JV5F3      68\n",
       "4   ID_5GUVM4YEWZ      57\n",
       "..            ...     ...\n",
       "85  ID_MEW6189J1B      41\n",
       "86  ID_TH9HRUXGTP      52\n",
       "87  ID_GPC7YS3JG8      79\n",
       "88  ID_1P7PJMPV0R       0\n",
       "89  ID_NTFSOIOEOG      55\n",
       "\n",
       "[90 rows x 2 columns]"
      ]
     },
     "execution_count": 82,
     "metadata": {},
     "output_type": "execute_result"
    }
   ],
   "source": [
    "X_test.rename"
   ]
  },
  {
   "cell_type": "code",
   "execution_count": 53,
   "metadata": {
    "ExecuteTime": {
     "end_time": "2023-04-29T22:40:52.893434Z",
     "start_time": "2023-04-29T22:40:52.879498Z"
    }
   },
   "outputs": [
    {
     "name": "stdout",
     "output_type": "stream",
     "text": [
      "((5.143407344818115, 5.143407344818115), (5.145659923553467, 5.145659923553467))\n",
      "((-8.35700798034668, -8.35700798034668), (-8.389339447021484, -8.389339447021484))\n"
     ]
    }
   ],
   "source": [
    "def range_coordinate(label,X):\n",
    "    return X[[k for k in X.columns if label in k ]].min().min(),X[[k for k in X.columns if label in k ]].min().min()\n",
    "\n",
    "print(f\"{range_coordinate('lat',X_valide),range_coordinate('lat',X)}\")\n",
    "print(f\"{range_coordinate('lon',X_valide),range_coordinate('lon',X)}\")\n",
    "#print(f\"{range_coordinate('lon',X_valide),range_coordinate('lat',X)\")\n",
    "#print(f\"{range_coordinate('lon',X_valide),range_coordinate('lon',X)}\")\n",
    "\n"
   ]
  },
  {
   "cell_type": "markdown",
   "metadata": {
    "ExecuteTime": {
     "end_time": "2023-04-17T22:47:51.826647Z",
     "start_time": "2023-04-17T22:47:51.823858Z"
    }
   },
   "source": [
    "from sklearn.preprocessing import FunctionTransformer\n",
    "\n",
    "def std_range(X, min_, max_):\n",
    "    return (X-X.mean())/X.std()\n",
    "    "
   ]
  },
  {
   "cell_type": "markdown",
   "metadata": {
    "id": "PVAxS2EwqKiW"
   },
   "source": [
    "## Modelisation"
   ]
  },
  {
   "cell_type": "code",
   "execution_count": 60,
   "metadata": {
    "ExecuteTime": {
     "end_time": "2023-04-29T23:19:14.816583Z",
     "start_time": "2023-04-29T23:19:14.812939Z"
    }
   },
   "outputs": [],
   "source": [
    "def generate_pipeline(model,num_feat, cat_feat):\n",
    "    # We create the preprocessing pipelines for both numeric and categorical data.\n",
    "\n",
    "    numeric_transformer = Pipeline(steps=[\n",
    "        ('imputer', SimpleImputer(strategy='median')),\n",
    "        ('scaler', StandardScaler())])\n",
    "    \n",
    "    categorical_transformer = Pipeline(steps=[\n",
    "        ('imputer', SimpleImputer(strategy='constant', fill_value='missing')),\n",
    "        ('onehot', OneHotEncoder(handle_unknown='ignore'))])\n",
    "\n",
    "    preprocessor = ColumnTransformer(\n",
    "        transformers=[\n",
    "            ('num', numeric_transformer, num_feat),\n",
    "            ('cat', categorical_transformer, cat_feat)])\n",
    "    \n",
    "    # Append classifier to preprocessing pipeline.\n",
    "    # Now we have a full prediction pipeline.\n",
    "    \n",
    "    clf = Pipeline(steps=[('preprocessor', preprocessor),\n",
    "                              ('dim_reduction',PCA(n_components=30)),\n",
    "                              ('regressor', model)])\n",
    "    return clf\n",
    "\n",
    "clf=generate_pipeline(RandomForestRegressor(), X.columns, [])"
   ]
  },
  {
   "cell_type": "markdown",
   "metadata": {},
   "source": [
    "## convert To tensor Dataset\n"
   ]
  },
  {
   "cell_type": "code",
   "execution_count": 61,
   "metadata": {
    "ExecuteTime": {
     "end_time": "2023-04-29T23:19:15.778262Z",
     "start_time": "2023-04-29T23:19:15.776055Z"
    }
   },
   "outputs": [],
   "source": [
    "from sklearn.metrics import mean_squared_error"
   ]
  },
  {
   "cell_type": "code",
   "execution_count": 62,
   "metadata": {
    "ExecuteTime": {
     "end_time": "2023-04-29T23:19:18.385430Z",
     "start_time": "2023-04-29T23:19:18.338849Z"
    }
   },
   "outputs": [],
   "source": [
    "from sklearn.tree import DecisionTreeRegressor\n",
    "from sklearn.naive_bayes import GaussianNB\n",
    "from sklearn.linear_model import SGDRegressor\n",
    "from sklearn.svm import LinearSVR, NuSVR\n",
    "from xgboost  import XGBRFRegressor\n",
    "from sklearn.ensemble import StackingRegressor, BaggingRegressor\n",
    "\n",
    "models=[\n",
    "    ('DecisionTreeRegressor',DecisionTreeRegressor()),\n",
    "    ('GaussianNB',GaussianNB()),\n",
    "    ('SGDRegressor',SGDRegressor()),\n",
    "    ('LinearSVR',LinearSVR()),\n",
    "    ('NuSVR',NuSVR()),\n",
    "    ('XGBRFRegressor',XGBRFRegressor()),\n",
    "    ('RandomForestRegressor', RandomForestRegressor())\n",
    "    #('LinearSVR',LinearSVR()),\n",
    "]"
   ]
  },
  {
   "cell_type": "code",
   "execution_count": 63,
   "metadata": {
    "ExecuteTime": {
     "end_time": "2023-04-29T23:19:18.880351Z",
     "start_time": "2023-04-29T23:19:18.876550Z"
    }
   },
   "outputs": [
    {
     "data": {
      "text/plain": [
       "[(0, 0), (0, 1), (1, 0), (1, 1)]"
      ]
     },
     "execution_count": 63,
     "metadata": {},
     "output_type": "execute_result"
    }
   ],
   "source": [
    "import itertools\n",
    "list(itertools.product([0,1],[0,1]))"
   ]
  },
  {
   "cell_type": "code",
   "execution_count": 64,
   "metadata": {
    "ExecuteTime": {
     "end_time": "2023-04-29T23:19:19.382264Z",
     "start_time": "2023-04-29T23:19:19.378783Z"
    }
   },
   "outputs": [
    {
     "data": {
      "text/plain": [
       "array([ 1.        ,  4.66666667,  8.33333333, 12.        ])"
      ]
     },
     "execution_count": 64,
     "metadata": {},
     "output_type": "execute_result"
    }
   ],
   "source": [
    "np.linspace(1,12,4)"
   ]
  },
  {
   "cell_type": "code",
   "execution_count": 118,
   "metadata": {
    "ExecuteTime": {
     "end_time": "2023-04-30T20:32:39.870636Z",
     "start_time": "2023-04-30T20:32:39.715520Z"
    }
   },
   "outputs": [
    {
     "data": {
      "text/plain": [
       "<matplotlib.collections.PathCollection at 0x7f937614b760>"
      ]
     },
     "execution_count": 118,
     "metadata": {},
     "output_type": "execute_result"
    },
    {
     "data": {
      "image/png": "[encoded data removed]",
      "text/plain": [
       "<Figure size 640x480 with 1 Axes>"
      ]
     },
     "metadata": {},
     "output_type": "display_data"
    }
   ],
   "source": [
    "plt.scatter(X.lat_max,X.lon_max)\n",
    "\n",
    "plt.scatter(X_test_sub.lat_max,X_test_sub.lon_max,)"
   ]
  },
  {
   "cell_type": "code",
   "execution_count": 66,
   "metadata": {
    "ExecuteTime": {
     "end_time": "2023-04-29T23:19:24.219119Z",
     "start_time": "2023-04-29T23:19:24.074089Z"
    }
   },
   "outputs": [
    {
     "data": {
      "text/plain": [
       "<matplotlib.collections.PathCollection at 0x7f9384426110>"
      ]
     },
     "execution_count": 66,
     "metadata": {},
     "output_type": "execute_result"
    },
    {
     "data": {
      "image/png": "[encoded data removed]",
      "text/plain": [
       "<Figure size 640x480 with 1 Axes>"
      ]
     },
     "metadata": {},
     "output_type": "display_data"
    }
   ],
   "source": [
    "plt.scatter(X.lat_min,X.lon_min)\n",
    "plt.scatter(X_test.lat_min,X_test.lon_min)"
   ]
  },
  {
   "cell_type": "code",
   "execution_count": 125,
   "metadata": {
    "ExecuteTime": {
     "end_time": "2023-04-30T21:13:09.298609Z",
     "start_time": "2023-04-30T21:13:09.271071Z"
    }
   },
   "outputs": [
    {
     "data": {
      "text/html": [
       "<div>\n",
       "<style scoped>\n",
       "    .dataframe tbody tr th:only-of-type {\n",
       "        vertical-align: middle;\n",
       "    }\n",
       "\n",
       "    .dataframe tbody tr th {\n",
       "        vertical-align: top;\n",
       "    }\n",
       "\n",
       "    .dataframe thead th {\n",
       "        text-align: right;\n",
       "    }\n",
       "</style>\n",
       "<table border=\"1\" class=\"dataframe\">\n",
       "  <thead>\n",
       "    <tr style=\"text-align: right;\">\n",
       "      <th></th>\n",
       "      <th>image_0</th>\n",
       "      <th>image_1</th>\n",
       "      <th>image_2</th>\n",
       "      <th>image_3</th>\n",
       "      <th>image_4</th>\n",
       "      <th>image_5</th>\n",
       "      <th>image_6</th>\n",
       "      <th>image_7</th>\n",
       "      <th>image_8</th>\n",
       "      <th>image_9</th>\n",
       "      <th>...</th>\n",
       "      <th>image_2694</th>\n",
       "      <th>image_2695</th>\n",
       "      <th>image_2696</th>\n",
       "      <th>image_2697</th>\n",
       "      <th>image_2698</th>\n",
       "      <th>image_2699</th>\n",
       "      <th>lat_max</th>\n",
       "      <th>lat_min</th>\n",
       "      <th>lon_min</th>\n",
       "      <th>lon_max</th>\n",
       "    </tr>\n",
       "  </thead>\n",
       "  <tbody>\n",
       "    <tr>\n",
       "      <th>450</th>\n",
       "      <td>337.0</td>\n",
       "      <td>337.0</td>\n",
       "      <td>337.0</td>\n",
       "      <td>337.0</td>\n",
       "      <td>337.0</td>\n",
       "      <td>337.0</td>\n",
       "      <td>338.0</td>\n",
       "      <td>340.0</td>\n",
       "      <td>341.0</td>\n",
       "      <td>342.0</td>\n",
       "      <td>...</td>\n",
       "      <td>1864.0</td>\n",
       "      <td>2122.0</td>\n",
       "      <td>2255.0</td>\n",
       "      <td>2263.0</td>\n",
       "      <td>2310.0</td>\n",
       "      <td>2394.0</td>\n",
       "      <td>6.813229</td>\n",
       "      <td>6.811963</td>\n",
       "      <td>-3.824842</td>\n",
       "      <td>-3.823574</td>\n",
       "    </tr>\n",
       "    <tr>\n",
       "      <th>451</th>\n",
       "      <td>365.0</td>\n",
       "      <td>362.0</td>\n",
       "      <td>362.0</td>\n",
       "      <td>365.0</td>\n",
       "      <td>370.0</td>\n",
       "      <td>376.0</td>\n",
       "      <td>382.0</td>\n",
       "      <td>386.0</td>\n",
       "      <td>388.0</td>\n",
       "      <td>390.0</td>\n",
       "      <td>...</td>\n",
       "      <td>2091.0</td>\n",
       "      <td>2276.0</td>\n",
       "      <td>2443.0</td>\n",
       "      <td>2498.0</td>\n",
       "      <td>2442.0</td>\n",
       "      <td>2418.0</td>\n",
       "      <td>6.812777</td>\n",
       "      <td>6.811511</td>\n",
       "      <td>-3.824570</td>\n",
       "      <td>-3.823302</td>\n",
       "    </tr>\n",
       "    <tr>\n",
       "      <th>1231</th>\n",
       "      <td>284.0</td>\n",
       "      <td>281.0</td>\n",
       "      <td>277.0</td>\n",
       "      <td>272.0</td>\n",
       "      <td>267.0</td>\n",
       "      <td>263.0</td>\n",
       "      <td>261.0</td>\n",
       "      <td>260.0</td>\n",
       "      <td>260.0</td>\n",
       "      <td>261.0</td>\n",
       "      <td>...</td>\n",
       "      <td>1123.0</td>\n",
       "      <td>1020.0</td>\n",
       "      <td>1000.0</td>\n",
       "      <td>998.0</td>\n",
       "      <td>1016.0</td>\n",
       "      <td>1027.0</td>\n",
       "      <td>5.691245</td>\n",
       "      <td>5.689975</td>\n",
       "      <td>-6.352852</td>\n",
       "      <td>-6.351593</td>\n",
       "    </tr>\n",
       "    <tr>\n",
       "      <th>2051</th>\n",
       "      <td>216.0</td>\n",
       "      <td>213.0</td>\n",
       "      <td>212.0</td>\n",
       "      <td>212.0</td>\n",
       "      <td>213.0</td>\n",
       "      <td>216.0</td>\n",
       "      <td>219.0</td>\n",
       "      <td>223.0</td>\n",
       "      <td>226.0</td>\n",
       "      <td>229.0</td>\n",
       "      <td>...</td>\n",
       "      <td>1253.0</td>\n",
       "      <td>1619.0</td>\n",
       "      <td>1659.0</td>\n",
       "      <td>1372.0</td>\n",
       "      <td>1142.0</td>\n",
       "      <td>971.0</td>\n",
       "      <td>6.811963</td>\n",
       "      <td>6.810698</td>\n",
       "      <td>-3.574159</td>\n",
       "      <td>-3.572891</td>\n",
       "    </tr>\n",
       "    <tr>\n",
       "      <th>3257</th>\n",
       "      <td>329.0</td>\n",
       "      <td>329.0</td>\n",
       "      <td>329.0</td>\n",
       "      <td>329.0</td>\n",
       "      <td>330.0</td>\n",
       "      <td>331.0</td>\n",
       "      <td>332.0</td>\n",
       "      <td>333.0</td>\n",
       "      <td>334.0</td>\n",
       "      <td>334.0</td>\n",
       "      <td>...</td>\n",
       "      <td>1023.0</td>\n",
       "      <td>1013.0</td>\n",
       "      <td>1006.0</td>\n",
       "      <td>1030.0</td>\n",
       "      <td>1085.0</td>\n",
       "      <td>1123.0</td>\n",
       "      <td>5.864135</td>\n",
       "      <td>5.862865</td>\n",
       "      <td>-6.678801</td>\n",
       "      <td>-6.677543</td>\n",
       "    </tr>\n",
       "    <tr>\n",
       "      <th>5163</th>\n",
       "      <td>315.0</td>\n",
       "      <td>315.0</td>\n",
       "      <td>316.0</td>\n",
       "      <td>317.0</td>\n",
       "      <td>318.0</td>\n",
       "      <td>320.0</td>\n",
       "      <td>321.0</td>\n",
       "      <td>322.0</td>\n",
       "      <td>324.0</td>\n",
       "      <td>326.0</td>\n",
       "      <td>...</td>\n",
       "      <td>1174.0</td>\n",
       "      <td>1197.0</td>\n",
       "      <td>1176.0</td>\n",
       "      <td>1155.0</td>\n",
       "      <td>1133.0</td>\n",
       "      <td>1091.0</td>\n",
       "      <td>5.862865</td>\n",
       "      <td>5.861594</td>\n",
       "      <td>-6.679700</td>\n",
       "      <td>-6.678442</td>\n",
       "    </tr>\n",
       "    <tr>\n",
       "      <th>5577</th>\n",
       "      <td>4624.0</td>\n",
       "      <td>4620.0</td>\n",
       "      <td>4597.0</td>\n",
       "      <td>4551.0</td>\n",
       "      <td>4475.0</td>\n",
       "      <td>4378.0</td>\n",
       "      <td>4261.0</td>\n",
       "      <td>4124.0</td>\n",
       "      <td>3967.0</td>\n",
       "      <td>3792.0</td>\n",
       "      <td>...</td>\n",
       "      <td>1376.0</td>\n",
       "      <td>1421.0</td>\n",
       "      <td>1473.0</td>\n",
       "      <td>1482.0</td>\n",
       "      <td>1448.0</td>\n",
       "      <td>1408.0</td>\n",
       "      <td>6.690650</td>\n",
       "      <td>6.689387</td>\n",
       "      <td>-4.383682</td>\n",
       "      <td>-4.382412</td>\n",
       "    </tr>\n",
       "    <tr>\n",
       "      <th>5578</th>\n",
       "      <td>3095.0</td>\n",
       "      <td>3095.0</td>\n",
       "      <td>2983.0</td>\n",
       "      <td>2791.0</td>\n",
       "      <td>2555.0</td>\n",
       "      <td>2308.0</td>\n",
       "      <td>2084.0</td>\n",
       "      <td>1908.0</td>\n",
       "      <td>1746.0</td>\n",
       "      <td>1590.0</td>\n",
       "      <td>...</td>\n",
       "      <td>1909.0</td>\n",
       "      <td>1884.0</td>\n",
       "      <td>1802.0</td>\n",
       "      <td>1663.0</td>\n",
       "      <td>1550.0</td>\n",
       "      <td>1462.0</td>\n",
       "      <td>6.690199</td>\n",
       "      <td>6.688936</td>\n",
       "      <td>-4.383410</td>\n",
       "      <td>-4.382140</td>\n",
       "    </tr>\n",
       "    <tr>\n",
       "      <th>6156</th>\n",
       "      <td>421.0</td>\n",
       "      <td>419.0</td>\n",
       "      <td>416.0</td>\n",
       "      <td>413.0</td>\n",
       "      <td>410.0</td>\n",
       "      <td>408.0</td>\n",
       "      <td>408.0</td>\n",
       "      <td>410.0</td>\n",
       "      <td>413.0</td>\n",
       "      <td>417.0</td>\n",
       "      <td>...</td>\n",
       "      <td>1233.0</td>\n",
       "      <td>1271.0</td>\n",
       "      <td>1338.0</td>\n",
       "      <td>1529.0</td>\n",
       "      <td>1845.0</td>\n",
       "      <td>1968.0</td>\n",
       "      <td>6.282793</td>\n",
       "      <td>6.281522</td>\n",
       "      <td>-6.391685</td>\n",
       "      <td>-6.390427</td>\n",
       "    </tr>\n",
       "    <tr>\n",
       "      <th>7225</th>\n",
       "      <td>394.0</td>\n",
       "      <td>393.0</td>\n",
       "      <td>392.0</td>\n",
       "      <td>392.0</td>\n",
       "      <td>392.0</td>\n",
       "      <td>393.0</td>\n",
       "      <td>393.0</td>\n",
       "      <td>395.0</td>\n",
       "      <td>397.0</td>\n",
       "      <td>400.0</td>\n",
       "      <td>...</td>\n",
       "      <td>1470.0</td>\n",
       "      <td>1416.0</td>\n",
       "      <td>1322.0</td>\n",
       "      <td>1232.0</td>\n",
       "      <td>1147.0</td>\n",
       "      <td>1085.0</td>\n",
       "      <td>6.599917</td>\n",
       "      <td>6.598644</td>\n",
       "      <td>-5.488927</td>\n",
       "      <td>-5.487670</td>\n",
       "    </tr>\n",
       "    <tr>\n",
       "      <th>7246</th>\n",
       "      <td>424.0</td>\n",
       "      <td>425.0</td>\n",
       "      <td>426.0</td>\n",
       "      <td>426.0</td>\n",
       "      <td>425.0</td>\n",
       "      <td>424.0</td>\n",
       "      <td>422.0</td>\n",
       "      <td>420.0</td>\n",
       "      <td>418.0</td>\n",
       "      <td>417.0</td>\n",
       "      <td>...</td>\n",
       "      <td>1136.0</td>\n",
       "      <td>1111.0</td>\n",
       "      <td>1105.0</td>\n",
       "      <td>1119.0</td>\n",
       "      <td>1150.0</td>\n",
       "      <td>1200.0</td>\n",
       "      <td>6.137622</td>\n",
       "      <td>6.136359</td>\n",
       "      <td>-4.465293</td>\n",
       "      <td>-4.464026</td>\n",
       "    </tr>\n",
       "    <tr>\n",
       "      <th>7989</th>\n",
       "      <td>222.0</td>\n",
       "      <td>227.0</td>\n",
       "      <td>233.0</td>\n",
       "      <td>239.0</td>\n",
       "      <td>244.0</td>\n",
       "      <td>247.0</td>\n",
       "      <td>248.0</td>\n",
       "      <td>249.0</td>\n",
       "      <td>249.0</td>\n",
       "      <td>248.0</td>\n",
       "      <td>...</td>\n",
       "      <td>935.0</td>\n",
       "      <td>992.0</td>\n",
       "      <td>1016.0</td>\n",
       "      <td>1007.0</td>\n",
       "      <td>999.0</td>\n",
       "      <td>990.0</td>\n",
       "      <td>6.813229</td>\n",
       "      <td>6.811963</td>\n",
       "      <td>-3.573253</td>\n",
       "      <td>-3.571985</td>\n",
       "    </tr>\n",
       "    <tr>\n",
       "      <th>8225</th>\n",
       "      <td>202.0</td>\n",
       "      <td>202.0</td>\n",
       "      <td>203.0</td>\n",
       "      <td>203.0</td>\n",
       "      <td>202.0</td>\n",
       "      <td>202.0</td>\n",
       "      <td>201.0</td>\n",
       "      <td>201.0</td>\n",
       "      <td>201.0</td>\n",
       "      <td>202.0</td>\n",
       "      <td>...</td>\n",
       "      <td>929.0</td>\n",
       "      <td>903.0</td>\n",
       "      <td>906.0</td>\n",
       "      <td>938.0</td>\n",
       "      <td>969.0</td>\n",
       "      <td>1000.0</td>\n",
       "      <td>6.812777</td>\n",
       "      <td>6.811511</td>\n",
       "      <td>-3.539382</td>\n",
       "      <td>-3.538114</td>\n",
       "    </tr>\n",
       "    <tr>\n",
       "      <th>8339</th>\n",
       "      <td>304.0</td>\n",
       "      <td>304.0</td>\n",
       "      <td>304.0</td>\n",
       "      <td>304.0</td>\n",
       "      <td>303.0</td>\n",
       "      <td>302.0</td>\n",
       "      <td>300.0</td>\n",
       "      <td>298.0</td>\n",
       "      <td>296.0</td>\n",
       "      <td>293.0</td>\n",
       "      <td>...</td>\n",
       "      <td>980.0</td>\n",
       "      <td>1000.0</td>\n",
       "      <td>996.0</td>\n",
       "      <td>995.0</td>\n",
       "      <td>997.0</td>\n",
       "      <td>992.0</td>\n",
       "      <td>5.689975</td>\n",
       "      <td>5.688704</td>\n",
       "      <td>-6.360583</td>\n",
       "      <td>-6.359324</td>\n",
       "    </tr>\n",
       "    <tr>\n",
       "      <th>8340</th>\n",
       "      <td>360.0</td>\n",
       "      <td>364.0</td>\n",
       "      <td>367.0</td>\n",
       "      <td>368.0</td>\n",
       "      <td>368.0</td>\n",
       "      <td>366.0</td>\n",
       "      <td>363.0</td>\n",
       "      <td>359.0</td>\n",
       "      <td>355.0</td>\n",
       "      <td>352.0</td>\n",
       "      <td>...</td>\n",
       "      <td>1037.0</td>\n",
       "      <td>1038.0</td>\n",
       "      <td>1027.0</td>\n",
       "      <td>1033.0</td>\n",
       "      <td>1056.0</td>\n",
       "      <td>1070.0</td>\n",
       "      <td>5.690428</td>\n",
       "      <td>5.689158</td>\n",
       "      <td>-6.360223</td>\n",
       "      <td>-6.358964</td>\n",
       "    </tr>\n",
       "    <tr>\n",
       "      <th>8342</th>\n",
       "      <td>386.0</td>\n",
       "      <td>383.0</td>\n",
       "      <td>378.0</td>\n",
       "      <td>372.0</td>\n",
       "      <td>364.0</td>\n",
       "      <td>353.0</td>\n",
       "      <td>340.0</td>\n",
       "      <td>326.0</td>\n",
       "      <td>313.0</td>\n",
       "      <td>302.0</td>\n",
       "      <td>...</td>\n",
       "      <td>990.0</td>\n",
       "      <td>1007.0</td>\n",
       "      <td>1057.0</td>\n",
       "      <td>1034.0</td>\n",
       "      <td>938.0</td>\n",
       "      <td>870.0</td>\n",
       "      <td>5.691245</td>\n",
       "      <td>5.689975</td>\n",
       "      <td>-6.359684</td>\n",
       "      <td>-6.358425</td>\n",
       "    </tr>\n",
       "    <tr>\n",
       "      <th>8343</th>\n",
       "      <td>367.0</td>\n",
       "      <td>359.0</td>\n",
       "      <td>346.0</td>\n",
       "      <td>331.0</td>\n",
       "      <td>315.0</td>\n",
       "      <td>303.0</td>\n",
       "      <td>295.0</td>\n",
       "      <td>289.0</td>\n",
       "      <td>286.0</td>\n",
       "      <td>283.0</td>\n",
       "      <td>...</td>\n",
       "      <td>967.0</td>\n",
       "      <td>840.0</td>\n",
       "      <td>878.0</td>\n",
       "      <td>928.0</td>\n",
       "      <td>991.0</td>\n",
       "      <td>1053.0</td>\n",
       "      <td>5.691699</td>\n",
       "      <td>5.690428</td>\n",
       "      <td>-6.359324</td>\n",
       "      <td>-6.358066</td>\n",
       "    </tr>\n",
       "    <tr>\n",
       "      <th>10307</th>\n",
       "      <td>1646.0</td>\n",
       "      <td>1646.0</td>\n",
       "      <td>1646.0</td>\n",
       "      <td>1642.0</td>\n",
       "      <td>1632.0</td>\n",
       "      <td>1611.0</td>\n",
       "      <td>1575.0</td>\n",
       "      <td>1522.0</td>\n",
       "      <td>1444.0</td>\n",
       "      <td>1350.0</td>\n",
       "      <td>...</td>\n",
       "      <td>3806.0</td>\n",
       "      <td>3652.0</td>\n",
       "      <td>3528.0</td>\n",
       "      <td>3434.0</td>\n",
       "      <td>3285.0</td>\n",
       "      <td>3079.0</td>\n",
       "      <td>6.312347</td>\n",
       "      <td>6.311082</td>\n",
       "      <td>-3.876645</td>\n",
       "      <td>-3.875377</td>\n",
       "    </tr>\n",
       "    <tr>\n",
       "      <th>10479</th>\n",
       "      <td>355.0</td>\n",
       "      <td>337.0</td>\n",
       "      <td>317.0</td>\n",
       "      <td>300.0</td>\n",
       "      <td>287.0</td>\n",
       "      <td>275.0</td>\n",
       "      <td>263.0</td>\n",
       "      <td>252.0</td>\n",
       "      <td>243.0</td>\n",
       "      <td>235.0</td>\n",
       "      <td>...</td>\n",
       "      <td>795.0</td>\n",
       "      <td>782.0</td>\n",
       "      <td>768.0</td>\n",
       "      <td>784.0</td>\n",
       "      <td>829.0</td>\n",
       "      <td>842.0</td>\n",
       "      <td>6.559372</td>\n",
       "      <td>6.558099</td>\n",
       "      <td>-5.508313</td>\n",
       "      <td>-5.507057</td>\n",
       "    </tr>\n",
       "    <tr>\n",
       "      <th>10845</th>\n",
       "      <td>2529.0</td>\n",
       "      <td>2186.0</td>\n",
       "      <td>1984.0</td>\n",
       "      <td>1984.0</td>\n",
       "      <td>2186.0</td>\n",
       "      <td>2529.0</td>\n",
       "      <td>2950.0</td>\n",
       "      <td>3387.0</td>\n",
       "      <td>3776.0</td>\n",
       "      <td>4071.0</td>\n",
       "      <td>...</td>\n",
       "      <td>1542.0</td>\n",
       "      <td>1895.0</td>\n",
       "      <td>2288.0</td>\n",
       "      <td>2719.0</td>\n",
       "      <td>3140.0</td>\n",
       "      <td>3550.0</td>\n",
       "      <td>6.293353</td>\n",
       "      <td>6.292089</td>\n",
       "      <td>-4.368074</td>\n",
       "      <td>-4.366807</td>\n",
       "    </tr>\n",
       "    <tr>\n",
       "      <th>12077</th>\n",
       "      <td>241.0</td>\n",
       "      <td>239.0</td>\n",
       "      <td>238.0</td>\n",
       "      <td>239.0</td>\n",
       "      <td>241.0</td>\n",
       "      <td>247.0</td>\n",
       "      <td>258.0</td>\n",
       "      <td>271.0</td>\n",
       "      <td>285.0</td>\n",
       "      <td>298.0</td>\n",
       "      <td>...</td>\n",
       "      <td>936.0</td>\n",
       "      <td>1004.0</td>\n",
       "      <td>1041.0</td>\n",
       "      <td>1049.0</td>\n",
       "      <td>1002.0</td>\n",
       "      <td>901.0</td>\n",
       "      <td>7.084456</td>\n",
       "      <td>7.083191</td>\n",
       "      <td>-3.343400</td>\n",
       "      <td>-3.342132</td>\n",
       "    </tr>\n",
       "    <tr>\n",
       "      <th>12273</th>\n",
       "      <td>399.0</td>\n",
       "      <td>393.0</td>\n",
       "      <td>388.0</td>\n",
       "      <td>384.0</td>\n",
       "      <td>381.0</td>\n",
       "      <td>379.0</td>\n",
       "      <td>378.0</td>\n",
       "      <td>377.0</td>\n",
       "      <td>376.0</td>\n",
       "      <td>375.0</td>\n",
       "      <td>...</td>\n",
       "      <td>965.0</td>\n",
       "      <td>977.0</td>\n",
       "      <td>988.0</td>\n",
       "      <td>974.0</td>\n",
       "      <td>936.0</td>\n",
       "      <td>956.0</td>\n",
       "      <td>5.870035</td>\n",
       "      <td>5.868764</td>\n",
       "      <td>-6.674666</td>\n",
       "      <td>-6.673408</td>\n",
       "    </tr>\n",
       "    <tr>\n",
       "      <th>13420</th>\n",
       "      <td>517.0</td>\n",
       "      <td>531.0</td>\n",
       "      <td>555.0</td>\n",
       "      <td>585.0</td>\n",
       "      <td>617.0</td>\n",
       "      <td>645.0</td>\n",
       "      <td>667.0</td>\n",
       "      <td>686.0</td>\n",
       "      <td>703.0</td>\n",
       "      <td>721.0</td>\n",
       "      <td>...</td>\n",
       "      <td>958.0</td>\n",
       "      <td>1001.0</td>\n",
       "      <td>1039.0</td>\n",
       "      <td>1082.0</td>\n",
       "      <td>1133.0</td>\n",
       "      <td>1187.0</td>\n",
       "      <td>6.312347</td>\n",
       "      <td>6.311082</td>\n",
       "      <td>-3.442387</td>\n",
       "      <td>-3.441119</td>\n",
       "    </tr>\n",
       "    <tr>\n",
       "      <th>14841</th>\n",
       "      <td>401.0</td>\n",
       "      <td>396.0</td>\n",
       "      <td>390.0</td>\n",
       "      <td>385.0</td>\n",
       "      <td>381.0</td>\n",
       "      <td>379.0</td>\n",
       "      <td>380.0</td>\n",
       "      <td>382.0</td>\n",
       "      <td>385.0</td>\n",
       "      <td>387.0</td>\n",
       "      <td>...</td>\n",
       "      <td>1009.0</td>\n",
       "      <td>1016.0</td>\n",
       "      <td>1017.0</td>\n",
       "      <td>1012.0</td>\n",
       "      <td>1058.0</td>\n",
       "      <td>1157.0</td>\n",
       "      <td>6.038915</td>\n",
       "      <td>6.037652</td>\n",
       "      <td>-4.568125</td>\n",
       "      <td>-4.566858</td>\n",
       "    </tr>\n",
       "    <tr>\n",
       "      <th>15733</th>\n",
       "      <td>227.0</td>\n",
       "      <td>229.0</td>\n",
       "      <td>229.0</td>\n",
       "      <td>227.0</td>\n",
       "      <td>223.0</td>\n",
       "      <td>219.0</td>\n",
       "      <td>214.0</td>\n",
       "      <td>210.0</td>\n",
       "      <td>207.0</td>\n",
       "      <td>205.0</td>\n",
       "      <td>...</td>\n",
       "      <td>864.0</td>\n",
       "      <td>868.0</td>\n",
       "      <td>900.0</td>\n",
       "      <td>906.0</td>\n",
       "      <td>886.0</td>\n",
       "      <td>887.0</td>\n",
       "      <td>7.101809</td>\n",
       "      <td>7.100544</td>\n",
       "      <td>-3.350193</td>\n",
       "      <td>-3.348925</td>\n",
       "    </tr>\n",
       "    <tr>\n",
       "      <th>16722</th>\n",
       "      <td>351.0</td>\n",
       "      <td>355.0</td>\n",
       "      <td>358.0</td>\n",
       "      <td>360.0</td>\n",
       "      <td>360.0</td>\n",
       "      <td>358.0</td>\n",
       "      <td>355.0</td>\n",
       "      <td>351.0</td>\n",
       "      <td>348.0</td>\n",
       "      <td>346.0</td>\n",
       "      <td>...</td>\n",
       "      <td>1062.0</td>\n",
       "      <td>1102.0</td>\n",
       "      <td>1119.0</td>\n",
       "      <td>1133.0</td>\n",
       "      <td>1144.0</td>\n",
       "      <td>1123.0</td>\n",
       "      <td>5.861594</td>\n",
       "      <td>5.860324</td>\n",
       "      <td>-6.680599</td>\n",
       "      <td>-6.679340</td>\n",
       "    </tr>\n",
       "    <tr>\n",
       "      <th>17026</th>\n",
       "      <td>328.0</td>\n",
       "      <td>334.0</td>\n",
       "      <td>343.0</td>\n",
       "      <td>353.0</td>\n",
       "      <td>362.0</td>\n",
       "      <td>368.0</td>\n",
       "      <td>369.0</td>\n",
       "      <td>365.0</td>\n",
       "      <td>359.0</td>\n",
       "      <td>351.0</td>\n",
       "      <td>...</td>\n",
       "      <td>1024.0</td>\n",
       "      <td>1035.0</td>\n",
       "      <td>1046.0</td>\n",
       "      <td>1038.0</td>\n",
       "      <td>1010.0</td>\n",
       "      <td>1004.0</td>\n",
       "      <td>5.865315</td>\n",
       "      <td>5.864045</td>\n",
       "      <td>-6.692105</td>\n",
       "      <td>-6.690847</td>\n",
       "    </tr>\n",
       "    <tr>\n",
       "      <th>17027</th>\n",
       "      <td>336.0</td>\n",
       "      <td>335.0</td>\n",
       "      <td>335.0</td>\n",
       "      <td>336.0</td>\n",
       "      <td>337.0</td>\n",
       "      <td>338.0</td>\n",
       "      <td>340.0</td>\n",
       "      <td>342.0</td>\n",
       "      <td>343.0</td>\n",
       "      <td>346.0</td>\n",
       "      <td>...</td>\n",
       "      <td>1050.0</td>\n",
       "      <td>1043.0</td>\n",
       "      <td>994.0</td>\n",
       "      <td>976.0</td>\n",
       "      <td>989.0</td>\n",
       "      <td>1002.0</td>\n",
       "      <td>5.865769</td>\n",
       "      <td>5.864499</td>\n",
       "      <td>-6.691746</td>\n",
       "      <td>-6.690487</td>\n",
       "    </tr>\n",
       "    <tr>\n",
       "      <th>17028</th>\n",
       "      <td>340.0</td>\n",
       "      <td>343.0</td>\n",
       "      <td>348.0</td>\n",
       "      <td>352.0</td>\n",
       "      <td>357.0</td>\n",
       "      <td>360.0</td>\n",
       "      <td>363.0</td>\n",
       "      <td>366.0</td>\n",
       "      <td>369.0</td>\n",
       "      <td>372.0</td>\n",
       "      <td>...</td>\n",
       "      <td>902.0</td>\n",
       "      <td>847.0</td>\n",
       "      <td>853.0</td>\n",
       "      <td>918.0</td>\n",
       "      <td>965.0</td>\n",
       "      <td>993.0</td>\n",
       "      <td>5.866223</td>\n",
       "      <td>5.864952</td>\n",
       "      <td>-6.691476</td>\n",
       "      <td>-6.690217</td>\n",
       "    </tr>\n",
       "    <tr>\n",
       "      <th>17410</th>\n",
       "      <td>501.0</td>\n",
       "      <td>500.0</td>\n",
       "      <td>500.0</td>\n",
       "      <td>500.0</td>\n",
       "      <td>501.0</td>\n",
       "      <td>504.0</td>\n",
       "      <td>509.0</td>\n",
       "      <td>514.0</td>\n",
       "      <td>519.0</td>\n",
       "      <td>525.0</td>\n",
       "      <td>...</td>\n",
       "      <td>909.0</td>\n",
       "      <td>1015.0</td>\n",
       "      <td>1171.0</td>\n",
       "      <td>1268.0</td>\n",
       "      <td>1305.0</td>\n",
       "      <td>1310.0</td>\n",
       "      <td>6.293353</td>\n",
       "      <td>6.292089</td>\n",
       "      <td>-4.344810</td>\n",
       "      <td>-4.343543</td>\n",
       "    </tr>\n",
       "    <tr>\n",
       "      <th>17987</th>\n",
       "      <td>299.0</td>\n",
       "      <td>298.0</td>\n",
       "      <td>298.0</td>\n",
       "      <td>299.0</td>\n",
       "      <td>301.0</td>\n",
       "      <td>305.0</td>\n",
       "      <td>310.0</td>\n",
       "      <td>316.0</td>\n",
       "      <td>321.0</td>\n",
       "      <td>326.0</td>\n",
       "      <td>...</td>\n",
       "      <td>1395.0</td>\n",
       "      <td>1377.0</td>\n",
       "      <td>1381.0</td>\n",
       "      <td>1396.0</td>\n",
       "      <td>1420.0</td>\n",
       "      <td>1431.0</td>\n",
       "      <td>5.689975</td>\n",
       "      <td>5.688704</td>\n",
       "      <td>-6.353751</td>\n",
       "      <td>-6.352492</td>\n",
       "    </tr>\n",
       "    <tr>\n",
       "      <th>17988</th>\n",
       "      <td>318.0</td>\n",
       "      <td>318.0</td>\n",
       "      <td>318.0</td>\n",
       "      <td>317.0</td>\n",
       "      <td>316.0</td>\n",
       "      <td>315.0</td>\n",
       "      <td>314.0</td>\n",
       "      <td>313.0</td>\n",
       "      <td>312.0</td>\n",
       "      <td>310.0</td>\n",
       "      <td>...</td>\n",
       "      <td>1421.0</td>\n",
       "      <td>1354.0</td>\n",
       "      <td>1321.0</td>\n",
       "      <td>1322.0</td>\n",
       "      <td>1332.0</td>\n",
       "      <td>1351.0</td>\n",
       "      <td>5.690428</td>\n",
       "      <td>5.689158</td>\n",
       "      <td>-6.353481</td>\n",
       "      <td>-6.352222</td>\n",
       "    </tr>\n",
       "    <tr>\n",
       "      <th>21545</th>\n",
       "      <td>441.0</td>\n",
       "      <td>463.0</td>\n",
       "      <td>482.0</td>\n",
       "      <td>496.0</td>\n",
       "      <td>500.0</td>\n",
       "      <td>497.0</td>\n",
       "      <td>489.0</td>\n",
       "      <td>479.0</td>\n",
       "      <td>465.0</td>\n",
       "      <td>450.0</td>\n",
       "      <td>...</td>\n",
       "      <td>1085.0</td>\n",
       "      <td>1091.0</td>\n",
       "      <td>1090.0</td>\n",
       "      <td>1091.0</td>\n",
       "      <td>1093.0</td>\n",
       "      <td>1103.0</td>\n",
       "      <td>6.811511</td>\n",
       "      <td>6.810246</td>\n",
       "      <td>-3.823664</td>\n",
       "      <td>-3.822397</td>\n",
       "    </tr>\n",
       "    <tr>\n",
       "      <th>22194</th>\n",
       "      <td>2597.0</td>\n",
       "      <td>2538.0</td>\n",
       "      <td>2504.0</td>\n",
       "      <td>2504.0</td>\n",
       "      <td>2538.0</td>\n",
       "      <td>2597.0</td>\n",
       "      <td>2672.0</td>\n",
       "      <td>2753.0</td>\n",
       "      <td>2830.0</td>\n",
       "      <td>2899.0</td>\n",
       "      <td>...</td>\n",
       "      <td>1544.0</td>\n",
       "      <td>1404.0</td>\n",
       "      <td>1316.0</td>\n",
       "      <td>1281.0</td>\n",
       "      <td>1313.0</td>\n",
       "      <td>1412.0</td>\n",
       "      <td>6.548689</td>\n",
       "      <td>6.547423</td>\n",
       "      <td>-3.618717</td>\n",
       "      <td>-3.617449</td>\n",
       "    </tr>\n",
       "    <tr>\n",
       "      <th>23589</th>\n",
       "      <td>1696.0</td>\n",
       "      <td>1748.0</td>\n",
       "      <td>1748.0</td>\n",
       "      <td>1696.0</td>\n",
       "      <td>1607.0</td>\n",
       "      <td>1494.0</td>\n",
       "      <td>1373.0</td>\n",
       "      <td>1259.0</td>\n",
       "      <td>1160.0</td>\n",
       "      <td>1054.0</td>\n",
       "      <td>...</td>\n",
       "      <td>1909.0</td>\n",
       "      <td>1905.0</td>\n",
       "      <td>1932.0</td>\n",
       "      <td>1940.0</td>\n",
       "      <td>1929.0</td>\n",
       "      <td>1892.0</td>\n",
       "      <td>6.688125</td>\n",
       "      <td>6.686862</td>\n",
       "      <td>-4.381868</td>\n",
       "      <td>-4.380598</td>\n",
       "    </tr>\n",
       "  </tbody>\n",
       "</table>\n",
       "<p>35 rows × 2704 columns</p>\n",
       "</div>"
      ],
      "text/plain": [
       "       image_0  image_1  image_2  image_3  image_4  image_5  image_6  image_7  \\\n",
       "450      337.0    337.0    337.0    337.0    337.0    337.0    338.0    340.0   \n",
       "451      365.0    362.0    362.0    365.0    370.0    376.0    382.0    386.0   \n",
       "1231     284.0    281.0    277.0    272.0    267.0    263.0    261.0    260.0   \n",
       "2051     216.0    213.0    212.0    212.0    213.0    216.0    219.0    223.0   \n",
       "3257     329.0    329.0    329.0    329.0    330.0    331.0    332.0    333.0   \n",
       "5163     315.0    315.0    316.0    317.0    318.0    320.0    321.0    322.0   \n",
       "5577    4624.0   4620.0   4597.0   4551.0   4475.0   4378.0   4261.0   4124.0   \n",
       "5578    3095.0   3095.0   2983.0   2791.0   2555.0   2308.0   2084.0   1908.0   \n",
       "6156     421.0    419.0    416.0    413.0    410.0    408.0    408.0    410.0   \n",
       "7225     394.0    393.0    392.0    392.0    392.0    393.0    393.0    395.0   \n",
       "7246     424.0    425.0    426.0    426.0    425.0    424.0    422.0    420.0   \n",
       "7989     222.0    227.0    233.0    239.0    244.0    247.0    248.0    249.0   \n",
       "8225     202.0    202.0    203.0    203.0    202.0    202.0    201.0    201.0   \n",
       "8339     304.0    304.0    304.0    304.0    303.0    302.0    300.0    298.0   \n",
       "8340     360.0    364.0    367.0    368.0    368.0    366.0    363.0    359.0   \n",
       "8342     386.0    383.0    378.0    372.0    364.0    353.0    340.0    326.0   \n",
       "8343     367.0    359.0    346.0    331.0    315.0    303.0    295.0    289.0   \n",
       "10307   1646.0   1646.0   1646.0   1642.0   1632.0   1611.0   1575.0   1522.0   \n",
       "10479    355.0    337.0    317.0    300.0    287.0    275.0    263.0    252.0   \n",
       "10845   2529.0   2186.0   1984.0   1984.0   2186.0   2529.0   2950.0   3387.0   \n",
       "12077    241.0    239.0    238.0    239.0    241.0    247.0    258.0    271.0   \n",
       "12273    399.0    393.0    388.0    384.0    381.0    379.0    378.0    377.0   \n",
       "13420    517.0    531.0    555.0    585.0    617.0    645.0    667.0    686.0   \n",
       "14841    401.0    396.0    390.0    385.0    381.0    379.0    380.0    382.0   \n",
       "15733    227.0    229.0    229.0    227.0    223.0    219.0    214.0    210.0   \n",
       "16722    351.0    355.0    358.0    360.0    360.0    358.0    355.0    351.0   \n",
       "17026    328.0    334.0    343.0    353.0    362.0    368.0    369.0    365.0   \n",
       "17027    336.0    335.0    335.0    336.0    337.0    338.0    340.0    342.0   \n",
       "17028    340.0    343.0    348.0    352.0    357.0    360.0    363.0    366.0   \n",
       "17410    501.0    500.0    500.0    500.0    501.0    504.0    509.0    514.0   \n",
       "17987    299.0    298.0    298.0    299.0    301.0    305.0    310.0    316.0   \n",
       "17988    318.0    318.0    318.0    317.0    316.0    315.0    314.0    313.0   \n",
       "21545    441.0    463.0    482.0    496.0    500.0    497.0    489.0    479.0   \n",
       "22194   2597.0   2538.0   2504.0   2504.0   2538.0   2597.0   2672.0   2753.0   \n",
       "23589   1696.0   1748.0   1748.0   1696.0   1607.0   1494.0   1373.0   1259.0   \n",
       "\n",
       "       image_8  image_9  ...  image_2694  image_2695  image_2696  image_2697  \\\n",
       "450      341.0    342.0  ...      1864.0      2122.0      2255.0      2263.0   \n",
       "451      388.0    390.0  ...      2091.0      2276.0      2443.0      2498.0   \n",
       "1231     260.0    261.0  ...      1123.0      1020.0      1000.0       998.0   \n",
       "2051     226.0    229.0  ...      1253.0      1619.0      1659.0      1372.0   \n",
       "3257     334.0    334.0  ...      1023.0      1013.0      1006.0      1030.0   \n",
       "5163     324.0    326.0  ...      1174.0      1197.0      1176.0      1155.0   \n",
       "5577    3967.0   3792.0  ...      1376.0      1421.0      1473.0      1482.0   \n",
       "5578    1746.0   1590.0  ...      1909.0      1884.0      1802.0      1663.0   \n",
       "6156     413.0    417.0  ...      1233.0      1271.0      1338.0      1529.0   \n",
       "7225     397.0    400.0  ...      1470.0      1416.0      1322.0      1232.0   \n",
       "7246     418.0    417.0  ...      1136.0      1111.0      1105.0      1119.0   \n",
       "7989     249.0    248.0  ...       935.0       992.0      1016.0      1007.0   \n",
       "8225     201.0    202.0  ...       929.0       903.0       906.0       938.0   \n",
       "8339     296.0    293.0  ...       980.0      1000.0       996.0       995.0   \n",
       "8340     355.0    352.0  ...      1037.0      1038.0      1027.0      1033.0   \n",
       "8342     313.0    302.0  ...       990.0      1007.0      1057.0      1034.0   \n",
       "8343     286.0    283.0  ...       967.0       840.0       878.0       928.0   \n",
       "10307   1444.0   1350.0  ...      3806.0      3652.0      3528.0      3434.0   \n",
       "10479    243.0    235.0  ...       795.0       782.0       768.0       784.0   \n",
       "10845   3776.0   4071.0  ...      1542.0      1895.0      2288.0      2719.0   \n",
       "12077    285.0    298.0  ...       936.0      1004.0      1041.0      1049.0   \n",
       "12273    376.0    375.0  ...       965.0       977.0       988.0       974.0   \n",
       "13420    703.0    721.0  ...       958.0      1001.0      1039.0      1082.0   \n",
       "14841    385.0    387.0  ...      1009.0      1016.0      1017.0      1012.0   \n",
       "15733    207.0    205.0  ...       864.0       868.0       900.0       906.0   \n",
       "16722    348.0    346.0  ...      1062.0      1102.0      1119.0      1133.0   \n",
       "17026    359.0    351.0  ...      1024.0      1035.0      1046.0      1038.0   \n",
       "17027    343.0    346.0  ...      1050.0      1043.0       994.0       976.0   \n",
       "17028    369.0    372.0  ...       902.0       847.0       853.0       918.0   \n",
       "17410    519.0    525.0  ...       909.0      1015.0      1171.0      1268.0   \n",
       "17987    321.0    326.0  ...      1395.0      1377.0      1381.0      1396.0   \n",
       "17988    312.0    310.0  ...      1421.0      1354.0      1321.0      1322.0   \n",
       "21545    465.0    450.0  ...      1085.0      1091.0      1090.0      1091.0   \n",
       "22194   2830.0   2899.0  ...      1544.0      1404.0      1316.0      1281.0   \n",
       "23589   1160.0   1054.0  ...      1909.0      1905.0      1932.0      1940.0   \n",
       "\n",
       "       image_2698  image_2699   lat_max   lat_min   lon_min   lon_max  \n",
       "450        2310.0      2394.0  6.813229  6.811963 -3.824842 -3.823574  \n",
       "451        2442.0      2418.0  6.812777  6.811511 -3.824570 -3.823302  \n",
       "1231       1016.0      1027.0  5.691245  5.689975 -6.352852 -6.351593  \n",
       "2051       1142.0       971.0  6.811963  6.810698 -3.574159 -3.572891  \n",
       "3257       1085.0      1123.0  5.864135  5.862865 -6.678801 -6.677543  \n",
       "5163       1133.0      1091.0  5.862865  5.861594 -6.679700 -6.678442  \n",
       "5577       1448.0      1408.0  6.690650  6.689387 -4.383682 -4.382412  \n",
       "5578       1550.0      1462.0  6.690199  6.688936 -4.383410 -4.382140  \n",
       "6156       1845.0      1968.0  6.282793  6.281522 -6.391685 -6.390427  \n",
       "7225       1147.0      1085.0  6.599917  6.598644 -5.488927 -5.487670  \n",
       "7246       1150.0      1200.0  6.137622  6.136359 -4.465293 -4.464026  \n",
       "7989        999.0       990.0  6.813229  6.811963 -3.573253 -3.571985  \n",
       "8225        969.0      1000.0  6.812777  6.811511 -3.539382 -3.538114  \n",
       "8339        997.0       992.0  5.689975  5.688704 -6.360583 -6.359324  \n",
       "8340       1056.0      1070.0  5.690428  5.689158 -6.360223 -6.358964  \n",
       "8342        938.0       870.0  5.691245  5.689975 -6.359684 -6.358425  \n",
       "8343        991.0      1053.0  5.691699  5.690428 -6.359324 -6.358066  \n",
       "10307      3285.0      3079.0  6.312347  6.311082 -3.876645 -3.875377  \n",
       "10479       829.0       842.0  6.559372  6.558099 -5.508313 -5.507057  \n",
       "10845      3140.0      3550.0  6.293353  6.292089 -4.368074 -4.366807  \n",
       "12077      1002.0       901.0  7.084456  7.083191 -3.343400 -3.342132  \n",
       "12273       936.0       956.0  5.870035  5.868764 -6.674666 -6.673408  \n",
       "13420      1133.0      1187.0  6.312347  6.311082 -3.442387 -3.441119  \n",
       "14841      1058.0      1157.0  6.038915  6.037652 -4.568125 -4.566858  \n",
       "15733       886.0       887.0  7.101809  7.100544 -3.350193 -3.348925  \n",
       "16722      1144.0      1123.0  5.861594  5.860324 -6.680599 -6.679340  \n",
       "17026      1010.0      1004.0  5.865315  5.864045 -6.692105 -6.690847  \n",
       "17027       989.0      1002.0  5.865769  5.864499 -6.691746 -6.690487  \n",
       "17028       965.0       993.0  5.866223  5.864952 -6.691476 -6.690217  \n",
       "17410      1305.0      1310.0  6.293353  6.292089 -4.344810 -4.343543  \n",
       "17987      1420.0      1431.0  5.689975  5.688704 -6.353751 -6.352492  \n",
       "17988      1332.0      1351.0  5.690428  5.689158 -6.353481 -6.352222  \n",
       "21545      1093.0      1103.0  6.811511  6.810246 -3.823664 -3.822397  \n",
       "22194      1313.0      1412.0  6.548689  6.547423 -3.618717 -3.617449  \n",
       "23589      1929.0      1892.0  6.688125  6.686862 -4.381868 -4.380598  \n",
       "\n",
       "[35 rows x 2704 columns]"
      ]
     },
     "execution_count": 125,
     "metadata": {},
     "output_type": "execute_result"
    }
   ],
   "source": [
    "X.loc[X.lat_max.isin(X_test_sub.lat_max)]"
   ]
  },
  {
   "cell_type": "code",
   "execution_count": 40,
   "metadata": {
    "ExecuteTime": {
     "end_time": "2023-04-18T19:03:23.486107Z",
     "start_time": "2023-04-18T19:03:23.473433Z"
    }
   },
   "outputs": [
    {
     "data": {
      "text/plain": [
       "(8.804115295410156, 5.145659923553467, 8.735198974609375, 5.216835021972656)"
      ]
     },
     "execution_count": 40,
     "metadata": {},
     "output_type": "execute_result"
    }
   ],
   "source": [
    "np.max(train_lat), np.min(train_lat),np.max(test_lat),np.min(test_lat)"
   ]
  },
  {
   "cell_type": "code",
   "execution_count": 41,
   "metadata": {
    "ExecuteTime": {
     "end_time": "2023-04-18T19:03:23.886536Z",
     "start_time": "2023-04-18T19:03:23.882641Z"
    }
   },
   "outputs": [],
   "source": [
    "def cross_coordinate(X, x_name_max,x_name_min,y_name_max, y_name_min,grid_size):\n",
    "    x_interval=np.linspace(np.min(X[x_name_min]),np.max(X[x_name_max]), num=grid_size )\n",
    "    y_interval=np.linspace(np.min(X[y_name_min]) ,np.max(X[y_name_max]), num=grid_size)\n",
    "    print(x_interval)\n",
    "    for vec in itertools.product([0,1],[0,1]):\n",
    "        print(vec)\n",
    "        train_index=X.loc[(X[x_name_max] < x_interval[grid_size-2+ vec[0]]) & (X[x_name_min] >= x_interval[vec[0]])\\\n",
    "                   &(X[y_name_max] < y_interval[grid_size-2+ vec[1]] )&( X[y_name_min] >= y_interval[vec[1]])\n",
    "                   ].index\n",
    "        test_index=X.loc[~X.index.isin(train_index)].index\n",
    "        print(f'the ratio of train/test is {len(train_index)/len(test_index)}')\n",
    "        yield train_index ,test_index\n",
    "    "
   ]
  },
  {
   "cell_type": "code",
   "execution_count": 191,
   "metadata": {
    "ExecuteTime": {
     "end_time": "2023-04-18T15:51:53.691600Z",
     "start_time": "2023-04-18T15:51:53.258450Z"
    },
    "scrolled": false
   },
   "outputs": [
    {
     "name": "stdout",
     "output_type": "stream",
     "text": [
      "[5.14565992 5.51150546 5.877351   6.24319654 6.60904207 6.97488761\n",
      " 7.34073315 7.70657868 8.07242422 8.43826976 8.8041153 ]\n",
      "(0, 0)\n",
      "the ratio of train/test is 7.568104038329911\n",
      "(0, 1)\n",
      "the ratio of train/test is 147.14201183431953\n",
      "(1, 0)\n",
      "the ratio of train/test is 6.11856696047768\n",
      "(1, 1)\n",
      "the ratio of train/test is 13.884661117717004\n"
     ]
    },
    {
     "data": {
      "text/plain": [
       "(Int64Index([    0,     2,     3,     4,     5,     6,     7,     8,     9,\n",
       "                10,\n",
       "             ...\n",
       "             25026, 25027, 25028, 25029, 25030, 25031, 25032, 25033, 25034,\n",
       "             25035],\n",
       "            dtype='int64', length=22114),\n",
       " Int64Index([    1,    49,    58,    59,    60,    92,    93,    94,   117,\n",
       "               124,\n",
       "             ...\n",
       "             24956, 24957, 24971, 24972, 24973, 25012, 25013, 25015, 25024,\n",
       "             25025],\n",
       "            dtype='int64', length=2922))"
      ]
     },
     "execution_count": 191,
     "metadata": {},
     "output_type": "execute_result"
    }
   ],
   "source": [
    "list(cross_coordinate(X, 'lat_max', 'lat_min','lon_max','lon_min',11))[0]\n",
    "#TODO : investigate the outlier ratio for (0,1) something is wrong somewhere"
   ]
  },
  {
   "cell_type": "code",
   "execution_count": 85,
   "metadata": {
    "ExecuteTime": {
     "end_time": "2023-04-30T17:50:51.433641Z",
     "start_time": "2023-04-30T17:50:51.340118Z"
    }
   },
   "outputs": [],
   "source": [
    "X_test_sub=X_test.rename_axis('S2_idx').reset_index()\n",
    "X_test_sub = ID_S2_pair.merge(X_sub, on='S2_idx')\n",
    "Y_test_sub=pd.DataFrame(Y_test, columns=['Target']).rename_axis('S2_idx').reset_index()\n",
    "Y_test_sub = ID_S2_pair.merge(Y_sub, on='S2_idx')"
   ]
  },
  {
   "cell_type": "code",
   "execution_count": 102,
   "metadata": {
    "ExecuteTime": {
     "end_time": "2023-04-30T18:26:15.382798Z",
     "start_time": "2023-04-30T18:26:15.350532Z"
    }
   },
   "outputs": [
    {
     "data": {
      "text/plain": [
       "((5100, 2704), (5100,))"
      ]
     },
     "execution_count": 102,
     "metadata": {},
     "output_type": "execute_result"
    }
   ],
   "source": [
    "X_test_check=X_test.loc[~X_test.index.isin(ID_S2_pair.S2_idx)]\n",
    "Y_test_check=Y_test[X_test_check.index]\n",
    "X_test_check.shape,Y_test_check.shape"
   ]
  },
  {
   "cell_type": "code",
   "execution_count": 95,
   "metadata": {
    "ExecuteTime": {
     "end_time": "2023-04-30T18:11:46.807212Z",
     "start_time": "2023-04-30T18:11:46.804382Z"
    }
   },
   "outputs": [],
   "source": [
    "#Y_sub.to_csv('./dummy.csv', index=False)"
   ]
  },
  {
   "cell_type": "code",
   "execution_count": 98,
   "metadata": {
    "ExecuteTime": {
     "end_time": "2023-04-30T18:14:02.635114Z",
     "start_time": "2023-04-30T18:14:02.631656Z"
    }
   },
   "outputs": [
    {
     "name": "stdout",
     "output_type": "stream",
     "text": [
      "the length of the submission file is (90, 90)\n"
     ]
    }
   ],
   "source": [
    "print(f'the length of the submission file is {Y_sub.shape[0], ID_S2_pair.shape[0]}')"
   ]
  },
  {
   "cell_type": "code",
   "execution_count": 103,
   "metadata": {
    "ExecuteTime": {
     "end_time": "2023-04-30T18:26:47.170384Z",
     "start_time": "2023-04-30T18:26:47.166259Z"
    }
   },
   "outputs": [],
   "source": [
    "N_SPLIT=3\n",
    "def train_cross(model, n_split, X,Y):\n",
    "    results=[]\n",
    "    cv=KFold(n_splits=n_split)    \n",
    "    clf=generate_pipeline(model, X.columns, [])\n",
    "    for i,(train_index, test_index) in enumerate(cv.split(X,Y)):\n",
    "        print(f'>>> the split {i} ')\n",
    "        X_train,Y_train=X.iloc[train_index], Y[train_index]\n",
    "        X_test ,Y_test=X.iloc[test_index], Y[test_index]\n",
    "        \n",
    "        clf.fit(X_train,Y_train)\n",
    "        prediction=clf.predict(X_test)\n",
    "        result=np.sqrt(mean_squared_error(Y_test, prediction))\n",
    "        print(f\">>>> the sqrtmse {result}\")\n",
    "        results.append(result)\n",
    "    #stack=StackingRegressor(estimators=models_, final_estimator=top_model, cv='prefit')\n",
    "    #stack.fit(X_top, Y_top)\n",
    "    #result_stack=np.sqrt(mean_squared_error(Y, stack.predict(X)))\n",
    "    print(f\">>>> mean on all split is  {np.mean(results)}\")\n",
    "    \n",
    "    \n",
    "    return results\n",
    "\n",
    "    \n",
    "    "
   ]
  },
  {
   "cell_type": "code",
   "execution_count": 38,
   "metadata": {
    "ExecuteTime": {
     "end_time": "2023-04-17T22:50:56.153871Z",
     "start_time": "2023-04-17T22:50:56.151307Z"
    }
   },
   "outputs": [],
   "source": [
    "#mod,res,result_stack, stack=train_cross([ (f'XGBRFRegressor_{k}',XGBRFRegressor()) for k in range(3) ],XGBRFRegressor(),X,Y)"
   ]
  },
  {
   "cell_type": "code",
   "execution_count": 211,
   "metadata": {
    "ExecuteTime": {
     "end_time": "2023-04-18T18:35:03.209112Z",
     "start_time": "2023-04-18T18:34:04.848007Z"
    }
   },
   "outputs": [
    {
     "name": "stdout",
     "output_type": "stream",
     "text": [
      ">>> the split 0 \n",
      ">>>> the sqrtmse 56.64483398814617\n",
      ">>> the split 1 \n",
      ">>>> the sqrtmse 54.69999910153487\n",
      ">>> the split 2 \n",
      ">>>> the sqrtmse 54.344649025594684\n",
      ">>>> mean on all split is  55.229827371758574\n"
     ]
    },
    {
     "data": {
      "text/plain": [
       "[56.64483398814617, 54.69999910153487, 54.344649025594684]"
      ]
     },
     "execution_count": 211,
     "metadata": {},
     "output_type": "execute_result"
    }
   ],
   "source": [
    "results=train_cross(XGBRFRegressor(),N_SPLIT,X,Y)\n",
    "results"
   ]
  },
  {
   "cell_type": "code",
   "execution_count": 76,
   "metadata": {
    "ExecuteTime": {
     "end_time": "2023-03-21T18:38:38.329808Z",
     "start_time": "2023-03-21T18:38:33.092975Z"
    }
   },
   "outputs": [
    {
     "name": "stdout",
     "output_type": "stream",
     "text": [
      "model_1 prediction\n",
      "model_2 prediction\n"
     ]
    },
    {
     "data": {
      "text/plain": [
       "(62.60397911444443, [53.262656508861085, 52.95711451828585, 53.21542301992689])"
      ]
     },
     "execution_count": 76,
     "metadata": {},
     "output_type": "execute_result"
    }
   ],
   "source": [
    "def evaluate_by_model_stack(models, X,Y):\n",
    "    return [np.sqrt(mean_squared_error(Y, k.predict(X))) for name, k in models]\n",
    "def evaluate_stack(models, X,Y):\n",
    "    prediction=models[0][1].predict(X)\n",
    "    for name,mod in models[1:]:\n",
    "        prediction+=mod.predict(X)\n",
    "        print(f'{name} prediction')\n",
    "    return np.sqrt( mean_squared_error( Y, prediction/len(models)))\n",
    "\n",
    "evaluate_stack( mod, X_valide,Y_valide),evaluate_by_model_stack(mod,X,Y)\n",
    "#xgb (62.686876149809216, [53.25848247989811, 52.88690403605642, 53.47845277555761])"
   ]
  },
  {
   "cell_type": "code",
   "execution_count": null,
   "metadata": {
    "ExecuteTime": {
     "start_time": "2023-04-18T18:35:44.117Z"
    }
   },
   "outputs": [
    {
     "name": "stderr",
     "output_type": "stream",
     "text": [
      "\u001b[32m[I 2023-04-18 20:35:44,124]\u001b[0m A new study created in memory with name: no-name-effacbda-ac83-4938-aa51-483fde935955\u001b[0m\n"
     ]
    },
    {
     "name": "stdout",
     "output_type": "stream",
     "text": [
      ">>> the split 0 \n",
      ">>>> the sqrtmse 56.63800333944159\n",
      ">>> the split 1 \n",
      ">>>> the sqrtmse 54.79957898982902\n",
      ">>> the split 2 \n"
     ]
    },
    {
     "name": "stderr",
     "output_type": "stream",
     "text": [
      "\u001b[32m[I 2023-04-18 20:36:49,252]\u001b[0m Trial 0 finished with value: 55.266357260364316 and parameters: {'n_estimators': 125, 'max_depth': 8, 'gamma': 1, 'min_child_weight': 1, 'max_leaves': 0}. Best is trial 0 with value: 55.266357260364316.\u001b[0m\n"
     ]
    },
    {
     "name": "stdout",
     "output_type": "stream",
     "text": [
      ">>>> the sqrtmse 54.36148945182233\n",
      ">>>> mean on all split is  55.266357260364316\n",
      ">>> the split 0 \n",
      ">>>> the sqrtmse 56.86752705551129\n",
      ">>> the split 1 \n",
      ">>>> the sqrtmse 55.01059484696611\n",
      ">>> the split 2 \n"
     ]
    },
    {
     "name": "stderr",
     "output_type": "stream",
     "text": [
      "\u001b[32m[I 2023-04-18 20:46:19,859]\u001b[0m Trial 1 finished with value: 55.45268427284535 and parameters: {'n_estimators': 796, 'max_depth': 17, 'gamma': 1, 'min_child_weight': 1, 'max_leaves': 1}. Best is trial 0 with value: 55.266357260364316.\u001b[0m\n"
     ]
    },
    {
     "name": "stdout",
     "output_type": "stream",
     "text": [
      ">>>> the sqrtmse 54.479930916058656\n",
      ">>>> mean on all split is  55.45268427284535\n",
      ">>> the split 0 \n"
     ]
    }
   ],
   "source": [
    "import optuna\n",
    "from functools import partial\n",
    "\n",
    "def optimize(trial, X, Y ):\n",
    "    \n",
    "    n_estimators=trial.suggest_int('n_estimators',100,1500)\n",
    "    max_depth=trial.suggest_int('max_depth',5,20)\n",
    "    gamma=trial.suggest_int('gamma',0.1,1)\n",
    "    min_child_weight=trial.suggest_int('min_child_weight',0.1,1)\n",
    "    max_leaves=trial.suggest_int('max_leaves',0.1,1)\n",
    "    \n",
    "    model=XGBRFRegressor(n_estimators=n_estimators,\n",
    "                                                   max_depth=max_depth,\n",
    "                                                   gamma=gamma,\n",
    "                                                   min_child_weight=min_child_weight,\n",
    "                                                   max_leaves=max_leaves\n",
    "                                                   \n",
    "                                                    )\n",
    "    res=train_cross(model,N_SPLIT,X,Y)\n",
    "    return np.mean(res)\n",
    "optimization_function=partial( optimize, X=X,Y=Y)\n",
    "study= optuna.create_study(direction='minimize')\n",
    "study.optimize(optimization_function, n_trials=5)"
   ]
  },
  {
   "cell_type": "code",
   "execution_count": 49,
   "metadata": {
    "ExecuteTime": {
     "end_time": "2023-04-10T00:36:41.137868Z",
     "start_time": "2023-04-10T00:36:41.134073Z"
    }
   },
   "outputs": [],
   "source": [
    "# Trial 3 finished with value: 88.45822296514622 and parameters:\n",
    "#{'n_estimators': 671, 'max_depth': 16, 'gamma': 0, 'min_child_weight': 1,\n",
    "#'max_leaves': 0, 'n_estimators_top': 439, 'max_depth_top': 5, 'gamma_top': 0, \n",
    "#'min_child_weight_top': 0, 'max_leaves_top': 0}. \n",
    "#Best is trial 3 with value: 88.45822296514622."
   ]
  },
  {
   "cell_type": "code",
   "execution_count": 111,
   "metadata": {
    "ExecuteTime": {
     "end_time": "2023-04-30T18:41:28.764254Z",
     "start_time": "2023-04-30T18:41:28.600994Z"
    }
   },
   "outputs": [],
   "source": [
    "X_all=pd.concat([X,X_valide,X_test_check])\n",
    "Y_all=np.concatenate([Y,Y_valide,Y_test_check])"
   ]
  },
  {
   "cell_type": "code",
   "execution_count": 112,
   "metadata": {
    "ExecuteTime": {
     "end_time": "2023-04-30T18:41:29.659343Z",
     "start_time": "2023-04-30T18:41:29.655657Z"
    }
   },
   "outputs": [
    {
     "data": {
      "text/plain": [
       "(5174, 2704)"
      ]
     },
     "execution_count": 112,
     "metadata": {},
     "output_type": "execute_result"
    }
   ],
   "source": [
    "X_valide.shape"
   ]
  },
  {
   "cell_type": "code",
   "execution_count": 113,
   "metadata": {
    "ExecuteTime": {
     "end_time": "2023-04-30T18:41:30.259461Z",
     "start_time": "2023-04-30T18:41:30.255808Z"
    }
   },
   "outputs": [
    {
     "data": {
      "text/plain": [
       "((35310, 2704), (25036, 2704))"
      ]
     },
     "execution_count": 113,
     "metadata": {},
     "output_type": "execute_result"
    }
   ],
   "source": [
    "X_all.shape, X.shape"
   ]
  },
  {
   "cell_type": "code",
   "execution_count": 114,
   "metadata": {
    "ExecuteTime": {
     "end_time": "2023-04-30T18:47:50.267763Z",
     "start_time": "2023-04-30T18:41:30.864727Z"
    }
   },
   "outputs": [
    {
     "data": {
      "text/html": [
       "<style>#sk-container-id-2 {color: black;background-color: white;}#sk-container-id-2 pre{padding: 0;}#sk-container-id-2 div.sk-toggleable {background-color: white;}#sk-container-id-2 label.sk-toggleable__label {cursor: pointer;display: block;width: 100%;margin-bottom: 0;padding: 0.3em;box-sizing: border-box;text-align: center;}#sk-container-id-2 label.sk-toggleable__label-arrow:before {content: \"▸\";float: left;margin-right: 0.25em;color: #696969;}#sk-container-id-2 label.sk-toggleable__label-arrow:hover:before {color: black;}#sk-container-id-2 div.sk-estimator:hover label.sk-toggleable__label-arrow:before {color: black;}#sk-container-id-2 div.sk-toggleable__content {max-height: 0;max-width: 0;overflow: hidden;text-align: left;background-color: #f0f8ff;}#sk-container-id-2 div.sk-toggleable__content pre {margin: 0.2em;color: black;border-radius: 0.25em;background-color: #f0f8ff;}#sk-container-id-2 input.sk-toggleable__control:checked~div.sk-toggleable__content {max-height: 200px;max-width: 100%;overflow: auto;}#sk-container-id-2 input.sk-toggleable__control:checked~label.sk-toggleable__label-arrow:before {content: \"▾\";}#sk-container-id-2 div.sk-estimator input.sk-toggleable__control:checked~label.sk-toggleable__label {background-color: #d4ebff;}#sk-container-id-2 div.sk-label input.sk-toggleable__control:checked~label.sk-toggleable__label {background-color: #d4ebff;}#sk-container-id-2 input.sk-hidden--visually {border: 0;clip: rect(1px 1px 1px 1px);clip: rect(1px, 1px, 1px, 1px);height: 1px;margin: -1px;overflow: hidden;padding: 0;position: absolute;width: 1px;}#sk-container-id-2 div.sk-estimator {font-family: monospace;background-color: #f0f8ff;border: 1px dotted black;border-radius: 0.25em;box-sizing: border-box;margin-bottom: 0.5em;}#sk-container-id-2 div.sk-estimator:hover {background-color: #d4ebff;}#sk-container-id-2 div.sk-parallel-item::after {content: \"\";width: 100%;border-bottom: 1px solid gray;flex-grow: 1;}#sk-container-id-2 div.sk-label:hover label.sk-toggleable__label {background-color: #d4ebff;}#sk-container-id-2 div.sk-serial::before {content: \"\";position: absolute;border-left: 1px solid gray;box-sizing: border-box;top: 0;bottom: 0;left: 50%;z-index: 0;}#sk-container-id-2 div.sk-serial {display: flex;flex-direction: column;align-items: center;background-color: white;padding-right: 0.2em;padding-left: 0.2em;position: relative;}#sk-container-id-2 div.sk-item {position: relative;z-index: 1;}#sk-container-id-2 div.sk-parallel {display: flex;align-items: stretch;justify-content: center;background-color: white;position: relative;}#sk-container-id-2 div.sk-item::before, #sk-container-id-2 div.sk-parallel-item::before {content: \"\";position: absolute;border-left: 1px solid gray;box-sizing: border-box;top: 0;bottom: 0;left: 50%;z-index: -1;}#sk-container-id-2 div.sk-parallel-item {display: flex;flex-direction: column;z-index: 1;position: relative;background-color: white;}#sk-container-id-2 div.sk-parallel-item:first-child::after {align-self: flex-end;width: 50%;}#sk-container-id-2 div.sk-parallel-item:last-child::after {align-self: flex-start;width: 50%;}#sk-container-id-2 div.sk-parallel-item:only-child::after {width: 0;}#sk-container-id-2 div.sk-dashed-wrapped {border: 1px dashed gray;margin: 0 0.4em 0.5em 0.4em;box-sizing: border-box;padding-bottom: 0.4em;background-color: white;}#sk-container-id-2 div.sk-label label {font-family: monospace;font-weight: bold;display: inline-block;line-height: 1.2em;}#sk-container-id-2 div.sk-label-container {text-align: center;}#sk-container-id-2 div.sk-container {/* jupyter's `normalize.less` sets `[hidden] { display: none; }` but bootstrap.min.css set `[hidden] { display: none !important; }` so we also need the `!important` here to be able to override the default hidden behavior on the sphinx rendered scikit-learn.org. See: https://github.com/scikit-learn/scikit-learn/issues/21755 */display: inline-block !important;position: relative;}#sk-container-id-2 div.sk-text-repr-fallback {display: none;}</style><div id=\"sk-container-id-2\" class=\"sk-top-container\"><div class=\"sk-text-repr-fallback\"><pre>Pipeline(steps=[(&#x27;preprocessor&#x27;,\n",
       "                 ColumnTransformer(transformers=[(&#x27;num&#x27;,\n",
       "                                                  Pipeline(steps=[(&#x27;imputer&#x27;,\n",
       "                                                                   SimpleImputer(strategy=&#x27;median&#x27;)),\n",
       "                                                                  (&#x27;scaler&#x27;,\n",
       "                                                                   StandardScaler())]),\n",
       "                                                  Index([&#x27;image_0&#x27;, &#x27;image_1&#x27;, &#x27;image_2&#x27;, &#x27;image_3&#x27;, &#x27;image_4&#x27;, &#x27;image_5&#x27;,\n",
       "       &#x27;image_6&#x27;, &#x27;image_7&#x27;, &#x27;image_8&#x27;, &#x27;image_9&#x27;,\n",
       "       ...\n",
       "       &#x27;image_2694&#x27;, &#x27;image_2695&#x27;, &#x27;image_2696&#x27;, &#x27;image_2697&#x27;, &#x27;image_2698&#x27;,\n",
       "       &#x27;image_2699&#x27;,...\n",
       "                                grow_policy=None, importance_type=None,\n",
       "                                interaction_constraints=None, max_bin=None,\n",
       "                                max_cat_threshold=None, max_cat_to_onehot=None,\n",
       "                                max_delta_step=None, max_depth=12, max_leaves=0,\n",
       "                                min_child_weight=0, missing=nan,\n",
       "                                monotone_constraints=None, n_estimators=959,\n",
       "                                n_jobs=None, num_parallel_tree=None,\n",
       "                                objective=&#x27;reg:squarederror&#x27;, predictor=None,\n",
       "                                random_state=None, reg_alpha=None, ...))])</pre><b>In a Jupyter environment, please rerun this cell to show the HTML representation or trust the notebook. <br />On GitHub, the HTML representation is unable to render, please try loading this page with nbviewer.org.</b></div><div class=\"sk-container\" hidden><div class=\"sk-item sk-dashed-wrapped\"><div class=\"sk-label-container\"><div class=\"sk-label sk-toggleable\"><input class=\"sk-toggleable__control sk-hidden--visually\" id=\"sk-estimator-id-11\" type=\"checkbox\" ><label for=\"sk-estimator-id-11\" class=\"sk-toggleable__label sk-toggleable__label-arrow\">Pipeline</label><div class=\"sk-toggleable__content\"><pre>Pipeline(steps=[(&#x27;preprocessor&#x27;,\n",
       "                 ColumnTransformer(transformers=[(&#x27;num&#x27;,\n",
       "                                                  Pipeline(steps=[(&#x27;imputer&#x27;,\n",
       "                                                                   SimpleImputer(strategy=&#x27;median&#x27;)),\n",
       "                                                                  (&#x27;scaler&#x27;,\n",
       "                                                                   StandardScaler())]),\n",
       "                                                  Index([&#x27;image_0&#x27;, &#x27;image_1&#x27;, &#x27;image_2&#x27;, &#x27;image_3&#x27;, &#x27;image_4&#x27;, &#x27;image_5&#x27;,\n",
       "       &#x27;image_6&#x27;, &#x27;image_7&#x27;, &#x27;image_8&#x27;, &#x27;image_9&#x27;,\n",
       "       ...\n",
       "       &#x27;image_2694&#x27;, &#x27;image_2695&#x27;, &#x27;image_2696&#x27;, &#x27;image_2697&#x27;, &#x27;image_2698&#x27;,\n",
       "       &#x27;image_2699&#x27;,...\n",
       "                                grow_policy=None, importance_type=None,\n",
       "                                interaction_constraints=None, max_bin=None,\n",
       "                                max_cat_threshold=None, max_cat_to_onehot=None,\n",
       "                                max_delta_step=None, max_depth=12, max_leaves=0,\n",
       "                                min_child_weight=0, missing=nan,\n",
       "                                monotone_constraints=None, n_estimators=959,\n",
       "                                n_jobs=None, num_parallel_tree=None,\n",
       "                                objective=&#x27;reg:squarederror&#x27;, predictor=None,\n",
       "                                random_state=None, reg_alpha=None, ...))])</pre></div></div></div><div class=\"sk-serial\"><div class=\"sk-item sk-dashed-wrapped\"><div class=\"sk-label-container\"><div class=\"sk-label sk-toggleable\"><input class=\"sk-toggleable__control sk-hidden--visually\" id=\"sk-estimator-id-12\" type=\"checkbox\" ><label for=\"sk-estimator-id-12\" class=\"sk-toggleable__label sk-toggleable__label-arrow\">preprocessor: ColumnTransformer</label><div class=\"sk-toggleable__content\"><pre>ColumnTransformer(transformers=[(&#x27;num&#x27;,\n",
       "                                 Pipeline(steps=[(&#x27;imputer&#x27;,\n",
       "                                                  SimpleImputer(strategy=&#x27;median&#x27;)),\n",
       "                                                 (&#x27;scaler&#x27;, StandardScaler())]),\n",
       "                                 Index([&#x27;image_0&#x27;, &#x27;image_1&#x27;, &#x27;image_2&#x27;, &#x27;image_3&#x27;, &#x27;image_4&#x27;, &#x27;image_5&#x27;,\n",
       "       &#x27;image_6&#x27;, &#x27;image_7&#x27;, &#x27;image_8&#x27;, &#x27;image_9&#x27;,\n",
       "       ...\n",
       "       &#x27;image_2694&#x27;, &#x27;image_2695&#x27;, &#x27;image_2696&#x27;, &#x27;image_2697&#x27;, &#x27;image_2698&#x27;,\n",
       "       &#x27;image_2699&#x27;, &#x27;lat_max&#x27;, &#x27;lat_min&#x27;, &#x27;lon_min&#x27;, &#x27;lon_max&#x27;],\n",
       "      dtype=&#x27;object&#x27;, length=2704)),\n",
       "                                (&#x27;cat&#x27;,\n",
       "                                 Pipeline(steps=[(&#x27;imputer&#x27;,\n",
       "                                                  SimpleImputer(fill_value=&#x27;missing&#x27;,\n",
       "                                                                strategy=&#x27;constant&#x27;)),\n",
       "                                                 (&#x27;onehot&#x27;,\n",
       "                                                  OneHotEncoder(handle_unknown=&#x27;ignore&#x27;))]),\n",
       "                                 [])])</pre></div></div></div><div class=\"sk-parallel\"><div class=\"sk-parallel-item\"><div class=\"sk-item\"><div class=\"sk-label-container\"><div class=\"sk-label sk-toggleable\"><input class=\"sk-toggleable__control sk-hidden--visually\" id=\"sk-estimator-id-13\" type=\"checkbox\" ><label for=\"sk-estimator-id-13\" class=\"sk-toggleable__label sk-toggleable__label-arrow\">num</label><div class=\"sk-toggleable__content\"><pre>Index([&#x27;image_0&#x27;, &#x27;image_1&#x27;, &#x27;image_2&#x27;, &#x27;image_3&#x27;, &#x27;image_4&#x27;, &#x27;image_5&#x27;,\n",
       "       &#x27;image_6&#x27;, &#x27;image_7&#x27;, &#x27;image_8&#x27;, &#x27;image_9&#x27;,\n",
       "       ...\n",
       "       &#x27;image_2694&#x27;, &#x27;image_2695&#x27;, &#x27;image_2696&#x27;, &#x27;image_2697&#x27;, &#x27;image_2698&#x27;,\n",
       "       &#x27;image_2699&#x27;, &#x27;lat_max&#x27;, &#x27;lat_min&#x27;, &#x27;lon_min&#x27;, &#x27;lon_max&#x27;],\n",
       "      dtype=&#x27;object&#x27;, length=2704)</pre></div></div></div><div class=\"sk-serial\"><div class=\"sk-item\"><div class=\"sk-serial\"><div class=\"sk-item\"><div class=\"sk-estimator sk-toggleable\"><input class=\"sk-toggleable__control sk-hidden--visually\" id=\"sk-estimator-id-14\" type=\"checkbox\" ><label for=\"sk-estimator-id-14\" class=\"sk-toggleable__label sk-toggleable__label-arrow\">SimpleImputer</label><div class=\"sk-toggleable__content\"><pre>SimpleImputer(strategy=&#x27;median&#x27;)</pre></div></div></div><div class=\"sk-item\"><div class=\"sk-estimator sk-toggleable\"><input class=\"sk-toggleable__control sk-hidden--visually\" id=\"sk-estimator-id-15\" type=\"checkbox\" ><label for=\"sk-estimator-id-15\" class=\"sk-toggleable__label sk-toggleable__label-arrow\">StandardScaler</label><div class=\"sk-toggleable__content\"><pre>StandardScaler()</pre></div></div></div></div></div></div></div></div><div class=\"sk-parallel-item\"><div class=\"sk-item\"><div class=\"sk-label-container\"><div class=\"sk-label sk-toggleable\"><input class=\"sk-toggleable__control sk-hidden--visually\" id=\"sk-estimator-id-16\" type=\"checkbox\" ><label for=\"sk-estimator-id-16\" class=\"sk-toggleable__label sk-toggleable__label-arrow\">cat</label><div class=\"sk-toggleable__content\"><pre>[]</pre></div></div></div><div class=\"sk-serial\"><div class=\"sk-item\"><div class=\"sk-serial\"><div class=\"sk-item\"><div class=\"sk-estimator sk-toggleable\"><input class=\"sk-toggleable__control sk-hidden--visually\" id=\"sk-estimator-id-17\" type=\"checkbox\" ><label for=\"sk-estimator-id-17\" class=\"sk-toggleable__label sk-toggleable__label-arrow\">SimpleImputer</label><div class=\"sk-toggleable__content\"><pre>SimpleImputer(fill_value=&#x27;missing&#x27;, strategy=&#x27;constant&#x27;)</pre></div></div></div><div class=\"sk-item\"><div class=\"sk-estimator sk-toggleable\"><input class=\"sk-toggleable__control sk-hidden--visually\" id=\"sk-estimator-id-18\" type=\"checkbox\" ><label for=\"sk-estimator-id-18\" class=\"sk-toggleable__label sk-toggleable__label-arrow\">OneHotEncoder</label><div class=\"sk-toggleable__content\"><pre>OneHotEncoder(handle_unknown=&#x27;ignore&#x27;)</pre></div></div></div></div></div></div></div></div></div></div><div class=\"sk-item\"><div class=\"sk-estimator sk-toggleable\"><input class=\"sk-toggleable__control sk-hidden--visually\" id=\"sk-estimator-id-19\" type=\"checkbox\" ><label for=\"sk-estimator-id-19\" class=\"sk-toggleable__label sk-toggleable__label-arrow\">PCA</label><div class=\"sk-toggleable__content\"><pre>PCA(n_components=30)</pre></div></div></div><div class=\"sk-item\"><div class=\"sk-estimator sk-toggleable\"><input class=\"sk-toggleable__control sk-hidden--visually\" id=\"sk-estimator-id-20\" type=\"checkbox\" ><label for=\"sk-estimator-id-20\" class=\"sk-toggleable__label sk-toggleable__label-arrow\">XGBRFRegressor</label><div class=\"sk-toggleable__content\"><pre>XGBRFRegressor(base_score=None, booster=None, callbacks=None,\n",
       "               colsample_bylevel=None, colsample_bytree=None,\n",
       "               early_stopping_rounds=None, enable_categorical=False,\n",
       "               eval_metric=None, feature_types=None, gamma=1, gpu_id=None,\n",
       "               grow_policy=None, importance_type=None,\n",
       "               interaction_constraints=None, max_bin=None,\n",
       "               max_cat_threshold=None, max_cat_to_onehot=None,\n",
       "               max_delta_step=None, max_depth=12, max_leaves=0,\n",
       "               min_child_weight=0, missing=nan, monotone_constraints=None,\n",
       "               n_estimators=959, n_jobs=None, num_parallel_tree=None,\n",
       "               objective=&#x27;reg:squarederror&#x27;, predictor=None, random_state=None,\n",
       "               reg_alpha=None, ...)</pre></div></div></div></div></div></div></div>"
      ],
      "text/plain": [
       "Pipeline(steps=[('preprocessor',\n",
       "                 ColumnTransformer(transformers=[('num',\n",
       "                                                  Pipeline(steps=[('imputer',\n",
       "                                                                   SimpleImputer(strategy='median')),\n",
       "                                                                  ('scaler',\n",
       "                                                                   StandardScaler())]),\n",
       "                                                  Index(['image_0', 'image_1', 'image_2', 'image_3', 'image_4', 'image_5',\n",
       "       'image_6', 'image_7', 'image_8', 'image_9',\n",
       "       ...\n",
       "       'image_2694', 'image_2695', 'image_2696', 'image_2697', 'image_2698',\n",
       "       'image_2699',...\n",
       "                                grow_policy=None, importance_type=None,\n",
       "                                interaction_constraints=None, max_bin=None,\n",
       "                                max_cat_threshold=None, max_cat_to_onehot=None,\n",
       "                                max_delta_step=None, max_depth=12, max_leaves=0,\n",
       "                                min_child_weight=0, missing=nan,\n",
       "                                monotone_constraints=None, n_estimators=959,\n",
       "                                n_jobs=None, num_parallel_tree=None,\n",
       "                                objective='reg:squarederror', predictor=None,\n",
       "                                random_state=None, reg_alpha=None, ...))])"
      ]
     },
     "execution_count": 114,
     "metadata": {},
     "output_type": "execute_result"
    }
   ],
   "source": [
    "#models=[ (f'XGBRFRegressor_{k}',XGBRFRegressor(n_estimators=671,\n",
    "#                                                   max_depth=16,\n",
    "#                                                   gamma=0,\n",
    "#                                                   min_child_weight=1,\n",
    "#                                                   max_leaves=0\n",
    "#                                                    )) for k in range(3) ]\n",
    "model=XGBRFRegressor(**{'n_estimators': 959, 'max_depth': 12, 'gamma': 1, 'min_child_weight': 0, 'max_leaves': 0}\n",
    ")\n",
    "clf=generate_pipeline(model, X.columns, [])\n",
    "clf.fit(X_all, Y_all)\n"
   ]
  },
  {
   "cell_type": "markdown",
   "metadata": {},
   "source": [
    "## Eval on test set"
   ]
  },
  {
   "cell_type": "code",
   "execution_count": 115,
   "metadata": {
    "ExecuteTime": {
     "end_time": "2023-04-30T18:53:58.220697Z",
     "start_time": "2023-04-30T18:53:57.847230Z"
    }
   },
   "outputs": [
    {
     "data": {
      "text/plain": [
       "45.17098053095213"
      ]
     },
     "execution_count": 115,
     "metadata": {},
     "output_type": "execute_result"
    }
   ],
   "source": [
    "prediction_check=clf.predict(X_test_check)\n",
    "np.sqrt(mean_squared_error(Y_test_check, prediction_check))"
   ]
  },
  {
   "cell_type": "code",
   "execution_count": 79,
   "metadata": {
    "ExecuteTime": {
     "end_time": "2023-03-09T00:22:02.700048Z",
     "start_time": "2023-03-09T00:22:00.938817Z"
    }
   },
   "outputs": [
    {
     "name": "stdout",
     "output_type": "stream",
     "text": [
      "(None, 12, 15, 15)\n",
      "KerasTensor(type_spec=TensorSpec(shape=(None, 12, 15, 15), dtype=tf.float32, name=None), name='normalization_32/truediv:0', description=\"created by layer 'normalization_32'\")\n",
      "[12, 15, 15]\n",
      "12\n",
      "[225, 100]\n",
      "[100, 40]\n",
      "[255, 150]\n",
      "[150, 100]\n",
      "[100, 50]\n",
      "[90, 150]\n",
      "[150, 100]\n",
      "[100, 50]\n",
      "[50, 1]\n"
     ]
    }
   ],
   "source": [
    "from tensorflow import keras\n",
    "from tensorflow.keras import layers\n",
    "from tensorflow.keras.metrics import RootMeanSquaredError\n",
    "from tensorflow.keras.losses import Huber, MeanSquaredLogarithmicError\n",
    "from tensorflow.keras.optimizers import RMSprop, Adam,SGD\n",
    "import tensorflow.keras.backend as K\n",
    "\n",
    "def root_mean_squared_error(y_true, y_pred):\n",
    "        return K.sqrt(K.mean(K.square(y_pred - y_true))) \n",
    "\n",
    "\n",
    "def input_ly( shape, data, norm=True):\n",
    "    input_ = keras.Input(shape=shape)\n",
    "    normalizer = tf.keras.layers.Normalization()\n",
    "    normalizer.adapt(data)\n",
    "    x_image = normalizer(input_)\n",
    "    return input_, x_image\n",
    "\n",
    "\n",
    "def generate_compile_model():\n",
    "    model_v1 = tf.keras.models.Sequential([    \n",
    "            tf.keras.layers.Flatten(),\n",
    "            tf.keras.layers.Dense(100, activation='sigmoid'),\n",
    "            #tf.keras.layers.Dense(150, activation='relu'),\n",
    "            tf.keras.layers.Dropout(0.3),\n",
    "            tf.keras.layers.Dense(40, activation='relu'),\n",
    "            \n",
    "        ])\n",
    "    inputs_image,x_image= input_ly(( 12,15,15), train_images)\n",
    "    inputs_lat, x_lat=input_ly((15,1), train_lat, False)\n",
    "    inputs_lon, x_lon=input_ly((15,1), train_lon, False)\n",
    "    inputs_cloud, x_cloud=input_ly((225,1), train_cloud, False)\n",
    "    \n",
    "    #x_image=tf.keras.layers.Flatten()(x_image)\n",
    "    print(x_image.shape)\n",
    "    print(x_image)\n",
    "    x_image= tf.keras.layers.EinsumDense(\n",
    "                          \"abcd,bce->ade\",\n",
    "                            output_shape=(None, 15,15),\n",
    "    )(x_image)\n",
    "\n",
    "    outputs_images = model_v1(x_image)\n",
    "    \n",
    "    coord=tf.keras.layers.Concatenate(axis=1)([x_lat[0],x_lon[0],x_cloud[0]])\n",
    "    coord=tf.keras.layers.Flatten()(coord)\n",
    "    coord= tf.keras.layers.Dense(150, activation='sigmoid')( coord)\n",
    "    coord= tf.keras.layers.Dropout(0.3)( coord)\n",
    "    coord= tf.keras.layers.Dense(100, activation='relu')( coord)\n",
    "    coord= tf.keras.layers.Dropout(0.3)( coord)\n",
    "    coord= tf.keras.layers.Dense(50, activation='relu')( coord)\n",
    "    #coord= tf.keras.layers.Dropout(0.3)( coord)\n",
    "    \n",
    "    coord=tf.keras.layers.Concatenate(axis=-1)([coord,outputs_images])\n",
    "    coord= tf.keras.layers.Dense(150, activation='relu')( coord)\n",
    "    coord= tf.keras.layers.Dropout(0.3)( coord)\n",
    "    coord= tf.keras.layers.Dense(100, activation='relu')( coord)\n",
    "    coord= tf.keras.layers.Dropout(0.3)( coord)\n",
    "    coord= tf.keras.layers.Dense(50, activation='relu')( coord)\n",
    "    #coord= tf.keras.layers.Dense(150, activation='relu')( coord)\n",
    "    coord= tf.keras.layers.Dropout(0.3)( coord)\n",
    "    coord=tf.keras.layers.Dense(1, activation='relu')( coord)\n",
    "    outputs= tf.keras.layers.Lambda(lambda x:x*160)(coord)\n",
    "    model = keras.Model([inputs_image, inputs_lat,inputs_lon, inputs_cloud], outputs)\n",
    "    \n",
    "    model.compile(optimizer = Adam(\n",
    "                    learning_rate=1e-4),\n",
    "        loss = root_mean_squared_error, \n",
    "        metrics = [RootMeanSquaredError()]        \n",
    "    )\n",
    "    return model, model_v1\n",
    "model, model_v1=generate_compile_model()\n"
   ]
  },
  {
   "cell_type": "code",
   "execution_count": 80,
   "metadata": {
    "ExecuteTime": {
     "end_time": "2023-03-09T00:22:02.711811Z",
     "start_time": "2023-03-09T00:22:02.701984Z"
    }
   },
   "outputs": [
    {
     "name": "stdout",
     "output_type": "stream",
     "text": [
      "Model: \"sequential_8\"\n",
      "_________________________________________________________________\n",
      " Layer (type)                Output Shape              Param #   \n",
      "=================================================================\n",
      " flatten_13 (Flatten)        (None, 225)               0         \n",
      "                                                                 \n",
      " dense_44 (Dense)            (None, 100)               22600     \n",
      "                                                                 \n",
      " dropout_16 (Dropout)        (None, 100)               0         \n",
      "                                                                 \n",
      " dense_45 (Dense)            (None, 40)                4040      \n",
      "                                                                 \n",
      "=================================================================\n",
      "Total params: 26,640\n",
      "Trainable params: 26,640\n",
      "Non-trainable params: 0\n",
      "_________________________________________________________________\n"
     ]
    }
   ],
   "source": [
    "model_v1.summary()"
   ]
  },
  {
   "cell_type": "code",
   "execution_count": 81,
   "metadata": {
    "ExecuteTime": {
     "end_time": "2023-03-09T00:22:02.740467Z",
     "start_time": "2023-03-09T00:22:02.713066Z"
    }
   },
   "outputs": [
    {
     "name": "stdout",
     "output_type": "stream",
     "text": [
      "Model: \"model_4\"\n",
      "__________________________________________________________________________________________________\n",
      " Layer (type)                   Output Shape         Param #     Connected to                     \n",
      "==================================================================================================\n",
      " input_35 (InputLayer)          [(None, 15, 1)]      0           []                               \n",
      "                                                                                                  \n",
      " input_36 (InputLayer)          [(None, 15, 1)]      0           []                               \n",
      "                                                                                                  \n",
      " input_37 (InputLayer)          [(None, 225, 1)]     0           []                               \n",
      "                                                                                                  \n",
      " normalization_33 (Normalizatio  (1, None, 15, 1)    3           ['input_35[0][0]']               \n",
      " n)                                                                                               \n",
      "                                                                                                  \n",
      " normalization_34 (Normalizatio  (1, None, 15, 1)    3           ['input_36[0][0]']               \n",
      " n)                                                                                               \n",
      "                                                                                                  \n",
      " normalization_35 (Normalizatio  (1, None, 225, 1)   3           ['input_37[0][0]']               \n",
      " n)                                                                                               \n",
      "                                                                                                  \n",
      " tf.__operators__.getitem_12 (S  (None, 15, 1)       0           ['normalization_33[0][0]']       \n",
      " licingOpLambda)                                                                                  \n",
      "                                                                                                  \n",
      " tf.__operators__.getitem_13 (S  (None, 15, 1)       0           ['normalization_34[0][0]']       \n",
      " licingOpLambda)                                                                                  \n",
      "                                                                                                  \n",
      " tf.__operators__.getitem_14 (S  (None, 225, 1)      0           ['normalization_35[0][0]']       \n",
      " licingOpLambda)                                                                                  \n",
      "                                                                                                  \n",
      " concatenate_9 (Concatenate)    (None, 255, 1)       0           ['tf.__operators__.getitem_12[0][\n",
      "                                                                 0]',                             \n",
      "                                                                  'tf.__operators__.getitem_13[0][\n",
      "                                                                 0]',                             \n",
      "                                                                  'tf.__operators__.getitem_14[0][\n",
      "                                                                 0]']                             \n",
      "                                                                                                  \n",
      " flatten_14 (Flatten)           (None, 255)          0           ['concatenate_9[0][0]']          \n",
      "                                                                                                  \n",
      " dense_46 (Dense)               (None, 150)          38400       ['flatten_14[0][0]']             \n",
      "                                                                                                  \n",
      " dropout_17 (Dropout)           (None, 150)          0           ['dense_46[0][0]']               \n",
      "                                                                                                  \n",
      " input_34 (InputLayer)          [(None, 12, 15, 15)  0           []                               \n",
      "                                ]                                                                 \n",
      "                                                                                                  \n",
      " dense_47 (Dense)               (None, 100)          15100       ['dropout_17[0][0]']             \n",
      "                                                                                                  \n",
      " normalization_32 (Normalizatio  (None, 12, 15, 15)  31          ['input_34[0][0]']               \n",
      " n)                                                                                               \n",
      "                                                                                                  \n",
      " dropout_18 (Dropout)           (None, 100)          0           ['dense_47[0][0]']               \n",
      "                                                                                                  \n",
      " einsum_dense_9 (EinsumDense)   (None, 15, 15)       2700        ['normalization_32[0][0]']       \n",
      "                                                                                                  \n",
      " dense_48 (Dense)               (None, 50)           5050        ['dropout_18[0][0]']             \n",
      "                                                                                                  \n",
      " sequential_8 (Sequential)      (None, 40)           26640       ['einsum_dense_9[0][0]']         \n",
      "                                                                                                  \n",
      " concatenate_10 (Concatenate)   (None, 90)           0           ['dense_48[0][0]',               \n",
      "                                                                  'sequential_8[0][0]']           \n",
      "                                                                                                  \n",
      " dense_49 (Dense)               (None, 150)          13650       ['concatenate_10[0][0]']         \n",
      "                                                                                                  \n",
      " dropout_19 (Dropout)           (None, 150)          0           ['dense_49[0][0]']               \n",
      "                                                                                                  \n",
      " dense_50 (Dense)               (None, 100)          15100       ['dropout_19[0][0]']             \n",
      "                                                                                                  \n",
      " dropout_20 (Dropout)           (None, 100)          0           ['dense_50[0][0]']               \n",
      "                                                                                                  \n",
      " dense_51 (Dense)               (None, 50)           5050        ['dropout_20[0][0]']             \n",
      "                                                                                                  \n",
      " dropout_21 (Dropout)           (None, 50)           0           ['dense_51[0][0]']               \n",
      "                                                                                                  \n",
      " dense_52 (Dense)               (None, 1)            51          ['dropout_21[0][0]']             \n",
      "                                                                                                  \n",
      " lambda_4 (Lambda)              (None, 1)            0           ['dense_52[0][0]']               \n",
      "                                                                                                  \n",
      "==================================================================================================\n",
      "Total params: 121,781\n",
      "Trainable params: 121,741\n",
      "Non-trainable params: 40\n",
      "__________________________________________________________________________________________________\n"
     ]
    }
   ],
   "source": [
    "model.summary()"
   ]
  },
  {
   "cell_type": "code",
   "execution_count": null,
   "metadata": {
    "ExecuteTime": {
     "end_time": "2023-02-12T17:35:07.873617Z",
     "start_time": "2023-02-12T17:35:07.870499Z"
    }
   },
   "outputs": [],
   "source": []
  },
  {
   "cell_type": "code",
   "execution_count": null,
   "metadata": {
    "ExecuteTime": {
     "end_time": "2023-02-12T16:47:00.270218Z",
     "start_time": "2023-02-12T16:47:00.261884Z"
    }
   },
   "outputs": [],
   "source": []
  },
  {
   "cell_type": "code",
   "execution_count": 82,
   "metadata": {
    "ExecuteTime": {
     "end_time": "2023-03-09T00:22:03.176683Z",
     "start_time": "2023-03-09T00:22:02.742935Z"
    },
    "executionInfo": {
     "elapsed": 1133,
     "status": "ok",
     "timestamp": 1674723365365,
     "user": {
      "displayName": "Nelson Mganga",
      "userId": "15984282569117459010"
     },
     "user_tz": -180
    },
    "id": "T3OrinVvV3-8"
   },
   "outputs": [],
   "source": [
    "# constante for standardization\n",
    "MEAN = train_images.mean((0,2,3))\n",
    "STD = train_images.std((0,2,3))"
   ]
  },
  {
   "cell_type": "code",
   "execution_count": 83,
   "metadata": {
    "ExecuteTime": {
     "end_time": "2023-03-09T00:22:03.304607Z",
     "start_time": "2023-03-09T00:22:03.178053Z"
    }
   },
   "outputs": [
    {
     "data": {
      "text/plain": [
       "15687.0"
      ]
     },
     "execution_count": 83,
     "metadata": {},
     "output_type": "execute_result"
    }
   ],
   "source": [
    "# Evaluate( with the hands) the max\n",
    "np.max(train_images.reshape(25036, 12,225),axis=2).max()"
   ]
  },
  {
   "cell_type": "code",
   "execution_count": 84,
   "metadata": {
    "ExecuteTime": {
     "end_time": "2023-03-09T00:22:03.308038Z",
     "start_time": "2023-03-09T00:22:03.305788Z"
    }
   },
   "outputs": [],
   "source": [
    "checkpoint_filepath='./checkpoints/'"
   ]
  },
  {
   "cell_type": "code",
   "execution_count": 85,
   "metadata": {
    "ExecuteTime": {
     "end_time": "2023-03-09T00:22:03.311979Z",
     "start_time": "2023-03-09T00:22:03.309084Z"
    }
   },
   "outputs": [],
   "source": [
    "model_checkpoint_callback = tf.keras.callbacks.ModelCheckpoint(\n",
    "    filepath=checkpoint_filepath,\n",
    "    save_weights_only=True,\n",
    "    monitor='val_root_mean_squared_error',\n",
    "    mode='min',\n",
    "    save_best_only=True)\n",
    "reduce_lr = tf.keras.callbacks.ReduceLROnPlateau(monitor='val_loss', factor=0.5,min_delta=0.1,\n",
    "                              patience=3, min_lr=1e-10)\n"
   ]
  },
  {
   "cell_type": "code",
   "execution_count": 86,
   "metadata": {
    "ExecuteTime": {
     "end_time": "2023-03-09T00:25:33.929154Z",
     "start_time": "2023-03-09T00:22:03.313414Z"
    },
    "scrolled": true
   },
   "outputs": [
    {
     "name": "stdout",
     "output_type": "stream",
     "text": [
      "Epoch 1/100\n",
      "783/783 - 3s - loss: 57.2969 - root_mean_squared_error: 61.2401 - val_loss: 59.9115 - val_root_mean_squared_error: 68.9350 - lr: 1.0000e-04 - 3s/epoch - 3ms/step\n",
      "Epoch 2/100\n",
      "783/783 - 2s - loss: 53.6601 - root_mean_squared_error: 57.7870 - val_loss: 58.3508 - val_root_mean_squared_error: 67.5699 - lr: 1.0000e-04 - 2s/epoch - 2ms/step\n",
      "Epoch 3/100\n",
      "783/783 - 2s - loss: 53.0745 - root_mean_squared_error: 57.1994 - val_loss: 57.0979 - val_root_mean_squared_error: 66.4274 - lr: 1.0000e-04 - 2s/epoch - 2ms/step\n",
      "Epoch 4/100\n",
      "783/783 - 2s - loss: 52.7259 - root_mean_squared_error: 56.9175 - val_loss: 56.4420 - val_root_mean_squared_error: 65.8194 - lr: 1.0000e-04 - 2s/epoch - 2ms/step\n",
      "Epoch 5/100\n",
      "783/783 - 2s - loss: 52.5156 - root_mean_squared_error: 56.6522 - val_loss: 55.8821 - val_root_mean_squared_error: 65.2818 - lr: 1.0000e-04 - 2s/epoch - 2ms/step\n",
      "Epoch 6/100\n",
      "783/783 - 2s - loss: 52.1080 - root_mean_squared_error: 56.2859 - val_loss: 55.0324 - val_root_mean_squared_error: 64.4191 - lr: 1.0000e-04 - 2s/epoch - 2ms/step\n",
      "Epoch 7/100\n",
      "783/783 - 2s - loss: 51.9570 - root_mean_squared_error: 56.1406 - val_loss: 55.2153 - val_root_mean_squared_error: 64.6142 - lr: 1.0000e-04 - 2s/epoch - 2ms/step\n",
      "Epoch 8/100\n",
      "783/783 - 2s - loss: 51.6941 - root_mean_squared_error: 55.8497 - val_loss: 55.0870 - val_root_mean_squared_error: 64.4638 - lr: 1.0000e-04 - 2s/epoch - 2ms/step\n",
      "Epoch 9/100\n",
      "783/783 - 2s - loss: 51.6250 - root_mean_squared_error: 55.7218 - val_loss: 55.6431 - val_root_mean_squared_error: 65.0475 - lr: 1.0000e-04 - 2s/epoch - 2ms/step\n",
      "Epoch 10/100\n",
      "783/783 - 2s - loss: 51.3667 - root_mean_squared_error: 55.4905 - val_loss: 54.8929 - val_root_mean_squared_error: 64.2942 - lr: 5.0000e-05 - 2s/epoch - 2ms/step\n",
      "Epoch 11/100\n",
      "783/783 - 2s - loss: 51.3439 - root_mean_squared_error: 55.4919 - val_loss: 54.9774 - val_root_mean_squared_error: 64.3922 - lr: 5.0000e-05 - 2s/epoch - 2ms/step\n",
      "Epoch 12/100\n",
      "783/783 - 2s - loss: 51.2279 - root_mean_squared_error: 55.3759 - val_loss: 54.7225 - val_root_mean_squared_error: 64.1331 - lr: 5.0000e-05 - 2s/epoch - 2ms/step\n",
      "Epoch 13/100\n",
      "783/783 - 2s - loss: 51.1736 - root_mean_squared_error: 55.3509 - val_loss: 54.5452 - val_root_mean_squared_error: 63.9399 - lr: 5.0000e-05 - 2s/epoch - 2ms/step\n",
      "Epoch 14/100\n",
      "783/783 - 2s - loss: 51.0154 - root_mean_squared_error: 55.1061 - val_loss: 54.4524 - val_root_mean_squared_error: 63.8538 - lr: 5.0000e-05 - 2s/epoch - 2ms/step\n",
      "Epoch 15/100\n",
      "783/783 - 2s - loss: 50.8665 - root_mean_squared_error: 54.9631 - val_loss: 54.5691 - val_root_mean_squared_error: 63.9866 - lr: 5.0000e-05 - 2s/epoch - 2ms/step\n",
      "Epoch 16/100\n",
      "783/783 - 2s - loss: 50.9411 - root_mean_squared_error: 55.0117 - val_loss: 54.5222 - val_root_mean_squared_error: 63.9495 - lr: 5.0000e-05 - 2s/epoch - 2ms/step\n",
      "Epoch 17/100\n",
      "783/783 - 2s - loss: 50.8057 - root_mean_squared_error: 54.8925 - val_loss: 54.3253 - val_root_mean_squared_error: 63.7453 - lr: 2.5000e-05 - 2s/epoch - 2ms/step\n",
      "Epoch 18/100\n",
      "783/783 - 2s - loss: 50.8428 - root_mean_squared_error: 54.9098 - val_loss: 54.3193 - val_root_mean_squared_error: 63.7411 - lr: 2.5000e-05 - 2s/epoch - 2ms/step\n",
      "Epoch 19/100\n",
      "783/783 - 2s - loss: 50.7059 - root_mean_squared_error: 54.7938 - val_loss: 54.1798 - val_root_mean_squared_error: 63.5971 - lr: 2.5000e-05 - 2s/epoch - 2ms/step\n",
      "Epoch 20/100\n",
      "783/783 - 2s - loss: 50.6972 - root_mean_squared_error: 54.7748 - val_loss: 54.1942 - val_root_mean_squared_error: 63.6161 - lr: 2.5000e-05 - 2s/epoch - 2ms/step\n",
      "Epoch 21/100\n",
      "783/783 - 2s - loss: 50.6384 - root_mean_squared_error: 54.7497 - val_loss: 54.1516 - val_root_mean_squared_error: 63.5730 - lr: 2.5000e-05 - 2s/epoch - 2ms/step\n",
      "Epoch 22/100\n",
      "783/783 - 2s - loss: 50.5543 - root_mean_squared_error: 54.6251 - val_loss: 54.1928 - val_root_mean_squared_error: 63.6259 - lr: 2.5000e-05 - 2s/epoch - 2ms/step\n",
      "Epoch 23/100\n",
      "783/783 - 2s - loss: 50.5061 - root_mean_squared_error: 54.5645 - val_loss: 53.9226 - val_root_mean_squared_error: 63.3254 - lr: 1.2500e-05 - 2s/epoch - 2ms/step\n",
      "Epoch 24/100\n",
      "783/783 - 2s - loss: 50.4505 - root_mean_squared_error: 54.5449 - val_loss: 53.9416 - val_root_mean_squared_error: 63.3527 - lr: 1.2500e-05 - 2s/epoch - 2ms/step\n",
      "Epoch 25/100\n",
      "783/783 - 2s - loss: 50.4128 - root_mean_squared_error: 54.4276 - val_loss: 53.9414 - val_root_mean_squared_error: 63.3539 - lr: 1.2500e-05 - 2s/epoch - 3ms/step\n",
      "Epoch 26/100\n",
      "783/783 - 2s - loss: 50.4595 - root_mean_squared_error: 54.5257 - val_loss: 53.9440 - val_root_mean_squared_error: 63.3635 - lr: 1.2500e-05 - 2s/epoch - 3ms/step\n",
      "Epoch 27/100\n",
      "783/783 - 2s - loss: 50.4265 - root_mean_squared_error: 54.5029 - val_loss: 53.9045 - val_root_mean_squared_error: 63.3216 - lr: 6.2500e-06 - 2s/epoch - 3ms/step\n",
      "Epoch 28/100\n",
      "783/783 - 2s - loss: 50.3838 - root_mean_squared_error: 54.4880 - val_loss: 53.8935 - val_root_mean_squared_error: 63.3102 - lr: 6.2500e-06 - 2s/epoch - 3ms/step\n",
      "Epoch 29/100\n",
      "783/783 - 2s - loss: 50.3854 - root_mean_squared_error: 54.4805 - val_loss: 53.8735 - val_root_mean_squared_error: 63.2882 - lr: 6.2500e-06 - 2s/epoch - 3ms/step\n",
      "Epoch 30/100\n",
      "783/783 - 2s - loss: 50.4370 - root_mean_squared_error: 54.5100 - val_loss: 53.8553 - val_root_mean_squared_error: 63.2677 - lr: 3.1250e-06 - 2s/epoch - 3ms/step\n",
      "Epoch 31/100\n",
      "783/783 - 2s - loss: 50.3501 - root_mean_squared_error: 54.4453 - val_loss: 53.8275 - val_root_mean_squared_error: 63.2368 - lr: 3.1250e-06 - 2s/epoch - 3ms/step\n",
      "Epoch 32/100\n",
      "783/783 - 2s - loss: 50.3126 - root_mean_squared_error: 54.4399 - val_loss: 53.8357 - val_root_mean_squared_error: 63.2460 - lr: 3.1250e-06 - 2s/epoch - 3ms/step\n",
      "Epoch 33/100\n",
      "783/783 - 2s - loss: 50.3472 - root_mean_squared_error: 54.4395 - val_loss: 53.7770 - val_root_mean_squared_error: 63.1775 - lr: 1.5625e-06 - 2s/epoch - 3ms/step\n",
      "Epoch 34/100\n",
      "783/783 - 2s - loss: 50.3818 - root_mean_squared_error: 54.4745 - val_loss: 53.7931 - val_root_mean_squared_error: 63.1970 - lr: 1.5625e-06 - 2s/epoch - 3ms/step\n",
      "Epoch 35/100\n",
      "783/783 - 2s - loss: 50.3644 - root_mean_squared_error: 54.4513 - val_loss: 53.7740 - val_root_mean_squared_error: 63.1752 - lr: 1.5625e-06 - 2s/epoch - 3ms/step\n",
      "Epoch 36/100\n",
      "783/783 - 2s - loss: 50.4406 - root_mean_squared_error: 54.5420 - val_loss: 53.7665 - val_root_mean_squared_error: 63.1669 - lr: 1.5625e-06 - 2s/epoch - 3ms/step\n",
      "Epoch 37/100\n",
      "783/783 - 2s - loss: 50.2985 - root_mean_squared_error: 54.3859 - val_loss: 53.7513 - val_root_mean_squared_error: 63.1490 - lr: 7.8125e-07 - 2s/epoch - 3ms/step\n",
      "Epoch 38/100\n",
      "783/783 - 2s - loss: 50.3690 - root_mean_squared_error: 54.4415 - val_loss: 53.7547 - val_root_mean_squared_error: 63.1537 - lr: 7.8125e-07 - 2s/epoch - 3ms/step\n",
      "Epoch 39/100\n",
      "783/783 - 2s - loss: 50.3034 - root_mean_squared_error: 54.3855 - val_loss: 53.7535 - val_root_mean_squared_error: 63.1524 - lr: 7.8125e-07 - 2s/epoch - 3ms/step\n",
      "Epoch 40/100\n",
      "783/783 - 2s - loss: 50.3215 - root_mean_squared_error: 54.3518 - val_loss: 53.7497 - val_root_mean_squared_error: 63.1481 - lr: 3.9062e-07 - 2s/epoch - 3ms/step\n",
      "Epoch 41/100\n",
      "783/783 - 2s - loss: 50.4437 - root_mean_squared_error: 54.5029 - val_loss: 53.7554 - val_root_mean_squared_error: 63.1551 - lr: 3.9062e-07 - 2s/epoch - 3ms/step\n",
      "Epoch 42/100\n",
      "783/783 - 2s - loss: 50.4284 - root_mean_squared_error: 54.5371 - val_loss: 53.7502 - val_root_mean_squared_error: 63.1491 - lr: 3.9062e-07 - 2s/epoch - 3ms/step\n",
      "Epoch 43/100\n",
      "783/783 - 2s - loss: 50.3986 - root_mean_squared_error: 54.4960 - val_loss: 53.7533 - val_root_mean_squared_error: 63.1528 - lr: 1.9531e-07 - 2s/epoch - 3ms/step\n",
      "Epoch 44/100\n",
      "783/783 - 2s - loss: 50.3318 - root_mean_squared_error: 54.4502 - val_loss: 53.7526 - val_root_mean_squared_error: 63.1520 - lr: 1.9531e-07 - 2s/epoch - 3ms/step\n",
      "Epoch 45/100\n",
      "783/783 - 2s - loss: 50.3540 - root_mean_squared_error: 54.3914 - val_loss: 53.7504 - val_root_mean_squared_error: 63.1495 - lr: 1.9531e-07 - 2s/epoch - 3ms/step\n",
      "Epoch 46/100\n",
      "783/783 - 2s - loss: 50.3900 - root_mean_squared_error: 54.4787 - val_loss: 53.7485 - val_root_mean_squared_error: 63.1472 - lr: 9.7656e-08 - 2s/epoch - 3ms/step\n",
      "Epoch 47/100\n",
      "783/783 - 2s - loss: 50.3679 - root_mean_squared_error: 54.4241 - val_loss: 53.7491 - val_root_mean_squared_error: 63.1480 - lr: 9.7656e-08 - 2s/epoch - 3ms/step\n"
     ]
    },
    {
     "name": "stdout",
     "output_type": "stream",
     "text": [
      "Epoch 48/100\n",
      "783/783 - 2s - loss: 50.4302 - root_mean_squared_error: 54.4664 - val_loss: 53.7482 - val_root_mean_squared_error: 63.1471 - lr: 9.7656e-08 - 2s/epoch - 3ms/step\n",
      "Epoch 49/100\n",
      "783/783 - 2s - loss: 50.3208 - root_mean_squared_error: 54.3962 - val_loss: 53.7477 - val_root_mean_squared_error: 63.1464 - lr: 4.8828e-08 - 2s/epoch - 3ms/step\n",
      "Epoch 50/100\n",
      "783/783 - 2s - loss: 50.4865 - root_mean_squared_error: 54.5772 - val_loss: 53.7472 - val_root_mean_squared_error: 63.1458 - lr: 4.8828e-08 - 2s/epoch - 3ms/step\n",
      "Epoch 51/100\n",
      "783/783 - 2s - loss: 50.3561 - root_mean_squared_error: 54.4340 - val_loss: 53.7463 - val_root_mean_squared_error: 63.1447 - lr: 4.8828e-08 - 2s/epoch - 3ms/step\n",
      "Epoch 52/100\n",
      "783/783 - 2s - loss: 50.3537 - root_mean_squared_error: 54.4097 - val_loss: 53.7456 - val_root_mean_squared_error: 63.1439 - lr: 2.4414e-08 - 2s/epoch - 3ms/step\n",
      "Epoch 53/100\n",
      "783/783 - 2s - loss: 50.3722 - root_mean_squared_error: 54.4898 - val_loss: 53.7451 - val_root_mean_squared_error: 63.1433 - lr: 2.4414e-08 - 2s/epoch - 3ms/step\n",
      "Epoch 54/100\n",
      "783/783 - 2s - loss: 50.3592 - root_mean_squared_error: 54.4396 - val_loss: 53.7451 - val_root_mean_squared_error: 63.1434 - lr: 2.4414e-08 - 2s/epoch - 3ms/step\n",
      "Epoch 55/100\n",
      "783/783 - 2s - loss: 50.3340 - root_mean_squared_error: 54.4304 - val_loss: 53.7451 - val_root_mean_squared_error: 63.1433 - lr: 1.2207e-08 - 2s/epoch - 3ms/step\n",
      "Epoch 56/100\n",
      "783/783 - 2s - loss: 50.3597 - root_mean_squared_error: 54.4332 - val_loss: 53.7449 - val_root_mean_squared_error: 63.1432 - lr: 1.2207e-08 - 2s/epoch - 3ms/step\n",
      "Epoch 57/100\n",
      "783/783 - 2s - loss: 50.3182 - root_mean_squared_error: 54.3624 - val_loss: 53.7447 - val_root_mean_squared_error: 63.1429 - lr: 1.2207e-08 - 2s/epoch - 3ms/step\n",
      "Epoch 58/100\n",
      "783/783 - 2s - loss: 50.3899 - root_mean_squared_error: 54.4394 - val_loss: 53.7447 - val_root_mean_squared_error: 63.1430 - lr: 6.1035e-09 - 2s/epoch - 3ms/step\n",
      "Epoch 59/100\n",
      "783/783 - 2s - loss: 50.3694 - root_mean_squared_error: 54.4302 - val_loss: 53.7447 - val_root_mean_squared_error: 63.1429 - lr: 6.1035e-09 - 2s/epoch - 3ms/step\n",
      "Epoch 60/100\n",
      "783/783 - 2s - loss: 50.3544 - root_mean_squared_error: 54.3988 - val_loss: 53.7446 - val_root_mean_squared_error: 63.1428 - lr: 6.1035e-09 - 2s/epoch - 3ms/step\n",
      "Epoch 61/100\n",
      "783/783 - 2s - loss: 50.4272 - root_mean_squared_error: 54.5165 - val_loss: 53.7446 - val_root_mean_squared_error: 63.1428 - lr: 3.0518e-09 - 2s/epoch - 3ms/step\n",
      "Epoch 62/100\n",
      "783/783 - 2s - loss: 50.2026 - root_mean_squared_error: 54.2925 - val_loss: 53.7446 - val_root_mean_squared_error: 63.1427 - lr: 3.0518e-09 - 2s/epoch - 3ms/step\n",
      "Epoch 63/100\n",
      "783/783 - 2s - loss: 50.3145 - root_mean_squared_error: 54.4110 - val_loss: 53.7445 - val_root_mean_squared_error: 63.1427 - lr: 3.0518e-09 - 2s/epoch - 3ms/step\n",
      "Epoch 64/100\n",
      "783/783 - 2s - loss: 50.4787 - root_mean_squared_error: 54.5488 - val_loss: 53.7445 - val_root_mean_squared_error: 63.1427 - lr: 1.5259e-09 - 2s/epoch - 3ms/step\n",
      "Epoch 65/100\n",
      "783/783 - 2s - loss: 50.3075 - root_mean_squared_error: 54.3879 - val_loss: 53.7445 - val_root_mean_squared_error: 63.1427 - lr: 1.5259e-09 - 2s/epoch - 3ms/step\n",
      "Epoch 66/100\n",
      "783/783 - 2s - loss: 50.2579 - root_mean_squared_error: 54.3303 - val_loss: 53.7445 - val_root_mean_squared_error: 63.1427 - lr: 1.5259e-09 - 2s/epoch - 3ms/step\n",
      "Epoch 67/100\n",
      "783/783 - 2s - loss: 50.4263 - root_mean_squared_error: 54.4617 - val_loss: 53.7445 - val_root_mean_squared_error: 63.1427 - lr: 7.6294e-10 - 2s/epoch - 3ms/step\n",
      "Epoch 68/100\n",
      "783/783 - 2s - loss: 50.3279 - root_mean_squared_error: 54.4119 - val_loss: 53.7445 - val_root_mean_squared_error: 63.1427 - lr: 7.6294e-10 - 2s/epoch - 3ms/step\n",
      "Epoch 69/100\n",
      "783/783 - 2s - loss: 50.3776 - root_mean_squared_error: 54.4378 - val_loss: 53.7445 - val_root_mean_squared_error: 63.1427 - lr: 7.6294e-10 - 2s/epoch - 3ms/step\n",
      "Epoch 70/100\n",
      "783/783 - 2s - loss: 50.3099 - root_mean_squared_error: 54.4107 - val_loss: 53.7445 - val_root_mean_squared_error: 63.1427 - lr: 3.8147e-10 - 2s/epoch - 3ms/step\n",
      "Epoch 71/100\n",
      "783/783 - 2s - loss: 50.3795 - root_mean_squared_error: 54.4568 - val_loss: 53.7445 - val_root_mean_squared_error: 63.1427 - lr: 3.8147e-10 - 2s/epoch - 3ms/step\n",
      "Epoch 72/100\n",
      "783/783 - 2s - loss: 50.3290 - root_mean_squared_error: 54.4285 - val_loss: 53.7445 - val_root_mean_squared_error: 63.1427 - lr: 3.8147e-10 - 2s/epoch - 3ms/step\n",
      "Epoch 73/100\n",
      "783/783 - 2s - loss: 50.3718 - root_mean_squared_error: 54.4607 - val_loss: 53.7445 - val_root_mean_squared_error: 63.1427 - lr: 1.9073e-10 - 2s/epoch - 3ms/step\n",
      "Epoch 74/100\n",
      "783/783 - 2s - loss: 50.2936 - root_mean_squared_error: 54.3568 - val_loss: 53.7445 - val_root_mean_squared_error: 63.1427 - lr: 1.9073e-10 - 2s/epoch - 3ms/step\n",
      "Epoch 75/100\n",
      "783/783 - 2s - loss: 50.4480 - root_mean_squared_error: 54.4803 - val_loss: 53.7445 - val_root_mean_squared_error: 63.1427 - lr: 1.9073e-10 - 2s/epoch - 3ms/step\n",
      "Epoch 76/100\n",
      "783/783 - 2s - loss: 50.3516 - root_mean_squared_error: 54.4185 - val_loss: 53.7445 - val_root_mean_squared_error: 63.1427 - lr: 1.0000e-10 - 2s/epoch - 3ms/step\n",
      "Epoch 77/100\n",
      "783/783 - 2s - loss: 50.4046 - root_mean_squared_error: 54.4786 - val_loss: 53.7445 - val_root_mean_squared_error: 63.1427 - lr: 1.0000e-10 - 2s/epoch - 3ms/step\n",
      "Epoch 78/100\n",
      "783/783 - 2s - loss: 50.4071 - root_mean_squared_error: 54.4712 - val_loss: 53.7445 - val_root_mean_squared_error: 63.1427 - lr: 1.0000e-10 - 2s/epoch - 3ms/step\n",
      "Epoch 79/100\n",
      "783/783 - 2s - loss: 50.1743 - root_mean_squared_error: 54.2376 - val_loss: 53.7445 - val_root_mean_squared_error: 63.1427 - lr: 1.0000e-10 - 2s/epoch - 3ms/step\n",
      "Epoch 80/100\n",
      "783/783 - 2s - loss: 50.3276 - root_mean_squared_error: 54.4003 - val_loss: 53.7445 - val_root_mean_squared_error: 63.1427 - lr: 1.0000e-10 - 2s/epoch - 3ms/step\n",
      "Epoch 81/100\n",
      "783/783 - 2s - loss: 50.3658 - root_mean_squared_error: 54.4052 - val_loss: 53.7445 - val_root_mean_squared_error: 63.1427 - lr: 1.0000e-10 - 2s/epoch - 3ms/step\n",
      "Epoch 82/100\n",
      "783/783 - 2s - loss: 50.2988 - root_mean_squared_error: 54.3906 - val_loss: 53.7445 - val_root_mean_squared_error: 63.1427 - lr: 1.0000e-10 - 2s/epoch - 3ms/step\n",
      "Epoch 83/100\n",
      "783/783 - 2s - loss: 50.3400 - root_mean_squared_error: 54.3990 - val_loss: 53.7445 - val_root_mean_squared_error: 63.1427 - lr: 1.0000e-10 - 2s/epoch - 3ms/step\n",
      "Epoch 84/100\n",
      "783/783 - 2s - loss: 50.3829 - root_mean_squared_error: 54.4450 - val_loss: 53.7445 - val_root_mean_squared_error: 63.1427 - lr: 1.0000e-10 - 2s/epoch - 3ms/step\n",
      "Epoch 85/100\n",
      "783/783 - 2s - loss: 50.3855 - root_mean_squared_error: 54.4341 - val_loss: 53.7445 - val_root_mean_squared_error: 63.1427 - lr: 1.0000e-10 - 2s/epoch - 3ms/step\n",
      "Epoch 86/100\n",
      "783/783 - 2s - loss: 50.3647 - root_mean_squared_error: 54.4750 - val_loss: 53.7445 - val_root_mean_squared_error: 63.1427 - lr: 1.0000e-10 - 2s/epoch - 3ms/step\n",
      "Epoch 87/100\n",
      "783/783 - 2s - loss: 50.4063 - root_mean_squared_error: 54.4449 - val_loss: 53.7445 - val_root_mean_squared_error: 63.1427 - lr: 1.0000e-10 - 2s/epoch - 3ms/step\n",
      "Epoch 88/100\n",
      "783/783 - 2s - loss: 50.4539 - root_mean_squared_error: 54.5331 - val_loss: 53.7445 - val_root_mean_squared_error: 63.1427 - lr: 1.0000e-10 - 2s/epoch - 3ms/step\n",
      "Epoch 89/100\n",
      "783/783 - 2s - loss: 50.3590 - root_mean_squared_error: 54.4300 - val_loss: 53.7445 - val_root_mean_squared_error: 63.1427 - lr: 1.0000e-10 - 2s/epoch - 3ms/step\n",
      "Epoch 90/100\n",
      "783/783 - 2s - loss: 50.2703 - root_mean_squared_error: 54.3213 - val_loss: 53.7445 - val_root_mean_squared_error: 63.1427 - lr: 1.0000e-10 - 2s/epoch - 3ms/step\n",
      "Epoch 91/100\n",
      "783/783 - 2s - loss: 50.2760 - root_mean_squared_error: 54.3549 - val_loss: 53.7445 - val_root_mean_squared_error: 63.1427 - lr: 1.0000e-10 - 2s/epoch - 3ms/step\n",
      "Epoch 92/100\n",
      "783/783 - 2s - loss: 50.4343 - root_mean_squared_error: 54.4962 - val_loss: 53.7445 - val_root_mean_squared_error: 63.1427 - lr: 1.0000e-10 - 2s/epoch - 3ms/step\n",
      "Epoch 93/100\n",
      "783/783 - 2s - loss: 50.3064 - root_mean_squared_error: 54.4041 - val_loss: 53.7445 - val_root_mean_squared_error: 63.1427 - lr: 1.0000e-10 - 2s/epoch - 3ms/step\n",
      "Epoch 94/100\n",
      "783/783 - 2s - loss: 50.2116 - root_mean_squared_error: 54.2766 - val_loss: 53.7445 - val_root_mean_squared_error: 63.1427 - lr: 1.0000e-10 - 2s/epoch - 3ms/step\n"
     ]
    },
    {
     "name": "stdout",
     "output_type": "stream",
     "text": [
      "Epoch 95/100\n",
      "783/783 - 2s - loss: 50.4858 - root_mean_squared_error: 54.5451 - val_loss: 53.7445 - val_root_mean_squared_error: 63.1427 - lr: 1.0000e-10 - 2s/epoch - 3ms/step\n",
      "Epoch 96/100\n",
      "783/783 - 2s - loss: 50.2961 - root_mean_squared_error: 54.3816 - val_loss: 53.7445 - val_root_mean_squared_error: 63.1427 - lr: 1.0000e-10 - 2s/epoch - 3ms/step\n",
      "Epoch 97/100\n",
      "783/783 - 2s - loss: 50.4556 - root_mean_squared_error: 54.4514 - val_loss: 53.7445 - val_root_mean_squared_error: 63.1427 - lr: 1.0000e-10 - 2s/epoch - 3ms/step\n",
      "Epoch 98/100\n",
      "783/783 - 2s - loss: 50.3814 - root_mean_squared_error: 54.4529 - val_loss: 53.7445 - val_root_mean_squared_error: 63.1427 - lr: 1.0000e-10 - 2s/epoch - 3ms/step\n",
      "Epoch 99/100\n",
      "783/783 - 2s - loss: 50.3090 - root_mean_squared_error: 54.4078 - val_loss: 53.7445 - val_root_mean_squared_error: 63.1427 - lr: 1.0000e-10 - 2s/epoch - 3ms/step\n",
      "Epoch 100/100\n",
      "783/783 - 2s - loss: 50.4523 - root_mean_squared_error: 54.5225 - val_loss: 53.7445 - val_root_mean_squared_error: 63.1427 - lr: 1.0000e-10 - 2s/epoch - 3ms/step\n"
     ]
    }
   ],
   "source": [
    "history=model.fit(\n",
    "            traindata,\n",
    "        validation_data = validatedata,\n",
    "            #steps_per_epoch = 100,\n",
    "            epochs = 100,\n",
    "            #validation_steps = 50,\n",
    "            callbacks=[model_checkpoint_callback,reduce_lr],\n",
    "            verbose = 2)"
   ]
  },
  {
   "cell_type": "code",
   "execution_count": 88,
   "metadata": {
    "ExecuteTime": {
     "end_time": "2023-03-09T00:29:20.323893Z",
     "start_time": "2023-03-09T00:29:20.214018Z"
    }
   },
   "outputs": [
    {
     "data": {
      "image/png": "[encoded data removed]",
      "text/plain": [
       "<Figure size 640x480 with 1 Axes>"
      ]
     },
     "metadata": {},
     "output_type": "display_data"
    },
    {
     "data": {
      "text/plain": [
       "<Figure size 640x480 with 0 Axes>"
      ]
     },
     "metadata": {},
     "output_type": "display_data"
    }
   ],
   "source": [
    "import matplotlib.pyplot as plt\n",
    "acc = history.history['root_mean_squared_error']\n",
    "val_acc = history.history['val_root_mean_squared_error']\n",
    "loss = history.history['loss']\n",
    "val_loss = history.history['val_loss']\n",
    "\n",
    "epochs = range(len(acc))\n",
    "\n",
    "plt.plot(epochs, acc, 'r', label='Training metric')\n",
    "plt.plot(epochs, val_acc, 'b', label='Validation metric')\n",
    "plt.title('Training and validation root_mean_squared_error')\n",
    "plt.legend(loc=0)\n",
    "plt.figure()\n",
    "\n",
    "\n",
    "plt.show()"
   ]
  },
  {
   "cell_type": "code",
   "execution_count": 214,
   "metadata": {
    "ExecuteTime": {
     "end_time": "2023-02-18T10:08:45.845660Z",
     "start_time": "2023-02-18T10:08:45.842888Z"
    }
   },
   "outputs": [],
   "source": [
    "\n",
    "\n",
    "# Set the learning rate scheduler\n",
    "lr_schedule = tf.keras.callbacks.LearningRateScheduler(\n",
    "    lambda epoch: 1e-8 * 10**(epoch / 20))\n",
    "\n"
   ]
  },
  {
   "cell_type": "code",
   "execution_count": 413,
   "metadata": {
    "ExecuteTime": {
     "end_time": "2023-03-08T23:24:39.878360Z",
     "start_time": "2023-03-08T23:21:19.110788Z"
    },
    "scrolled": true
   },
   "outputs": [
    {
     "name": "stdout",
     "output_type": "stream",
     "text": [
      "Epoch 1/100\n",
      "783/783 - 3s - loss: 276.7545 - root_mean_squared_error: 290.3596 - val_loss: 244.1130 - val_root_mean_squared_error: 259.6231 - lr: 1.0000e-08 - 3s/epoch - 4ms/step\n",
      "Epoch 2/100\n",
      "783/783 - 2s - loss: 274.5288 - root_mean_squared_error: 287.2271 - val_loss: 242.1838 - val_root_mean_squared_error: 257.7184 - lr: 1.1220e-08 - 2s/epoch - 2ms/step\n",
      "Epoch 3/100\n",
      "783/783 - 2s - loss: 270.0115 - root_mean_squared_error: 282.4392 - val_loss: 239.9549 - val_root_mean_squared_error: 255.5198 - lr: 1.2589e-08 - 2s/epoch - 2ms/step\n",
      "Epoch 4/100\n",
      "783/783 - 2s - loss: 265.4789 - root_mean_squared_error: 277.6539 - val_loss: 237.4510 - val_root_mean_squared_error: 253.0507 - lr: 1.4125e-08 - 2s/epoch - 2ms/step\n",
      "Epoch 5/100\n",
      "783/783 - 2s - loss: 266.0520 - root_mean_squared_error: 278.7711 - val_loss: 234.6964 - val_root_mean_squared_error: 250.3344 - lr: 1.5849e-08 - 2s/epoch - 2ms/step\n",
      "Epoch 6/100\n",
      "783/783 - 2s - loss: 263.4569 - root_mean_squared_error: 276.5013 - val_loss: 231.6627 - val_root_mean_squared_error: 247.3314 - lr: 1.7783e-08 - 2s/epoch - 2ms/step\n",
      "Epoch 7/100\n",
      "783/783 - 2s - loss: 260.9485 - root_mean_squared_error: 274.6293 - val_loss: 228.3172 - val_root_mean_squared_error: 244.0182 - lr: 1.9953e-08 - 2s/epoch - 2ms/step\n",
      "Epoch 8/100\n",
      "783/783 - 2s - loss: 259.4323 - root_mean_squared_error: 273.2151 - val_loss: 224.5487 - val_root_mean_squared_error: 240.2652 - lr: 2.2387e-08 - 2s/epoch - 2ms/step\n",
      "Epoch 9/100\n",
      "783/783 - 2s - loss: 252.2141 - root_mean_squared_error: 264.8020 - val_loss: 220.3977 - val_root_mean_squared_error: 236.1663 - lr: 2.5119e-08 - 2s/epoch - 3ms/step\n",
      "Epoch 10/100\n",
      "783/783 - 2s - loss: 252.3972 - root_mean_squared_error: 265.9451 - val_loss: 215.7560 - val_root_mean_squared_error: 231.5498 - lr: 2.8184e-08 - 2s/epoch - 2ms/step\n",
      "Epoch 11/100\n",
      "783/783 - 2s - loss: 246.2510 - root_mean_squared_error: 259.2359 - val_loss: 210.6635 - val_root_mean_squared_error: 226.5008 - lr: 3.1623e-08 - 2s/epoch - 2ms/step\n",
      "Epoch 12/100\n",
      "783/783 - 2s - loss: 242.8206 - root_mean_squared_error: 256.0069 - val_loss: 205.0687 - val_root_mean_squared_error: 220.9434 - lr: 3.5481e-08 - 2s/epoch - 2ms/step\n",
      "Epoch 13/100\n",
      "783/783 - 2s - loss: 239.0647 - root_mean_squared_error: 252.9477 - val_loss: 198.9467 - val_root_mean_squared_error: 214.8542 - lr: 3.9811e-08 - 2s/epoch - 2ms/step\n",
      "Epoch 14/100\n",
      "783/783 - 2s - loss: 230.5355 - root_mean_squared_error: 244.1102 - val_loss: 192.2852 - val_root_mean_squared_error: 208.2342 - lr: 4.4668e-08 - 2s/epoch - 2ms/step\n",
      "Epoch 15/100\n",
      "783/783 - 2s - loss: 223.7589 - root_mean_squared_error: 236.8424 - val_loss: 184.9774 - val_root_mean_squared_error: 200.9135 - lr: 5.0119e-08 - 2s/epoch - 3ms/step\n",
      "Epoch 16/100\n",
      "783/783 - 2s - loss: 216.9044 - root_mean_squared_error: 230.5290 - val_loss: 177.0543 - val_root_mean_squared_error: 192.9572 - lr: 5.6234e-08 - 2s/epoch - 3ms/step\n",
      "Epoch 17/100\n",
      "783/783 - 3s - loss: 213.4547 - root_mean_squared_error: 227.6001 - val_loss: 168.6250 - val_root_mean_squared_error: 184.4953 - lr: 6.3096e-08 - 3s/epoch - 3ms/step\n",
      "Epoch 18/100\n",
      "783/783 - 2s - loss: 202.6114 - root_mean_squared_error: 215.3652 - val_loss: 159.7627 - val_root_mean_squared_error: 175.5715 - lr: 7.0795e-08 - 2s/epoch - 3ms/step\n",
      "Epoch 19/100\n",
      "783/783 - 2s - loss: 199.2522 - root_mean_squared_error: 212.5231 - val_loss: 150.4175 - val_root_mean_squared_error: 165.9970 - lr: 7.9433e-08 - 2s/epoch - 3ms/step\n",
      "Epoch 20/100\n",
      "783/783 - 2s - loss: 191.7377 - root_mean_squared_error: 205.4393 - val_loss: 141.0068 - val_root_mean_squared_error: 156.2403 - lr: 8.9125e-08 - 2s/epoch - 3ms/step\n",
      "Epoch 21/100\n",
      "783/783 - 2s - loss: 183.3328 - root_mean_squared_error: 196.0351 - val_loss: 131.6838 - val_root_mean_squared_error: 146.3901 - lr: 1.0000e-07 - 2s/epoch - 3ms/step\n",
      "Epoch 22/100\n",
      "783/783 - 2s - loss: 176.6562 - root_mean_squared_error: 188.9760 - val_loss: 122.5595 - val_root_mean_squared_error: 136.4462 - lr: 1.1220e-07 - 2s/epoch - 3ms/step\n",
      "Epoch 23/100\n",
      "783/783 - 2s - loss: 170.5048 - root_mean_squared_error: 182.8742 - val_loss: 114.2286 - val_root_mean_squared_error: 127.0773 - lr: 1.2589e-07 - 2s/epoch - 3ms/step\n",
      "Epoch 24/100\n",
      "783/783 - 2s - loss: 162.0119 - root_mean_squared_error: 172.6494 - val_loss: 106.9610 - val_root_mean_squared_error: 118.6987 - lr: 1.4125e-07 - 2s/epoch - 3ms/step\n",
      "Epoch 25/100\n",
      "783/783 - 2s - loss: 157.7216 - root_mean_squared_error: 167.8314 - val_loss: 100.0620 - val_root_mean_squared_error: 110.5216 - lr: 1.5849e-07 - 2s/epoch - 3ms/step\n",
      "Epoch 26/100\n",
      "783/783 - 2s - loss: 151.9987 - root_mean_squared_error: 161.1836 - val_loss: 94.3807 - val_root_mean_squared_error: 103.7521 - lr: 1.7783e-07 - 2s/epoch - 3ms/step\n",
      "Epoch 27/100\n",
      "783/783 - 2s - loss: 150.0342 - root_mean_squared_error: 159.8531 - val_loss: 89.5359 - val_root_mean_squared_error: 98.0951 - lr: 1.9953e-07 - 2s/epoch - 3ms/step\n",
      "Epoch 28/100\n",
      "783/783 - 2s - loss: 145.1595 - root_mean_squared_error: 154.3015 - val_loss: 85.3605 - val_root_mean_squared_error: 93.3085 - lr: 2.2387e-07 - 2s/epoch - 3ms/step\n",
      "Epoch 29/100\n",
      "783/783 - 2s - loss: 142.1331 - root_mean_squared_error: 150.5551 - val_loss: 82.1675 - val_root_mean_squared_error: 89.7287 - lr: 2.5119e-07 - 2s/epoch - 3ms/step\n",
      "Epoch 30/100\n",
      "783/783 - 2s - loss: 136.5480 - root_mean_squared_error: 144.7157 - val_loss: 79.4698 - val_root_mean_squared_error: 86.8221 - lr: 2.8184e-07 - 2s/epoch - 3ms/step\n",
      "Epoch 31/100\n",
      "783/783 - 2s - loss: 135.4156 - root_mean_squared_error: 143.3604 - val_loss: 77.1353 - val_root_mean_squared_error: 84.3619 - lr: 3.1623e-07 - 2s/epoch - 3ms/step\n",
      "Epoch 32/100\n",
      "783/783 - 2s - loss: 130.5895 - root_mean_squared_error: 138.0107 - val_loss: 75.3484 - val_root_mean_squared_error: 82.4672 - lr: 3.5481e-07 - 2s/epoch - 3ms/step\n",
      "Epoch 33/100\n",
      "783/783 - 3s - loss: 128.6960 - root_mean_squared_error: 135.7520 - val_loss: 73.9878 - val_root_mean_squared_error: 81.0706 - lr: 3.9811e-07 - 3s/epoch - 3ms/step\n",
      "Epoch 34/100\n",
      "783/783 - 2s - loss: 126.0275 - root_mean_squared_error: 133.1248 - val_loss: 72.6412 - val_root_mean_squared_error: 79.6913 - lr: 4.4668e-07 - 2s/epoch - 3ms/step\n",
      "Epoch 35/100\n",
      "783/783 - 2s - loss: 123.3402 - root_mean_squared_error: 130.2847 - val_loss: 71.9883 - val_root_mean_squared_error: 79.0601 - lr: 5.0119e-07 - 2s/epoch - 2ms/step\n",
      "Epoch 36/100\n",
      "783/783 - 2s - loss: 119.6469 - root_mean_squared_error: 126.2113 - val_loss: 70.4208 - val_root_mean_squared_error: 77.5249 - lr: 5.6234e-07 - 2s/epoch - 3ms/step\n",
      "Epoch 37/100\n",
      "783/783 - 2s - loss: 114.5854 - root_mean_squared_error: 120.6230 - val_loss: 69.5912 - val_root_mean_squared_error: 76.6885 - lr: 6.3096e-07 - 2s/epoch - 3ms/step\n",
      "Epoch 38/100\n",
      "783/783 - 2s - loss: 113.2444 - root_mean_squared_error: 119.3011 - val_loss: 68.5371 - val_root_mean_squared_error: 75.7051 - lr: 7.0795e-07 - 2s/epoch - 3ms/step\n",
      "Epoch 39/100\n",
      "783/783 - 2s - loss: 109.1927 - root_mean_squared_error: 115.1770 - val_loss: 67.5665 - val_root_mean_squared_error: 74.7801 - lr: 7.9433e-07 - 2s/epoch - 3ms/step\n",
      "Epoch 40/100\n",
      "783/783 - 2s - loss: 106.1829 - root_mean_squared_error: 111.5485 - val_loss: 66.6160 - val_root_mean_squared_error: 73.8548 - lr: 8.9125e-07 - 2s/epoch - 3ms/step\n",
      "Epoch 41/100\n",
      "783/783 - 2s - loss: 102.4165 - root_mean_squared_error: 107.6783 - val_loss: 66.2066 - val_root_mean_squared_error: 73.4233 - lr: 1.0000e-06 - 2s/epoch - 3ms/step\n",
      "Epoch 42/100\n",
      "783/783 - 2s - loss: 99.3042 - root_mean_squared_error: 104.2798 - val_loss: 64.8695 - val_root_mean_squared_error: 72.2547 - lr: 1.1220e-06 - 2s/epoch - 3ms/step\n",
      "Epoch 43/100\n",
      "783/783 - 2s - loss: 96.3490 - root_mean_squared_error: 100.9846 - val_loss: 64.2073 - val_root_mean_squared_error: 71.6384 - lr: 1.2589e-06 - 2s/epoch - 3ms/step\n",
      "Epoch 44/100\n",
      "783/783 - 2s - loss: 93.6849 - root_mean_squared_error: 98.5143 - val_loss: 63.6004 - val_root_mean_squared_error: 71.0718 - lr: 1.4125e-06 - 2s/epoch - 3ms/step\n",
      "Epoch 45/100\n",
      "783/783 - 2s - loss: 90.7595 - root_mean_squared_error: 95.1921 - val_loss: 63.2604 - val_root_mean_squared_error: 70.8156 - lr: 1.5849e-06 - 2s/epoch - 3ms/step\n",
      "Epoch 46/100\n",
      "783/783 - 2s - loss: 87.5647 - root_mean_squared_error: 91.8144 - val_loss: 61.8623 - val_root_mean_squared_error: 69.5009 - lr: 1.7783e-06 - 2s/epoch - 3ms/step\n",
      "Epoch 47/100\n",
      "783/783 - 2s - loss: 85.4596 - root_mean_squared_error: 89.5588 - val_loss: 61.3682 - val_root_mean_squared_error: 69.0649 - lr: 1.9953e-06 - 2s/epoch - 3ms/step\n"
     ]
    },
    {
     "name": "stdout",
     "output_type": "stream",
     "text": [
      "Epoch 48/100\n",
      "783/783 - 2s - loss: 83.7812 - root_mean_squared_error: 87.8107 - val_loss: 60.6561 - val_root_mean_squared_error: 68.5608 - lr: 2.2387e-06 - 2s/epoch - 3ms/step\n",
      "Epoch 49/100\n",
      "783/783 - 2s - loss: 81.9355 - root_mean_squared_error: 85.8479 - val_loss: 60.0552 - val_root_mean_squared_error: 68.0192 - lr: 2.5119e-06 - 2s/epoch - 3ms/step\n",
      "Epoch 50/100\n",
      "783/783 - 2s - loss: 79.2625 - root_mean_squared_error: 83.0241 - val_loss: 59.3926 - val_root_mean_squared_error: 67.4047 - lr: 2.8184e-06 - 2s/epoch - 3ms/step\n",
      "Epoch 51/100\n",
      "783/783 - 2s - loss: 75.4358 - root_mean_squared_error: 79.0860 - val_loss: 59.3458 - val_root_mean_squared_error: 67.4326 - lr: 3.1623e-06 - 2s/epoch - 3ms/step\n",
      "Epoch 52/100\n",
      "783/783 - 2s - loss: 73.9157 - root_mean_squared_error: 77.5286 - val_loss: 58.5977 - val_root_mean_squared_error: 66.7247 - lr: 3.5481e-06 - 2s/epoch - 3ms/step\n",
      "Epoch 53/100\n",
      "783/783 - 2s - loss: 72.8759 - root_mean_squared_error: 76.3262 - val_loss: 57.7779 - val_root_mean_squared_error: 66.0744 - lr: 3.9811e-06 - 2s/epoch - 3ms/step\n",
      "Epoch 54/100\n",
      "783/783 - 2s - loss: 70.6319 - root_mean_squared_error: 74.1861 - val_loss: 57.4277 - val_root_mean_squared_error: 65.7834 - lr: 4.4668e-06 - 2s/epoch - 3ms/step\n",
      "Epoch 55/100\n",
      "783/783 - 2s - loss: 68.8210 - root_mean_squared_error: 72.1592 - val_loss: 57.0716 - val_root_mean_squared_error: 65.5667 - lr: 5.0119e-06 - 2s/epoch - 3ms/step\n",
      "Epoch 56/100\n",
      "783/783 - 2s - loss: 67.7169 - root_mean_squared_error: 71.2755 - val_loss: 57.8602 - val_root_mean_squared_error: 66.1194 - lr: 5.6234e-06 - 2s/epoch - 3ms/step\n",
      "Epoch 57/100\n",
      "783/783 - 2s - loss: 66.2188 - root_mean_squared_error: 69.6313 - val_loss: 56.4390 - val_root_mean_squared_error: 64.9835 - lr: 6.3096e-06 - 2s/epoch - 3ms/step\n",
      "Epoch 58/100\n",
      "783/783 - 2s - loss: 64.8222 - root_mean_squared_error: 68.1973 - val_loss: 56.5433 - val_root_mean_squared_error: 65.0699 - lr: 7.0795e-06 - 2s/epoch - 3ms/step\n",
      "Epoch 59/100\n",
      "783/783 - 2s - loss: 63.7082 - root_mean_squared_error: 67.0620 - val_loss: 56.0188 - val_root_mean_squared_error: 64.6535 - lr: 7.9433e-06 - 2s/epoch - 3ms/step\n",
      "Epoch 60/100\n",
      "783/783 - 2s - loss: 62.6067 - root_mean_squared_error: 66.0503 - val_loss: 56.1186 - val_root_mean_squared_error: 64.7316 - lr: 8.9125e-06 - 2s/epoch - 3ms/step\n",
      "Epoch 61/100\n",
      "783/783 - 2s - loss: 61.4701 - root_mean_squared_error: 64.8407 - val_loss: 55.7559 - val_root_mean_squared_error: 64.4478 - lr: 1.0000e-05 - 2s/epoch - 3ms/step\n",
      "Epoch 62/100\n",
      "783/783 - 2s - loss: 60.5938 - root_mean_squared_error: 64.0296 - val_loss: 55.5716 - val_root_mean_squared_error: 64.2273 - lr: 1.1220e-05 - 2s/epoch - 3ms/step\n",
      "Epoch 63/100\n",
      "783/783 - 2s - loss: 59.7880 - root_mean_squared_error: 63.2279 - val_loss: 55.8580 - val_root_mean_squared_error: 64.4430 - lr: 1.2589e-05 - 2s/epoch - 3ms/step\n",
      "Epoch 64/100\n",
      "783/783 - 2s - loss: 58.7245 - root_mean_squared_error: 62.2173 - val_loss: 55.2965 - val_root_mean_squared_error: 64.0925 - lr: 1.4125e-05 - 2s/epoch - 3ms/step\n",
      "Epoch 65/100\n",
      "783/783 - 2s - loss: 57.8402 - root_mean_squared_error: 61.2681 - val_loss: 55.1361 - val_root_mean_squared_error: 63.9858 - lr: 1.5849e-05 - 2s/epoch - 3ms/step\n",
      "Epoch 66/100\n",
      "783/783 - 2s - loss: 57.7209 - root_mean_squared_error: 61.1870 - val_loss: 55.7429 - val_root_mean_squared_error: 64.3867 - lr: 1.7783e-05 - 2s/epoch - 3ms/step\n",
      "Epoch 67/100\n",
      "783/783 - 2s - loss: 56.8296 - root_mean_squared_error: 60.4302 - val_loss: 55.1768 - val_root_mean_squared_error: 63.9361 - lr: 1.9953e-05 - 2s/epoch - 3ms/step\n",
      "Epoch 68/100\n",
      "783/783 - 2s - loss: 56.2198 - root_mean_squared_error: 59.8837 - val_loss: 55.0551 - val_root_mean_squared_error: 63.9094 - lr: 2.2387e-05 - 2s/epoch - 3ms/step\n",
      "Epoch 69/100\n",
      "783/783 - 2s - loss: 55.9504 - root_mean_squared_error: 59.6198 - val_loss: 55.1786 - val_root_mean_squared_error: 63.9973 - lr: 2.5119e-05 - 2s/epoch - 3ms/step\n",
      "Epoch 70/100\n",
      "783/783 - 2s - loss: 55.5465 - root_mean_squared_error: 59.2077 - val_loss: 54.7999 - val_root_mean_squared_error: 63.7460 - lr: 2.8184e-05 - 2s/epoch - 3ms/step\n",
      "Epoch 71/100\n",
      "783/783 - 2s - loss: 55.2769 - root_mean_squared_error: 59.0084 - val_loss: 54.9203 - val_root_mean_squared_error: 63.7615 - lr: 3.1623e-05 - 2s/epoch - 2ms/step\n",
      "Epoch 72/100\n",
      "783/783 - 2s - loss: 54.4649 - root_mean_squared_error: 58.1985 - val_loss: 55.0620 - val_root_mean_squared_error: 63.8937 - lr: 3.5481e-05 - 2s/epoch - 3ms/step\n",
      "Epoch 73/100\n",
      "783/783 - 2s - loss: 54.6147 - root_mean_squared_error: 58.3809 - val_loss: 55.0988 - val_root_mean_squared_error: 63.8437 - lr: 3.9811e-05 - 2s/epoch - 3ms/step\n",
      "Epoch 74/100\n",
      "783/783 - 2s - loss: 54.2730 - root_mean_squared_error: 58.0211 - val_loss: 54.7524 - val_root_mean_squared_error: 63.5919 - lr: 4.4668e-05 - 2s/epoch - 2ms/step\n",
      "Epoch 75/100\n",
      "783/783 - 2s - loss: 54.1665 - root_mean_squared_error: 57.9931 - val_loss: 54.8494 - val_root_mean_squared_error: 63.7663 - lr: 5.0119e-05 - 2s/epoch - 3ms/step\n",
      "Epoch 76/100\n",
      "783/783 - 2s - loss: 53.7076 - root_mean_squared_error: 57.5329 - val_loss: 54.6568 - val_root_mean_squared_error: 63.5557 - lr: 5.6234e-05 - 2s/epoch - 3ms/step\n",
      "Epoch 77/100\n",
      "783/783 - 2s - loss: 53.5205 - root_mean_squared_error: 57.3946 - val_loss: 54.6623 - val_root_mean_squared_error: 63.5269 - lr: 6.3096e-05 - 2s/epoch - 3ms/step\n",
      "Epoch 78/100\n",
      "783/783 - 2s - loss: 53.3437 - root_mean_squared_error: 57.2148 - val_loss: 54.6518 - val_root_mean_squared_error: 63.5606 - lr: 7.0795e-05 - 2s/epoch - 3ms/step\n",
      "Epoch 79/100\n",
      "783/783 - 2s - loss: 53.0821 - root_mean_squared_error: 56.9527 - val_loss: 54.5259 - val_root_mean_squared_error: 63.5354 - lr: 7.9433e-05 - 2s/epoch - 3ms/step\n",
      "Epoch 80/100\n",
      "783/783 - 2s - loss: 52.8406 - root_mean_squared_error: 56.7355 - val_loss: 54.6064 - val_root_mean_squared_error: 63.5673 - lr: 8.9125e-05 - 2s/epoch - 3ms/step\n",
      "Epoch 81/100\n",
      "783/783 - 2s - loss: 52.6941 - root_mean_squared_error: 56.6468 - val_loss: 54.4682 - val_root_mean_squared_error: 63.4137 - lr: 1.0000e-04 - 2s/epoch - 3ms/step\n",
      "Epoch 82/100\n",
      "783/783 - 2s - loss: 52.5827 - root_mean_squared_error: 56.5617 - val_loss: 54.4598 - val_root_mean_squared_error: 63.3606 - lr: 1.1220e-04 - 2s/epoch - 3ms/step\n",
      "Epoch 83/100\n",
      "783/783 - 2s - loss: 52.4856 - root_mean_squared_error: 56.4742 - val_loss: 54.6438 - val_root_mean_squared_error: 63.6643 - lr: 1.2589e-04 - 2s/epoch - 3ms/step\n",
      "Epoch 84/100\n",
      "783/783 - 2s - loss: 52.2662 - root_mean_squared_error: 56.2043 - val_loss: 54.5614 - val_root_mean_squared_error: 63.5903 - lr: 1.4125e-04 - 2s/epoch - 3ms/step\n",
      "Epoch 85/100\n",
      "783/783 - 2s - loss: 52.1178 - root_mean_squared_error: 56.1587 - val_loss: 54.4388 - val_root_mean_squared_error: 63.4446 - lr: 1.5849e-04 - 2s/epoch - 3ms/step\n",
      "Epoch 86/100\n",
      "783/783 - 2s - loss: 52.0136 - root_mean_squared_error: 55.9969 - val_loss: 54.3846 - val_root_mean_squared_error: 63.4490 - lr: 1.7783e-04 - 2s/epoch - 3ms/step\n",
      "Epoch 87/100\n",
      "783/783 - 2s - loss: 52.0307 - root_mean_squared_error: 56.0674 - val_loss: 54.2781 - val_root_mean_squared_error: 63.3121 - lr: 1.9953e-04 - 2s/epoch - 3ms/step\n",
      "Epoch 88/100\n",
      "783/783 - 2s - loss: 51.7937 - root_mean_squared_error: 55.8257 - val_loss: 54.2765 - val_root_mean_squared_error: 63.3578 - lr: 2.2387e-04 - 2s/epoch - 3ms/step\n",
      "Epoch 89/100\n",
      "783/783 - 2s - loss: 51.7750 - root_mean_squared_error: 55.8420 - val_loss: 54.2754 - val_root_mean_squared_error: 63.3218 - lr: 2.5119e-04 - 2s/epoch - 3ms/step\n",
      "Epoch 90/100\n",
      "783/783 - 2s - loss: 51.6372 - root_mean_squared_error: 55.7295 - val_loss: 54.3015 - val_root_mean_squared_error: 63.3997 - lr: 2.8184e-04 - 2s/epoch - 3ms/step\n",
      "Epoch 91/100\n",
      "783/783 - 2s - loss: 51.4605 - root_mean_squared_error: 55.5585 - val_loss: 54.2924 - val_root_mean_squared_error: 63.3534 - lr: 3.1623e-04 - 2s/epoch - 3ms/step\n",
      "Epoch 92/100\n",
      "783/783 - 2s - loss: 51.3681 - root_mean_squared_error: 55.4857 - val_loss: 54.1326 - val_root_mean_squared_error: 63.2079 - lr: 3.5481e-04 - 2s/epoch - 3ms/step\n",
      "Epoch 93/100\n",
      "783/783 - 2s - loss: 51.3083 - root_mean_squared_error: 55.4069 - val_loss: 54.1795 - val_root_mean_squared_error: 63.3292 - lr: 3.9811e-04 - 2s/epoch - 3ms/step\n",
      "Epoch 94/100\n",
      "783/783 - 2s - loss: 51.2716 - root_mean_squared_error: 55.4098 - val_loss: 54.2020 - val_root_mean_squared_error: 63.3618 - lr: 4.4668e-04 - 2s/epoch - 3ms/step\n"
     ]
    },
    {
     "name": "stdout",
     "output_type": "stream",
     "text": [
      "Epoch 95/100\n",
      "783/783 - 2s - loss: 51.2075 - root_mean_squared_error: 55.3252 - val_loss: 54.0444 - val_root_mean_squared_error: 63.0832 - lr: 5.0119e-04 - 2s/epoch - 3ms/step\n",
      "Epoch 96/100\n",
      "783/783 - 2s - loss: 51.1471 - root_mean_squared_error: 55.2660 - val_loss: 54.1371 - val_root_mean_squared_error: 63.3070 - lr: 5.6234e-04 - 2s/epoch - 3ms/step\n",
      "Epoch 97/100\n",
      "783/783 - 2s - loss: 51.1589 - root_mean_squared_error: 55.2568 - val_loss: 53.9907 - val_root_mean_squared_error: 63.1188 - lr: 6.3096e-04 - 2s/epoch - 3ms/step\n",
      "Epoch 98/100\n",
      "783/783 - 2s - loss: 51.1755 - root_mean_squared_error: 55.2793 - val_loss: 53.9128 - val_root_mean_squared_error: 63.0131 - lr: 7.0795e-04 - 2s/epoch - 3ms/step\n",
      "Epoch 99/100\n",
      "783/783 - 2s - loss: 51.1348 - root_mean_squared_error: 55.2167 - val_loss: 53.8552 - val_root_mean_squared_error: 62.9156 - lr: 7.9433e-04 - 2s/epoch - 3ms/step\n",
      "Epoch 100/100\n",
      "783/783 - 2s - loss: 51.1287 - root_mean_squared_error: 55.2262 - val_loss: 53.7924 - val_root_mean_squared_error: 62.8758 - lr: 8.9125e-04 - 2s/epoch - 3ms/step\n"
     ]
    }
   ],
   "source": [
    "history=model.fit(\n",
    "        traindata,\n",
    "        validation_data = validatedata,\n",
    "        #steps_per_epoch = 100,\n",
    "        epochs = 100,\n",
    "        #validation_steps = 50,\n",
    "        verbose = 2,\n",
    "        callbacks=[lr_schedule])"
   ]
  },
  {
   "cell_type": "code",
   "execution_count": 414,
   "metadata": {
    "ExecuteTime": {
     "end_time": "2023-03-08T23:26:58.761676Z",
     "start_time": "2023-03-08T23:26:58.574389Z"
    }
   },
   "outputs": [
    {
     "data": {
      "image/png": "[encoded data removed]",
      "text/plain": [
       "<Figure size 1000x600 with 1 Axes>"
      ]
     },
     "metadata": {},
     "output_type": "display_data"
    }
   ],
   "source": [
    "# Define the learning rate array\n",
    "lrs = 1e-8 * (10 ** (np.arange(100) / 20))\n",
    "\n",
    "# Set the figure size\n",
    "plt.figure(figsize=(10, 6))\n",
    "\n",
    "# Set the grid\n",
    "plt.grid(True)\n",
    "\n",
    "# Plot the loss in log scale\n",
    "plt.semilogx(lrs, history.history[\"loss\"])\n",
    "\n",
    "# Increase the tickmarks size\n",
    "plt.tick_params('both', length=10, width=1, which='both')\n",
    "\n",
    "# Set the plot boundaries\n",
    "#plt.axis([1e-8, 1e-3, 0, 300])"
   ]
  },
  {
   "cell_type": "code",
   "execution_count": 159,
   "metadata": {
    "ExecuteTime": {
     "end_time": "2023-02-10T22:38:25.760250Z",
     "start_time": "2023-02-10T22:38:25.758485Z"
    },
    "colab": {
     "base_uri": "https://localhost:8080/"
    },
    "executionInfo": {
     "elapsed": 683,
     "status": "ok",
     "timestamp": 1674723386245,
     "user": {
      "displayName": "Nelson Mganga",
      "userId": "15984282569117459010"
     },
     "user_tz": -180
    },
    "id": "61dZDV4Dmx-h",
    "outputId": "d27f2c70-ac67-4309-a9bb-3d0625213bbc"
   },
   "outputs": [],
   "source": [
    "# predict\n",
    "#pred_train = pipe.predict(train_images)\n",
    "\n",
    "# train mse error\n",
    "#mse = mean_squared_error(train_biomasses, pred_train) \n",
    "#mse\n",
    "#rmse = np.sqrt(mse)"
   ]
  },
  {
   "cell_type": "code",
   "execution_count": 19,
   "metadata": {
    "ExecuteTime": {
     "end_time": "2023-02-09T23:22:42.218443Z",
     "start_time": "2023-02-09T23:22:42.068209Z"
    },
    "colab": {
     "base_uri": "https://localhost:8080/"
    },
    "executionInfo": {
     "elapsed": 3,
     "status": "ok",
     "timestamp": 1674723386245,
     "user": {
      "displayName": "Nelson Mganga",
      "userId": "15984282569117459010"
     },
     "user_tz": -180
    },
    "id": "T17ZqXTop6DJ",
    "outputId": "c38c43a0-719d-477d-f241-5edf2dcc918b"
   },
   "outputs": [
    {
     "data": {
      "text/plain": [
       "3961.942859655493"
      ]
     },
     "execution_count": 19,
     "metadata": {},
     "output_type": "execute_result"
    }
   ],
   "source": [
    "# predict\n",
    "#pred_validate = pipe.predict(validate_images)\n",
    "\n",
    "#  validate mse error\n",
    "#mse = mean_squared_error(validate_biomasses, pred_validate) \n",
    "#mse\n",
    "#rmse = np.sqrt(mse)\n",
    "3961.942859655493"
   ]
  },
  {
   "cell_type": "markdown",
   "metadata": {
    "id": "MjL1gMrGqSwY"
   },
   "source": [
    "### Gridsearch"
   ]
  },
  {
   "cell_type": "markdown",
   "metadata": {
    "colab": {
     "base_uri": "https://localhost:8080/",
     "height": 70
    },
    "executionInfo": {
     "elapsed": 3,
     "status": "ok",
     "timestamp": 1674652238306,
     "user": {
      "displayName": "Nelson Mganga",
      "userId": "15984282569117459010"
     },
     "user_tz": -180
    },
    "id": "bZZ00__izp6T",
    "outputId": "a1919452-072f-4d52-bf9b-6c113589e490"
   },
   "source": [
    " Initiaze the hyperparameters for each dictionary\n",
    "param1 = {}\n",
    "param1['classifier'] = [LinearRegression()]\n",
    "\n",
    "param2 = {}\n",
    "param2['classifier__alpha'] = [0.1, 0.5, 1]\n",
    "param2['classifier'] = [Ridge()]\n",
    "\n",
    "param3 = {}\n",
    "param3['classifier__alpha'] = [0.1, 0.5, 1]\n",
    "param3['classifier'] = [Lasso()]\n",
    "\n",
    "param4 = {}\n",
    "param4['classifier__n_neighbors'] = [2,5,10,25,50]\n",
    "param4['classifier'] = [KNeighborsRegressor()]\n",
    "\n",
    "\"\"\"\n",
    "param5 = {}\n",
    "param5['classifier__C'] = [10**-2, 10**-1, 10**0, 10**1, 10**2]\n",
    "param5['classifier__epsilon'] = [0.0,0.2,0.5,1]\n",
    "param5['classifier'] = [LinearSVR()]\n",
    "\"\"\""
   ]
  },
  {
   "cell_type": "markdown",
   "metadata": {
    "id": "ptJz-yeCNYzM"
   },
   "source": [
    "pipeline = pipe = Pipeline(steps=[(\"scaler\", CustomScaler(MEAN,STD)),\n",
    "                       (\"flatten\", FlattenTransformer()),\n",
    "                       (\"classifier\", LinearRegression())])\n",
    "params = [param1, param2, param3, param4] # param5\n"
   ]
  },
  {
   "cell_type": "markdown",
   "metadata": {
    "id": "f3NqYDHctRC5"
   },
   "source": [
    " Train the grid search model\n",
    "grid_search = GridSearchCV(pipeline, params, cv=3, scoring='neg_mean_squared_error').fit(train_images,train_biomasses)"
   ]
  },
  {
   "cell_type": "markdown",
   "metadata": {
    "ExecuteTime": {
     "end_time": "2023-02-10T22:22:37.938405Z",
     "start_time": "2023-02-10T22:22:37.930388Z"
    },
    "id": "GKM3uy2Cth2W"
   },
   "source": [
    " Best performing model and its corresponding hyperparameters\n",
    "grid_search.best_params_"
   ]
  },
  {
   "cell_type": "markdown",
   "metadata": {
    "id": "Ohdx1LKttk2y"
   },
   "source": [
    "model = grid_search.best_estimator_\n",
    " predict\n",
    "pred = model.predict(train_images)\n",
    "\n",
    " validate mse error\n",
    "mse = mean_squared_error(train_biomasses, pred) \n",
    "rmse = np.sqrt(mse)\n",
    "\n",
    "print(mse, rmse)\n",
    "\n",
    "model = grid_search.best_estimator_\n",
    " predict\n",
    "pred = model.predict(validate_images)\n",
    "\n",
    " validate mse error\n",
    "mse = mean_squared_error(validate_biomasses, pred) \n",
    "rmse = np.sqrt(mse)\n",
    "\n",
    "print(mse, rmse)"
   ]
  },
  {
   "cell_type": "markdown",
   "metadata": {
    "id": "pdAypOP5BkR_"
   },
   "source": [
    "### Predict GIZ Biomass"
   ]
  },
  {
   "cell_type": "code",
   "execution_count": 132,
   "metadata": {
    "ExecuteTime": {
     "end_time": "2023-03-21T17:34:02.971481Z",
     "start_time": "2023-03-21T17:34:02.963123Z"
    },
    "executionInfo": {
     "elapsed": 416,
     "status": "ok",
     "timestamp": 1674723578973,
     "user": {
      "displayName": "Nelson Mganga",
      "userId": "15984282569117459010"
     },
     "user_tz": -180
    },
    "id": "5LDX4p2XBoz2"
   },
   "outputs": [],
   "source": [
    "s2_images_h5 = h5py.File(\"./data/images_test.h5\", \"r\")"
   ]
  },
  {
   "cell_type": "code",
   "execution_count": 139,
   "metadata": {
    "ExecuteTime": {
     "end_time": "2023-03-21T17:37:43.959801Z",
     "start_time": "2023-03-21T17:37:43.824455Z"
    }
   },
   "outputs": [],
   "source": []
  },
  {
   "cell_type": "code",
   "execution_count": 116,
   "metadata": {
    "ExecuteTime": {
     "end_time": "2023-04-30T18:54:27.350183Z",
     "start_time": "2023-04-30T18:54:26.791343Z"
    }
   },
   "outputs": [
    {
     "name": "stdout",
     "output_type": "stream",
     "text": [
      "(5190, 2704)\n",
      "252426.24048995972\n"
     ]
    }
   ],
   "source": [
    "from datetime import datetime\n",
    "\n",
    "def generate_submit(stack, testset):\n",
    "    X_test=preprocessing(testset, is_test=True)\n",
    "    print(X_test[0].shape)\n",
    "    pred_giz=stack.predict(X_test[0])\n",
    "    print(sum(pred_giz))\n",
    "    ID_S2_pair = pd.read_csv('./data/UniqueID-SentinelPair.csv')\n",
    "    \n",
    "    preds = pd.DataFrame({'Target':pred_giz}).rename_axis('S2_idx').reset_index()\n",
    "    preds = ID_S2_pair.merge(preds, on='S2_idx').drop(columns=['S2_idx'])\n",
    "    time=datetime.now()\n",
    "    preds.to_csv(f'GIZ_Biomass_predictions_{time.strftime(\"%m_%d_%Y_%H:%M:%S\")}.csv', index=False)\n",
    "    \n",
    "generate_submit( clf,testset)"
   ]
  },
  {
   "cell_type": "code",
   "execution_count": 49,
   "metadata": {
    "ExecuteTime": {
     "end_time": "2023-04-18T19:06:41.424722Z",
     "start_time": "2023-04-18T19:06:41.416870Z"
    }
   },
   "outputs": [
    {
     "ename": "AttributeError",
     "evalue": "'XGBRFRegressor' object has no attribute 'load_weights'",
     "output_type": "error",
     "traceback": [
      "\u001b[0;31m---------------------------------------------------------------------------\u001b[0m",
      "\u001b[0;31mAttributeError\u001b[0m                            Traceback (most recent call last)",
      "Cell \u001b[0;32mIn[49], line 1\u001b[0m\n\u001b[0;32m----> 1\u001b[0m \u001b[43mmodel\u001b[49m\u001b[38;5;241;43m.\u001b[39;49m\u001b[43mload_weights\u001b[49m(checkpoint_filepath)\n",
      "\u001b[0;31mAttributeError\u001b[0m: 'XGBRFRegressor' object has no attribute 'load_weights'"
     ]
    }
   ],
   "source": [
    "model.load_weights(checkpoint_filepath)\n"
   ]
  },
  {
   "cell_type": "code",
   "execution_count": 41,
   "metadata": {
    "ExecuteTime": {
     "end_time": "2023-03-09T00:00:35.384132Z",
     "start_time": "2023-03-09T00:00:35.380490Z"
    }
   },
   "outputs": [
    {
     "data": {
      "text/plain": [
       "<KeysViewHDF5 ['agbd', 'cloud', 'images', 'lat', 'lon', 'scl']>"
      ]
     },
     "execution_count": 41,
     "metadata": {},
     "output_type": "execute_result"
    }
   ],
   "source": [
    "testset.keys()"
   ]
  },
  {
   "cell_type": "code",
   "execution_count": 47,
   "metadata": {
    "ExecuteTime": {
     "end_time": "2023-03-09T00:02:17.558479Z",
     "start_time": "2023-03-09T00:02:17.555102Z"
    }
   },
   "outputs": [
    {
     "data": {
      "text/plain": [
       "(5190, 15, 15, 1)"
      ]
     },
     "execution_count": 47,
     "metadata": {},
     "output_type": "execute_result"
    }
   ],
   "source": [
    "test_cloud.shape"
   ]
  },
  {
   "cell_type": "code",
   "execution_count": 48,
   "metadata": {
    "ExecuteTime": {
     "end_time": "2023-03-09T00:02:39.005434Z",
     "start_time": "2023-03-09T00:02:38.966042Z"
    }
   },
   "outputs": [],
   "source": [
    "testimg=tf.data.Dataset.from_tensor_slices(test_images)\n",
    "\n",
    "testlat=tf.data.Dataset.from_tensor_slices(test_lat[:,:,0].reshape((-1,15)))\n",
    "testlon=tf.data.Dataset.from_tensor_slices(test_lon[:,:,0].reshape((-1,15)))\n",
    "testcloud=tf.data.Dataset.from_tensor_slices(test_cloud[:,:,0].reshape((-1,15)))\n",
    "testdata=tf.data.Dataset.zip((testimg,testlat, testlon,testcloud)).batch(32)\n"
   ]
  },
  {
   "cell_type": "code",
   "execution_count": 43,
   "metadata": {
    "ExecuteTime": {
     "end_time": "2023-03-09T00:00:36.447557Z",
     "start_time": "2023-03-09T00:00:36.445132Z"
    },
    "executionInfo": {
     "elapsed": 1,
     "status": "ok",
     "timestamp": 1674723580772,
     "user": {
      "displayName": "Nelson Mganga",
      "userId": "15984282569117459010"
     },
     "user_tz": -180
    },
    "id": "PG3shy0oDS4A"
   },
   "outputs": [],
   "source": [
    "#prepare test set sentinel 2 images \n",
    "#s2_images = np.array(s2_images_h5[\"images\"])\n",
    "#s2_images = s2_images.transpose(0,3,1,2)"
   ]
  },
  {
   "cell_type": "code",
   "execution_count": 44,
   "metadata": {
    "ExecuteTime": {
     "end_time": "2023-03-09T00:00:38.797815Z",
     "start_time": "2023-03-09T00:00:38.584611Z"
    }
   },
   "outputs": [
    {
     "name": "stdout",
     "output_type": "stream",
     "text": [
      "162/162 [==============================] - 0s 1ms/step - loss: 53.0247 - root_mean_squared_error: 61.8605\n"
     ]
    },
    {
     "data": {
      "text/plain": [
       "(53.02470779418945, 61.86053466796875)"
      ]
     },
     "execution_count": 44,
     "metadata": {},
     "output_type": "execute_result"
    }
   ],
   "source": [
    "loss_eval, rmse_eval=model.evaluate(validatedata)\n",
    "loss_eval, rmse_eval\n",
    "#(54.43159866333008, 63.476097106933594)\n",
    "#56.93183517456055, 65.77277374267578)\n",
    "\n"
   ]
  },
  {
   "cell_type": "code",
   "execution_count": 45,
   "metadata": {
    "ExecuteTime": {
     "end_time": "2023-03-09T00:00:51.786376Z",
     "start_time": "2023-03-09T00:00:51.783349Z"
    }
   },
   "outputs": [
    {
     "data": {
      "text/plain": [
       "['loss', 'root_mean_squared_error']"
      ]
     },
     "execution_count": 45,
     "metadata": {},
     "output_type": "execute_result"
    }
   ],
   "source": [
    "model.metrics_names "
   ]
  },
  {
   "cell_type": "code",
   "execution_count": 55,
   "metadata": {
    "ExecuteTime": {
     "end_time": "2023-03-09T00:06:41.922957Z",
     "start_time": "2023-03-09T00:06:41.919167Z"
    }
   },
   "outputs": [
    {
     "data": {
      "text/plain": [
       "(5190, 15, 1)"
      ]
     },
     "execution_count": 55,
     "metadata": {},
     "output_type": "execute_result"
    }
   ],
   "source": [
    "test_cloud[:,:,0].shape"
   ]
  },
  {
   "cell_type": "code",
   "execution_count": 56,
   "metadata": {
    "ExecuteTime": {
     "end_time": "2023-03-09T00:07:22.356109Z",
     "start_time": "2023-03-09T00:07:21.985958Z"
    },
    "executionInfo": {
     "elapsed": 2,
     "status": "ok",
     "timestamp": 1674723582520,
     "user": {
      "displayName": "Nelson Mganga",
      "userId": "15984282569117459010"
     },
     "user_tz": -180
    },
    "id": "F5uan3E8DpEU"
   },
   "outputs": [
    {
     "name": "stdout",
     "output_type": "stream",
     "text": [
      "163/163 [==============================] - 0s 1ms/step\n"
     ]
    },
    {
     "data": {
      "text/plain": [
       "(5190, 1)"
      ]
     },
     "execution_count": 56,
     "metadata": {},
     "output_type": "execute_result"
    }
   ],
   "source": [
    "# predict on giz test data\n",
    "pred_giz = model.predict([test_images,test_lat[:,:,0].reshape((-1,15)), test_lon[:,:,0].reshape((-1,15)),test_cloud[:,:,:].reshape((-1,225)) ])\n",
    "pred_giz.shape"
   ]
  },
  {
   "cell_type": "code",
   "execution_count": null,
   "metadata": {},
   "outputs": [],
   "source": []
  },
  {
   "cell_type": "code",
   "execution_count": 57,
   "metadata": {
    "ExecuteTime": {
     "end_time": "2023-03-09T00:07:24.202744Z",
     "start_time": "2023-03-09T00:07:24.199266Z"
    }
   },
   "outputs": [
    {
     "data": {
      "text/plain": [
       "94.4302"
      ]
     },
     "execution_count": 57,
     "metadata": {},
     "output_type": "execute_result"
    }
   ],
   "source": [
    "pred_giz.max()"
   ]
  },
  {
   "cell_type": "code",
   "execution_count": 58,
   "metadata": {
    "ExecuteTime": {
     "end_time": "2023-03-09T00:07:28.004524Z",
     "start_time": "2023-03-09T00:07:28.002089Z"
    }
   },
   "outputs": [],
   "source": [
    "pred_giz=pred_giz.reshape(1,-1)[0]"
   ]
  },
  {
   "cell_type": "code",
   "execution_count": 56,
   "metadata": {
    "ExecuteTime": {
     "end_time": "2023-04-29T23:03:13.214485Z",
     "start_time": "2023-04-29T23:03:13.202662Z"
    },
    "executionInfo": {
     "elapsed": 427,
     "status": "ok",
     "timestamp": 1674723586040,
     "user": {
      "displayName": "Nelson Mganga",
      "userId": "15984282569117459010"
     },
     "user_tz": -180
    },
    "id": "WD4IyJWvGgzo"
   },
   "outputs": [
    {
     "ename": "NameError",
     "evalue": "name 'pred_giz' is not defined",
     "output_type": "error",
     "traceback": [
      "\u001b[0;31m---------------------------------------------------------------------------\u001b[0m",
      "\u001b[0;31mNameError\u001b[0m                                 Traceback (most recent call last)",
      "Cell \u001b[0;32mIn[56], line 3\u001b[0m\n\u001b[1;32m      1\u001b[0m ID_S2_pair \u001b[38;5;241m=\u001b[39m pd\u001b[38;5;241m.\u001b[39mread_csv(\u001b[38;5;124m'\u001b[39m\u001b[38;5;124m./data/UniqueID-SentinelPair.csv\u001b[39m\u001b[38;5;124m'\u001b[39m)\n\u001b[0;32m----> 3\u001b[0m preds \u001b[38;5;241m=\u001b[39m pd\u001b[38;5;241m.\u001b[39mDataFrame({\u001b[38;5;124m'\u001b[39m\u001b[38;5;124mTarget\u001b[39m\u001b[38;5;124m'\u001b[39m:\u001b[43mpred_giz\u001b[49m})\u001b[38;5;241m.\u001b[39mrename_axis(\u001b[38;5;124m'\u001b[39m\u001b[38;5;124mS2_idx\u001b[39m\u001b[38;5;124m'\u001b[39m)\u001b[38;5;241m.\u001b[39mreset_index()\n\u001b[1;32m      4\u001b[0m preds \u001b[38;5;241m=\u001b[39m ID_S2_pair\u001b[38;5;241m.\u001b[39mmerge(preds, on\u001b[38;5;241m=\u001b[39m\u001b[38;5;124m'\u001b[39m\u001b[38;5;124mS2_idx\u001b[39m\u001b[38;5;124m'\u001b[39m)\u001b[38;5;241m.\u001b[39mdrop(columns\u001b[38;5;241m=\u001b[39m[\u001b[38;5;124m'\u001b[39m\u001b[38;5;124mS2_idx\u001b[39m\u001b[38;5;124m'\u001b[39m])\n",
      "\u001b[0;31mNameError\u001b[0m: name 'pred_giz' is not defined"
     ]
    }
   ],
   "source": [
    "\n",
    "preds = pd.DataFrame({'Target':pred_giz}).rename_axis('S2_idx').reset_index()\n",
    "preds = ID_S2_pair.merge(preds, on='S2_idx').drop(columns=['S2_idx'])"
   ]
  },
  {
   "cell_type": "code",
   "execution_count": 57,
   "metadata": {
    "ExecuteTime": {
     "end_time": "2023-04-29T23:03:17.060667Z",
     "start_time": "2023-04-29T23:03:17.051563Z"
    }
   },
   "outputs": [
    {
     "data": {
      "text/html": [
       "<div>\n",
       "<style scoped>\n",
       "    .dataframe tbody tr th:only-of-type {\n",
       "        vertical-align: middle;\n",
       "    }\n",
       "\n",
       "    .dataframe tbody tr th {\n",
       "        vertical-align: top;\n",
       "    }\n",
       "\n",
       "    .dataframe thead th {\n",
       "        text-align: right;\n",
       "    }\n",
       "</style>\n",
       "<table border=\"1\" class=\"dataframe\">\n",
       "  <thead>\n",
       "    <tr style=\"text-align: right;\">\n",
       "      <th></th>\n",
       "      <th>ID</th>\n",
       "      <th>S2_idx</th>\n",
       "    </tr>\n",
       "  </thead>\n",
       "  <tbody>\n",
       "    <tr>\n",
       "      <th>0</th>\n",
       "      <td>ID_1EB0DGFP07</td>\n",
       "      <td>44</td>\n",
       "    </tr>\n",
       "    <tr>\n",
       "      <th>1</th>\n",
       "      <td>ID_844T2PSXTK</td>\n",
       "      <td>58</td>\n",
       "    </tr>\n",
       "    <tr>\n",
       "      <th>2</th>\n",
       "      <td>ID_4MCV3S8MLN</td>\n",
       "      <td>27</td>\n",
       "    </tr>\n",
       "    <tr>\n",
       "      <th>3</th>\n",
       "      <td>ID_L7441JV5F3</td>\n",
       "      <td>68</td>\n",
       "    </tr>\n",
       "    <tr>\n",
       "      <th>4</th>\n",
       "      <td>ID_5GUVM4YEWZ</td>\n",
       "      <td>57</td>\n",
       "    </tr>\n",
       "    <tr>\n",
       "      <th>...</th>\n",
       "      <td>...</td>\n",
       "      <td>...</td>\n",
       "    </tr>\n",
       "    <tr>\n",
       "      <th>85</th>\n",
       "      <td>ID_MEW6189J1B</td>\n",
       "      <td>41</td>\n",
       "    </tr>\n",
       "    <tr>\n",
       "      <th>86</th>\n",
       "      <td>ID_TH9HRUXGTP</td>\n",
       "      <td>52</td>\n",
       "    </tr>\n",
       "    <tr>\n",
       "      <th>87</th>\n",
       "      <td>ID_GPC7YS3JG8</td>\n",
       "      <td>79</td>\n",
       "    </tr>\n",
       "    <tr>\n",
       "      <th>88</th>\n",
       "      <td>ID_1P7PJMPV0R</td>\n",
       "      <td>0</td>\n",
       "    </tr>\n",
       "    <tr>\n",
       "      <th>89</th>\n",
       "      <td>ID_NTFSOIOEOG</td>\n",
       "      <td>55</td>\n",
       "    </tr>\n",
       "  </tbody>\n",
       "</table>\n",
       "<p>90 rows × 2 columns</p>\n",
       "</div>"
      ],
      "text/plain": [
       "               ID  S2_idx\n",
       "0   ID_1EB0DGFP07      44\n",
       "1   ID_844T2PSXTK      58\n",
       "2   ID_4MCV3S8MLN      27\n",
       "3   ID_L7441JV5F3      68\n",
       "4   ID_5GUVM4YEWZ      57\n",
       "..            ...     ...\n",
       "85  ID_MEW6189J1B      41\n",
       "86  ID_TH9HRUXGTP      52\n",
       "87  ID_GPC7YS3JG8      79\n",
       "88  ID_1P7PJMPV0R       0\n",
       "89  ID_NTFSOIOEOG      55\n",
       "\n",
       "[90 rows x 2 columns]"
      ]
     },
     "execution_count": 57,
     "metadata": {},
     "output_type": "execute_result"
    }
   ],
   "source": [
    "ID_S2_pair"
   ]
  },
  {
   "cell_type": "code",
   "execution_count": 60,
   "metadata": {
    "ExecuteTime": {
     "end_time": "2023-03-09T00:07:31.430381Z",
     "start_time": "2023-03-09T00:07:31.425657Z"
    },
    "executionInfo": {
     "elapsed": 450,
     "status": "ok",
     "timestamp": 1674723608727,
     "user": {
      "displayName": "Nelson Mganga",
      "userId": "15984282569117459010"
     },
     "user_tz": -180
    },
    "id": "_zMlJsmG-rMO"
   },
   "outputs": [],
   "source": [
    "\n",
    "preds.to_csv(f'GIZ_Biomass_predictions_{rmse_eval}.csv', index=False)"
   ]
  },
  {
   "cell_type": "code",
   "execution_count": 61,
   "metadata": {
    "ExecuteTime": {
     "end_time": "2023-03-09T00:07:32.305509Z",
     "start_time": "2023-03-09T00:07:32.297056Z"
    },
    "colab": {
     "base_uri": "https://localhost:8080/",
     "height": 424
    },
    "executionInfo": {
     "elapsed": 524,
     "status": "ok",
     "timestamp": 1674723601203,
     "user": {
      "displayName": "Nelson Mganga",
      "userId": "15984282569117459010"
     },
     "user_tz": -180
    },
    "id": "9AYlcFAhTiHi",
    "outputId": "e7363c71-f2fa-4b7b-add6-945aa96ad803"
   },
   "outputs": [
    {
     "data": {
      "text/html": [
       "<div>\n",
       "<style scoped>\n",
       "    .dataframe tbody tr th:only-of-type {\n",
       "        vertical-align: middle;\n",
       "    }\n",
       "\n",
       "    .dataframe tbody tr th {\n",
       "        vertical-align: top;\n",
       "    }\n",
       "\n",
       "    .dataframe thead th {\n",
       "        text-align: right;\n",
       "    }\n",
       "</style>\n",
       "<table border=\"1\" class=\"dataframe\">\n",
       "  <thead>\n",
       "    <tr style=\"text-align: right;\">\n",
       "      <th></th>\n",
       "      <th>ID</th>\n",
       "      <th>Target</th>\n",
       "    </tr>\n",
       "  </thead>\n",
       "  <tbody>\n",
       "    <tr>\n",
       "      <th>0</th>\n",
       "      <td>ID_1EB0DGFP07</td>\n",
       "      <td>47.322083</td>\n",
       "    </tr>\n",
       "    <tr>\n",
       "      <th>1</th>\n",
       "      <td>ID_844T2PSXTK</td>\n",
       "      <td>39.771774</td>\n",
       "    </tr>\n",
       "    <tr>\n",
       "      <th>2</th>\n",
       "      <td>ID_4MCV3S8MLN</td>\n",
       "      <td>35.339512</td>\n",
       "    </tr>\n",
       "    <tr>\n",
       "      <th>3</th>\n",
       "      <td>ID_L7441JV5F3</td>\n",
       "      <td>4.117369</td>\n",
       "    </tr>\n",
       "    <tr>\n",
       "      <th>4</th>\n",
       "      <td>ID_5GUVM4YEWZ</td>\n",
       "      <td>32.520939</td>\n",
       "    </tr>\n",
       "    <tr>\n",
       "      <th>...</th>\n",
       "      <td>...</td>\n",
       "      <td>...</td>\n",
       "    </tr>\n",
       "    <tr>\n",
       "      <th>85</th>\n",
       "      <td>ID_MEW6189J1B</td>\n",
       "      <td>58.611908</td>\n",
       "    </tr>\n",
       "    <tr>\n",
       "      <th>86</th>\n",
       "      <td>ID_TH9HRUXGTP</td>\n",
       "      <td>66.100426</td>\n",
       "    </tr>\n",
       "    <tr>\n",
       "      <th>87</th>\n",
       "      <td>ID_GPC7YS3JG8</td>\n",
       "      <td>39.797985</td>\n",
       "    </tr>\n",
       "    <tr>\n",
       "      <th>88</th>\n",
       "      <td>ID_1P7PJMPV0R</td>\n",
       "      <td>59.002762</td>\n",
       "    </tr>\n",
       "    <tr>\n",
       "      <th>89</th>\n",
       "      <td>ID_NTFSOIOEOG</td>\n",
       "      <td>32.673866</td>\n",
       "    </tr>\n",
       "  </tbody>\n",
       "</table>\n",
       "<p>90 rows × 2 columns</p>\n",
       "</div>"
      ],
      "text/plain": [
       "               ID     Target\n",
       "0   ID_1EB0DGFP07  47.322083\n",
       "1   ID_844T2PSXTK  39.771774\n",
       "2   ID_4MCV3S8MLN  35.339512\n",
       "3   ID_L7441JV5F3   4.117369\n",
       "4   ID_5GUVM4YEWZ  32.520939\n",
       "..            ...        ...\n",
       "85  ID_MEW6189J1B  58.611908\n",
       "86  ID_TH9HRUXGTP  66.100426\n",
       "87  ID_GPC7YS3JG8  39.797985\n",
       "88  ID_1P7PJMPV0R  59.002762\n",
       "89  ID_NTFSOIOEOG  32.673866\n",
       "\n",
       "[90 rows x 2 columns]"
      ]
     },
     "execution_count": 61,
     "metadata": {},
     "output_type": "execute_result"
    }
   ],
   "source": [
    "preds"
   ]
  },
  {
   "cell_type": "code",
   "execution_count": null,
   "metadata": {},
   "outputs": [],
   "source": []
  }
 ],
 "metadata": {
  "colab": {
   "authorship_tag": "ABX9TyOihXjq07msZbeQcKWpSf4h",
   "mount_file_id": "1A8QpZiR1T7BX1Re4gixSxA2ju6cXFn4s",
   "provenance": []
  },
  "kernelspec": {
   "display_name": "Python 3 (ipykernel)",
   "language": "python",
   "name": "python3"
  },
  "language_info": {
   "codemirror_mode": {
    "name": "ipython",
    "version": 3
   },
   "file_extension": ".py",
   "mimetype": "text/x-python",
   "name": "python",
   "nbconvert_exporter": "python",
   "pygments_lexer": "ipython3",
   "version": "3.10.9"
  },
  "toc": {
   "base_numbering": 1,
   "nav_menu": {},
   "number_sections": true,
   "sideBar": true,
   "skip_h1_title": false,
   "title_cell": "Table of Contents",
   "title_sidebar": "Contents",
   "toc_cell": true,
   "toc_position": {},
   "toc_section_display": true,
   "toc_window_display": true
  }
 },
 "nbformat": 4,
 "nbformat_minor": 1
}
