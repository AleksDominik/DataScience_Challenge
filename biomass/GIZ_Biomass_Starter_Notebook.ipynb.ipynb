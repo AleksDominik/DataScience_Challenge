{
 "cells": [
  {
   "cell_type": "markdown",
   "metadata": {
    "toc": true
   },
   "source": [
    "<h1>Table of Contents<span class=\"tocSkip\"></span></h1>\n",
    "<div class=\"toc\"><ul class=\"toc-item\"><li><span><a href=\"#Images-Extractions\" data-toc-modified-id=\"Images-Extractions-1\"><span class=\"toc-item-num\">1&nbsp;&nbsp;</span>Images Extractions</a></span><ul class=\"toc-item\"><li><span><a href=\"#Explore-datasets\" data-toc-modified-id=\"Explore-datasets-1.1\"><span class=\"toc-item-num\">1.1&nbsp;&nbsp;</span>Explore datasets</a></span></li><li><span><a href=\"#Some-visulizations\" data-toc-modified-id=\"Some-visulizations-1.2\"><span class=\"toc-item-num\">1.2&nbsp;&nbsp;</span>Some visulizations</a></span></li></ul></li><li><span><a href=\"#First-Baseline-With-Sklearn\" data-toc-modified-id=\"First-Baseline-With-Sklearn-2\"><span class=\"toc-item-num\">2&nbsp;&nbsp;</span>First Baseline With Sklearn</a></span></li><li><span><a href=\"#Preprocessing\" data-toc-modified-id=\"Preprocessing-3\"><span class=\"toc-item-num\">3&nbsp;&nbsp;</span>Preprocessing</a></span><ul class=\"toc-item\"><li><span><a href=\"#Modelisation\" data-toc-modified-id=\"Modelisation-3.1\"><span class=\"toc-item-num\">3.1&nbsp;&nbsp;</span>Modelisation</a></span></li><li><span><a href=\"#convert-To-tensor-Dataset\" data-toc-modified-id=\"convert-To-tensor-Dataset-3.2\"><span class=\"toc-item-num\">3.2&nbsp;&nbsp;</span>convert To tensor Dataset</a></span><ul class=\"toc-item\"><li><span><a href=\"#Gridsearch\" data-toc-modified-id=\"Gridsearch-3.2.1\"><span class=\"toc-item-num\">3.2.1&nbsp;&nbsp;</span>Gridsearch</a></span></li><li><span><a href=\"#Predict-GIZ-Biomass\" data-toc-modified-id=\"Predict-GIZ-Biomass-3.2.2\"><span class=\"toc-item-num\">3.2.2&nbsp;&nbsp;</span>Predict GIZ Biomass</a></span></li></ul></li></ul></li></ul></div>"
   ]
  },
  {
   "cell_type": "markdown",
   "metadata": {
    "id": "28R01eNOra9X"
   },
   "source": [
    "In this notebook, we will show you the differents steps to train step by step dly your model in this competition."
   ]
  },
  {
   "cell_type": "markdown",
   "metadata": {
    "id": "BiF5fKp2Qv1d"
   },
   "source": [
    "# Images Extractions"
   ]
  },
  {
   "cell_type": "code",
   "execution_count": 1,
   "metadata": {
    "ExecuteTime": {
     "end_time": "2023-04-09T15:20:02.343400Z",
     "start_time": "2023-04-09T15:20:00.006789Z"
    },
    "executionInfo": {
     "elapsed": 662,
     "status": "ok",
     "timestamp": 1674723307296,
     "user": {
      "displayName": "Nelson Mganga",
      "userId": "15984282569117459010"
     },
     "user_tz": -180
    },
    "id": "ghyAh0w20yIH"
   },
   "outputs": [
    {
     "name": "stderr",
     "output_type": "stream",
     "text": [
      "2023-04-09 17:20:00.569615: I tensorflow/core/platform/cpu_feature_guard.cc:193] This TensorFlow binary is optimized with oneAPI Deep Neural Network Library (oneDNN) to use the following CPU instructions in performance-critical operations:  AVX2 AVX_VNNI FMA\n",
      "To enable them in other operations, rebuild TensorFlow with the appropriate compiler flags.\n",
      "2023-04-09 17:20:00.728760: I tensorflow/core/util/port.cc:104] oneDNN custom operations are on. You may see slightly different numerical results due to floating-point round-off errors from different computation orders. To turn them off, set the environment variable `TF_ENABLE_ONEDNN_OPTS=0`.\n",
      "2023-04-09 17:20:00.753199: W tensorflow/compiler/xla/stream_executor/platform/default/dso_loader.cc:64] Could not load dynamic library 'libcudart.so.11.0'; dlerror: libcudart.so.11.0: cannot open shared object file: No such file or directory\n",
      "2023-04-09 17:20:00.753213: I tensorflow/compiler/xla/stream_executor/cuda/cudart_stub.cc:29] Ignore above cudart dlerror if you do not have a GPU set up on your machine.\n",
      "2023-04-09 17:20:01.455937: W tensorflow/compiler/xla/stream_executor/platform/default/dso_loader.cc:64] Could not load dynamic library 'libnvinfer.so.7'; dlerror: libnvinfer.so.7: cannot open shared object file: No such file or directory\n",
      "2023-04-09 17:20:01.456022: W tensorflow/compiler/xla/stream_executor/platform/default/dso_loader.cc:64] Could not load dynamic library 'libnvinfer_plugin.so.7'; dlerror: libnvinfer_plugin.so.7: cannot open shared object file: No such file or directory\n",
      "2023-04-09 17:20:01.456033: W tensorflow/compiler/tf2tensorrt/utils/py_utils.cc:38] TF-TRT Warning: Cannot dlopen some TensorRT libraries. If you would like to use Nvidia GPU with TensorRT, please make sure the missing libraries mentioned above are installed properly.\n"
     ]
    }
   ],
   "source": [
    "import h5py\n",
    "import matplotlib.pyplot as plt\n",
    "import pandas as pd\n",
    "import numpy as np\n",
    "import warnings\n",
    "import tensorflow as tf\n",
    "import seaborn as sns\n",
    "warnings.filterwarnings('ignore')"
   ]
  },
  {
   "cell_type": "code",
   "execution_count": 2,
   "metadata": {
    "ExecuteTime": {
     "end_time": "2023-04-09T15:20:02.347097Z",
     "start_time": "2023-04-09T15:20:02.345038Z"
    },
    "executionInfo": {
     "elapsed": 15503,
     "status": "ok",
     "timestamp": 1674723322797,
     "user": {
      "displayName": "Nelson Mganga",
      "userId": "15984282569117459010"
     },
     "user_tz": -180
    },
    "id": "FSbBd9XiQ5q5"
   },
   "outputs": [],
   "source": [
    "#!wget -q  https://share.phys.ethz.ch/~pf/albecker/abc/09072022_1154_train.h5\n",
    "#!wget -q  https://share.phys.ethz.ch/~pf/albecker/abc/09072022_1154_val.h5\n",
    "#!wget -q https://share.phys.ethz.ch/~pf/albecker/abc/09072022_1154_test.h5"
   ]
  },
  {
   "cell_type": "code",
   "execution_count": 3,
   "metadata": {
    "ExecuteTime": {
     "end_time": "2023-04-09T15:20:02.353969Z",
     "start_time": "2023-04-09T15:20:02.348839Z"
    },
    "executionInfo": {
     "elapsed": 7,
     "status": "ok",
     "timestamp": 1674723322798,
     "user": {
      "displayName": "Nelson Mganga",
      "userId": "15984282569117459010"
     },
     "user_tz": -180
    },
    "id": "k3ZQRlZOQ65B"
   },
   "outputs": [],
   "source": [
    "trainset = h5py.File(\"./data/09072022_1154_train.h5\", \"r\")\n",
    "validateset = h5py.File(\"./data/09072022_1154_val.h5\", \"r\")\n",
    "testset = h5py.File(\"./data/09072022_1154_test.h5\", \"r\")"
   ]
  },
  {
   "cell_type": "code",
   "execution_count": 4,
   "metadata": {
    "ExecuteTime": {
     "end_time": "2023-04-09T15:20:02.360962Z",
     "start_time": "2023-04-09T15:20:02.355852Z"
    },
    "colab": {
     "base_uri": "https://localhost:8080/"
    },
    "executionInfo": {
     "elapsed": 6,
     "status": "ok",
     "timestamp": 1674723322798,
     "user": {
      "displayName": "Nelson Mganga",
      "userId": "15984282569117459010"
     },
     "user_tz": -180
    },
    "id": "sQnKRSw9RDu6",
    "outputId": "3db2d7d8-aee9-4a1a-a8a2-bcf59fff71ee"
   },
   "outputs": [
    {
     "data": {
      "text/plain": [
       "<KeysViewHDF5 ['agbd', 'cloud', 'images', 'lat', 'lon', 'scl']>"
      ]
     },
     "execution_count": 4,
     "metadata": {},
     "output_type": "execute_result"
    }
   ],
   "source": [
    "# attributes of trainset\n",
    "trainset.keys()"
   ]
  },
  {
   "cell_type": "code",
   "execution_count": 5,
   "metadata": {
    "ExecuteTime": {
     "end_time": "2023-04-09T15:20:02.374464Z",
     "start_time": "2023-04-09T15:20:02.362581Z"
    }
   },
   "outputs": [
    {
     "data": {
      "text/plain": [
       "10"
      ]
     },
     "execution_count": 5,
     "metadata": {},
     "output_type": "execute_result"
    }
   ],
   "source": [
    "np.array(trainset['scl']).max()"
   ]
  },
  {
   "cell_type": "code",
   "execution_count": null,
   "metadata": {
    "ExecuteTime": {
     "end_time": "2023-02-17T23:53:32.322214Z",
     "start_time": "2023-02-17T23:53:32.318000Z"
    }
   },
   "outputs": [],
   "source": []
  },
  {
   "cell_type": "markdown",
   "metadata": {
    "id": "2rKhoGtGR1Xu"
   },
   "source": [
    "## Explore datasets"
   ]
  },
  {
   "cell_type": "code",
   "execution_count": 6,
   "metadata": {
    "ExecuteTime": {
     "end_time": "2023-04-09T15:20:04.430118Z",
     "start_time": "2023-04-09T15:20:03.867959Z"
    },
    "executionInfo": {
     "elapsed": 1089,
     "status": "ok",
     "timestamp": 1674723355639,
     "user": {
      "displayName": "Nelson Mganga",
      "userId": "15984282569117459010"
     },
     "user_tz": -180
    },
    "id": "YgOvKhevSGNV"
   },
   "outputs": [],
   "source": [
    "# train\n",
    "train_images = np.array(trainset['images'],dtype=np.float64)\n",
    "train_images = train_images.transpose(0,3,1,2)\n",
    "\n",
    "train_lat = np.array(trainset['lat'],dtype=np.float64)\n",
    "train_lon = np.array(trainset['lon'],dtype=np.float64)\n",
    "train_cloud = np.array(trainset['cloud'],dtype=np.float64)\n",
    "\n",
    "\n",
    "train_biomasses = np.array(trainset['agbd'],dtype=np.float64)\n",
    "\n",
    "# validate\n",
    "validate_images = np.array(validateset['images'],dtype=np.float64)\n",
    "validate_images = validate_images.transpose(0,3,1,2)\n",
    "\n",
    "validate_lat = np.array(validateset['lat'],dtype=np.float64)\n",
    "validate_lon = np.array(validateset['lon'],dtype=np.float64)\n",
    "validate_cloud = np.array(validateset['cloud'],dtype=np.float64)\n",
    "\n",
    "\n",
    "validate_biomasses = np.array(validateset['agbd'],dtype=np.float64)\n",
    "\n",
    "# test \n",
    "test_images = np.array(testset['images'],dtype=np.float32)\n",
    "test_images = test_images.transpose(0,3,1,2)\n",
    "test_lat = np.array(testset['lat'],dtype=np.float64)\n",
    "test_lon = np.array(testset['lon'],dtype=np.float64)\n",
    "test_cloud = np.array(testset['cloud'],dtype=np.float64)\n",
    "\n",
    "\n",
    "test_biomasses = np.array(testset['agbd'],dtype=np.float32)"
   ]
  },
  {
   "cell_type": "code",
   "execution_count": 7,
   "metadata": {
    "ExecuteTime": {
     "end_time": "2023-04-09T15:20:06.086076Z",
     "start_time": "2023-04-09T15:20:06.083628Z"
    },
    "colab": {
     "base_uri": "https://localhost:8080/"
    },
    "executionInfo": {
     "elapsed": 2,
     "status": "ok",
     "timestamp": 1674723355639,
     "user": {
      "displayName": "Nelson Mganga",
      "userId": "15984282569117459010"
     },
     "user_tz": -180
    },
    "id": "Ps-9IeIgSJ4w",
    "outputId": "8ed5a021-0c63-4eab-b4ac-1095c4158ee6"
   },
   "outputs": [
    {
     "name": "stdout",
     "output_type": "stream",
     "text": [
      "train dataset size (25036, 12, 15, 15) train lab size (25036,)\n",
      "\n",
      "validate dataset size (5174, 12, 15, 15) validate lab size (5174,)\n",
      "\n",
      "test dataset size (5190, 12, 15, 15) test lab size (5190,)\n"
     ]
    }
   ],
   "source": [
    "print(f\"train dataset size {train_images.shape} train lab size {train_biomasses.shape}\")\n",
    "print()\n",
    "print(f\"validate dataset size {validate_images.shape} validate lab size {validate_biomasses.shape}\")\n",
    "print()\n",
    "print(f\"test dataset size {test_images.shape} test lab size {test_biomasses.shape}\")"
   ]
  },
  {
   "cell_type": "code",
   "execution_count": 8,
   "metadata": {
    "ExecuteTime": {
     "end_time": "2023-04-09T15:20:07.107395Z",
     "start_time": "2023-04-09T15:20:07.021642Z"
    }
   },
   "outputs": [
    {
     "data": {
      "text/plain": [
       "<AxesSubplot: ylabel='Frequency'>"
      ]
     },
     "execution_count": 8,
     "metadata": {},
     "output_type": "execute_result"
    },
    {
     "data": {
      "image/png": "[encoded data removed]",
      "text/plain": [
       "<Figure size 640x480 with 1 Axes>"
      ]
     },
     "metadata": {},
     "output_type": "display_data"
    }
   ],
   "source": [
    "pd.Series(train_biomasses).plot(kind='hist')"
   ]
  },
  {
   "cell_type": "markdown",
   "metadata": {
    "id": "zNdh9lMISRdZ"
   },
   "source": [
    "##  Some visulizations"
   ]
  },
  {
   "cell_type": "code",
   "execution_count": 9,
   "metadata": {
    "ExecuteTime": {
     "end_time": "2023-04-09T15:20:09.110572Z",
     "start_time": "2023-04-09T15:20:09.108150Z"
    }
   },
   "outputs": [
    {
     "data": {
      "text/plain": [
       "(25036, 12, 15, 15)"
      ]
     },
     "execution_count": 9,
     "metadata": {},
     "output_type": "execute_result"
    }
   ],
   "source": [
    "train_images.shape"
   ]
  },
  {
   "cell_type": "code",
   "execution_count": 10,
   "metadata": {
    "ExecuteTime": {
     "end_time": "2023-04-09T15:20:10.052058Z",
     "start_time": "2023-04-09T15:20:10.048083Z"
    }
   },
   "outputs": [
    {
     "data": {
      "text/plain": [
       "array([[283., 283., 286., 291., 298., 308., 321., 336., 353., 373., 395.,\n",
       "        422., 453., 493., 551.],\n",
       "       [280., 280., 283., 288., 296., 307., 319., 334., 349., 367., 387.,\n",
       "        411., 439., 476., 529.],\n",
       "       [275., 275., 278., 285., 294., 305., 317., 330., 343., 357., 373.,\n",
       "        393., 416., 446., 490.],\n",
       "       [268., 268., 273., 281., 291., 302., 314., 325., 335., 346., 357.,\n",
       "        371., 389., 411., 445.],\n",
       "       [262., 262., 267., 276., 288., 300., 311., 320., 327., 334., 342.,\n",
       "        350., 362., 377., 401.],\n",
       "       [257., 257., 263., 273., 285., 297., 308., 315., 321., 325., 329.,\n",
       "        334., 340., 350., 365.],\n",
       "       [254., 254., 260., 270., 283., 295., 305., 312., 316., 319., 322.,\n",
       "        325., 329., 335., 344.],\n",
       "       [253., 253., 259., 269., 281., 293., 303., 310., 314., 317., 319.,\n",
       "        321., 324., 328., 333.],\n",
       "       [253., 253., 259., 268., 280., 291., 301., 308., 312., 316., 319.,\n",
       "        321., 323., 326., 328.],\n",
       "       [253., 253., 258., 268., 278., 289., 299., 305., 311., 315., 319.,\n",
       "        322., 325., 326., 327.],\n",
       "       [253., 253., 258., 267., 277., 287., 296., 303., 309., 314., 319.,\n",
       "        323., 326., 327., 326.],\n",
       "       [253., 253., 258., 265., 275., 284., 293., 299., 305., 311., 317.,\n",
       "        321., 324., 324., 322.],\n",
       "       [253., 253., 256., 263., 271., 280., 287., 293., 299., 305., 310.,\n",
       "        314., 316., 316., 313.],\n",
       "       [251., 251., 254., 260., 267., 274., 280., 285., 289., 294., 298.,\n",
       "        302., 303., 303., 300.],\n",
       "       [249., 249., 252., 256., 261., 266., 271., 274., 278., 281., 284.,\n",
       "        286., 287., 286., 284.]])"
      ]
     },
     "execution_count": 10,
     "metadata": {},
     "output_type": "execute_result"
    }
   ],
   "source": [
    "train_images[0,0,:,:]"
   ]
  },
  {
   "cell_type": "code",
   "execution_count": 11,
   "metadata": {
    "ExecuteTime": {
     "end_time": "2023-04-09T15:20:14.157160Z",
     "start_time": "2023-04-09T15:20:13.674573Z"
    }
   },
   "outputs": [
    {
     "data": {
      "image/png": "[encoded data removed]",
      "text/plain": [
       "<Figure size 640x480 with 12 Axes>"
      ]
     },
     "metadata": {},
     "output_type": "display_data"
    }
   ],
   "source": [
    "def visualize_images( index):\n",
    "    fig, axs = plt.subplots(3,4, sharex=True, sharey=True)\n",
    "    for k in range(3):\n",
    "        for l in range (4):\n",
    "            axs[k,l].imshow(train_images[index,3*l+k])\n",
    "            fig.suptitle(f'For target {train_biomasses[index]}')\n",
    "visualize_images(1)\n"
   ]
  },
  {
   "cell_type": "code",
   "execution_count": 12,
   "metadata": {
    "ExecuteTime": {
     "end_time": "2023-04-09T15:20:16.187244Z",
     "start_time": "2023-04-09T15:20:16.124679Z"
    }
   },
   "outputs": [
    {
     "data": {
      "text/plain": [
       "(array([2.1933e+04, 2.1950e+03, 5.4600e+02, 2.2100e+02, 9.1000e+01,\n",
       "        3.4000e+01, 1.0000e+01, 3.0000e+00, 1.0000e+00, 2.0000e+00]),\n",
       " array([  4.51173067,  90.35848851, 176.20524635, 262.05200419,\n",
       "        347.89876204, 433.74551988, 519.59227772, 605.43903556,\n",
       "        691.2857934 , 777.13255124, 862.97930908]),\n",
       " <BarContainer object of 10 artists>)"
      ]
     },
     "execution_count": 12,
     "metadata": {},
     "output_type": "execute_result"
    },
    {
     "data": {
      "image/png": "[encoded data removed]",
      "text/plain": [
       "<Figure size 640x480 with 1 Axes>"
      ]
     },
     "metadata": {},
     "output_type": "display_data"
    }
   ],
   "source": [
    "plt.hist(train_biomasses)"
   ]
  },
  {
   "cell_type": "code",
   "execution_count": 13,
   "metadata": {
    "ExecuteTime": {
     "end_time": "2023-04-09T15:20:18.376851Z",
     "start_time": "2023-04-09T15:20:18.120771Z"
    }
   },
   "outputs": [
    {
     "data": {
      "image/png": "[encoded data removed]",
      "text/plain": [
       "<Figure size 640x480 with 1 Axes>"
      ]
     },
     "metadata": {},
     "output_type": "display_data"
    }
   ],
   "source": [
    "def image_pos(index,f):\n",
    "    x=train_lat[index].reshape(225)\n",
    "    y=train_lon[index].reshape(225)\n",
    "    area=train_images[0,f].reshape(225)\n",
    "    #colors = np.random.rand(225)\n",
    "    plt.scatter(x, y, s=area\n",
    "                #,c=colors\n",
    "                ,alpha=0.5)\n",
    "image_pos(1,11)"
   ]
  },
  {
   "cell_type": "markdown",
   "metadata": {
    "id": "ffXv4PbxI5QS"
   },
   "source": [
    " **Below we explore the skewness of train dataset in each channel**"
   ]
  },
  {
   "cell_type": "code",
   "execution_count": 14,
   "metadata": {
    "ExecuteTime": {
     "end_time": "2023-04-09T15:20:21.860469Z",
     "start_time": "2023-04-09T15:20:19.888970Z"
    },
    "executionInfo": {
     "elapsed": 3367,
     "status": "ok",
     "timestamp": 1674723363080,
     "user": {
      "displayName": "Nelson Mganga",
      "userId": "15984282569117459010"
     },
     "user_tz": -180
    },
    "id": "CrCKjC-mSmJm"
   },
   "outputs": [],
   "source": [
    "band_skewness = []\n",
    "band_skewness_after_sqrt = []\n",
    "for c in range(12):\n",
    "    #calculate skewness\n",
    "    band_skewness.append(pd.Series(train_images[:,c].flatten()).skew())\n",
    "    #calculate skewness after applying sqrt\n",
    "    band_skewness_after_sqrt.append(pd.Series(np.sqrt(train_images[:,c].flatten())).skew())"
   ]
  },
  {
   "cell_type": "code",
   "execution_count": 15,
   "metadata": {
    "ExecuteTime": {
     "end_time": "2023-04-09T15:20:21.950359Z",
     "start_time": "2023-04-09T15:20:21.862048Z"
    },
    "colab": {
     "base_uri": "https://localhost:8080/",
     "height": 279
    },
    "executionInfo": {
     "elapsed": 7,
     "status": "ok",
     "timestamp": 1674723363081,
     "user": {
      "displayName": "Nelson Mganga",
      "userId": "15984282569117459010"
     },
     "user_tz": -180
    },
    "id": "mQuF1liYSppT",
    "outputId": "25110683-aea1-44d1-fe7a-f460c69d3ae7"
   },
   "outputs": [
    {
     "data": {
      "image/png": "[encoded data removed]",
      "text/plain": [
       "<Figure size 640x480 with 1 Axes>"
      ]
     },
     "metadata": {},
     "output_type": "display_data"
    }
   ],
   "source": [
    "# skweness\n",
    "width = 0.25\n",
    "\n",
    "rng = [i for i in range(0,12)]\n",
    "rng2 = [i+width for i in range(0,12)]\n",
    "\n",
    "plt.bar(rng, band_skewness, align='center', width = width, label='Original', color ='b')\n",
    "plt.bar(rng2, band_skewness_after_sqrt, align='center', width = width, label='After sqrt', color ='g')\n",
    "plt.gca().set_xticks(rng)\n",
    "plt.legend()\n",
    "plt.xlabel('Band ID')\n",
    "plt.ylabel('Skewness')\n",
    "plt.show()"
   ]
  },
  {
   "cell_type": "markdown",
   "metadata": {
    "id": "SYkqo_nDQlzS"
   },
   "source": [
    "# First Baseline With Sklearn"
   ]
  },
  {
   "cell_type": "code",
   "execution_count": 16,
   "metadata": {
    "ExecuteTime": {
     "end_time": "2023-04-09T15:20:22.110210Z",
     "start_time": "2023-04-09T15:20:21.951614Z"
    },
    "executionInfo": {
     "elapsed": 1159,
     "status": "ok",
     "timestamp": 1674723364234,
     "user": {
      "displayName": "Nelson Mganga",
      "userId": "15984282569117459010"
     },
     "user_tz": -180
    },
    "id": "is7xLI-1VzAW"
   },
   "outputs": [],
   "source": [
    "from sklearn.linear_model import LinearRegression,Ridge,Lasso\n",
    "from sklearn.svm import LinearSVR\n",
    "from sklearn.neighbors import KNeighborsRegressor\n",
    "from sklearn.ensemble import RandomForestRegressor, GradientBoostingRegressor\n",
    "from sklearn.model_selection import GridSearchCV,KFold, train_test_split\n",
    "from sklearn.pipeline import Pipeline\n",
    "from sklearn.metrics import mean_squared_error\n",
    "from sklearn import model_selection\n",
    "from sklearn.compose import ColumnTransformer\n",
    "from sklearn.impute import SimpleImputer\n",
    "from sklearn.preprocessing import StandardScaler,OneHotEncoder\n",
    "from sklearn.base import BaseEstimator, TransformerMixin\n",
    "from sklearn.decomposition import TruncatedSVD,PCA"
   ]
  },
  {
   "cell_type": "code",
   "execution_count": 17,
   "metadata": {
    "ExecuteTime": {
     "end_time": "2023-04-09T15:20:22.114702Z",
     "start_time": "2023-04-09T15:20:22.112413Z"
    },
    "executionInfo": {
     "elapsed": 3,
     "status": "ok",
     "timestamp": 1674723364234,
     "user": {
      "displayName": "Nelson Mganga",
      "userId": "15984282569117459010"
     },
     "user_tz": -180
    },
    "id": "t54SAWW6pr1S"
   },
   "outputs": [],
   "source": [
    "from sklearn import set_config\n",
    "set_config(display='diagram')"
   ]
  },
  {
   "cell_type": "code",
   "execution_count": 18,
   "metadata": {
    "ExecuteTime": {
     "end_time": "2023-04-09T15:20:22.423091Z",
     "start_time": "2023-04-09T15:20:22.419010Z"
    }
   },
   "outputs": [
    {
     "data": {
      "text/plain": [
       "((25036, 12, 15, 15),\n",
       " (25036, 15, 15, 1),\n",
       " (25036, 15, 15, 1),\n",
       " (25036, 15, 15, 1))"
      ]
     },
     "execution_count": 18,
     "metadata": {},
     "output_type": "execute_result"
    }
   ],
   "source": [
    "train_images.shape, train_lat.shape, train_lon.shape, train_cloud.shape"
   ]
  },
  {
   "cell_type": "code",
   "execution_count": 19,
   "metadata": {
    "ExecuteTime": {
     "end_time": "2023-04-09T15:20:22.883895Z",
     "start_time": "2023-04-09T15:20:22.766122Z"
    }
   },
   "outputs": [
    {
     "data": {
      "text/plain": [
       "((25036, 2700), (25036, 15), (25036, 225))"
      ]
     },
     "execution_count": 19,
     "metadata": {},
     "output_type": "execute_result"
    }
   ],
   "source": [
    "train_images.reshape((25036, 2700)).shape,train_lat[:,:,0].reshape((-1,15)).shape,train_cloud[:,:,:].reshape((-1,225)).shape"
   ]
  },
  {
   "cell_type": "code",
   "execution_count": 20,
   "metadata": {
    "ExecuteTime": {
     "end_time": "2023-04-09T15:20:23.011673Z",
     "start_time": "2023-04-09T15:20:22.925603Z"
    }
   },
   "outputs": [
    {
     "data": {
      "text/plain": [
       "(12,)"
      ]
     },
     "execution_count": 20,
     "metadata": {},
     "output_type": "execute_result"
    }
   ],
   "source": [
    "train_images.mean((0,2,3)).shape"
   ]
  },
  {
   "cell_type": "markdown",
   "metadata": {},
   "source": [
    "# Preprocessing"
   ]
  },
  {
   "cell_type": "code",
   "execution_count": 21,
   "metadata": {
    "ExecuteTime": {
     "end_time": "2023-04-09T15:20:24.625452Z",
     "start_time": "2023-04-09T15:20:23.749463Z"
    }
   },
   "outputs": [],
   "source": [
    "def preprocessing(trainset, is_test=False):\n",
    "    train_images = np.array(trainset['images'],dtype=np.float64)\n",
    "    train_images = train_images.transpose(0,3,1,2)\n",
    "\n",
    "    train_lat = np.array(trainset['lat'],dtype=np.float64)\n",
    "    train_lon = np.array(trainset['lon'],dtype=np.float64)\n",
    "    train_cloud = np.array(trainset['cloud'],dtype=np.float64)\n",
    "    train_scl = np.array(trainset['scl'],dtype=np.float64)\n",
    "\n",
    "    if not is_test:\n",
    "        train_biomasses = np.array(trainset['agbd'],dtype=np.float64)\n",
    "        Y= train_biomasses\n",
    "    X=np.concatenate((\n",
    "                    train_images.reshape((-1, 2700)), \n",
    "                    train_lat[:,:,0].reshape((-1,15)),\n",
    "                    train_lon[:,:,0].reshape((-1,15)),\n",
    "                    train_cloud[:,:,:].reshape((-1,225)),\n",
    "                    train_scl[:,:,:].reshape((-1,225))\n",
    "                                        \n",
    "                    ), axis=-1)\n",
    "    X=pd.DataFrame(X, columns=[f'image_{k}' for k in range(2700)]+[f'lat{k}' for k in range(15)]+[f'lon{k}' for k in range(15)]+[f'cloud_{k}' for k in range(225)]+[f'scl_{k}' for k in range(225)])\n",
    "    \n",
    "    return X,Y if not is_test else X\n",
    "X,Y=preprocessing(trainset)\n",
    "X_valide,Y_valide=preprocessing(validateset)"
   ]
  },
  {
   "cell_type": "code",
   "execution_count": 22,
   "metadata": {
    "ExecuteTime": {
     "end_time": "2023-04-09T15:20:24.746470Z",
     "start_time": "2023-04-09T15:20:24.728146Z"
    }
   },
   "outputs": [
    {
     "data": {
      "text/html": [
       "<div>\n",
       "<style scoped>\n",
       "    .dataframe tbody tr th:only-of-type {\n",
       "        vertical-align: middle;\n",
       "    }\n",
       "\n",
       "    .dataframe tbody tr th {\n",
       "        vertical-align: top;\n",
       "    }\n",
       "\n",
       "    .dataframe thead th {\n",
       "        text-align: right;\n",
       "    }\n",
       "</style>\n",
       "<table border=\"1\" class=\"dataframe\">\n",
       "  <thead>\n",
       "    <tr style=\"text-align: right;\">\n",
       "      <th></th>\n",
       "      <th>image_0</th>\n",
       "      <th>image_1</th>\n",
       "      <th>image_2</th>\n",
       "      <th>image_3</th>\n",
       "      <th>image_4</th>\n",
       "      <th>image_5</th>\n",
       "      <th>image_6</th>\n",
       "      <th>image_7</th>\n",
       "      <th>image_8</th>\n",
       "      <th>image_9</th>\n",
       "      <th>...</th>\n",
       "      <th>scl_215</th>\n",
       "      <th>scl_216</th>\n",
       "      <th>scl_217</th>\n",
       "      <th>scl_218</th>\n",
       "      <th>scl_219</th>\n",
       "      <th>scl_220</th>\n",
       "      <th>scl_221</th>\n",
       "      <th>scl_222</th>\n",
       "      <th>scl_223</th>\n",
       "      <th>scl_224</th>\n",
       "    </tr>\n",
       "  </thead>\n",
       "  <tbody>\n",
       "    <tr>\n",
       "      <th>0</th>\n",
       "      <td>354.0</td>\n",
       "      <td>353.0</td>\n",
       "      <td>353.0</td>\n",
       "      <td>353.0</td>\n",
       "      <td>353.0</td>\n",
       "      <td>352.0</td>\n",
       "      <td>352.0</td>\n",
       "      <td>352.0</td>\n",
       "      <td>351.0</td>\n",
       "      <td>351.0</td>\n",
       "      <td>...</td>\n",
       "      <td>4.0</td>\n",
       "      <td>4.0</td>\n",
       "      <td>4.0</td>\n",
       "      <td>4.0</td>\n",
       "      <td>4.0</td>\n",
       "      <td>4.0</td>\n",
       "      <td>4.0</td>\n",
       "      <td>4.0</td>\n",
       "      <td>4.0</td>\n",
       "      <td>4.0</td>\n",
       "    </tr>\n",
       "    <tr>\n",
       "      <th>1</th>\n",
       "      <td>354.0</td>\n",
       "      <td>354.0</td>\n",
       "      <td>354.0</td>\n",
       "      <td>354.0</td>\n",
       "      <td>354.0</td>\n",
       "      <td>354.0</td>\n",
       "      <td>354.0</td>\n",
       "      <td>353.0</td>\n",
       "      <td>352.0</td>\n",
       "      <td>351.0</td>\n",
       "      <td>...</td>\n",
       "      <td>4.0</td>\n",
       "      <td>4.0</td>\n",
       "      <td>4.0</td>\n",
       "      <td>4.0</td>\n",
       "      <td>4.0</td>\n",
       "      <td>4.0</td>\n",
       "      <td>4.0</td>\n",
       "      <td>4.0</td>\n",
       "      <td>4.0</td>\n",
       "      <td>4.0</td>\n",
       "    </tr>\n",
       "    <tr>\n",
       "      <th>2</th>\n",
       "      <td>374.0</td>\n",
       "      <td>371.0</td>\n",
       "      <td>368.0</td>\n",
       "      <td>366.0</td>\n",
       "      <td>364.0</td>\n",
       "      <td>363.0</td>\n",
       "      <td>362.0</td>\n",
       "      <td>361.0</td>\n",
       "      <td>360.0</td>\n",
       "      <td>360.0</td>\n",
       "      <td>...</td>\n",
       "      <td>4.0</td>\n",
       "      <td>4.0</td>\n",
       "      <td>4.0</td>\n",
       "      <td>4.0</td>\n",
       "      <td>4.0</td>\n",
       "      <td>4.0</td>\n",
       "      <td>4.0</td>\n",
       "      <td>4.0</td>\n",
       "      <td>4.0</td>\n",
       "      <td>4.0</td>\n",
       "    </tr>\n",
       "    <tr>\n",
       "      <th>3</th>\n",
       "      <td>752.0</td>\n",
       "      <td>749.0</td>\n",
       "      <td>742.0</td>\n",
       "      <td>731.0</td>\n",
       "      <td>715.0</td>\n",
       "      <td>694.0</td>\n",
       "      <td>667.0</td>\n",
       "      <td>631.0</td>\n",
       "      <td>588.0</td>\n",
       "      <td>541.0</td>\n",
       "      <td>...</td>\n",
       "      <td>4.0</td>\n",
       "      <td>4.0</td>\n",
       "      <td>4.0</td>\n",
       "      <td>4.0</td>\n",
       "      <td>4.0</td>\n",
       "      <td>4.0</td>\n",
       "      <td>4.0</td>\n",
       "      <td>4.0</td>\n",
       "      <td>4.0</td>\n",
       "      <td>4.0</td>\n",
       "    </tr>\n",
       "    <tr>\n",
       "      <th>4</th>\n",
       "      <td>404.0</td>\n",
       "      <td>404.0</td>\n",
       "      <td>404.0</td>\n",
       "      <td>404.0</td>\n",
       "      <td>405.0</td>\n",
       "      <td>406.0</td>\n",
       "      <td>406.0</td>\n",
       "      <td>407.0</td>\n",
       "      <td>407.0</td>\n",
       "      <td>407.0</td>\n",
       "      <td>...</td>\n",
       "      <td>4.0</td>\n",
       "      <td>4.0</td>\n",
       "      <td>4.0</td>\n",
       "      <td>4.0</td>\n",
       "      <td>4.0</td>\n",
       "      <td>4.0</td>\n",
       "      <td>4.0</td>\n",
       "      <td>4.0</td>\n",
       "      <td>4.0</td>\n",
       "      <td>4.0</td>\n",
       "    </tr>\n",
       "    <tr>\n",
       "      <th>...</th>\n",
       "      <td>...</td>\n",
       "      <td>...</td>\n",
       "      <td>...</td>\n",
       "      <td>...</td>\n",
       "      <td>...</td>\n",
       "      <td>...</td>\n",
       "      <td>...</td>\n",
       "      <td>...</td>\n",
       "      <td>...</td>\n",
       "      <td>...</td>\n",
       "      <td>...</td>\n",
       "      <td>...</td>\n",
       "      <td>...</td>\n",
       "      <td>...</td>\n",
       "      <td>...</td>\n",
       "      <td>...</td>\n",
       "      <td>...</td>\n",
       "      <td>...</td>\n",
       "      <td>...</td>\n",
       "      <td>...</td>\n",
       "      <td>...</td>\n",
       "    </tr>\n",
       "    <tr>\n",
       "      <th>5169</th>\n",
       "      <td>3076.0</td>\n",
       "      <td>3212.0</td>\n",
       "      <td>3443.0</td>\n",
       "      <td>3727.0</td>\n",
       "      <td>4020.0</td>\n",
       "      <td>4280.0</td>\n",
       "      <td>4475.0</td>\n",
       "      <td>4643.0</td>\n",
       "      <td>4796.0</td>\n",
       "      <td>4941.0</td>\n",
       "      <td>...</td>\n",
       "      <td>7.0</td>\n",
       "      <td>7.0</td>\n",
       "      <td>7.0</td>\n",
       "      <td>7.0</td>\n",
       "      <td>9.0</td>\n",
       "      <td>9.0</td>\n",
       "      <td>9.0</td>\n",
       "      <td>9.0</td>\n",
       "      <td>9.0</td>\n",
       "      <td>9.0</td>\n",
       "    </tr>\n",
       "    <tr>\n",
       "      <th>5170</th>\n",
       "      <td>898.0</td>\n",
       "      <td>878.0</td>\n",
       "      <td>867.0</td>\n",
       "      <td>867.0</td>\n",
       "      <td>878.0</td>\n",
       "      <td>898.0</td>\n",
       "      <td>923.0</td>\n",
       "      <td>948.0</td>\n",
       "      <td>972.0</td>\n",
       "      <td>989.0</td>\n",
       "      <td>...</td>\n",
       "      <td>7.0</td>\n",
       "      <td>4.0</td>\n",
       "      <td>4.0</td>\n",
       "      <td>4.0</td>\n",
       "      <td>4.0</td>\n",
       "      <td>4.0</td>\n",
       "      <td>4.0</td>\n",
       "      <td>4.0</td>\n",
       "      <td>4.0</td>\n",
       "      <td>5.0</td>\n",
       "    </tr>\n",
       "    <tr>\n",
       "      <th>5171</th>\n",
       "      <td>3354.0</td>\n",
       "      <td>3385.0</td>\n",
       "      <td>3392.0</td>\n",
       "      <td>3391.0</td>\n",
       "      <td>3345.0</td>\n",
       "      <td>3273.0</td>\n",
       "      <td>3180.0</td>\n",
       "      <td>3067.0</td>\n",
       "      <td>2935.0</td>\n",
       "      <td>2785.0</td>\n",
       "      <td>...</td>\n",
       "      <td>4.0</td>\n",
       "      <td>4.0</td>\n",
       "      <td>4.0</td>\n",
       "      <td>4.0</td>\n",
       "      <td>4.0</td>\n",
       "      <td>4.0</td>\n",
       "      <td>4.0</td>\n",
       "      <td>4.0</td>\n",
       "      <td>4.0</td>\n",
       "      <td>4.0</td>\n",
       "    </tr>\n",
       "    <tr>\n",
       "      <th>5172</th>\n",
       "      <td>376.0</td>\n",
       "      <td>373.0</td>\n",
       "      <td>370.0</td>\n",
       "      <td>365.0</td>\n",
       "      <td>361.0</td>\n",
       "      <td>356.0</td>\n",
       "      <td>353.0</td>\n",
       "      <td>350.0</td>\n",
       "      <td>347.0</td>\n",
       "      <td>344.0</td>\n",
       "      <td>...</td>\n",
       "      <td>4.0</td>\n",
       "      <td>4.0</td>\n",
       "      <td>4.0</td>\n",
       "      <td>4.0</td>\n",
       "      <td>4.0</td>\n",
       "      <td>4.0</td>\n",
       "      <td>4.0</td>\n",
       "      <td>4.0</td>\n",
       "      <td>4.0</td>\n",
       "      <td>4.0</td>\n",
       "    </tr>\n",
       "    <tr>\n",
       "      <th>5173</th>\n",
       "      <td>387.0</td>\n",
       "      <td>380.0</td>\n",
       "      <td>370.0</td>\n",
       "      <td>357.0</td>\n",
       "      <td>344.0</td>\n",
       "      <td>334.0</td>\n",
       "      <td>329.0</td>\n",
       "      <td>326.0</td>\n",
       "      <td>325.0</td>\n",
       "      <td>325.0</td>\n",
       "      <td>...</td>\n",
       "      <td>4.0</td>\n",
       "      <td>4.0</td>\n",
       "      <td>4.0</td>\n",
       "      <td>4.0</td>\n",
       "      <td>4.0</td>\n",
       "      <td>4.0</td>\n",
       "      <td>4.0</td>\n",
       "      <td>4.0</td>\n",
       "      <td>4.0</td>\n",
       "      <td>4.0</td>\n",
       "    </tr>\n",
       "  </tbody>\n",
       "</table>\n",
       "<p>5174 rows × 3180 columns</p>\n",
       "</div>"
      ],
      "text/plain": [
       "      image_0  image_1  image_2  image_3  image_4  image_5  image_6  image_7  \\\n",
       "0       354.0    353.0    353.0    353.0    353.0    352.0    352.0    352.0   \n",
       "1       354.0    354.0    354.0    354.0    354.0    354.0    354.0    353.0   \n",
       "2       374.0    371.0    368.0    366.0    364.0    363.0    362.0    361.0   \n",
       "3       752.0    749.0    742.0    731.0    715.0    694.0    667.0    631.0   \n",
       "4       404.0    404.0    404.0    404.0    405.0    406.0    406.0    407.0   \n",
       "...       ...      ...      ...      ...      ...      ...      ...      ...   \n",
       "5169   3076.0   3212.0   3443.0   3727.0   4020.0   4280.0   4475.0   4643.0   \n",
       "5170    898.0    878.0    867.0    867.0    878.0    898.0    923.0    948.0   \n",
       "5171   3354.0   3385.0   3392.0   3391.0   3345.0   3273.0   3180.0   3067.0   \n",
       "5172    376.0    373.0    370.0    365.0    361.0    356.0    353.0    350.0   \n",
       "5173    387.0    380.0    370.0    357.0    344.0    334.0    329.0    326.0   \n",
       "\n",
       "      image_8  image_9  ...  scl_215  scl_216  scl_217  scl_218  scl_219  \\\n",
       "0       351.0    351.0  ...      4.0      4.0      4.0      4.0      4.0   \n",
       "1       352.0    351.0  ...      4.0      4.0      4.0      4.0      4.0   \n",
       "2       360.0    360.0  ...      4.0      4.0      4.0      4.0      4.0   \n",
       "3       588.0    541.0  ...      4.0      4.0      4.0      4.0      4.0   \n",
       "4       407.0    407.0  ...      4.0      4.0      4.0      4.0      4.0   \n",
       "...       ...      ...  ...      ...      ...      ...      ...      ...   \n",
       "5169   4796.0   4941.0  ...      7.0      7.0      7.0      7.0      9.0   \n",
       "5170    972.0    989.0  ...      7.0      4.0      4.0      4.0      4.0   \n",
       "5171   2935.0   2785.0  ...      4.0      4.0      4.0      4.0      4.0   \n",
       "5172    347.0    344.0  ...      4.0      4.0      4.0      4.0      4.0   \n",
       "5173    325.0    325.0  ...      4.0      4.0      4.0      4.0      4.0   \n",
       "\n",
       "      scl_220  scl_221  scl_222  scl_223  scl_224  \n",
       "0         4.0      4.0      4.0      4.0      4.0  \n",
       "1         4.0      4.0      4.0      4.0      4.0  \n",
       "2         4.0      4.0      4.0      4.0      4.0  \n",
       "3         4.0      4.0      4.0      4.0      4.0  \n",
       "4         4.0      4.0      4.0      4.0      4.0  \n",
       "...       ...      ...      ...      ...      ...  \n",
       "5169      9.0      9.0      9.0      9.0      9.0  \n",
       "5170      4.0      4.0      4.0      4.0      5.0  \n",
       "5171      4.0      4.0      4.0      4.0      4.0  \n",
       "5172      4.0      4.0      4.0      4.0      4.0  \n",
       "5173      4.0      4.0      4.0      4.0      4.0  \n",
       "\n",
       "[5174 rows x 3180 columns]"
      ]
     },
     "execution_count": 22,
     "metadata": {},
     "output_type": "execute_result"
    }
   ],
   "source": [
    "X_valide"
   ]
  },
  {
   "cell_type": "code",
   "execution_count": 23,
   "metadata": {
    "ExecuteTime": {
     "end_time": "2023-04-09T15:20:41.277202Z",
     "start_time": "2023-04-09T15:20:41.274039Z"
    }
   },
   "outputs": [
    {
     "data": {
      "text/plain": [
       "(5174, 3180)"
      ]
     },
     "execution_count": 23,
     "metadata": {},
     "output_type": "execute_result"
    }
   ],
   "source": [
    "X_valide.shape"
   ]
  },
  {
   "cell_type": "code",
   "execution_count": 23,
   "metadata": {
    "ExecuteTime": {
     "end_time": "2023-03-22T21:07:20.441091Z",
     "start_time": "2023-03-22T21:07:20.429005Z"
    }
   },
   "outputs": [
    {
     "data": {
      "text/html": [
       "<div>\n",
       "<style scoped>\n",
       "    .dataframe tbody tr th:only-of-type {\n",
       "        vertical-align: middle;\n",
       "    }\n",
       "\n",
       "    .dataframe tbody tr th {\n",
       "        vertical-align: top;\n",
       "    }\n",
       "\n",
       "    .dataframe thead th {\n",
       "        text-align: right;\n",
       "    }\n",
       "</style>\n",
       "<table border=\"1\" class=\"dataframe\">\n",
       "  <thead>\n",
       "    <tr style=\"text-align: right;\">\n",
       "      <th></th>\n",
       "      <th>image_0</th>\n",
       "      <th>image_1</th>\n",
       "      <th>image_2</th>\n",
       "      <th>image_3</th>\n",
       "      <th>image_4</th>\n",
       "      <th>image_5</th>\n",
       "      <th>image_6</th>\n",
       "      <th>image_7</th>\n",
       "      <th>image_8</th>\n",
       "      <th>image_9</th>\n",
       "      <th>...</th>\n",
       "      <th>scl_215</th>\n",
       "      <th>scl_216</th>\n",
       "      <th>scl_217</th>\n",
       "      <th>scl_218</th>\n",
       "      <th>scl_219</th>\n",
       "      <th>scl_220</th>\n",
       "      <th>scl_221</th>\n",
       "      <th>scl_222</th>\n",
       "      <th>scl_223</th>\n",
       "      <th>scl_224</th>\n",
       "    </tr>\n",
       "  </thead>\n",
       "  <tbody>\n",
       "    <tr>\n",
       "      <th>0</th>\n",
       "      <td>283.0</td>\n",
       "      <td>283.0</td>\n",
       "      <td>286.0</td>\n",
       "      <td>291.0</td>\n",
       "      <td>298.0</td>\n",
       "      <td>308.0</td>\n",
       "      <td>321.0</td>\n",
       "      <td>336.0</td>\n",
       "      <td>353.0</td>\n",
       "      <td>373.0</td>\n",
       "      <td>...</td>\n",
       "      <td>4.0</td>\n",
       "      <td>4.0</td>\n",
       "      <td>4.0</td>\n",
       "      <td>4.0</td>\n",
       "      <td>4.0</td>\n",
       "      <td>4.0</td>\n",
       "      <td>4.0</td>\n",
       "      <td>4.0</td>\n",
       "      <td>4.0</td>\n",
       "      <td>4.0</td>\n",
       "    </tr>\n",
       "    <tr>\n",
       "      <th>1</th>\n",
       "      <td>175.0</td>\n",
       "      <td>175.0</td>\n",
       "      <td>175.0</td>\n",
       "      <td>175.0</td>\n",
       "      <td>175.0</td>\n",
       "      <td>175.0</td>\n",
       "      <td>175.0</td>\n",
       "      <td>175.0</td>\n",
       "      <td>175.0</td>\n",
       "      <td>175.0</td>\n",
       "      <td>...</td>\n",
       "      <td>4.0</td>\n",
       "      <td>4.0</td>\n",
       "      <td>4.0</td>\n",
       "      <td>4.0</td>\n",
       "      <td>4.0</td>\n",
       "      <td>4.0</td>\n",
       "      <td>4.0</td>\n",
       "      <td>4.0</td>\n",
       "      <td>4.0</td>\n",
       "      <td>4.0</td>\n",
       "    </tr>\n",
       "    <tr>\n",
       "      <th>2</th>\n",
       "      <td>321.0</td>\n",
       "      <td>320.0</td>\n",
       "      <td>318.0</td>\n",
       "      <td>318.0</td>\n",
       "      <td>320.0</td>\n",
       "      <td>325.0</td>\n",
       "      <td>330.0</td>\n",
       "      <td>336.0</td>\n",
       "      <td>342.0</td>\n",
       "      <td>345.0</td>\n",
       "      <td>...</td>\n",
       "      <td>4.0</td>\n",
       "      <td>4.0</td>\n",
       "      <td>4.0</td>\n",
       "      <td>4.0</td>\n",
       "      <td>4.0</td>\n",
       "      <td>4.0</td>\n",
       "      <td>4.0</td>\n",
       "      <td>4.0</td>\n",
       "      <td>4.0</td>\n",
       "      <td>4.0</td>\n",
       "    </tr>\n",
       "    <tr>\n",
       "      <th>3</th>\n",
       "      <td>319.0</td>\n",
       "      <td>319.0</td>\n",
       "      <td>320.0</td>\n",
       "      <td>322.0</td>\n",
       "      <td>325.0</td>\n",
       "      <td>328.0</td>\n",
       "      <td>330.0</td>\n",
       "      <td>332.0</td>\n",
       "      <td>333.0</td>\n",
       "      <td>334.0</td>\n",
       "      <td>...</td>\n",
       "      <td>4.0</td>\n",
       "      <td>4.0</td>\n",
       "      <td>4.0</td>\n",
       "      <td>4.0</td>\n",
       "      <td>4.0</td>\n",
       "      <td>4.0</td>\n",
       "      <td>4.0</td>\n",
       "      <td>4.0</td>\n",
       "      <td>4.0</td>\n",
       "      <td>4.0</td>\n",
       "    </tr>\n",
       "    <tr>\n",
       "      <th>4</th>\n",
       "      <td>311.0</td>\n",
       "      <td>311.0</td>\n",
       "      <td>311.0</td>\n",
       "      <td>311.0</td>\n",
       "      <td>313.0</td>\n",
       "      <td>315.0</td>\n",
       "      <td>319.0</td>\n",
       "      <td>323.0</td>\n",
       "      <td>327.0</td>\n",
       "      <td>330.0</td>\n",
       "      <td>...</td>\n",
       "      <td>4.0</td>\n",
       "      <td>4.0</td>\n",
       "      <td>4.0</td>\n",
       "      <td>4.0</td>\n",
       "      <td>4.0</td>\n",
       "      <td>4.0</td>\n",
       "      <td>4.0</td>\n",
       "      <td>4.0</td>\n",
       "      <td>4.0</td>\n",
       "      <td>4.0</td>\n",
       "    </tr>\n",
       "  </tbody>\n",
       "</table>\n",
       "<p>5 rows × 3180 columns</p>\n",
       "</div>"
      ],
      "text/plain": [
       "   image_0  image_1  image_2  image_3  image_4  image_5  image_6  image_7  \\\n",
       "0    283.0    283.0    286.0    291.0    298.0    308.0    321.0    336.0   \n",
       "1    175.0    175.0    175.0    175.0    175.0    175.0    175.0    175.0   \n",
       "2    321.0    320.0    318.0    318.0    320.0    325.0    330.0    336.0   \n",
       "3    319.0    319.0    320.0    322.0    325.0    328.0    330.0    332.0   \n",
       "4    311.0    311.0    311.0    311.0    313.0    315.0    319.0    323.0   \n",
       "\n",
       "   image_8  image_9  ...  scl_215  scl_216  scl_217  scl_218  scl_219  \\\n",
       "0    353.0    373.0  ...      4.0      4.0      4.0      4.0      4.0   \n",
       "1    175.0    175.0  ...      4.0      4.0      4.0      4.0      4.0   \n",
       "2    342.0    345.0  ...      4.0      4.0      4.0      4.0      4.0   \n",
       "3    333.0    334.0  ...      4.0      4.0      4.0      4.0      4.0   \n",
       "4    327.0    330.0  ...      4.0      4.0      4.0      4.0      4.0   \n",
       "\n",
       "   scl_220  scl_221  scl_222  scl_223  scl_224  \n",
       "0      4.0      4.0      4.0      4.0      4.0  \n",
       "1      4.0      4.0      4.0      4.0      4.0  \n",
       "2      4.0      4.0      4.0      4.0      4.0  \n",
       "3      4.0      4.0      4.0      4.0      4.0  \n",
       "4      4.0      4.0      4.0      4.0      4.0  \n",
       "\n",
       "[5 rows x 3180 columns]"
      ]
     },
     "execution_count": 23,
     "metadata": {},
     "output_type": "execute_result"
    }
   ],
   "source": [
    "X.head()"
   ]
  },
  {
   "cell_type": "markdown",
   "metadata": {
    "id": "PVAxS2EwqKiW"
   },
   "source": [
    "## Modelisation"
   ]
  },
  {
   "cell_type": "code",
   "execution_count": 24,
   "metadata": {
    "ExecuteTime": {
     "end_time": "2023-04-09T15:20:53.049848Z",
     "start_time": "2023-04-09T15:20:53.046738Z"
    }
   },
   "outputs": [],
   "source": [
    "def generate_pipeline(model,num_feat, cat_feat):\n",
    "    # We create the preprocessing pipelines for both numeric and categorical data.\n",
    "\n",
    "    numeric_transformer = Pipeline(steps=[\n",
    "        ('imputer', SimpleImputer(strategy='median')),\n",
    "        ('scaler', StandardScaler())])\n",
    "    \n",
    "    categorical_transformer = Pipeline(steps=[\n",
    "        ('imputer', SimpleImputer(strategy='constant', fill_value='missing')),\n",
    "        ('onehot', OneHotEncoder(handle_unknown='ignore'))])\n",
    "\n",
    "    preprocessor = ColumnTransformer(\n",
    "        transformers=[\n",
    "            ('num', numeric_transformer, num_feat),\n",
    "            ('cat', categorical_transformer, cat_feat)])\n",
    "    \n",
    "    # Append classifier to preprocessing pipeline.\n",
    "    # Now we have a full prediction pipeline.\n",
    "    \n",
    "    clf = Pipeline(steps=[('preprocessor', preprocessor),\n",
    "                              ('dim_reduction',PCA(n_components=30)),\n",
    "                              ('regressor', model)])\n",
    "    return clf\n",
    "\n",
    "clf=generate_pipeline(RandomForestRegressor(), X.columns, [])"
   ]
  },
  {
   "cell_type": "markdown",
   "metadata": {},
   "source": [
    "## convert To tensor Dataset\n"
   ]
  },
  {
   "cell_type": "code",
   "execution_count": 25,
   "metadata": {
    "ExecuteTime": {
     "end_time": "2023-04-09T15:21:38.261485Z",
     "start_time": "2023-04-09T15:21:38.259066Z"
    }
   },
   "outputs": [],
   "source": [
    "from sklearn.metrics import mean_squared_error"
   ]
  },
  {
   "cell_type": "code",
   "execution_count": 26,
   "metadata": {
    "ExecuteTime": {
     "end_time": "2023-04-09T15:21:48.428769Z",
     "start_time": "2023-04-09T15:21:48.377926Z"
    }
   },
   "outputs": [],
   "source": [
    "from sklearn.tree import DecisionTreeRegressor\n",
    "from sklearn.naive_bayes import GaussianNB\n",
    "from sklearn.linear_model import SGDRegressor\n",
    "from sklearn.svm import LinearSVR, NuSVR\n",
    "from xgboost  import XGBRFRegressor\n",
    "from sklearn.ensemble import StackingRegressor, BaggingRegressor\n",
    "\n",
    "models=[\n",
    "    ('DecisionTreeRegressor',DecisionTreeRegressor()),\n",
    "    ('GaussianNB',GaussianNB()),\n",
    "    ('SGDRegressor',SGDRegressor()),\n",
    "    ('LinearSVR',LinearSVR()),\n",
    "    ('NuSVR',NuSVR()),\n",
    "    ('XGBRFRegressor',XGBRFRegressor()),\n",
    "    ('RandomForestRegressor', RandomForestRegressor())\n",
    "    #('LinearSVR',LinearSVR()),\n",
    "]"
   ]
  },
  {
   "cell_type": "code",
   "execution_count": 27,
   "metadata": {
    "ExecuteTime": {
     "end_time": "2023-03-22T21:07:23.974495Z",
     "start_time": "2023-03-22T21:07:23.972243Z"
    }
   },
   "outputs": [],
   "source": [
    "\n",
    "np.random.seed(seed=42)"
   ]
  },
  {
   "cell_type": "code",
   "execution_count": 28,
   "metadata": {
    "ExecuteTime": {
     "end_time": "2023-03-22T21:07:24.456003Z",
     "start_time": "2023-03-22T21:07:24.451849Z"
    }
   },
   "outputs": [],
   "source": [
    "\n",
    "def train_cross(models, top_model, X,Y):\n",
    "    results=[]\n",
    "    models_=[]\n",
    "    cv=KFold(n_splits=len(models))\n",
    "    X, X_top, Y, Y_top = train_test_split(\n",
    "              X, Y, test_size=0.25, random_state=42)\n",
    "    \n",
    "    for i,(train_index, test_index) in enumerate(cv.split(X,Y)):\n",
    "        print(f'>>> the split {i} ')\n",
    "        md=models[i][1]\n",
    "        X_train,Y_train=X.iloc[train_index], Y[train_index]\n",
    "        X_test ,Y_test=X.iloc[test_index], Y[test_index]\n",
    "        clf=generate_pipeline(md, X.columns, [])\n",
    "        clf.fit(X_train,Y_train)\n",
    "        prediction=clf.predict(X_test)\n",
    "        result=np.sqrt(mean_squared_error(Y_test, prediction))\n",
    "        print(f\">>>> the sqrtmse {result}\")\n",
    "        results.append(result)\n",
    "        models_.append((f'model_{i}',clf))\n",
    "    stack=StackingRegressor(estimators=models_, final_estimator=top_model, cv='prefit')\n",
    "    stack.fit(X_top, Y_top)\n",
    "    result_stack=np.sqrt(mean_squared_error(Y, stack.predict(X)))\n",
    "    print(f\">>>> the result of the stack on the other part of the data is {result_stack}\")\n",
    "    \n",
    "    \n",
    "    return models_,results,result_stack,stack\n",
    "\n",
    "    \n",
    "    "
   ]
  },
  {
   "cell_type": "code",
   "execution_count": 74,
   "metadata": {
    "ExecuteTime": {
     "end_time": "2023-03-21T18:36:15.137575Z",
     "start_time": "2023-03-21T18:34:58.955542Z"
    }
   },
   "outputs": [
    {
     "name": "stdout",
     "output_type": "stream",
     "text": [
      ">>> the split 0 \n",
      ">>>> the sqrtmse 56.43532429938681\n",
      ">>> the split 1 \n",
      ">>>> the sqrtmse 53.5178288592946\n",
      ">>> the split 2 \n",
      ">>>> the sqrtmse 55.26323546217392\n",
      ">>>> the result of the stack on the other part of the data is 53.089686722571635\n"
     ]
    }
   ],
   "source": [
    "#mod,res,result_stack, stack=train_cross([ (f'XGBRFRegressor_{k}',XGBRFRegressor()) for k in range(3) ],XGBRFRegressor(),X,Y)"
   ]
  },
  {
   "cell_type": "code",
   "execution_count": 76,
   "metadata": {
    "ExecuteTime": {
     "end_time": "2023-03-21T18:38:38.329808Z",
     "start_time": "2023-03-21T18:38:33.092975Z"
    }
   },
   "outputs": [
    {
     "name": "stdout",
     "output_type": "stream",
     "text": [
      "model_1 prediction\n",
      "model_2 prediction\n"
     ]
    },
    {
     "data": {
      "text/plain": [
       "(62.60397911444443, [53.262656508861085, 52.95711451828585, 53.21542301992689])"
      ]
     },
     "execution_count": 76,
     "metadata": {},
     "output_type": "execute_result"
    }
   ],
   "source": [
    "def evaluate_by_model_stack(models, X,Y):\n",
    "    return [np.sqrt(mean_squared_error(Y, k.predict(X))) for name, k in models]\n",
    "def evaluate_stack(models, X,Y):\n",
    "    prediction=models[0][1].predict(X)\n",
    "    for name,mod in models[1:]:\n",
    "        prediction+=mod.predict(X)\n",
    "        print(f'{name} prediction')\n",
    "    return np.sqrt( mean_squared_error( Y, prediction/len(models)))\n",
    "\n",
    "evaluate_stack( mod, X_valide,Y_valide),evaluate_by_model_stack(mod,X,Y)\n",
    "#xgb (62.686876149809216, [53.25848247989811, 52.88690403605642, 53.47845277555761])"
   ]
  },
  {
   "cell_type": "code",
   "execution_count": 61,
   "metadata": {
    "ExecuteTime": {
     "end_time": "2023-03-21T18:29:04.543339Z",
     "start_time": "2023-03-21T18:29:02.794782Z"
    }
   },
   "outputs": [
    {
     "data": {
      "text/plain": [
       "1837330672932.0623"
      ]
     },
     "execution_count": 61,
     "metadata": {},
     "output_type": "execute_result"
    }
   ],
   "source": [
    "np.sqrt( mean_squared_error( Y_valide, stack.predict(X_valide)))"
   ]
  },
  {
   "cell_type": "code",
   "execution_count": 36,
   "metadata": {
    "ExecuteTime": {
     "end_time": "2023-03-22T20:46:50.880749Z",
     "start_time": "2023-03-22T20:18:58.718529Z"
    }
   },
   "outputs": [
    {
     "name": "stderr",
     "output_type": "stream",
     "text": [
      "\u001b[32m[I 2023-03-22 21:18:58,755]\u001b[0m A new study created in memory with name: no-name-ef0113b3-988d-4ff5-8642-e1f940810af3\u001b[0m\n"
     ]
    },
    {
     "name": "stdout",
     "output_type": "stream",
     "text": [
      ">>> the split 0 \n",
      ">>>> the sqrtmse 55.789371299457265\n",
      ">>> the split 1 \n",
      ">>>> the sqrtmse 53.38761927765887\n",
      ">>> the split 2 \n",
      ">>>> the sqrtmse 54.909824707092255\n"
     ]
    },
    {
     "name": "stderr",
     "output_type": "stream",
     "text": [
      "\u001b[32m[I 2023-03-22 21:26:11,006]\u001b[0m Trial 0 finished with value: 97.0067839636101 and parameters: {'n_estimators': 1285, 'max_depth': 12, 'gamma': 1, 'min_child_weight': 1, 'max_leaves': 1, 'n_estimators_top': 165, 'max_depth_top': 19, 'gamma_top': 1, 'min_child_weight_top': 1, 'max_leaves_top': 1}. Best is trial 0 with value: 97.0067839636101.\u001b[0m\n"
     ]
    },
    {
     "name": "stdout",
     "output_type": "stream",
     "text": [
      ">>>> the result of the stack on the other part of the data is 42.311178868873974\n",
      ">>> the split 0 \n",
      ">>>> the sqrtmse 55.85263449083537\n",
      ">>> the split 1 \n",
      ">>>> the sqrtmse 53.427593619256996\n",
      ">>> the split 2 \n",
      ">>>> the sqrtmse 54.862679602696545\n"
     ]
    },
    {
     "name": "stderr",
     "output_type": "stream",
     "text": [
      "\u001b[32m[I 2023-03-22 21:31:09,431]\u001b[0m Trial 1 finished with value: 94.90218134698554 and parameters: {'n_estimators': 554, 'max_depth': 13, 'gamma': 0, 'min_child_weight': 0, 'max_leaves': 1, 'n_estimators_top': 1325, 'max_depth_top': 15, 'gamma_top': 1, 'min_child_weight_top': 0, 'max_leaves_top': 1}. Best is trial 1 with value: 94.90218134698554.\u001b[0m\n"
     ]
    },
    {
     "name": "stdout",
     "output_type": "stream",
     "text": [
      ">>>> the result of the stack on the other part of the data is 40.1878787760559\n",
      ">>> the split 0 \n",
      ">>>> the sqrtmse 55.94119114667716\n",
      ">>> the split 1 \n",
      ">>>> the sqrtmse 53.488030442590876\n",
      ">>> the split 2 \n",
      ">>>> the sqrtmse 54.92223194813502\n"
     ]
    },
    {
     "name": "stderr",
     "output_type": "stream",
     "text": [
      "\u001b[32m[I 2023-03-22 21:34:34,748]\u001b[0m Trial 2 finished with value: 92.12273386690703 and parameters: {'n_estimators': 384, 'max_depth': 15, 'gamma': 1, 'min_child_weight': 0, 'max_leaves': 0, 'n_estimators_top': 838, 'max_depth_top': 15, 'gamma_top': 0, 'min_child_weight_top': 1, 'max_leaves_top': 0}. Best is trial 2 with value: 92.12273386690703.\u001b[0m\n"
     ]
    },
    {
     "name": "stdout",
     "output_type": "stream",
     "text": [
      ">>>> the result of the stack on the other part of the data is 37.338916021105995\n",
      ">>> the split 0 \n",
      ">>>> the sqrtmse 55.80712460440047\n",
      ">>> the split 1 \n",
      ">>>> the sqrtmse 53.53815640174814\n",
      ">>> the split 2 \n",
      ">>>> the sqrtmse 54.87076987393927\n"
     ]
    },
    {
     "name": "stderr",
     "output_type": "stream",
     "text": [
      "\u001b[32m[I 2023-03-22 21:41:00,214]\u001b[0m Trial 3 finished with value: 88.45822296514622 and parameters: {'n_estimators': 671, 'max_depth': 16, 'gamma': 0, 'min_child_weight': 1, 'max_leaves': 0, 'n_estimators_top': 439, 'max_depth_top': 5, 'gamma_top': 0, 'min_child_weight_top': 0, 'max_leaves_top': 0}. Best is trial 3 with value: 88.45822296514622.\u001b[0m\n"
     ]
    },
    {
     "name": "stdout",
     "output_type": "stream",
     "text": [
      ">>>> the result of the stack on the other part of the data is 33.719539338450254\n",
      ">>> the split 0 \n",
      ">>>> the sqrtmse 55.801693558021924\n",
      ">>> the split 1 \n",
      ">>>> the sqrtmse 53.49733080441462\n",
      ">>> the split 2 \n",
      ">>>> the sqrtmse 54.89205859600341\n"
     ]
    },
    {
     "name": "stderr",
     "output_type": "stream",
     "text": [
      "\u001b[32m[I 2023-03-22 21:46:50,876]\u001b[0m Trial 4 finished with value: 90.89485595706353 and parameters: {'n_estimators': 842, 'max_depth': 15, 'gamma': 0, 'min_child_weight': 0, 'max_leaves': 0, 'n_estimators_top': 644, 'max_depth_top': 11, 'gamma_top': 0, 'min_child_weight_top': 0, 'max_leaves_top': 1}. Best is trial 3 with value: 88.45822296514622.\u001b[0m\n"
     ]
    },
    {
     "name": "stdout",
     "output_type": "stream",
     "text": [
      ">>>> the result of the stack on the other part of the data is 36.16449497091688\n"
     ]
    }
   ],
   "source": [
    "import optuna\n",
    "from functools import partial\n",
    "\n",
    "def optimize(trial, X, Y ):\n",
    "    \n",
    "    n_estimators=trial.suggest_int('n_estimators',100,1500)\n",
    "    max_depth=trial.suggest_int('max_depth',5,20)\n",
    "    gamma=trial.suggest_int('gamma',0.1,1)\n",
    "    min_child_weight=trial.suggest_int('min_child_weight',0.1,1)\n",
    "    max_leaves=trial.suggest_int('max_leaves',0.1,1)\n",
    "    \n",
    "    n_estimators_top=trial.suggest_int('n_estimators_top',100,1500)\n",
    "    max_depth_top=trial.suggest_int('max_depth_top',5,20)\n",
    "    gamma_top=trial.suggest_int('gamma_top',0.1,1)\n",
    "    min_child_weight_top=trial.suggest_int('min_child_weight_top',0.1,1)\n",
    "    max_leaves_top=trial.suggest_int('max_leaves_top',0.1,1)\n",
    "    \n",
    "    models=[ (f'XGBRFRegressor_{k}',XGBRFRegressor(n_estimators=n_estimators,\n",
    "                                                   max_depth=max_depth,\n",
    "                                                   gamma=gamma,\n",
    "                                                   min_child_weight=min_child_weight,\n",
    "                                                   max_leaves=max_leaves\n",
    "                                                   \n",
    "                                                    )) for k in range(3) ]\n",
    "    mod,res, result_stack,stack=train_cross(models,XGBRFRegressor(n_estimators=n_estimators_top,\n",
    "                                                   max_depth=max_depth_top,\n",
    "                                                   gamma=gamma_top,\n",
    "                                                   min_child_weight=min_child_weight_top,\n",
    "                                                   max_leaves=max_leaves_top),X,Y)\n",
    "    return np.mean(res)+result_stack\n",
    "optimization_function=partial( optimize, X=X,Y=Y)\n",
    "study= optuna.create_study(direction='minimize')\n",
    "study.optimize(optimization_function, n_trials=5)"
   ]
  },
  {
   "cell_type": "code",
   "execution_count": 31,
   "metadata": {
    "ExecuteTime": {
     "end_time": "2023-03-22T19:59:01.890669Z",
     "start_time": "2023-03-22T19:59:01.887245Z"
    }
   },
   "outputs": [],
   "source": [
    "# Trial 3 finished with value: 88.45822296514622 and parameters:\n",
    "#{'n_estimators': 671, 'max_depth': 16, 'gamma': 0, 'min_child_weight': 1,\n",
    "#'max_leaves': 0, 'n_estimators_top': 439, 'max_depth_top': 5, 'gamma_top': 0, \n",
    "#'min_child_weight_top': 0, 'max_leaves_top': 0}. \n",
    "#Best is trial 3 with value: 88.45822296514622."
   ]
  },
  {
   "cell_type": "code",
   "execution_count": 29,
   "metadata": {
    "ExecuteTime": {
     "end_time": "2023-03-22T21:07:28.956277Z",
     "start_time": "2023-03-22T21:07:28.837259Z"
    }
   },
   "outputs": [],
   "source": [
    "X_all=pd.concat([X,X_valide])\n",
    "Y_all=np.concatenate([Y,Y_valide])"
   ]
  },
  {
   "cell_type": "code",
   "execution_count": 30,
   "metadata": {
    "ExecuteTime": {
     "end_time": "2023-03-22T21:07:28.980927Z",
     "start_time": "2023-03-22T21:07:28.978088Z"
    }
   },
   "outputs": [
    {
     "data": {
      "text/plain": [
       "(5174, 3180)"
      ]
     },
     "execution_count": 30,
     "metadata": {},
     "output_type": "execute_result"
    }
   ],
   "source": [
    "X_valide.shape"
   ]
  },
  {
   "cell_type": "code",
   "execution_count": 31,
   "metadata": {
    "ExecuteTime": {
     "end_time": "2023-03-22T21:07:29.119544Z",
     "start_time": "2023-03-22T21:07:29.116141Z"
    }
   },
   "outputs": [
    {
     "data": {
      "text/plain": [
       "((30210, 3180), (25036, 3180))"
      ]
     },
     "execution_count": 31,
     "metadata": {},
     "output_type": "execute_result"
    }
   ],
   "source": [
    "X_all.shape, X.shape"
   ]
  },
  {
   "cell_type": "code",
   "execution_count": 32,
   "metadata": {
    "ExecuteTime": {
     "end_time": "2023-03-22T21:13:50.438307Z",
     "start_time": "2023-03-22T21:07:29.605077Z"
    }
   },
   "outputs": [
    {
     "name": "stdout",
     "output_type": "stream",
     "text": [
      ">>> the split 0 \n",
      ">>>> the sqrtmse 55.00951853048797\n",
      ">>> the split 1 \n",
      ">>>> the sqrtmse 53.18521557133261\n",
      ">>> the split 2 \n",
      ">>>> the sqrtmse 56.94523256277692\n",
      ">>>> the result of the stack on the other part of the data is 39.157357241506844\n"
     ]
    }
   ],
   "source": [
    "models=[ (f'XGBRFRegressor_{k}',XGBRFRegressor(n_estimators=671,\n",
    "                                                   max_depth=16,\n",
    "                                                   gamma=0,\n",
    "                                                   min_child_weight=1,\n",
    "                                                   max_leaves=0\n",
    "                                                    )) for k in range(3) ]\n",
    "mod,res, result_stack,stack=train_cross(models,XGBRFRegressor(n_estimators=439,\n",
    "                                                   max_depth=5,\n",
    "                                                   gamma=0,\n",
    "                                                   min_child_weight=0,\n",
    "                                                   max_leaves=0),X_all,Y_all)"
   ]
  },
  {
   "cell_type": "code",
   "execution_count": 79,
   "metadata": {
    "ExecuteTime": {
     "end_time": "2023-03-09T00:22:02.700048Z",
     "start_time": "2023-03-09T00:22:00.938817Z"
    }
   },
   "outputs": [
    {
     "name": "stdout",
     "output_type": "stream",
     "text": [
      "(None, 12, 15, 15)\n",
      "KerasTensor(type_spec=TensorSpec(shape=(None, 12, 15, 15), dtype=tf.float32, name=None), name='normalization_32/truediv:0', description=\"created by layer 'normalization_32'\")\n",
      "[12, 15, 15]\n",
      "12\n",
      "[225, 100]\n",
      "[100, 40]\n",
      "[255, 150]\n",
      "[150, 100]\n",
      "[100, 50]\n",
      "[90, 150]\n",
      "[150, 100]\n",
      "[100, 50]\n",
      "[50, 1]\n"
     ]
    }
   ],
   "source": [
    "from tensorflow import keras\n",
    "from tensorflow.keras import layers\n",
    "from tensorflow.keras.metrics import RootMeanSquaredError\n",
    "from tensorflow.keras.losses import Huber, MeanSquaredLogarithmicError\n",
    "from tensorflow.keras.optimizers import RMSprop, Adam,SGD\n",
    "import tensorflow.keras.backend as K\n",
    "\n",
    "def root_mean_squared_error(y_true, y_pred):\n",
    "        return K.sqrt(K.mean(K.square(y_pred - y_true))) \n",
    "\n",
    "\n",
    "def input_ly( shape, data, norm=True):\n",
    "    input_ = keras.Input(shape=shape)\n",
    "    normalizer = tf.keras.layers.Normalization()\n",
    "    normalizer.adapt(data)\n",
    "    x_image = normalizer(input_)\n",
    "    return input_, x_image\n",
    "\n",
    "\n",
    "def generate_compile_model():\n",
    "    model_v1 = tf.keras.models.Sequential([    \n",
    "            tf.keras.layers.Flatten(),\n",
    "            tf.keras.layers.Dense(100, activation='sigmoid'),\n",
    "            #tf.keras.layers.Dense(150, activation='relu'),\n",
    "            tf.keras.layers.Dropout(0.3),\n",
    "            tf.keras.layers.Dense(40, activation='relu'),\n",
    "            \n",
    "        ])\n",
    "    inputs_image,x_image= input_ly(( 12,15,15), train_images)\n",
    "    inputs_lat, x_lat=input_ly((15,1), train_lat, False)\n",
    "    inputs_lon, x_lon=input_ly((15,1), train_lon, False)\n",
    "    inputs_cloud, x_cloud=input_ly((225,1), train_cloud, False)\n",
    "    \n",
    "    #x_image=tf.keras.layers.Flatten()(x_image)\n",
    "    print(x_image.shape)\n",
    "    print(x_image)\n",
    "    x_image= tf.keras.layers.EinsumDense(\n",
    "                          \"abcd,bce->ade\",\n",
    "                            output_shape=(None, 15,15),\n",
    "    )(x_image)\n",
    "\n",
    "    outputs_images = model_v1(x_image)\n",
    "    \n",
    "    coord=tf.keras.layers.Concatenate(axis=1)([x_lat[0],x_lon[0],x_cloud[0]])\n",
    "    coord=tf.keras.layers.Flatten()(coord)\n",
    "    coord= tf.keras.layers.Dense(150, activation='sigmoid')( coord)\n",
    "    coord= tf.keras.layers.Dropout(0.3)( coord)\n",
    "    coord= tf.keras.layers.Dense(100, activation='relu')( coord)\n",
    "    coord= tf.keras.layers.Dropout(0.3)( coord)\n",
    "    coord= tf.keras.layers.Dense(50, activation='relu')( coord)\n",
    "    #coord= tf.keras.layers.Dropout(0.3)( coord)\n",
    "    \n",
    "    coord=tf.keras.layers.Concatenate(axis=-1)([coord,outputs_images])\n",
    "    coord= tf.keras.layers.Dense(150, activation='relu')( coord)\n",
    "    coord= tf.keras.layers.Dropout(0.3)( coord)\n",
    "    coord= tf.keras.layers.Dense(100, activation='relu')( coord)\n",
    "    coord= tf.keras.layers.Dropout(0.3)( coord)\n",
    "    coord= tf.keras.layers.Dense(50, activation='relu')( coord)\n",
    "    #coord= tf.keras.layers.Dense(150, activation='relu')( coord)\n",
    "    coord= tf.keras.layers.Dropout(0.3)( coord)\n",
    "    coord=tf.keras.layers.Dense(1, activation='relu')( coord)\n",
    "    outputs= tf.keras.layers.Lambda(lambda x:x*160)(coord)\n",
    "    model = keras.Model([inputs_image, inputs_lat,inputs_lon, inputs_cloud], outputs)\n",
    "    \n",
    "    model.compile(optimizer = Adam(\n",
    "                    learning_rate=1e-4),\n",
    "        loss = root_mean_squared_error, \n",
    "        metrics = [RootMeanSquaredError()]        \n",
    "    )\n",
    "    return model, model_v1\n",
    "model, model_v1=generate_compile_model()\n"
   ]
  },
  {
   "cell_type": "code",
   "execution_count": 80,
   "metadata": {
    "ExecuteTime": {
     "end_time": "2023-03-09T00:22:02.711811Z",
     "start_time": "2023-03-09T00:22:02.701984Z"
    }
   },
   "outputs": [
    {
     "name": "stdout",
     "output_type": "stream",
     "text": [
      "Model: \"sequential_8\"\n",
      "_________________________________________________________________\n",
      " Layer (type)                Output Shape              Param #   \n",
      "=================================================================\n",
      " flatten_13 (Flatten)        (None, 225)               0         \n",
      "                                                                 \n",
      " dense_44 (Dense)            (None, 100)               22600     \n",
      "                                                                 \n",
      " dropout_16 (Dropout)        (None, 100)               0         \n",
      "                                                                 \n",
      " dense_45 (Dense)            (None, 40)                4040      \n",
      "                                                                 \n",
      "=================================================================\n",
      "Total params: 26,640\n",
      "Trainable params: 26,640\n",
      "Non-trainable params: 0\n",
      "_________________________________________________________________\n"
     ]
    }
   ],
   "source": [
    "model_v1.summary()"
   ]
  },
  {
   "cell_type": "code",
   "execution_count": 81,
   "metadata": {
    "ExecuteTime": {
     "end_time": "2023-03-09T00:22:02.740467Z",
     "start_time": "2023-03-09T00:22:02.713066Z"
    }
   },
   "outputs": [
    {
     "name": "stdout",
     "output_type": "stream",
     "text": [
      "Model: \"model_4\"\n",
      "__________________________________________________________________________________________________\n",
      " Layer (type)                   Output Shape         Param #     Connected to                     \n",
      "==================================================================================================\n",
      " input_35 (InputLayer)          [(None, 15, 1)]      0           []                               \n",
      "                                                                                                  \n",
      " input_36 (InputLayer)          [(None, 15, 1)]      0           []                               \n",
      "                                                                                                  \n",
      " input_37 (InputLayer)          [(None, 225, 1)]     0           []                               \n",
      "                                                                                                  \n",
      " normalization_33 (Normalizatio  (1, None, 15, 1)    3           ['input_35[0][0]']               \n",
      " n)                                                                                               \n",
      "                                                                                                  \n",
      " normalization_34 (Normalizatio  (1, None, 15, 1)    3           ['input_36[0][0]']               \n",
      " n)                                                                                               \n",
      "                                                                                                  \n",
      " normalization_35 (Normalizatio  (1, None, 225, 1)   3           ['input_37[0][0]']               \n",
      " n)                                                                                               \n",
      "                                                                                                  \n",
      " tf.__operators__.getitem_12 (S  (None, 15, 1)       0           ['normalization_33[0][0]']       \n",
      " licingOpLambda)                                                                                  \n",
      "                                                                                                  \n",
      " tf.__operators__.getitem_13 (S  (None, 15, 1)       0           ['normalization_34[0][0]']       \n",
      " licingOpLambda)                                                                                  \n",
      "                                                                                                  \n",
      " tf.__operators__.getitem_14 (S  (None, 225, 1)      0           ['normalization_35[0][0]']       \n",
      " licingOpLambda)                                                                                  \n",
      "                                                                                                  \n",
      " concatenate_9 (Concatenate)    (None, 255, 1)       0           ['tf.__operators__.getitem_12[0][\n",
      "                                                                 0]',                             \n",
      "                                                                  'tf.__operators__.getitem_13[0][\n",
      "                                                                 0]',                             \n",
      "                                                                  'tf.__operators__.getitem_14[0][\n",
      "                                                                 0]']                             \n",
      "                                                                                                  \n",
      " flatten_14 (Flatten)           (None, 255)          0           ['concatenate_9[0][0]']          \n",
      "                                                                                                  \n",
      " dense_46 (Dense)               (None, 150)          38400       ['flatten_14[0][0]']             \n",
      "                                                                                                  \n",
      " dropout_17 (Dropout)           (None, 150)          0           ['dense_46[0][0]']               \n",
      "                                                                                                  \n",
      " input_34 (InputLayer)          [(None, 12, 15, 15)  0           []                               \n",
      "                                ]                                                                 \n",
      "                                                                                                  \n",
      " dense_47 (Dense)               (None, 100)          15100       ['dropout_17[0][0]']             \n",
      "                                                                                                  \n",
      " normalization_32 (Normalizatio  (None, 12, 15, 15)  31          ['input_34[0][0]']               \n",
      " n)                                                                                               \n",
      "                                                                                                  \n",
      " dropout_18 (Dropout)           (None, 100)          0           ['dense_47[0][0]']               \n",
      "                                                                                                  \n",
      " einsum_dense_9 (EinsumDense)   (None, 15, 15)       2700        ['normalization_32[0][0]']       \n",
      "                                                                                                  \n",
      " dense_48 (Dense)               (None, 50)           5050        ['dropout_18[0][0]']             \n",
      "                                                                                                  \n",
      " sequential_8 (Sequential)      (None, 40)           26640       ['einsum_dense_9[0][0]']         \n",
      "                                                                                                  \n",
      " concatenate_10 (Concatenate)   (None, 90)           0           ['dense_48[0][0]',               \n",
      "                                                                  'sequential_8[0][0]']           \n",
      "                                                                                                  \n",
      " dense_49 (Dense)               (None, 150)          13650       ['concatenate_10[0][0]']         \n",
      "                                                                                                  \n",
      " dropout_19 (Dropout)           (None, 150)          0           ['dense_49[0][0]']               \n",
      "                                                                                                  \n",
      " dense_50 (Dense)               (None, 100)          15100       ['dropout_19[0][0]']             \n",
      "                                                                                                  \n",
      " dropout_20 (Dropout)           (None, 100)          0           ['dense_50[0][0]']               \n",
      "                                                                                                  \n",
      " dense_51 (Dense)               (None, 50)           5050        ['dropout_20[0][0]']             \n",
      "                                                                                                  \n",
      " dropout_21 (Dropout)           (None, 50)           0           ['dense_51[0][0]']               \n",
      "                                                                                                  \n",
      " dense_52 (Dense)               (None, 1)            51          ['dropout_21[0][0]']             \n",
      "                                                                                                  \n",
      " lambda_4 (Lambda)              (None, 1)            0           ['dense_52[0][0]']               \n",
      "                                                                                                  \n",
      "==================================================================================================\n",
      "Total params: 121,781\n",
      "Trainable params: 121,741\n",
      "Non-trainable params: 40\n",
      "__________________________________________________________________________________________________\n"
     ]
    }
   ],
   "source": [
    "model.summary()"
   ]
  },
  {
   "cell_type": "code",
   "execution_count": null,
   "metadata": {
    "ExecuteTime": {
     "end_time": "2023-02-12T17:35:07.873617Z",
     "start_time": "2023-02-12T17:35:07.870499Z"
    }
   },
   "outputs": [],
   "source": []
  },
  {
   "cell_type": "code",
   "execution_count": null,
   "metadata": {
    "ExecuteTime": {
     "end_time": "2023-02-12T16:47:00.270218Z",
     "start_time": "2023-02-12T16:47:00.261884Z"
    }
   },
   "outputs": [],
   "source": []
  },
  {
   "cell_type": "code",
   "execution_count": 82,
   "metadata": {
    "ExecuteTime": {
     "end_time": "2023-03-09T00:22:03.176683Z",
     "start_time": "2023-03-09T00:22:02.742935Z"
    },
    "executionInfo": {
     "elapsed": 1133,
     "status": "ok",
     "timestamp": 1674723365365,
     "user": {
      "displayName": "Nelson Mganga",
      "userId": "15984282569117459010"
     },
     "user_tz": -180
    },
    "id": "T3OrinVvV3-8"
   },
   "outputs": [],
   "source": [
    "# constante for standardization\n",
    "MEAN = train_images.mean((0,2,3))\n",
    "STD = train_images.std((0,2,3))"
   ]
  },
  {
   "cell_type": "code",
   "execution_count": 83,
   "metadata": {
    "ExecuteTime": {
     "end_time": "2023-03-09T00:22:03.304607Z",
     "start_time": "2023-03-09T00:22:03.178053Z"
    }
   },
   "outputs": [
    {
     "data": {
      "text/plain": [
       "15687.0"
      ]
     },
     "execution_count": 83,
     "metadata": {},
     "output_type": "execute_result"
    }
   ],
   "source": [
    "# Evaluate( with the hands) the max\n",
    "np.max(train_images.reshape(25036, 12,225),axis=2).max()"
   ]
  },
  {
   "cell_type": "code",
   "execution_count": 84,
   "metadata": {
    "ExecuteTime": {
     "end_time": "2023-03-09T00:22:03.308038Z",
     "start_time": "2023-03-09T00:22:03.305788Z"
    }
   },
   "outputs": [],
   "source": [
    "checkpoint_filepath='./checkpoints/'"
   ]
  },
  {
   "cell_type": "code",
   "execution_count": 85,
   "metadata": {
    "ExecuteTime": {
     "end_time": "2023-03-09T00:22:03.311979Z",
     "start_time": "2023-03-09T00:22:03.309084Z"
    }
   },
   "outputs": [],
   "source": [
    "model_checkpoint_callback = tf.keras.callbacks.ModelCheckpoint(\n",
    "    filepath=checkpoint_filepath,\n",
    "    save_weights_only=True,\n",
    "    monitor='val_root_mean_squared_error',\n",
    "    mode='min',\n",
    "    save_best_only=True)\n",
    "reduce_lr = tf.keras.callbacks.ReduceLROnPlateau(monitor='val_loss', factor=0.5,min_delta=0.1,\n",
    "                              patience=3, min_lr=1e-10)\n"
   ]
  },
  {
   "cell_type": "code",
   "execution_count": 86,
   "metadata": {
    "ExecuteTime": {
     "end_time": "2023-03-09T00:25:33.929154Z",
     "start_time": "2023-03-09T00:22:03.313414Z"
    },
    "scrolled": true
   },
   "outputs": [
    {
     "name": "stdout",
     "output_type": "stream",
     "text": [
      "Epoch 1/100\n",
      "783/783 - 3s - loss: 57.2969 - root_mean_squared_error: 61.2401 - val_loss: 59.9115 - val_root_mean_squared_error: 68.9350 - lr: 1.0000e-04 - 3s/epoch - 3ms/step\n",
      "Epoch 2/100\n",
      "783/783 - 2s - loss: 53.6601 - root_mean_squared_error: 57.7870 - val_loss: 58.3508 - val_root_mean_squared_error: 67.5699 - lr: 1.0000e-04 - 2s/epoch - 2ms/step\n",
      "Epoch 3/100\n",
      "783/783 - 2s - loss: 53.0745 - root_mean_squared_error: 57.1994 - val_loss: 57.0979 - val_root_mean_squared_error: 66.4274 - lr: 1.0000e-04 - 2s/epoch - 2ms/step\n",
      "Epoch 4/100\n",
      "783/783 - 2s - loss: 52.7259 - root_mean_squared_error: 56.9175 - val_loss: 56.4420 - val_root_mean_squared_error: 65.8194 - lr: 1.0000e-04 - 2s/epoch - 2ms/step\n",
      "Epoch 5/100\n",
      "783/783 - 2s - loss: 52.5156 - root_mean_squared_error: 56.6522 - val_loss: 55.8821 - val_root_mean_squared_error: 65.2818 - lr: 1.0000e-04 - 2s/epoch - 2ms/step\n",
      "Epoch 6/100\n",
      "783/783 - 2s - loss: 52.1080 - root_mean_squared_error: 56.2859 - val_loss: 55.0324 - val_root_mean_squared_error: 64.4191 - lr: 1.0000e-04 - 2s/epoch - 2ms/step\n",
      "Epoch 7/100\n",
      "783/783 - 2s - loss: 51.9570 - root_mean_squared_error: 56.1406 - val_loss: 55.2153 - val_root_mean_squared_error: 64.6142 - lr: 1.0000e-04 - 2s/epoch - 2ms/step\n",
      "Epoch 8/100\n",
      "783/783 - 2s - loss: 51.6941 - root_mean_squared_error: 55.8497 - val_loss: 55.0870 - val_root_mean_squared_error: 64.4638 - lr: 1.0000e-04 - 2s/epoch - 2ms/step\n",
      "Epoch 9/100\n",
      "783/783 - 2s - loss: 51.6250 - root_mean_squared_error: 55.7218 - val_loss: 55.6431 - val_root_mean_squared_error: 65.0475 - lr: 1.0000e-04 - 2s/epoch - 2ms/step\n",
      "Epoch 10/100\n",
      "783/783 - 2s - loss: 51.3667 - root_mean_squared_error: 55.4905 - val_loss: 54.8929 - val_root_mean_squared_error: 64.2942 - lr: 5.0000e-05 - 2s/epoch - 2ms/step\n",
      "Epoch 11/100\n",
      "783/783 - 2s - loss: 51.3439 - root_mean_squared_error: 55.4919 - val_loss: 54.9774 - val_root_mean_squared_error: 64.3922 - lr: 5.0000e-05 - 2s/epoch - 2ms/step\n",
      "Epoch 12/100\n",
      "783/783 - 2s - loss: 51.2279 - root_mean_squared_error: 55.3759 - val_loss: 54.7225 - val_root_mean_squared_error: 64.1331 - lr: 5.0000e-05 - 2s/epoch - 2ms/step\n",
      "Epoch 13/100\n",
      "783/783 - 2s - loss: 51.1736 - root_mean_squared_error: 55.3509 - val_loss: 54.5452 - val_root_mean_squared_error: 63.9399 - lr: 5.0000e-05 - 2s/epoch - 2ms/step\n",
      "Epoch 14/100\n",
      "783/783 - 2s - loss: 51.0154 - root_mean_squared_error: 55.1061 - val_loss: 54.4524 - val_root_mean_squared_error: 63.8538 - lr: 5.0000e-05 - 2s/epoch - 2ms/step\n",
      "Epoch 15/100\n",
      "783/783 - 2s - loss: 50.8665 - root_mean_squared_error: 54.9631 - val_loss: 54.5691 - val_root_mean_squared_error: 63.9866 - lr: 5.0000e-05 - 2s/epoch - 2ms/step\n",
      "Epoch 16/100\n",
      "783/783 - 2s - loss: 50.9411 - root_mean_squared_error: 55.0117 - val_loss: 54.5222 - val_root_mean_squared_error: 63.9495 - lr: 5.0000e-05 - 2s/epoch - 2ms/step\n",
      "Epoch 17/100\n",
      "783/783 - 2s - loss: 50.8057 - root_mean_squared_error: 54.8925 - val_loss: 54.3253 - val_root_mean_squared_error: 63.7453 - lr: 2.5000e-05 - 2s/epoch - 2ms/step\n",
      "Epoch 18/100\n",
      "783/783 - 2s - loss: 50.8428 - root_mean_squared_error: 54.9098 - val_loss: 54.3193 - val_root_mean_squared_error: 63.7411 - lr: 2.5000e-05 - 2s/epoch - 2ms/step\n",
      "Epoch 19/100\n",
      "783/783 - 2s - loss: 50.7059 - root_mean_squared_error: 54.7938 - val_loss: 54.1798 - val_root_mean_squared_error: 63.5971 - lr: 2.5000e-05 - 2s/epoch - 2ms/step\n",
      "Epoch 20/100\n",
      "783/783 - 2s - loss: 50.6972 - root_mean_squared_error: 54.7748 - val_loss: 54.1942 - val_root_mean_squared_error: 63.6161 - lr: 2.5000e-05 - 2s/epoch - 2ms/step\n",
      "Epoch 21/100\n",
      "783/783 - 2s - loss: 50.6384 - root_mean_squared_error: 54.7497 - val_loss: 54.1516 - val_root_mean_squared_error: 63.5730 - lr: 2.5000e-05 - 2s/epoch - 2ms/step\n",
      "Epoch 22/100\n",
      "783/783 - 2s - loss: 50.5543 - root_mean_squared_error: 54.6251 - val_loss: 54.1928 - val_root_mean_squared_error: 63.6259 - lr: 2.5000e-05 - 2s/epoch - 2ms/step\n",
      "Epoch 23/100\n",
      "783/783 - 2s - loss: 50.5061 - root_mean_squared_error: 54.5645 - val_loss: 53.9226 - val_root_mean_squared_error: 63.3254 - lr: 1.2500e-05 - 2s/epoch - 2ms/step\n",
      "Epoch 24/100\n",
      "783/783 - 2s - loss: 50.4505 - root_mean_squared_error: 54.5449 - val_loss: 53.9416 - val_root_mean_squared_error: 63.3527 - lr: 1.2500e-05 - 2s/epoch - 2ms/step\n",
      "Epoch 25/100\n",
      "783/783 - 2s - loss: 50.4128 - root_mean_squared_error: 54.4276 - val_loss: 53.9414 - val_root_mean_squared_error: 63.3539 - lr: 1.2500e-05 - 2s/epoch - 3ms/step\n",
      "Epoch 26/100\n",
      "783/783 - 2s - loss: 50.4595 - root_mean_squared_error: 54.5257 - val_loss: 53.9440 - val_root_mean_squared_error: 63.3635 - lr: 1.2500e-05 - 2s/epoch - 3ms/step\n",
      "Epoch 27/100\n",
      "783/783 - 2s - loss: 50.4265 - root_mean_squared_error: 54.5029 - val_loss: 53.9045 - val_root_mean_squared_error: 63.3216 - lr: 6.2500e-06 - 2s/epoch - 3ms/step\n",
      "Epoch 28/100\n",
      "783/783 - 2s - loss: 50.3838 - root_mean_squared_error: 54.4880 - val_loss: 53.8935 - val_root_mean_squared_error: 63.3102 - lr: 6.2500e-06 - 2s/epoch - 3ms/step\n",
      "Epoch 29/100\n",
      "783/783 - 2s - loss: 50.3854 - root_mean_squared_error: 54.4805 - val_loss: 53.8735 - val_root_mean_squared_error: 63.2882 - lr: 6.2500e-06 - 2s/epoch - 3ms/step\n",
      "Epoch 30/100\n",
      "783/783 - 2s - loss: 50.4370 - root_mean_squared_error: 54.5100 - val_loss: 53.8553 - val_root_mean_squared_error: 63.2677 - lr: 3.1250e-06 - 2s/epoch - 3ms/step\n",
      "Epoch 31/100\n",
      "783/783 - 2s - loss: 50.3501 - root_mean_squared_error: 54.4453 - val_loss: 53.8275 - val_root_mean_squared_error: 63.2368 - lr: 3.1250e-06 - 2s/epoch - 3ms/step\n",
      "Epoch 32/100\n",
      "783/783 - 2s - loss: 50.3126 - root_mean_squared_error: 54.4399 - val_loss: 53.8357 - val_root_mean_squared_error: 63.2460 - lr: 3.1250e-06 - 2s/epoch - 3ms/step\n",
      "Epoch 33/100\n",
      "783/783 - 2s - loss: 50.3472 - root_mean_squared_error: 54.4395 - val_loss: 53.7770 - val_root_mean_squared_error: 63.1775 - lr: 1.5625e-06 - 2s/epoch - 3ms/step\n",
      "Epoch 34/100\n",
      "783/783 - 2s - loss: 50.3818 - root_mean_squared_error: 54.4745 - val_loss: 53.7931 - val_root_mean_squared_error: 63.1970 - lr: 1.5625e-06 - 2s/epoch - 3ms/step\n",
      "Epoch 35/100\n",
      "783/783 - 2s - loss: 50.3644 - root_mean_squared_error: 54.4513 - val_loss: 53.7740 - val_root_mean_squared_error: 63.1752 - lr: 1.5625e-06 - 2s/epoch - 3ms/step\n",
      "Epoch 36/100\n",
      "783/783 - 2s - loss: 50.4406 - root_mean_squared_error: 54.5420 - val_loss: 53.7665 - val_root_mean_squared_error: 63.1669 - lr: 1.5625e-06 - 2s/epoch - 3ms/step\n",
      "Epoch 37/100\n",
      "783/783 - 2s - loss: 50.2985 - root_mean_squared_error: 54.3859 - val_loss: 53.7513 - val_root_mean_squared_error: 63.1490 - lr: 7.8125e-07 - 2s/epoch - 3ms/step\n",
      "Epoch 38/100\n",
      "783/783 - 2s - loss: 50.3690 - root_mean_squared_error: 54.4415 - val_loss: 53.7547 - val_root_mean_squared_error: 63.1537 - lr: 7.8125e-07 - 2s/epoch - 3ms/step\n",
      "Epoch 39/100\n",
      "783/783 - 2s - loss: 50.3034 - root_mean_squared_error: 54.3855 - val_loss: 53.7535 - val_root_mean_squared_error: 63.1524 - lr: 7.8125e-07 - 2s/epoch - 3ms/step\n",
      "Epoch 40/100\n",
      "783/783 - 2s - loss: 50.3215 - root_mean_squared_error: 54.3518 - val_loss: 53.7497 - val_root_mean_squared_error: 63.1481 - lr: 3.9062e-07 - 2s/epoch - 3ms/step\n",
      "Epoch 41/100\n",
      "783/783 - 2s - loss: 50.4437 - root_mean_squared_error: 54.5029 - val_loss: 53.7554 - val_root_mean_squared_error: 63.1551 - lr: 3.9062e-07 - 2s/epoch - 3ms/step\n",
      "Epoch 42/100\n",
      "783/783 - 2s - loss: 50.4284 - root_mean_squared_error: 54.5371 - val_loss: 53.7502 - val_root_mean_squared_error: 63.1491 - lr: 3.9062e-07 - 2s/epoch - 3ms/step\n",
      "Epoch 43/100\n",
      "783/783 - 2s - loss: 50.3986 - root_mean_squared_error: 54.4960 - val_loss: 53.7533 - val_root_mean_squared_error: 63.1528 - lr: 1.9531e-07 - 2s/epoch - 3ms/step\n",
      "Epoch 44/100\n",
      "783/783 - 2s - loss: 50.3318 - root_mean_squared_error: 54.4502 - val_loss: 53.7526 - val_root_mean_squared_error: 63.1520 - lr: 1.9531e-07 - 2s/epoch - 3ms/step\n",
      "Epoch 45/100\n",
      "783/783 - 2s - loss: 50.3540 - root_mean_squared_error: 54.3914 - val_loss: 53.7504 - val_root_mean_squared_error: 63.1495 - lr: 1.9531e-07 - 2s/epoch - 3ms/step\n",
      "Epoch 46/100\n",
      "783/783 - 2s - loss: 50.3900 - root_mean_squared_error: 54.4787 - val_loss: 53.7485 - val_root_mean_squared_error: 63.1472 - lr: 9.7656e-08 - 2s/epoch - 3ms/step\n",
      "Epoch 47/100\n",
      "783/783 - 2s - loss: 50.3679 - root_mean_squared_error: 54.4241 - val_loss: 53.7491 - val_root_mean_squared_error: 63.1480 - lr: 9.7656e-08 - 2s/epoch - 3ms/step\n"
     ]
    },
    {
     "name": "stdout",
     "output_type": "stream",
     "text": [
      "Epoch 48/100\n",
      "783/783 - 2s - loss: 50.4302 - root_mean_squared_error: 54.4664 - val_loss: 53.7482 - val_root_mean_squared_error: 63.1471 - lr: 9.7656e-08 - 2s/epoch - 3ms/step\n",
      "Epoch 49/100\n",
      "783/783 - 2s - loss: 50.3208 - root_mean_squared_error: 54.3962 - val_loss: 53.7477 - val_root_mean_squared_error: 63.1464 - lr: 4.8828e-08 - 2s/epoch - 3ms/step\n",
      "Epoch 50/100\n",
      "783/783 - 2s - loss: 50.4865 - root_mean_squared_error: 54.5772 - val_loss: 53.7472 - val_root_mean_squared_error: 63.1458 - lr: 4.8828e-08 - 2s/epoch - 3ms/step\n",
      "Epoch 51/100\n",
      "783/783 - 2s - loss: 50.3561 - root_mean_squared_error: 54.4340 - val_loss: 53.7463 - val_root_mean_squared_error: 63.1447 - lr: 4.8828e-08 - 2s/epoch - 3ms/step\n",
      "Epoch 52/100\n",
      "783/783 - 2s - loss: 50.3537 - root_mean_squared_error: 54.4097 - val_loss: 53.7456 - val_root_mean_squared_error: 63.1439 - lr: 2.4414e-08 - 2s/epoch - 3ms/step\n",
      "Epoch 53/100\n",
      "783/783 - 2s - loss: 50.3722 - root_mean_squared_error: 54.4898 - val_loss: 53.7451 - val_root_mean_squared_error: 63.1433 - lr: 2.4414e-08 - 2s/epoch - 3ms/step\n",
      "Epoch 54/100\n",
      "783/783 - 2s - loss: 50.3592 - root_mean_squared_error: 54.4396 - val_loss: 53.7451 - val_root_mean_squared_error: 63.1434 - lr: 2.4414e-08 - 2s/epoch - 3ms/step\n",
      "Epoch 55/100\n",
      "783/783 - 2s - loss: 50.3340 - root_mean_squared_error: 54.4304 - val_loss: 53.7451 - val_root_mean_squared_error: 63.1433 - lr: 1.2207e-08 - 2s/epoch - 3ms/step\n",
      "Epoch 56/100\n",
      "783/783 - 2s - loss: 50.3597 - root_mean_squared_error: 54.4332 - val_loss: 53.7449 - val_root_mean_squared_error: 63.1432 - lr: 1.2207e-08 - 2s/epoch - 3ms/step\n",
      "Epoch 57/100\n",
      "783/783 - 2s - loss: 50.3182 - root_mean_squared_error: 54.3624 - val_loss: 53.7447 - val_root_mean_squared_error: 63.1429 - lr: 1.2207e-08 - 2s/epoch - 3ms/step\n",
      "Epoch 58/100\n",
      "783/783 - 2s - loss: 50.3899 - root_mean_squared_error: 54.4394 - val_loss: 53.7447 - val_root_mean_squared_error: 63.1430 - lr: 6.1035e-09 - 2s/epoch - 3ms/step\n",
      "Epoch 59/100\n",
      "783/783 - 2s - loss: 50.3694 - root_mean_squared_error: 54.4302 - val_loss: 53.7447 - val_root_mean_squared_error: 63.1429 - lr: 6.1035e-09 - 2s/epoch - 3ms/step\n",
      "Epoch 60/100\n",
      "783/783 - 2s - loss: 50.3544 - root_mean_squared_error: 54.3988 - val_loss: 53.7446 - val_root_mean_squared_error: 63.1428 - lr: 6.1035e-09 - 2s/epoch - 3ms/step\n",
      "Epoch 61/100\n",
      "783/783 - 2s - loss: 50.4272 - root_mean_squared_error: 54.5165 - val_loss: 53.7446 - val_root_mean_squared_error: 63.1428 - lr: 3.0518e-09 - 2s/epoch - 3ms/step\n",
      "Epoch 62/100\n",
      "783/783 - 2s - loss: 50.2026 - root_mean_squared_error: 54.2925 - val_loss: 53.7446 - val_root_mean_squared_error: 63.1427 - lr: 3.0518e-09 - 2s/epoch - 3ms/step\n",
      "Epoch 63/100\n",
      "783/783 - 2s - loss: 50.3145 - root_mean_squared_error: 54.4110 - val_loss: 53.7445 - val_root_mean_squared_error: 63.1427 - lr: 3.0518e-09 - 2s/epoch - 3ms/step\n",
      "Epoch 64/100\n",
      "783/783 - 2s - loss: 50.4787 - root_mean_squared_error: 54.5488 - val_loss: 53.7445 - val_root_mean_squared_error: 63.1427 - lr: 1.5259e-09 - 2s/epoch - 3ms/step\n",
      "Epoch 65/100\n",
      "783/783 - 2s - loss: 50.3075 - root_mean_squared_error: 54.3879 - val_loss: 53.7445 - val_root_mean_squared_error: 63.1427 - lr: 1.5259e-09 - 2s/epoch - 3ms/step\n",
      "Epoch 66/100\n",
      "783/783 - 2s - loss: 50.2579 - root_mean_squared_error: 54.3303 - val_loss: 53.7445 - val_root_mean_squared_error: 63.1427 - lr: 1.5259e-09 - 2s/epoch - 3ms/step\n",
      "Epoch 67/100\n",
      "783/783 - 2s - loss: 50.4263 - root_mean_squared_error: 54.4617 - val_loss: 53.7445 - val_root_mean_squared_error: 63.1427 - lr: 7.6294e-10 - 2s/epoch - 3ms/step\n",
      "Epoch 68/100\n",
      "783/783 - 2s - loss: 50.3279 - root_mean_squared_error: 54.4119 - val_loss: 53.7445 - val_root_mean_squared_error: 63.1427 - lr: 7.6294e-10 - 2s/epoch - 3ms/step\n",
      "Epoch 69/100\n",
      "783/783 - 2s - loss: 50.3776 - root_mean_squared_error: 54.4378 - val_loss: 53.7445 - val_root_mean_squared_error: 63.1427 - lr: 7.6294e-10 - 2s/epoch - 3ms/step\n",
      "Epoch 70/100\n",
      "783/783 - 2s - loss: 50.3099 - root_mean_squared_error: 54.4107 - val_loss: 53.7445 - val_root_mean_squared_error: 63.1427 - lr: 3.8147e-10 - 2s/epoch - 3ms/step\n",
      "Epoch 71/100\n",
      "783/783 - 2s - loss: 50.3795 - root_mean_squared_error: 54.4568 - val_loss: 53.7445 - val_root_mean_squared_error: 63.1427 - lr: 3.8147e-10 - 2s/epoch - 3ms/step\n",
      "Epoch 72/100\n",
      "783/783 - 2s - loss: 50.3290 - root_mean_squared_error: 54.4285 - val_loss: 53.7445 - val_root_mean_squared_error: 63.1427 - lr: 3.8147e-10 - 2s/epoch - 3ms/step\n",
      "Epoch 73/100\n",
      "783/783 - 2s - loss: 50.3718 - root_mean_squared_error: 54.4607 - val_loss: 53.7445 - val_root_mean_squared_error: 63.1427 - lr: 1.9073e-10 - 2s/epoch - 3ms/step\n",
      "Epoch 74/100\n",
      "783/783 - 2s - loss: 50.2936 - root_mean_squared_error: 54.3568 - val_loss: 53.7445 - val_root_mean_squared_error: 63.1427 - lr: 1.9073e-10 - 2s/epoch - 3ms/step\n",
      "Epoch 75/100\n",
      "783/783 - 2s - loss: 50.4480 - root_mean_squared_error: 54.4803 - val_loss: 53.7445 - val_root_mean_squared_error: 63.1427 - lr: 1.9073e-10 - 2s/epoch - 3ms/step\n",
      "Epoch 76/100\n",
      "783/783 - 2s - loss: 50.3516 - root_mean_squared_error: 54.4185 - val_loss: 53.7445 - val_root_mean_squared_error: 63.1427 - lr: 1.0000e-10 - 2s/epoch - 3ms/step\n",
      "Epoch 77/100\n",
      "783/783 - 2s - loss: 50.4046 - root_mean_squared_error: 54.4786 - val_loss: 53.7445 - val_root_mean_squared_error: 63.1427 - lr: 1.0000e-10 - 2s/epoch - 3ms/step\n",
      "Epoch 78/100\n",
      "783/783 - 2s - loss: 50.4071 - root_mean_squared_error: 54.4712 - val_loss: 53.7445 - val_root_mean_squared_error: 63.1427 - lr: 1.0000e-10 - 2s/epoch - 3ms/step\n",
      "Epoch 79/100\n",
      "783/783 - 2s - loss: 50.1743 - root_mean_squared_error: 54.2376 - val_loss: 53.7445 - val_root_mean_squared_error: 63.1427 - lr: 1.0000e-10 - 2s/epoch - 3ms/step\n",
      "Epoch 80/100\n",
      "783/783 - 2s - loss: 50.3276 - root_mean_squared_error: 54.4003 - val_loss: 53.7445 - val_root_mean_squared_error: 63.1427 - lr: 1.0000e-10 - 2s/epoch - 3ms/step\n",
      "Epoch 81/100\n",
      "783/783 - 2s - loss: 50.3658 - root_mean_squared_error: 54.4052 - val_loss: 53.7445 - val_root_mean_squared_error: 63.1427 - lr: 1.0000e-10 - 2s/epoch - 3ms/step\n",
      "Epoch 82/100\n",
      "783/783 - 2s - loss: 50.2988 - root_mean_squared_error: 54.3906 - val_loss: 53.7445 - val_root_mean_squared_error: 63.1427 - lr: 1.0000e-10 - 2s/epoch - 3ms/step\n",
      "Epoch 83/100\n",
      "783/783 - 2s - loss: 50.3400 - root_mean_squared_error: 54.3990 - val_loss: 53.7445 - val_root_mean_squared_error: 63.1427 - lr: 1.0000e-10 - 2s/epoch - 3ms/step\n",
      "Epoch 84/100\n",
      "783/783 - 2s - loss: 50.3829 - root_mean_squared_error: 54.4450 - val_loss: 53.7445 - val_root_mean_squared_error: 63.1427 - lr: 1.0000e-10 - 2s/epoch - 3ms/step\n",
      "Epoch 85/100\n",
      "783/783 - 2s - loss: 50.3855 - root_mean_squared_error: 54.4341 - val_loss: 53.7445 - val_root_mean_squared_error: 63.1427 - lr: 1.0000e-10 - 2s/epoch - 3ms/step\n",
      "Epoch 86/100\n",
      "783/783 - 2s - loss: 50.3647 - root_mean_squared_error: 54.4750 - val_loss: 53.7445 - val_root_mean_squared_error: 63.1427 - lr: 1.0000e-10 - 2s/epoch - 3ms/step\n",
      "Epoch 87/100\n",
      "783/783 - 2s - loss: 50.4063 - root_mean_squared_error: 54.4449 - val_loss: 53.7445 - val_root_mean_squared_error: 63.1427 - lr: 1.0000e-10 - 2s/epoch - 3ms/step\n",
      "Epoch 88/100\n",
      "783/783 - 2s - loss: 50.4539 - root_mean_squared_error: 54.5331 - val_loss: 53.7445 - val_root_mean_squared_error: 63.1427 - lr: 1.0000e-10 - 2s/epoch - 3ms/step\n",
      "Epoch 89/100\n",
      "783/783 - 2s - loss: 50.3590 - root_mean_squared_error: 54.4300 - val_loss: 53.7445 - val_root_mean_squared_error: 63.1427 - lr: 1.0000e-10 - 2s/epoch - 3ms/step\n",
      "Epoch 90/100\n",
      "783/783 - 2s - loss: 50.2703 - root_mean_squared_error: 54.3213 - val_loss: 53.7445 - val_root_mean_squared_error: 63.1427 - lr: 1.0000e-10 - 2s/epoch - 3ms/step\n",
      "Epoch 91/100\n",
      "783/783 - 2s - loss: 50.2760 - root_mean_squared_error: 54.3549 - val_loss: 53.7445 - val_root_mean_squared_error: 63.1427 - lr: 1.0000e-10 - 2s/epoch - 3ms/step\n",
      "Epoch 92/100\n",
      "783/783 - 2s - loss: 50.4343 - root_mean_squared_error: 54.4962 - val_loss: 53.7445 - val_root_mean_squared_error: 63.1427 - lr: 1.0000e-10 - 2s/epoch - 3ms/step\n",
      "Epoch 93/100\n",
      "783/783 - 2s - loss: 50.3064 - root_mean_squared_error: 54.4041 - val_loss: 53.7445 - val_root_mean_squared_error: 63.1427 - lr: 1.0000e-10 - 2s/epoch - 3ms/step\n",
      "Epoch 94/100\n",
      "783/783 - 2s - loss: 50.2116 - root_mean_squared_error: 54.2766 - val_loss: 53.7445 - val_root_mean_squared_error: 63.1427 - lr: 1.0000e-10 - 2s/epoch - 3ms/step\n"
     ]
    },
    {
     "name": "stdout",
     "output_type": "stream",
     "text": [
      "Epoch 95/100\n",
      "783/783 - 2s - loss: 50.4858 - root_mean_squared_error: 54.5451 - val_loss: 53.7445 - val_root_mean_squared_error: 63.1427 - lr: 1.0000e-10 - 2s/epoch - 3ms/step\n",
      "Epoch 96/100\n",
      "783/783 - 2s - loss: 50.2961 - root_mean_squared_error: 54.3816 - val_loss: 53.7445 - val_root_mean_squared_error: 63.1427 - lr: 1.0000e-10 - 2s/epoch - 3ms/step\n",
      "Epoch 97/100\n",
      "783/783 - 2s - loss: 50.4556 - root_mean_squared_error: 54.4514 - val_loss: 53.7445 - val_root_mean_squared_error: 63.1427 - lr: 1.0000e-10 - 2s/epoch - 3ms/step\n",
      "Epoch 98/100\n",
      "783/783 - 2s - loss: 50.3814 - root_mean_squared_error: 54.4529 - val_loss: 53.7445 - val_root_mean_squared_error: 63.1427 - lr: 1.0000e-10 - 2s/epoch - 3ms/step\n",
      "Epoch 99/100\n",
      "783/783 - 2s - loss: 50.3090 - root_mean_squared_error: 54.4078 - val_loss: 53.7445 - val_root_mean_squared_error: 63.1427 - lr: 1.0000e-10 - 2s/epoch - 3ms/step\n",
      "Epoch 100/100\n",
      "783/783 - 2s - loss: 50.4523 - root_mean_squared_error: 54.5225 - val_loss: 53.7445 - val_root_mean_squared_error: 63.1427 - lr: 1.0000e-10 - 2s/epoch - 3ms/step\n"
     ]
    }
   ],
   "source": [
    "history=model.fit(\n",
    "            traindata,\n",
    "        validation_data = validatedata,\n",
    "            #steps_per_epoch = 100,\n",
    "            epochs = 100,\n",
    "            #validation_steps = 50,\n",
    "            callbacks=[model_checkpoint_callback,reduce_lr],\n",
    "            verbose = 2)"
   ]
  },
  {
   "cell_type": "code",
   "execution_count": 88,
   "metadata": {
    "ExecuteTime": {
     "end_time": "2023-03-09T00:29:20.323893Z",
     "start_time": "2023-03-09T00:29:20.214018Z"
    }
   },
   "outputs": [
    {
     "data": {
      "image/png": "[encoded data removed]",
      "text/plain": [
       "<Figure size 640x480 with 1 Axes>"
      ]
     },
     "metadata": {},
     "output_type": "display_data"
    },
    {
     "data": {
      "text/plain": [
       "<Figure size 640x480 with 0 Axes>"
      ]
     },
     "metadata": {},
     "output_type": "display_data"
    }
   ],
   "source": [
    "import matplotlib.pyplot as plt\n",
    "acc = history.history['root_mean_squared_error']\n",
    "val_acc = history.history['val_root_mean_squared_error']\n",
    "loss = history.history['loss']\n",
    "val_loss = history.history['val_loss']\n",
    "\n",
    "epochs = range(len(acc))\n",
    "\n",
    "plt.plot(epochs, acc, 'r', label='Training metric')\n",
    "plt.plot(epochs, val_acc, 'b', label='Validation metric')\n",
    "plt.title('Training and validation root_mean_squared_error')\n",
    "plt.legend(loc=0)\n",
    "plt.figure()\n",
    "\n",
    "\n",
    "plt.show()"
   ]
  },
  {
   "cell_type": "code",
   "execution_count": 214,
   "metadata": {
    "ExecuteTime": {
     "end_time": "2023-02-18T10:08:45.845660Z",
     "start_time": "2023-02-18T10:08:45.842888Z"
    }
   },
   "outputs": [],
   "source": [
    "\n",
    "\n",
    "# Set the learning rate scheduler\n",
    "lr_schedule = tf.keras.callbacks.LearningRateScheduler(\n",
    "    lambda epoch: 1e-8 * 10**(epoch / 20))\n",
    "\n"
   ]
  },
  {
   "cell_type": "code",
   "execution_count": 413,
   "metadata": {
    "ExecuteTime": {
     "end_time": "2023-03-08T23:24:39.878360Z",
     "start_time": "2023-03-08T23:21:19.110788Z"
    },
    "scrolled": true
   },
   "outputs": [
    {
     "name": "stdout",
     "output_type": "stream",
     "text": [
      "Epoch 1/100\n",
      "783/783 - 3s - loss: 276.7545 - root_mean_squared_error: 290.3596 - val_loss: 244.1130 - val_root_mean_squared_error: 259.6231 - lr: 1.0000e-08 - 3s/epoch - 4ms/step\n",
      "Epoch 2/100\n",
      "783/783 - 2s - loss: 274.5288 - root_mean_squared_error: 287.2271 - val_loss: 242.1838 - val_root_mean_squared_error: 257.7184 - lr: 1.1220e-08 - 2s/epoch - 2ms/step\n",
      "Epoch 3/100\n",
      "783/783 - 2s - loss: 270.0115 - root_mean_squared_error: 282.4392 - val_loss: 239.9549 - val_root_mean_squared_error: 255.5198 - lr: 1.2589e-08 - 2s/epoch - 2ms/step\n",
      "Epoch 4/100\n",
      "783/783 - 2s - loss: 265.4789 - root_mean_squared_error: 277.6539 - val_loss: 237.4510 - val_root_mean_squared_error: 253.0507 - lr: 1.4125e-08 - 2s/epoch - 2ms/step\n",
      "Epoch 5/100\n",
      "783/783 - 2s - loss: 266.0520 - root_mean_squared_error: 278.7711 - val_loss: 234.6964 - val_root_mean_squared_error: 250.3344 - lr: 1.5849e-08 - 2s/epoch - 2ms/step\n",
      "Epoch 6/100\n",
      "783/783 - 2s - loss: 263.4569 - root_mean_squared_error: 276.5013 - val_loss: 231.6627 - val_root_mean_squared_error: 247.3314 - lr: 1.7783e-08 - 2s/epoch - 2ms/step\n",
      "Epoch 7/100\n",
      "783/783 - 2s - loss: 260.9485 - root_mean_squared_error: 274.6293 - val_loss: 228.3172 - val_root_mean_squared_error: 244.0182 - lr: 1.9953e-08 - 2s/epoch - 2ms/step\n",
      "Epoch 8/100\n",
      "783/783 - 2s - loss: 259.4323 - root_mean_squared_error: 273.2151 - val_loss: 224.5487 - val_root_mean_squared_error: 240.2652 - lr: 2.2387e-08 - 2s/epoch - 2ms/step\n",
      "Epoch 9/100\n",
      "783/783 - 2s - loss: 252.2141 - root_mean_squared_error: 264.8020 - val_loss: 220.3977 - val_root_mean_squared_error: 236.1663 - lr: 2.5119e-08 - 2s/epoch - 3ms/step\n",
      "Epoch 10/100\n",
      "783/783 - 2s - loss: 252.3972 - root_mean_squared_error: 265.9451 - val_loss: 215.7560 - val_root_mean_squared_error: 231.5498 - lr: 2.8184e-08 - 2s/epoch - 2ms/step\n",
      "Epoch 11/100\n",
      "783/783 - 2s - loss: 246.2510 - root_mean_squared_error: 259.2359 - val_loss: 210.6635 - val_root_mean_squared_error: 226.5008 - lr: 3.1623e-08 - 2s/epoch - 2ms/step\n",
      "Epoch 12/100\n",
      "783/783 - 2s - loss: 242.8206 - root_mean_squared_error: 256.0069 - val_loss: 205.0687 - val_root_mean_squared_error: 220.9434 - lr: 3.5481e-08 - 2s/epoch - 2ms/step\n",
      "Epoch 13/100\n",
      "783/783 - 2s - loss: 239.0647 - root_mean_squared_error: 252.9477 - val_loss: 198.9467 - val_root_mean_squared_error: 214.8542 - lr: 3.9811e-08 - 2s/epoch - 2ms/step\n",
      "Epoch 14/100\n",
      "783/783 - 2s - loss: 230.5355 - root_mean_squared_error: 244.1102 - val_loss: 192.2852 - val_root_mean_squared_error: 208.2342 - lr: 4.4668e-08 - 2s/epoch - 2ms/step\n",
      "Epoch 15/100\n",
      "783/783 - 2s - loss: 223.7589 - root_mean_squared_error: 236.8424 - val_loss: 184.9774 - val_root_mean_squared_error: 200.9135 - lr: 5.0119e-08 - 2s/epoch - 3ms/step\n",
      "Epoch 16/100\n",
      "783/783 - 2s - loss: 216.9044 - root_mean_squared_error: 230.5290 - val_loss: 177.0543 - val_root_mean_squared_error: 192.9572 - lr: 5.6234e-08 - 2s/epoch - 3ms/step\n",
      "Epoch 17/100\n",
      "783/783 - 3s - loss: 213.4547 - root_mean_squared_error: 227.6001 - val_loss: 168.6250 - val_root_mean_squared_error: 184.4953 - lr: 6.3096e-08 - 3s/epoch - 3ms/step\n",
      "Epoch 18/100\n",
      "783/783 - 2s - loss: 202.6114 - root_mean_squared_error: 215.3652 - val_loss: 159.7627 - val_root_mean_squared_error: 175.5715 - lr: 7.0795e-08 - 2s/epoch - 3ms/step\n",
      "Epoch 19/100\n",
      "783/783 - 2s - loss: 199.2522 - root_mean_squared_error: 212.5231 - val_loss: 150.4175 - val_root_mean_squared_error: 165.9970 - lr: 7.9433e-08 - 2s/epoch - 3ms/step\n",
      "Epoch 20/100\n",
      "783/783 - 2s - loss: 191.7377 - root_mean_squared_error: 205.4393 - val_loss: 141.0068 - val_root_mean_squared_error: 156.2403 - lr: 8.9125e-08 - 2s/epoch - 3ms/step\n",
      "Epoch 21/100\n",
      "783/783 - 2s - loss: 183.3328 - root_mean_squared_error: 196.0351 - val_loss: 131.6838 - val_root_mean_squared_error: 146.3901 - lr: 1.0000e-07 - 2s/epoch - 3ms/step\n",
      "Epoch 22/100\n",
      "783/783 - 2s - loss: 176.6562 - root_mean_squared_error: 188.9760 - val_loss: 122.5595 - val_root_mean_squared_error: 136.4462 - lr: 1.1220e-07 - 2s/epoch - 3ms/step\n",
      "Epoch 23/100\n",
      "783/783 - 2s - loss: 170.5048 - root_mean_squared_error: 182.8742 - val_loss: 114.2286 - val_root_mean_squared_error: 127.0773 - lr: 1.2589e-07 - 2s/epoch - 3ms/step\n",
      "Epoch 24/100\n",
      "783/783 - 2s - loss: 162.0119 - root_mean_squared_error: 172.6494 - val_loss: 106.9610 - val_root_mean_squared_error: 118.6987 - lr: 1.4125e-07 - 2s/epoch - 3ms/step\n",
      "Epoch 25/100\n",
      "783/783 - 2s - loss: 157.7216 - root_mean_squared_error: 167.8314 - val_loss: 100.0620 - val_root_mean_squared_error: 110.5216 - lr: 1.5849e-07 - 2s/epoch - 3ms/step\n",
      "Epoch 26/100\n",
      "783/783 - 2s - loss: 151.9987 - root_mean_squared_error: 161.1836 - val_loss: 94.3807 - val_root_mean_squared_error: 103.7521 - lr: 1.7783e-07 - 2s/epoch - 3ms/step\n",
      "Epoch 27/100\n",
      "783/783 - 2s - loss: 150.0342 - root_mean_squared_error: 159.8531 - val_loss: 89.5359 - val_root_mean_squared_error: 98.0951 - lr: 1.9953e-07 - 2s/epoch - 3ms/step\n",
      "Epoch 28/100\n",
      "783/783 - 2s - loss: 145.1595 - root_mean_squared_error: 154.3015 - val_loss: 85.3605 - val_root_mean_squared_error: 93.3085 - lr: 2.2387e-07 - 2s/epoch - 3ms/step\n",
      "Epoch 29/100\n",
      "783/783 - 2s - loss: 142.1331 - root_mean_squared_error: 150.5551 - val_loss: 82.1675 - val_root_mean_squared_error: 89.7287 - lr: 2.5119e-07 - 2s/epoch - 3ms/step\n",
      "Epoch 30/100\n",
      "783/783 - 2s - loss: 136.5480 - root_mean_squared_error: 144.7157 - val_loss: 79.4698 - val_root_mean_squared_error: 86.8221 - lr: 2.8184e-07 - 2s/epoch - 3ms/step\n",
      "Epoch 31/100\n",
      "783/783 - 2s - loss: 135.4156 - root_mean_squared_error: 143.3604 - val_loss: 77.1353 - val_root_mean_squared_error: 84.3619 - lr: 3.1623e-07 - 2s/epoch - 3ms/step\n",
      "Epoch 32/100\n",
      "783/783 - 2s - loss: 130.5895 - root_mean_squared_error: 138.0107 - val_loss: 75.3484 - val_root_mean_squared_error: 82.4672 - lr: 3.5481e-07 - 2s/epoch - 3ms/step\n",
      "Epoch 33/100\n",
      "783/783 - 3s - loss: 128.6960 - root_mean_squared_error: 135.7520 - val_loss: 73.9878 - val_root_mean_squared_error: 81.0706 - lr: 3.9811e-07 - 3s/epoch - 3ms/step\n",
      "Epoch 34/100\n",
      "783/783 - 2s - loss: 126.0275 - root_mean_squared_error: 133.1248 - val_loss: 72.6412 - val_root_mean_squared_error: 79.6913 - lr: 4.4668e-07 - 2s/epoch - 3ms/step\n",
      "Epoch 35/100\n",
      "783/783 - 2s - loss: 123.3402 - root_mean_squared_error: 130.2847 - val_loss: 71.9883 - val_root_mean_squared_error: 79.0601 - lr: 5.0119e-07 - 2s/epoch - 2ms/step\n",
      "Epoch 36/100\n",
      "783/783 - 2s - loss: 119.6469 - root_mean_squared_error: 126.2113 - val_loss: 70.4208 - val_root_mean_squared_error: 77.5249 - lr: 5.6234e-07 - 2s/epoch - 3ms/step\n",
      "Epoch 37/100\n",
      "783/783 - 2s - loss: 114.5854 - root_mean_squared_error: 120.6230 - val_loss: 69.5912 - val_root_mean_squared_error: 76.6885 - lr: 6.3096e-07 - 2s/epoch - 3ms/step\n",
      "Epoch 38/100\n",
      "783/783 - 2s - loss: 113.2444 - root_mean_squared_error: 119.3011 - val_loss: 68.5371 - val_root_mean_squared_error: 75.7051 - lr: 7.0795e-07 - 2s/epoch - 3ms/step\n",
      "Epoch 39/100\n",
      "783/783 - 2s - loss: 109.1927 - root_mean_squared_error: 115.1770 - val_loss: 67.5665 - val_root_mean_squared_error: 74.7801 - lr: 7.9433e-07 - 2s/epoch - 3ms/step\n",
      "Epoch 40/100\n",
      "783/783 - 2s - loss: 106.1829 - root_mean_squared_error: 111.5485 - val_loss: 66.6160 - val_root_mean_squared_error: 73.8548 - lr: 8.9125e-07 - 2s/epoch - 3ms/step\n",
      "Epoch 41/100\n",
      "783/783 - 2s - loss: 102.4165 - root_mean_squared_error: 107.6783 - val_loss: 66.2066 - val_root_mean_squared_error: 73.4233 - lr: 1.0000e-06 - 2s/epoch - 3ms/step\n",
      "Epoch 42/100\n",
      "783/783 - 2s - loss: 99.3042 - root_mean_squared_error: 104.2798 - val_loss: 64.8695 - val_root_mean_squared_error: 72.2547 - lr: 1.1220e-06 - 2s/epoch - 3ms/step\n",
      "Epoch 43/100\n",
      "783/783 - 2s - loss: 96.3490 - root_mean_squared_error: 100.9846 - val_loss: 64.2073 - val_root_mean_squared_error: 71.6384 - lr: 1.2589e-06 - 2s/epoch - 3ms/step\n",
      "Epoch 44/100\n",
      "783/783 - 2s - loss: 93.6849 - root_mean_squared_error: 98.5143 - val_loss: 63.6004 - val_root_mean_squared_error: 71.0718 - lr: 1.4125e-06 - 2s/epoch - 3ms/step\n",
      "Epoch 45/100\n",
      "783/783 - 2s - loss: 90.7595 - root_mean_squared_error: 95.1921 - val_loss: 63.2604 - val_root_mean_squared_error: 70.8156 - lr: 1.5849e-06 - 2s/epoch - 3ms/step\n",
      "Epoch 46/100\n",
      "783/783 - 2s - loss: 87.5647 - root_mean_squared_error: 91.8144 - val_loss: 61.8623 - val_root_mean_squared_error: 69.5009 - lr: 1.7783e-06 - 2s/epoch - 3ms/step\n",
      "Epoch 47/100\n",
      "783/783 - 2s - loss: 85.4596 - root_mean_squared_error: 89.5588 - val_loss: 61.3682 - val_root_mean_squared_error: 69.0649 - lr: 1.9953e-06 - 2s/epoch - 3ms/step\n"
     ]
    },
    {
     "name": "stdout",
     "output_type": "stream",
     "text": [
      "Epoch 48/100\n",
      "783/783 - 2s - loss: 83.7812 - root_mean_squared_error: 87.8107 - val_loss: 60.6561 - val_root_mean_squared_error: 68.5608 - lr: 2.2387e-06 - 2s/epoch - 3ms/step\n",
      "Epoch 49/100\n",
      "783/783 - 2s - loss: 81.9355 - root_mean_squared_error: 85.8479 - val_loss: 60.0552 - val_root_mean_squared_error: 68.0192 - lr: 2.5119e-06 - 2s/epoch - 3ms/step\n",
      "Epoch 50/100\n",
      "783/783 - 2s - loss: 79.2625 - root_mean_squared_error: 83.0241 - val_loss: 59.3926 - val_root_mean_squared_error: 67.4047 - lr: 2.8184e-06 - 2s/epoch - 3ms/step\n",
      "Epoch 51/100\n",
      "783/783 - 2s - loss: 75.4358 - root_mean_squared_error: 79.0860 - val_loss: 59.3458 - val_root_mean_squared_error: 67.4326 - lr: 3.1623e-06 - 2s/epoch - 3ms/step\n",
      "Epoch 52/100\n",
      "783/783 - 2s - loss: 73.9157 - root_mean_squared_error: 77.5286 - val_loss: 58.5977 - val_root_mean_squared_error: 66.7247 - lr: 3.5481e-06 - 2s/epoch - 3ms/step\n",
      "Epoch 53/100\n",
      "783/783 - 2s - loss: 72.8759 - root_mean_squared_error: 76.3262 - val_loss: 57.7779 - val_root_mean_squared_error: 66.0744 - lr: 3.9811e-06 - 2s/epoch - 3ms/step\n",
      "Epoch 54/100\n",
      "783/783 - 2s - loss: 70.6319 - root_mean_squared_error: 74.1861 - val_loss: 57.4277 - val_root_mean_squared_error: 65.7834 - lr: 4.4668e-06 - 2s/epoch - 3ms/step\n",
      "Epoch 55/100\n",
      "783/783 - 2s - loss: 68.8210 - root_mean_squared_error: 72.1592 - val_loss: 57.0716 - val_root_mean_squared_error: 65.5667 - lr: 5.0119e-06 - 2s/epoch - 3ms/step\n",
      "Epoch 56/100\n",
      "783/783 - 2s - loss: 67.7169 - root_mean_squared_error: 71.2755 - val_loss: 57.8602 - val_root_mean_squared_error: 66.1194 - lr: 5.6234e-06 - 2s/epoch - 3ms/step\n",
      "Epoch 57/100\n",
      "783/783 - 2s - loss: 66.2188 - root_mean_squared_error: 69.6313 - val_loss: 56.4390 - val_root_mean_squared_error: 64.9835 - lr: 6.3096e-06 - 2s/epoch - 3ms/step\n",
      "Epoch 58/100\n",
      "783/783 - 2s - loss: 64.8222 - root_mean_squared_error: 68.1973 - val_loss: 56.5433 - val_root_mean_squared_error: 65.0699 - lr: 7.0795e-06 - 2s/epoch - 3ms/step\n",
      "Epoch 59/100\n",
      "783/783 - 2s - loss: 63.7082 - root_mean_squared_error: 67.0620 - val_loss: 56.0188 - val_root_mean_squared_error: 64.6535 - lr: 7.9433e-06 - 2s/epoch - 3ms/step\n",
      "Epoch 60/100\n",
      "783/783 - 2s - loss: 62.6067 - root_mean_squared_error: 66.0503 - val_loss: 56.1186 - val_root_mean_squared_error: 64.7316 - lr: 8.9125e-06 - 2s/epoch - 3ms/step\n",
      "Epoch 61/100\n",
      "783/783 - 2s - loss: 61.4701 - root_mean_squared_error: 64.8407 - val_loss: 55.7559 - val_root_mean_squared_error: 64.4478 - lr: 1.0000e-05 - 2s/epoch - 3ms/step\n",
      "Epoch 62/100\n",
      "783/783 - 2s - loss: 60.5938 - root_mean_squared_error: 64.0296 - val_loss: 55.5716 - val_root_mean_squared_error: 64.2273 - lr: 1.1220e-05 - 2s/epoch - 3ms/step\n",
      "Epoch 63/100\n",
      "783/783 - 2s - loss: 59.7880 - root_mean_squared_error: 63.2279 - val_loss: 55.8580 - val_root_mean_squared_error: 64.4430 - lr: 1.2589e-05 - 2s/epoch - 3ms/step\n",
      "Epoch 64/100\n",
      "783/783 - 2s - loss: 58.7245 - root_mean_squared_error: 62.2173 - val_loss: 55.2965 - val_root_mean_squared_error: 64.0925 - lr: 1.4125e-05 - 2s/epoch - 3ms/step\n",
      "Epoch 65/100\n",
      "783/783 - 2s - loss: 57.8402 - root_mean_squared_error: 61.2681 - val_loss: 55.1361 - val_root_mean_squared_error: 63.9858 - lr: 1.5849e-05 - 2s/epoch - 3ms/step\n",
      "Epoch 66/100\n",
      "783/783 - 2s - loss: 57.7209 - root_mean_squared_error: 61.1870 - val_loss: 55.7429 - val_root_mean_squared_error: 64.3867 - lr: 1.7783e-05 - 2s/epoch - 3ms/step\n",
      "Epoch 67/100\n",
      "783/783 - 2s - loss: 56.8296 - root_mean_squared_error: 60.4302 - val_loss: 55.1768 - val_root_mean_squared_error: 63.9361 - lr: 1.9953e-05 - 2s/epoch - 3ms/step\n",
      "Epoch 68/100\n",
      "783/783 - 2s - loss: 56.2198 - root_mean_squared_error: 59.8837 - val_loss: 55.0551 - val_root_mean_squared_error: 63.9094 - lr: 2.2387e-05 - 2s/epoch - 3ms/step\n",
      "Epoch 69/100\n",
      "783/783 - 2s - loss: 55.9504 - root_mean_squared_error: 59.6198 - val_loss: 55.1786 - val_root_mean_squared_error: 63.9973 - lr: 2.5119e-05 - 2s/epoch - 3ms/step\n",
      "Epoch 70/100\n",
      "783/783 - 2s - loss: 55.5465 - root_mean_squared_error: 59.2077 - val_loss: 54.7999 - val_root_mean_squared_error: 63.7460 - lr: 2.8184e-05 - 2s/epoch - 3ms/step\n",
      "Epoch 71/100\n",
      "783/783 - 2s - loss: 55.2769 - root_mean_squared_error: 59.0084 - val_loss: 54.9203 - val_root_mean_squared_error: 63.7615 - lr: 3.1623e-05 - 2s/epoch - 2ms/step\n",
      "Epoch 72/100\n",
      "783/783 - 2s - loss: 54.4649 - root_mean_squared_error: 58.1985 - val_loss: 55.0620 - val_root_mean_squared_error: 63.8937 - lr: 3.5481e-05 - 2s/epoch - 3ms/step\n",
      "Epoch 73/100\n",
      "783/783 - 2s - loss: 54.6147 - root_mean_squared_error: 58.3809 - val_loss: 55.0988 - val_root_mean_squared_error: 63.8437 - lr: 3.9811e-05 - 2s/epoch - 3ms/step\n",
      "Epoch 74/100\n",
      "783/783 - 2s - loss: 54.2730 - root_mean_squared_error: 58.0211 - val_loss: 54.7524 - val_root_mean_squared_error: 63.5919 - lr: 4.4668e-05 - 2s/epoch - 2ms/step\n",
      "Epoch 75/100\n",
      "783/783 - 2s - loss: 54.1665 - root_mean_squared_error: 57.9931 - val_loss: 54.8494 - val_root_mean_squared_error: 63.7663 - lr: 5.0119e-05 - 2s/epoch - 3ms/step\n",
      "Epoch 76/100\n",
      "783/783 - 2s - loss: 53.7076 - root_mean_squared_error: 57.5329 - val_loss: 54.6568 - val_root_mean_squared_error: 63.5557 - lr: 5.6234e-05 - 2s/epoch - 3ms/step\n",
      "Epoch 77/100\n",
      "783/783 - 2s - loss: 53.5205 - root_mean_squared_error: 57.3946 - val_loss: 54.6623 - val_root_mean_squared_error: 63.5269 - lr: 6.3096e-05 - 2s/epoch - 3ms/step\n",
      "Epoch 78/100\n",
      "783/783 - 2s - loss: 53.3437 - root_mean_squared_error: 57.2148 - val_loss: 54.6518 - val_root_mean_squared_error: 63.5606 - lr: 7.0795e-05 - 2s/epoch - 3ms/step\n",
      "Epoch 79/100\n",
      "783/783 - 2s - loss: 53.0821 - root_mean_squared_error: 56.9527 - val_loss: 54.5259 - val_root_mean_squared_error: 63.5354 - lr: 7.9433e-05 - 2s/epoch - 3ms/step\n",
      "Epoch 80/100\n",
      "783/783 - 2s - loss: 52.8406 - root_mean_squared_error: 56.7355 - val_loss: 54.6064 - val_root_mean_squared_error: 63.5673 - lr: 8.9125e-05 - 2s/epoch - 3ms/step\n",
      "Epoch 81/100\n",
      "783/783 - 2s - loss: 52.6941 - root_mean_squared_error: 56.6468 - val_loss: 54.4682 - val_root_mean_squared_error: 63.4137 - lr: 1.0000e-04 - 2s/epoch - 3ms/step\n",
      "Epoch 82/100\n",
      "783/783 - 2s - loss: 52.5827 - root_mean_squared_error: 56.5617 - val_loss: 54.4598 - val_root_mean_squared_error: 63.3606 - lr: 1.1220e-04 - 2s/epoch - 3ms/step\n",
      "Epoch 83/100\n",
      "783/783 - 2s - loss: 52.4856 - root_mean_squared_error: 56.4742 - val_loss: 54.6438 - val_root_mean_squared_error: 63.6643 - lr: 1.2589e-04 - 2s/epoch - 3ms/step\n",
      "Epoch 84/100\n",
      "783/783 - 2s - loss: 52.2662 - root_mean_squared_error: 56.2043 - val_loss: 54.5614 - val_root_mean_squared_error: 63.5903 - lr: 1.4125e-04 - 2s/epoch - 3ms/step\n",
      "Epoch 85/100\n",
      "783/783 - 2s - loss: 52.1178 - root_mean_squared_error: 56.1587 - val_loss: 54.4388 - val_root_mean_squared_error: 63.4446 - lr: 1.5849e-04 - 2s/epoch - 3ms/step\n",
      "Epoch 86/100\n",
      "783/783 - 2s - loss: 52.0136 - root_mean_squared_error: 55.9969 - val_loss: 54.3846 - val_root_mean_squared_error: 63.4490 - lr: 1.7783e-04 - 2s/epoch - 3ms/step\n",
      "Epoch 87/100\n",
      "783/783 - 2s - loss: 52.0307 - root_mean_squared_error: 56.0674 - val_loss: 54.2781 - val_root_mean_squared_error: 63.3121 - lr: 1.9953e-04 - 2s/epoch - 3ms/step\n",
      "Epoch 88/100\n",
      "783/783 - 2s - loss: 51.7937 - root_mean_squared_error: 55.8257 - val_loss: 54.2765 - val_root_mean_squared_error: 63.3578 - lr: 2.2387e-04 - 2s/epoch - 3ms/step\n",
      "Epoch 89/100\n",
      "783/783 - 2s - loss: 51.7750 - root_mean_squared_error: 55.8420 - val_loss: 54.2754 - val_root_mean_squared_error: 63.3218 - lr: 2.5119e-04 - 2s/epoch - 3ms/step\n",
      "Epoch 90/100\n",
      "783/783 - 2s - loss: 51.6372 - root_mean_squared_error: 55.7295 - val_loss: 54.3015 - val_root_mean_squared_error: 63.3997 - lr: 2.8184e-04 - 2s/epoch - 3ms/step\n",
      "Epoch 91/100\n",
      "783/783 - 2s - loss: 51.4605 - root_mean_squared_error: 55.5585 - val_loss: 54.2924 - val_root_mean_squared_error: 63.3534 - lr: 3.1623e-04 - 2s/epoch - 3ms/step\n",
      "Epoch 92/100\n",
      "783/783 - 2s - loss: 51.3681 - root_mean_squared_error: 55.4857 - val_loss: 54.1326 - val_root_mean_squared_error: 63.2079 - lr: 3.5481e-04 - 2s/epoch - 3ms/step\n",
      "Epoch 93/100\n",
      "783/783 - 2s - loss: 51.3083 - root_mean_squared_error: 55.4069 - val_loss: 54.1795 - val_root_mean_squared_error: 63.3292 - lr: 3.9811e-04 - 2s/epoch - 3ms/step\n",
      "Epoch 94/100\n",
      "783/783 - 2s - loss: 51.2716 - root_mean_squared_error: 55.4098 - val_loss: 54.2020 - val_root_mean_squared_error: 63.3618 - lr: 4.4668e-04 - 2s/epoch - 3ms/step\n"
     ]
    },
    {
     "name": "stdout",
     "output_type": "stream",
     "text": [
      "Epoch 95/100\n",
      "783/783 - 2s - loss: 51.2075 - root_mean_squared_error: 55.3252 - val_loss: 54.0444 - val_root_mean_squared_error: 63.0832 - lr: 5.0119e-04 - 2s/epoch - 3ms/step\n",
      "Epoch 96/100\n",
      "783/783 - 2s - loss: 51.1471 - root_mean_squared_error: 55.2660 - val_loss: 54.1371 - val_root_mean_squared_error: 63.3070 - lr: 5.6234e-04 - 2s/epoch - 3ms/step\n",
      "Epoch 97/100\n",
      "783/783 - 2s - loss: 51.1589 - root_mean_squared_error: 55.2568 - val_loss: 53.9907 - val_root_mean_squared_error: 63.1188 - lr: 6.3096e-04 - 2s/epoch - 3ms/step\n",
      "Epoch 98/100\n",
      "783/783 - 2s - loss: 51.1755 - root_mean_squared_error: 55.2793 - val_loss: 53.9128 - val_root_mean_squared_error: 63.0131 - lr: 7.0795e-04 - 2s/epoch - 3ms/step\n",
      "Epoch 99/100\n",
      "783/783 - 2s - loss: 51.1348 - root_mean_squared_error: 55.2167 - val_loss: 53.8552 - val_root_mean_squared_error: 62.9156 - lr: 7.9433e-04 - 2s/epoch - 3ms/step\n",
      "Epoch 100/100\n",
      "783/783 - 2s - loss: 51.1287 - root_mean_squared_error: 55.2262 - val_loss: 53.7924 - val_root_mean_squared_error: 62.8758 - lr: 8.9125e-04 - 2s/epoch - 3ms/step\n"
     ]
    }
   ],
   "source": [
    "history=model.fit(\n",
    "        traindata,\n",
    "        validation_data = validatedata,\n",
    "        #steps_per_epoch = 100,\n",
    "        epochs = 100,\n",
    "        #validation_steps = 50,\n",
    "        verbose = 2,\n",
    "        callbacks=[lr_schedule])"
   ]
  },
  {
   "cell_type": "code",
   "execution_count": 414,
   "metadata": {
    "ExecuteTime": {
     "end_time": "2023-03-08T23:26:58.761676Z",
     "start_time": "2023-03-08T23:26:58.574389Z"
    }
   },
   "outputs": [
    {
     "data": {
      "image/png": "[encoded data removed]",
      "text/plain": [
       "<Figure size 1000x600 with 1 Axes>"
      ]
     },
     "metadata": {},
     "output_type": "display_data"
    }
   ],
   "source": [
    "# Define the learning rate array\n",
    "lrs = 1e-8 * (10 ** (np.arange(100) / 20))\n",
    "\n",
    "# Set the figure size\n",
    "plt.figure(figsize=(10, 6))\n",
    "\n",
    "# Set the grid\n",
    "plt.grid(True)\n",
    "\n",
    "# Plot the loss in log scale\n",
    "plt.semilogx(lrs, history.history[\"loss\"])\n",
    "\n",
    "# Increase the tickmarks size\n",
    "plt.tick_params('both', length=10, width=1, which='both')\n",
    "\n",
    "# Set the plot boundaries\n",
    "#plt.axis([1e-8, 1e-3, 0, 300])"
   ]
  },
  {
   "cell_type": "code",
   "execution_count": 159,
   "metadata": {
    "ExecuteTime": {
     "end_time": "2023-02-10T22:38:25.760250Z",
     "start_time": "2023-02-10T22:38:25.758485Z"
    },
    "colab": {
     "base_uri": "https://localhost:8080/"
    },
    "executionInfo": {
     "elapsed": 683,
     "status": "ok",
     "timestamp": 1674723386245,
     "user": {
      "displayName": "Nelson Mganga",
      "userId": "15984282569117459010"
     },
     "user_tz": -180
    },
    "id": "61dZDV4Dmx-h",
    "outputId": "d27f2c70-ac67-4309-a9bb-3d0625213bbc"
   },
   "outputs": [],
   "source": [
    "# predict\n",
    "#pred_train = pipe.predict(train_images)\n",
    "\n",
    "# train mse error\n",
    "#mse = mean_squared_error(train_biomasses, pred_train) \n",
    "#mse\n",
    "#rmse = np.sqrt(mse)"
   ]
  },
  {
   "cell_type": "code",
   "execution_count": 19,
   "metadata": {
    "ExecuteTime": {
     "end_time": "2023-02-09T23:22:42.218443Z",
     "start_time": "2023-02-09T23:22:42.068209Z"
    },
    "colab": {
     "base_uri": "https://localhost:8080/"
    },
    "executionInfo": {
     "elapsed": 3,
     "status": "ok",
     "timestamp": 1674723386245,
     "user": {
      "displayName": "Nelson Mganga",
      "userId": "15984282569117459010"
     },
     "user_tz": -180
    },
    "id": "T17ZqXTop6DJ",
    "outputId": "c38c43a0-719d-477d-f241-5edf2dcc918b"
   },
   "outputs": [
    {
     "data": {
      "text/plain": [
       "3961.942859655493"
      ]
     },
     "execution_count": 19,
     "metadata": {},
     "output_type": "execute_result"
    }
   ],
   "source": [
    "# predict\n",
    "#pred_validate = pipe.predict(validate_images)\n",
    "\n",
    "#  validate mse error\n",
    "#mse = mean_squared_error(validate_biomasses, pred_validate) \n",
    "#mse\n",
    "#rmse = np.sqrt(mse)\n",
    "3961.942859655493"
   ]
  },
  {
   "cell_type": "markdown",
   "metadata": {
    "id": "MjL1gMrGqSwY"
   },
   "source": [
    "### Gridsearch"
   ]
  },
  {
   "cell_type": "markdown",
   "metadata": {
    "colab": {
     "base_uri": "https://localhost:8080/",
     "height": 70
    },
    "executionInfo": {
     "elapsed": 3,
     "status": "ok",
     "timestamp": 1674652238306,
     "user": {
      "displayName": "Nelson Mganga",
      "userId": "15984282569117459010"
     },
     "user_tz": -180
    },
    "id": "bZZ00__izp6T",
    "outputId": "a1919452-072f-4d52-bf9b-6c113589e490"
   },
   "source": [
    " Initiaze the hyperparameters for each dictionary\n",
    "param1 = {}\n",
    "param1['classifier'] = [LinearRegression()]\n",
    "\n",
    "param2 = {}\n",
    "param2['classifier__alpha'] = [0.1, 0.5, 1]\n",
    "param2['classifier'] = [Ridge()]\n",
    "\n",
    "param3 = {}\n",
    "param3['classifier__alpha'] = [0.1, 0.5, 1]\n",
    "param3['classifier'] = [Lasso()]\n",
    "\n",
    "param4 = {}\n",
    "param4['classifier__n_neighbors'] = [2,5,10,25,50]\n",
    "param4['classifier'] = [KNeighborsRegressor()]\n",
    "\n",
    "\"\"\"\n",
    "param5 = {}\n",
    "param5['classifier__C'] = [10**-2, 10**-1, 10**0, 10**1, 10**2]\n",
    "param5['classifier__epsilon'] = [0.0,0.2,0.5,1]\n",
    "param5['classifier'] = [LinearSVR()]\n",
    "\"\"\""
   ]
  },
  {
   "cell_type": "markdown",
   "metadata": {
    "id": "ptJz-yeCNYzM"
   },
   "source": [
    "pipeline = pipe = Pipeline(steps=[(\"scaler\", CustomScaler(MEAN,STD)),\n",
    "                       (\"flatten\", FlattenTransformer()),\n",
    "                       (\"classifier\", LinearRegression())])\n",
    "params = [param1, param2, param3, param4] # param5\n"
   ]
  },
  {
   "cell_type": "markdown",
   "metadata": {
    "id": "f3NqYDHctRC5"
   },
   "source": [
    " Train the grid search model\n",
    "grid_search = GridSearchCV(pipeline, params, cv=3, scoring='neg_mean_squared_error').fit(train_images,train_biomasses)"
   ]
  },
  {
   "cell_type": "markdown",
   "metadata": {
    "ExecuteTime": {
     "end_time": "2023-02-10T22:22:37.938405Z",
     "start_time": "2023-02-10T22:22:37.930388Z"
    },
    "id": "GKM3uy2Cth2W"
   },
   "source": [
    " Best performing model and its corresponding hyperparameters\n",
    "grid_search.best_params_"
   ]
  },
  {
   "cell_type": "markdown",
   "metadata": {
    "id": "Ohdx1LKttk2y"
   },
   "source": [
    "model = grid_search.best_estimator_\n",
    " predict\n",
    "pred = model.predict(train_images)\n",
    "\n",
    " validate mse error\n",
    "mse = mean_squared_error(train_biomasses, pred) \n",
    "rmse = np.sqrt(mse)\n",
    "\n",
    "print(mse, rmse)\n",
    "\n",
    "model = grid_search.best_estimator_\n",
    " predict\n",
    "pred = model.predict(validate_images)\n",
    "\n",
    " validate mse error\n",
    "mse = mean_squared_error(validate_biomasses, pred) \n",
    "rmse = np.sqrt(mse)\n",
    "\n",
    "print(mse, rmse)"
   ]
  },
  {
   "cell_type": "markdown",
   "metadata": {
    "id": "pdAypOP5BkR_"
   },
   "source": [
    "### Predict GIZ Biomass"
   ]
  },
  {
   "cell_type": "code",
   "execution_count": 132,
   "metadata": {
    "ExecuteTime": {
     "end_time": "2023-03-21T17:34:02.971481Z",
     "start_time": "2023-03-21T17:34:02.963123Z"
    },
    "executionInfo": {
     "elapsed": 416,
     "status": "ok",
     "timestamp": 1674723578973,
     "user": {
      "displayName": "Nelson Mganga",
      "userId": "15984282569117459010"
     },
     "user_tz": -180
    },
    "id": "5LDX4p2XBoz2"
   },
   "outputs": [],
   "source": [
    "s2_images_h5 = h5py.File(\"./data/images_test.h5\", \"r\")"
   ]
  },
  {
   "cell_type": "code",
   "execution_count": 139,
   "metadata": {
    "ExecuteTime": {
     "end_time": "2023-03-21T17:37:43.959801Z",
     "start_time": "2023-03-21T17:37:43.824455Z"
    }
   },
   "outputs": [],
   "source": []
  },
  {
   "cell_type": "code",
   "execution_count": 33,
   "metadata": {
    "ExecuteTime": {
     "end_time": "2023-03-22T21:16:51.029447Z",
     "start_time": "2023-03-22T21:16:49.473705Z"
    }
   },
   "outputs": [
    {
     "name": "stdout",
     "output_type": "stream",
     "text": [
      "(5190, 3180)\n",
      "252538.2052268982\n"
     ]
    }
   ],
   "source": [
    "from datetime import datetime\n",
    "\n",
    "def generate_submit(stack, testset):\n",
    "    X_test=preprocessing(testset, is_test=True)\n",
    "    print(X_test[0].shape)\n",
    "    pred_giz=stack.predict(X_test[0])\n",
    "    print(sum(pred_giz))\n",
    "    ID_S2_pair = pd.read_csv('./data/UniqueID-SentinelPair.csv')\n",
    "    \n",
    "    preds = pd.DataFrame({'Target':pred_giz}).rename_axis('S2_idx').reset_index()\n",
    "    preds = ID_S2_pair.merge(preds, on='S2_idx').drop(columns=['S2_idx'])\n",
    "    time=datetime.now()\n",
    "    preds.to_csv(f'GIZ_Biomass_predictions_{time.strftime(\"%m_%d_%Y_%H:%M:%S\")}.csv', index=False)\n",
    "    \n",
    "generate_submit( stack,testset)"
   ]
  },
  {
   "cell_type": "code",
   "execution_count": 40,
   "metadata": {
    "ExecuteTime": {
     "end_time": "2023-03-09T00:00:33.280883Z",
     "start_time": "2023-03-09T00:00:33.247645Z"
    }
   },
   "outputs": [
    {
     "data": {
      "text/plain": [
       "<tensorflow.python.checkpoint.checkpoint.CheckpointLoadStatus at 0x7f16f876e740>"
      ]
     },
     "execution_count": 40,
     "metadata": {},
     "output_type": "execute_result"
    }
   ],
   "source": [
    "model.load_weights(checkpoint_filepath)\n"
   ]
  },
  {
   "cell_type": "code",
   "execution_count": 41,
   "metadata": {
    "ExecuteTime": {
     "end_time": "2023-03-09T00:00:35.384132Z",
     "start_time": "2023-03-09T00:00:35.380490Z"
    }
   },
   "outputs": [
    {
     "data": {
      "text/plain": [
       "<KeysViewHDF5 ['agbd', 'cloud', 'images', 'lat', 'lon', 'scl']>"
      ]
     },
     "execution_count": 41,
     "metadata": {},
     "output_type": "execute_result"
    }
   ],
   "source": [
    "testset.keys()"
   ]
  },
  {
   "cell_type": "code",
   "execution_count": 47,
   "metadata": {
    "ExecuteTime": {
     "end_time": "2023-03-09T00:02:17.558479Z",
     "start_time": "2023-03-09T00:02:17.555102Z"
    }
   },
   "outputs": [
    {
     "data": {
      "text/plain": [
       "(5190, 15, 15, 1)"
      ]
     },
     "execution_count": 47,
     "metadata": {},
     "output_type": "execute_result"
    }
   ],
   "source": [
    "test_cloud.shape"
   ]
  },
  {
   "cell_type": "code",
   "execution_count": 48,
   "metadata": {
    "ExecuteTime": {
     "end_time": "2023-03-09T00:02:39.005434Z",
     "start_time": "2023-03-09T00:02:38.966042Z"
    }
   },
   "outputs": [],
   "source": [
    "testimg=tf.data.Dataset.from_tensor_slices(test_images)\n",
    "\n",
    "testlat=tf.data.Dataset.from_tensor_slices(test_lat[:,:,0].reshape((-1,15)))\n",
    "testlon=tf.data.Dataset.from_tensor_slices(test_lon[:,:,0].reshape((-1,15)))\n",
    "testcloud=tf.data.Dataset.from_tensor_slices(test_cloud[:,:,0].reshape((-1,15)))\n",
    "testdata=tf.data.Dataset.zip((testimg,testlat, testlon,testcloud)).batch(32)\n"
   ]
  },
  {
   "cell_type": "code",
   "execution_count": 43,
   "metadata": {
    "ExecuteTime": {
     "end_time": "2023-03-09T00:00:36.447557Z",
     "start_time": "2023-03-09T00:00:36.445132Z"
    },
    "executionInfo": {
     "elapsed": 1,
     "status": "ok",
     "timestamp": 1674723580772,
     "user": {
      "displayName": "Nelson Mganga",
      "userId": "15984282569117459010"
     },
     "user_tz": -180
    },
    "id": "PG3shy0oDS4A"
   },
   "outputs": [],
   "source": [
    "#prepare test set sentinel 2 images \n",
    "#s2_images = np.array(s2_images_h5[\"images\"])\n",
    "#s2_images = s2_images.transpose(0,3,1,2)"
   ]
  },
  {
   "cell_type": "code",
   "execution_count": 44,
   "metadata": {
    "ExecuteTime": {
     "end_time": "2023-03-09T00:00:38.797815Z",
     "start_time": "2023-03-09T00:00:38.584611Z"
    }
   },
   "outputs": [
    {
     "name": "stdout",
     "output_type": "stream",
     "text": [
      "162/162 [==============================] - 0s 1ms/step - loss: 53.0247 - root_mean_squared_error: 61.8605\n"
     ]
    },
    {
     "data": {
      "text/plain": [
       "(53.02470779418945, 61.86053466796875)"
      ]
     },
     "execution_count": 44,
     "metadata": {},
     "output_type": "execute_result"
    }
   ],
   "source": [
    "loss_eval, rmse_eval=model.evaluate(validatedata)\n",
    "loss_eval, rmse_eval\n",
    "#(54.43159866333008, 63.476097106933594)\n",
    "#56.93183517456055, 65.77277374267578)\n",
    "\n"
   ]
  },
  {
   "cell_type": "code",
   "execution_count": 45,
   "metadata": {
    "ExecuteTime": {
     "end_time": "2023-03-09T00:00:51.786376Z",
     "start_time": "2023-03-09T00:00:51.783349Z"
    }
   },
   "outputs": [
    {
     "data": {
      "text/plain": [
       "['loss', 'root_mean_squared_error']"
      ]
     },
     "execution_count": 45,
     "metadata": {},
     "output_type": "execute_result"
    }
   ],
   "source": [
    "model.metrics_names "
   ]
  },
  {
   "cell_type": "code",
   "execution_count": 55,
   "metadata": {
    "ExecuteTime": {
     "end_time": "2023-03-09T00:06:41.922957Z",
     "start_time": "2023-03-09T00:06:41.919167Z"
    }
   },
   "outputs": [
    {
     "data": {
      "text/plain": [
       "(5190, 15, 1)"
      ]
     },
     "execution_count": 55,
     "metadata": {},
     "output_type": "execute_result"
    }
   ],
   "source": [
    "test_cloud[:,:,0].shape"
   ]
  },
  {
   "cell_type": "code",
   "execution_count": 56,
   "metadata": {
    "ExecuteTime": {
     "end_time": "2023-03-09T00:07:22.356109Z",
     "start_time": "2023-03-09T00:07:21.985958Z"
    },
    "executionInfo": {
     "elapsed": 2,
     "status": "ok",
     "timestamp": 1674723582520,
     "user": {
      "displayName": "Nelson Mganga",
      "userId": "15984282569117459010"
     },
     "user_tz": -180
    },
    "id": "F5uan3E8DpEU"
   },
   "outputs": [
    {
     "name": "stdout",
     "output_type": "stream",
     "text": [
      "163/163 [==============================] - 0s 1ms/step\n"
     ]
    },
    {
     "data": {
      "text/plain": [
       "(5190, 1)"
      ]
     },
     "execution_count": 56,
     "metadata": {},
     "output_type": "execute_result"
    }
   ],
   "source": [
    "# predict on giz test data\n",
    "pred_giz = model.predict([test_images,test_lat[:,:,0].reshape((-1,15)), test_lon[:,:,0].reshape((-1,15)),test_cloud[:,:,:].reshape((-1,225)) ])\n",
    "pred_giz.shape"
   ]
  },
  {
   "cell_type": "code",
   "execution_count": null,
   "metadata": {},
   "outputs": [],
   "source": []
  },
  {
   "cell_type": "code",
   "execution_count": 57,
   "metadata": {
    "ExecuteTime": {
     "end_time": "2023-03-09T00:07:24.202744Z",
     "start_time": "2023-03-09T00:07:24.199266Z"
    }
   },
   "outputs": [
    {
     "data": {
      "text/plain": [
       "94.4302"
      ]
     },
     "execution_count": 57,
     "metadata": {},
     "output_type": "execute_result"
    }
   ],
   "source": [
    "pred_giz.max()"
   ]
  },
  {
   "cell_type": "code",
   "execution_count": 58,
   "metadata": {
    "ExecuteTime": {
     "end_time": "2023-03-09T00:07:28.004524Z",
     "start_time": "2023-03-09T00:07:28.002089Z"
    }
   },
   "outputs": [],
   "source": [
    "pred_giz=pred_giz.reshape(1,-1)[0]"
   ]
  },
  {
   "cell_type": "code",
   "execution_count": 59,
   "metadata": {
    "ExecuteTime": {
     "end_time": "2023-03-09T00:07:30.271502Z",
     "start_time": "2023-03-09T00:07:30.228593Z"
    },
    "executionInfo": {
     "elapsed": 427,
     "status": "ok",
     "timestamp": 1674723586040,
     "user": {
      "displayName": "Nelson Mganga",
      "userId": "15984282569117459010"
     },
     "user_tz": -180
    },
    "id": "WD4IyJWvGgzo"
   },
   "outputs": [],
   "source": [
    "ID_S2_pair = pd.read_csv('./data/UniqueID-SentinelPair.csv')\n",
    "\n",
    "preds = pd.DataFrame({'Target':pred_giz}).rename_axis('S2_idx').reset_index()\n",
    "preds = ID_S2_pair.merge(preds, on='S2_idx').drop(columns=['S2_idx'])"
   ]
  },
  {
   "cell_type": "code",
   "execution_count": 60,
   "metadata": {
    "ExecuteTime": {
     "end_time": "2023-03-09T00:07:31.430381Z",
     "start_time": "2023-03-09T00:07:31.425657Z"
    },
    "executionInfo": {
     "elapsed": 450,
     "status": "ok",
     "timestamp": 1674723608727,
     "user": {
      "displayName": "Nelson Mganga",
      "userId": "15984282569117459010"
     },
     "user_tz": -180
    },
    "id": "_zMlJsmG-rMO"
   },
   "outputs": [],
   "source": [
    "\n",
    "preds.to_csv(f'GIZ_Biomass_predictions_{rmse_eval}.csv', index=False)"
   ]
  },
  {
   "cell_type": "code",
   "execution_count": 61,
   "metadata": {
    "ExecuteTime": {
     "end_time": "2023-03-09T00:07:32.305509Z",
     "start_time": "2023-03-09T00:07:32.297056Z"
    },
    "colab": {
     "base_uri": "https://localhost:8080/",
     "height": 424
    },
    "executionInfo": {
     "elapsed": 524,
     "status": "ok",
     "timestamp": 1674723601203,
     "user": {
      "displayName": "Nelson Mganga",
      "userId": "15984282569117459010"
     },
     "user_tz": -180
    },
    "id": "9AYlcFAhTiHi",
    "outputId": "e7363c71-f2fa-4b7b-add6-945aa96ad803"
   },
   "outputs": [
    {
     "data": {
      "text/html": [
       "<div>\n",
       "<style scoped>\n",
       "    .dataframe tbody tr th:only-of-type {\n",
       "        vertical-align: middle;\n",
       "    }\n",
       "\n",
       "    .dataframe tbody tr th {\n",
       "        vertical-align: top;\n",
       "    }\n",
       "\n",
       "    .dataframe thead th {\n",
       "        text-align: right;\n",
       "    }\n",
       "</style>\n",
       "<table border=\"1\" class=\"dataframe\">\n",
       "  <thead>\n",
       "    <tr style=\"text-align: right;\">\n",
       "      <th></th>\n",
       "      <th>ID</th>\n",
       "      <th>Target</th>\n",
       "    </tr>\n",
       "  </thead>\n",
       "  <tbody>\n",
       "    <tr>\n",
       "      <th>0</th>\n",
       "      <td>ID_1EB0DGFP07</td>\n",
       "      <td>47.322083</td>\n",
       "    </tr>\n",
       "    <tr>\n",
       "      <th>1</th>\n",
       "      <td>ID_844T2PSXTK</td>\n",
       "      <td>39.771774</td>\n",
       "    </tr>\n",
       "    <tr>\n",
       "      <th>2</th>\n",
       "      <td>ID_4MCV3S8MLN</td>\n",
       "      <td>35.339512</td>\n",
       "    </tr>\n",
       "    <tr>\n",
       "      <th>3</th>\n",
       "      <td>ID_L7441JV5F3</td>\n",
       "      <td>4.117369</td>\n",
       "    </tr>\n",
       "    <tr>\n",
       "      <th>4</th>\n",
       "      <td>ID_5GUVM4YEWZ</td>\n",
       "      <td>32.520939</td>\n",
       "    </tr>\n",
       "    <tr>\n",
       "      <th>...</th>\n",
       "      <td>...</td>\n",
       "      <td>...</td>\n",
       "    </tr>\n",
       "    <tr>\n",
       "      <th>85</th>\n",
       "      <td>ID_MEW6189J1B</td>\n",
       "      <td>58.611908</td>\n",
       "    </tr>\n",
       "    <tr>\n",
       "      <th>86</th>\n",
       "      <td>ID_TH9HRUXGTP</td>\n",
       "      <td>66.100426</td>\n",
       "    </tr>\n",
       "    <tr>\n",
       "      <th>87</th>\n",
       "      <td>ID_GPC7YS3JG8</td>\n",
       "      <td>39.797985</td>\n",
       "    </tr>\n",
       "    <tr>\n",
       "      <th>88</th>\n",
       "      <td>ID_1P7PJMPV0R</td>\n",
       "      <td>59.002762</td>\n",
       "    </tr>\n",
       "    <tr>\n",
       "      <th>89</th>\n",
       "      <td>ID_NTFSOIOEOG</td>\n",
       "      <td>32.673866</td>\n",
       "    </tr>\n",
       "  </tbody>\n",
       "</table>\n",
       "<p>90 rows × 2 columns</p>\n",
       "</div>"
      ],
      "text/plain": [
       "               ID     Target\n",
       "0   ID_1EB0DGFP07  47.322083\n",
       "1   ID_844T2PSXTK  39.771774\n",
       "2   ID_4MCV3S8MLN  35.339512\n",
       "3   ID_L7441JV5F3   4.117369\n",
       "4   ID_5GUVM4YEWZ  32.520939\n",
       "..            ...        ...\n",
       "85  ID_MEW6189J1B  58.611908\n",
       "86  ID_TH9HRUXGTP  66.100426\n",
       "87  ID_GPC7YS3JG8  39.797985\n",
       "88  ID_1P7PJMPV0R  59.002762\n",
       "89  ID_NTFSOIOEOG  32.673866\n",
       "\n",
       "[90 rows x 2 columns]"
      ]
     },
     "execution_count": 61,
     "metadata": {},
     "output_type": "execute_result"
    }
   ],
   "source": [
    "preds"
   ]
  },
  {
   "cell_type": "code",
   "execution_count": null,
   "metadata": {},
   "outputs": [],
   "source": []
  }
 ],
 "metadata": {
  "colab": {
   "authorship_tag": "ABX9TyOihXjq07msZbeQcKWpSf4h",
   "mount_file_id": "1A8QpZiR1T7BX1Re4gixSxA2ju6cXFn4s",
   "provenance": []
  },
  "kernelspec": {
   "display_name": "Python 3 (ipykernel)",
   "language": "python",
   "name": "python3"
  },
  "language_info": {
   "codemirror_mode": {
    "name": "ipython",
    "version": 3
   },
   "file_extension": ".py",
   "mimetype": "text/x-python",
   "name": "python",
   "nbconvert_exporter": "python",
   "pygments_lexer": "ipython3",
   "version": "3.10.9"
  },
  "toc": {
   "base_numbering": 1,
   "nav_menu": {},
   "number_sections": true,
   "sideBar": true,
   "skip_h1_title": false,
   "title_cell": "Table of Contents",
   "title_sidebar": "Contents",
   "toc_cell": true,
   "toc_position": {},
   "toc_section_display": true,
   "toc_window_display": true
  }
 },
 "nbformat": 4,
 "nbformat_minor": 1
}
