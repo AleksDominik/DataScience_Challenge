{
 "cells": [
  {
   "cell_type": "markdown",
   "metadata": {
    "toc": true
   },
   "source": [
    "<h1>Table of Contents<span class=\"tocSkip\"></span></h1>\n",
    "<div class=\"toc\"><ul class=\"toc-item\"><li><span><a href=\"#Images-Extractions\" data-toc-modified-id=\"Images-Extractions-1\"><span class=\"toc-item-num\">1&nbsp;&nbsp;</span>Images Extractions</a></span><ul class=\"toc-item\"><li><span><a href=\"#Explore-datasets\" data-toc-modified-id=\"Explore-datasets-1.1\"><span class=\"toc-item-num\">1.1&nbsp;&nbsp;</span>Explore datasets</a></span></li><li><span><a href=\"#Some-visulizations\" data-toc-modified-id=\"Some-visulizations-1.2\"><span class=\"toc-item-num\">1.2&nbsp;&nbsp;</span>Some visulizations</a></span></li></ul></li><li><span><a href=\"#First-Baseline-With-Sklearn\" data-toc-modified-id=\"First-Baseline-With-Sklearn-2\"><span class=\"toc-item-num\">2&nbsp;&nbsp;</span>First Baseline With Sklearn</a></span><ul class=\"toc-item\"><li><span><a href=\"#Modelisation\" data-toc-modified-id=\"Modelisation-2.1\"><span class=\"toc-item-num\">2.1&nbsp;&nbsp;</span>Modelisation</a></span></li><li><span><a href=\"#convert-To-tensor-Dataset\" data-toc-modified-id=\"convert-To-tensor-Dataset-2.2\"><span class=\"toc-item-num\">2.2&nbsp;&nbsp;</span>convert To tensor Dataset</a></span><ul class=\"toc-item\"><li><span><a href=\"#Gridsearch\" data-toc-modified-id=\"Gridsearch-2.2.1\"><span class=\"toc-item-num\">2.2.1&nbsp;&nbsp;</span>Gridsearch</a></span></li><li><span><a href=\"#Predict-GIZ-Biomass\" data-toc-modified-id=\"Predict-GIZ-Biomass-2.2.2\"><span class=\"toc-item-num\">2.2.2&nbsp;&nbsp;</span>Predict GIZ Biomass</a></span></li></ul></li></ul></li></ul></div>"
   ]
  },
  {
   "cell_type": "markdown",
   "metadata": {
    "id": "28R01eNOra9X"
   },
   "source": [
    "In this notebook, we will show you the differents steps to train step by step dly your model in this competition."
   ]
  },
  {
   "cell_type": "markdown",
   "metadata": {
    "id": "BiF5fKp2Qv1d"
   },
   "source": [
    "# Images Extractions"
   ]
  },
  {
   "cell_type": "code",
   "execution_count": 1,
   "metadata": {
    "ExecuteTime": {
     "end_time": "2023-02-17T17:49:09.993583Z",
     "start_time": "2023-02-17T17:49:08.127680Z"
    },
    "executionInfo": {
     "elapsed": 662,
     "status": "ok",
     "timestamp": 1674723307296,
     "user": {
      "displayName": "Nelson Mganga",
      "userId": "15984282569117459010"
     },
     "user_tz": -180
    },
    "id": "ghyAh0w20yIH"
   },
   "outputs": [
    {
     "name": "stderr",
     "output_type": "stream",
     "text": [
      "2023-02-17 18:49:08.679785: I tensorflow/core/platform/cpu_feature_guard.cc:193] This TensorFlow binary is optimized with oneAPI Deep Neural Network Library (oneDNN) to use the following CPU instructions in performance-critical operations:  AVX2 AVX_VNNI FMA\n",
      "To enable them in other operations, rebuild TensorFlow with the appropriate compiler flags.\n",
      "2023-02-17 18:49:08.821598: I tensorflow/core/util/port.cc:104] oneDNN custom operations are on. You may see slightly different numerical results due to floating-point round-off errors from different computation orders. To turn them off, set the environment variable `TF_ENABLE_ONEDNN_OPTS=0`.\n",
      "2023-02-17 18:49:08.844633: W tensorflow/compiler/xla/stream_executor/platform/default/dso_loader.cc:64] Could not load dynamic library 'libcudart.so.11.0'; dlerror: libcudart.so.11.0: cannot open shared object file: No such file or directory\n",
      "2023-02-17 18:49:08.844647: I tensorflow/compiler/xla/stream_executor/cuda/cudart_stub.cc:29] Ignore above cudart dlerror if you do not have a GPU set up on your machine.\n",
      "2023-02-17 18:49:09.413670: W tensorflow/compiler/xla/stream_executor/platform/default/dso_loader.cc:64] Could not load dynamic library 'libnvinfer.so.7'; dlerror: libnvinfer.so.7: cannot open shared object file: No such file or directory\n",
      "2023-02-17 18:49:09.413709: W tensorflow/compiler/xla/stream_executor/platform/default/dso_loader.cc:64] Could not load dynamic library 'libnvinfer_plugin.so.7'; dlerror: libnvinfer_plugin.so.7: cannot open shared object file: No such file or directory\n",
      "2023-02-17 18:49:09.413712: W tensorflow/compiler/tf2tensorrt/utils/py_utils.cc:38] TF-TRT Warning: Cannot dlopen some TensorRT libraries. If you would like to use Nvidia GPU with TensorRT, please make sure the missing libraries mentioned above are installed properly.\n"
     ]
    }
   ],
   "source": [
    "import h5py\n",
    "import matplotlib.pyplot as plt\n",
    "import pandas as pd\n",
    "import numpy as np\n",
    "import warnings\n",
    "import tensorflow as tf\n",
    "warnings.filterwarnings('ignore')"
   ]
  },
  {
   "cell_type": "code",
   "execution_count": 2,
   "metadata": {
    "ExecuteTime": {
     "end_time": "2023-02-17T17:49:09.997018Z",
     "start_time": "2023-02-17T17:49:09.994948Z"
    },
    "executionInfo": {
     "elapsed": 15503,
     "status": "ok",
     "timestamp": 1674723322797,
     "user": {
      "displayName": "Nelson Mganga",
      "userId": "15984282569117459010"
     },
     "user_tz": -180
    },
    "id": "FSbBd9XiQ5q5"
   },
   "outputs": [],
   "source": [
    "#!wget -q  https://share.phys.ethz.ch/~pf/albecker/abc/09072022_1154_train.h5\n",
    "#!wget -q  https://share.phys.ethz.ch/~pf/albecker/abc/09072022_1154_val.h5\n",
    "#!wget -q https://share.phys.ethz.ch/~pf/albecker/abc/09072022_1154_test.h5"
   ]
  },
  {
   "cell_type": "code",
   "execution_count": 3,
   "metadata": {
    "ExecuteTime": {
     "end_time": "2023-02-17T17:49:10.002053Z",
     "start_time": "2023-02-17T17:49:09.997754Z"
    },
    "executionInfo": {
     "elapsed": 7,
     "status": "ok",
     "timestamp": 1674723322798,
     "user": {
      "displayName": "Nelson Mganga",
      "userId": "15984282569117459010"
     },
     "user_tz": -180
    },
    "id": "k3ZQRlZOQ65B"
   },
   "outputs": [],
   "source": [
    "trainset = h5py.File(\"09072022_1154_train.h5\", \"r\")\n",
    "validateset = h5py.File(\"09072022_1154_val.h5\", \"r\")\n",
    "testset = h5py.File(\"09072022_1154_test.h5\", \"r\")"
   ]
  },
  {
   "cell_type": "code",
   "execution_count": 4,
   "metadata": {
    "ExecuteTime": {
     "end_time": "2023-02-17T17:49:10.007199Z",
     "start_time": "2023-02-17T17:49:10.003044Z"
    },
    "colab": {
     "base_uri": "https://localhost:8080/"
    },
    "executionInfo": {
     "elapsed": 6,
     "status": "ok",
     "timestamp": 1674723322798,
     "user": {
      "displayName": "Nelson Mganga",
      "userId": "15984282569117459010"
     },
     "user_tz": -180
    },
    "id": "sQnKRSw9RDu6",
    "outputId": "3db2d7d8-aee9-4a1a-a8a2-bcf59fff71ee"
   },
   "outputs": [
    {
     "data": {
      "text/plain": [
       "<KeysViewHDF5 ['agbd', 'cloud', 'images', 'lat', 'lon', 'scl']>"
      ]
     },
     "execution_count": 4,
     "metadata": {},
     "output_type": "execute_result"
    }
   ],
   "source": [
    "# attributes of trainset\n",
    "trainset.keys()"
   ]
  },
  {
   "cell_type": "code",
   "execution_count": 5,
   "metadata": {
    "ExecuteTime": {
     "end_time": "2023-02-17T17:49:10.018735Z",
     "start_time": "2023-02-17T17:49:10.008819Z"
    }
   },
   "outputs": [
    {
     "data": {
      "text/plain": [
       "10"
      ]
     },
     "execution_count": 5,
     "metadata": {},
     "output_type": "execute_result"
    }
   ],
   "source": [
    "np.array(trainset['scl']).max()"
   ]
  },
  {
   "cell_type": "code",
   "execution_count": 81,
   "metadata": {
    "ExecuteTime": {
     "end_time": "2023-02-17T23:53:32.322214Z",
     "start_time": "2023-02-17T23:53:32.318000Z"
    }
   },
   "outputs": [
    {
     "data": {
      "text/plain": [
       "<HDF5 dataset \"cloud\": shape (25036, 15, 15, 1), type \"|u1\">"
      ]
     },
     "execution_count": 81,
     "metadata": {},
     "output_type": "execute_result"
    }
   ],
   "source": []
  },
  {
   "cell_type": "markdown",
   "metadata": {
    "id": "2rKhoGtGR1Xu"
   },
   "source": [
    "## Explore datasets"
   ]
  },
  {
   "cell_type": "code",
   "execution_count": 87,
   "metadata": {
    "ExecuteTime": {
     "end_time": "2023-02-17T23:56:37.819391Z",
     "start_time": "2023-02-17T23:56:37.326917Z"
    },
    "executionInfo": {
     "elapsed": 1089,
     "status": "ok",
     "timestamp": 1674723355639,
     "user": {
      "displayName": "Nelson Mganga",
      "userId": "15984282569117459010"
     },
     "user_tz": -180
    },
    "id": "YgOvKhevSGNV"
   },
   "outputs": [],
   "source": [
    "# train\n",
    "train_images = np.array(trainset['images'],dtype=np.float64)\n",
    "train_images = train_images.transpose(0,3,1,2)\n",
    "\n",
    "train_lat = np.array(trainset['lat'],dtype=np.float64)\n",
    "train_lon = np.array(trainset['lon'],dtype=np.float64)\n",
    "train_cloud = np.array(trainset['cloud'],dtype=np.float64)\n",
    "\n",
    "\n",
    "train_biomasses = np.array(trainset['agbd'],dtype=np.float64)\n",
    "\n",
    "# validate\n",
    "validate_images = np.array(validateset['images'],dtype=np.float64)\n",
    "validate_images = validate_images.transpose(0,3,1,2)\n",
    "\n",
    "validate_lat = np.array(validateset['lat'],dtype=np.float64)\n",
    "validate_lon = np.array(validateset['lon'],dtype=np.float64)\n",
    "validate_cloud = np.array(validateset['cloud'],dtype=np.float64)\n",
    "\n",
    "\n",
    "validate_biomasses = np.array(validateset['agbd'],dtype=np.float64)\n",
    "\n",
    "# test \n",
    "test_images = np.array(testset['images'],dtype=np.float32)\n",
    "test_images = test_images.transpose(0,3,1,2)\n",
    "test_lat = np.array(testset['lat'],dtype=np.float64)\n",
    "test_lon = np.array(testset['lon'],dtype=np.float64)\n",
    "test_cloud = np.array(testset['cloud'],dtype=np.float64)\n",
    "\n",
    "\n",
    "test_biomasses = np.array(testset['agbd'],dtype=np.float32)"
   ]
  },
  {
   "cell_type": "code",
   "execution_count": 7,
   "metadata": {
    "ExecuteTime": {
     "end_time": "2023-02-17T17:49:10.528469Z",
     "start_time": "2023-02-17T17:49:10.525953Z"
    },
    "colab": {
     "base_uri": "https://localhost:8080/"
    },
    "executionInfo": {
     "elapsed": 2,
     "status": "ok",
     "timestamp": 1674723355639,
     "user": {
      "displayName": "Nelson Mganga",
      "userId": "15984282569117459010"
     },
     "user_tz": -180
    },
    "id": "Ps-9IeIgSJ4w",
    "outputId": "8ed5a021-0c63-4eab-b4ac-1095c4158ee6"
   },
   "outputs": [
    {
     "name": "stdout",
     "output_type": "stream",
     "text": [
      "train dataset size (25036, 12, 15, 15) train lab size (25036,)\n",
      "\n",
      "validate dataset size (5174, 12, 15, 15) validate lab size (5174,)\n",
      "\n",
      "test dataset size (5190, 12, 15, 15) test lab size (5190,)\n"
     ]
    }
   ],
   "source": [
    "print(f\"train dataset size {train_images.shape} train lab size {train_biomasses.shape}\")\n",
    "print()\n",
    "print(f\"validate dataset size {validate_images.shape} validate lab size {validate_biomasses.shape}\")\n",
    "print()\n",
    "print(f\"test dataset size {test_images.shape} test lab size {test_biomasses.shape}\")"
   ]
  },
  {
   "cell_type": "code",
   "execution_count": 8,
   "metadata": {
    "ExecuteTime": {
     "end_time": "2023-02-17T17:49:10.615747Z",
     "start_time": "2023-02-17T17:49:10.529447Z"
    }
   },
   "outputs": [
    {
     "data": {
      "text/plain": [
       "<AxesSubplot: ylabel='Frequency'>"
      ]
     },
     "execution_count": 8,
     "metadata": {},
     "output_type": "execute_result"
    },
    {
     "data": {
      "image/png": "[encoded data removed]",
      "text/plain": [
       "<Figure size 640x480 with 1 Axes>"
      ]
     },
     "metadata": {},
     "output_type": "display_data"
    }
   ],
   "source": [
    "pd.Series(train_biomasses).plot(kind='hist')"
   ]
  },
  {
   "cell_type": "markdown",
   "metadata": {
    "id": "zNdh9lMISRdZ"
   },
   "source": [
    "##  Some visulizations"
   ]
  },
  {
   "cell_type": "code",
   "execution_count": 160,
   "metadata": {
    "ExecuteTime": {
     "end_time": "2023-02-18T09:20:57.181653Z",
     "start_time": "2023-02-18T09:20:57.177739Z"
    }
   },
   "outputs": [
    {
     "data": {
      "text/plain": [
       "array([[0., 0., 0., ..., 0., 0., 0.],\n",
       "       [0., 0., 0., ..., 0., 0., 0.],\n",
       "       [0., 0., 0., ..., 0., 0., 0.],\n",
       "       ...,\n",
       "       [0., 0., 0., ..., 0., 0., 0.],\n",
       "       [0., 1., 2., ..., 0., 0., 0.],\n",
       "       [0., 0., 0., ..., 0., 0., 0.]])"
      ]
     },
     "execution_count": 160,
     "metadata": {},
     "output_type": "execute_result"
    }
   ],
   "source": [
    "train_cloud[:,:,:].reshape((-1,225))"
   ]
  },
  {
   "cell_type": "code",
   "execution_count": 9,
   "metadata": {
    "ExecuteTime": {
     "end_time": "2023-02-17T17:50:26.296722Z",
     "start_time": "2023-02-17T17:50:26.209728Z"
    },
    "colab": {
     "base_uri": "https://localhost:8080/",
     "height": 282
    },
    "executionInfo": {
     "elapsed": 482,
     "status": "ok",
     "timestamp": 1674723358203,
     "user": {
      "displayName": "Nelson Mganga",
      "userId": "15984282569117459010"
     },
     "user_tz": -180
    },
    "id": "fp5UpiavSMqn",
    "outputId": "84eb860f-78fe-4dbb-9da2-ed65b0ece40d"
   },
   "outputs": [
    {
     "data": {
      "text/plain": [
       "<matplotlib.image.AxesImage at 0x7fef2d965ae0>"
      ]
     },
     "execution_count": 9,
     "metadata": {},
     "output_type": "execute_result"
    },
    {
     "data": {
      "image/png": "[encoded data removed]",
      "text/plain": [
       "<Figure size 640x480 with 1 Axes>"
      ]
     },
     "metadata": {},
     "output_type": "display_data"
    }
   ],
   "source": [
    "plt.imshow(train_images[1,1,:,:])"
   ]
  },
  {
   "cell_type": "code",
   "execution_count": 10,
   "metadata": {
    "ExecuteTime": {
     "end_time": "2023-02-17T17:50:30.294452Z",
     "start_time": "2023-02-17T17:50:29.607370Z"
    },
    "scrolled": false
   },
   "outputs": [
    {
     "data": {
      "image/png": "[encoded data removed]",
      "text/plain": [
       "<Figure size 640x480 with 1 Axes>"
      ]
     },
     "metadata": {},
     "output_type": "display_data"
    },
    {
     "data": {
      "image/png": "[encoded data removed]",
      "text/plain": [
       "<Figure size 640x480 with 1 Axes>"
      ]
     },
     "metadata": {},
     "output_type": "display_data"
    },
    {
     "data": {
      "image/png": "[encoded data removed]",
      "text/plain": [
       "<Figure size 640x480 with 1 Axes>"
      ]
     },
     "metadata": {},
     "output_type": "display_data"
    },
    {
     "data": {
      "image/png": "[encoded data removed]",
      "text/plain": [
       "<Figure size 640x480 with 1 Axes>"
      ]
     },
     "metadata": {},
     "output_type": "display_data"
    },
    {
     "data": {
      "image/png": "[encoded data removed]",
      "text/plain": [
       "<Figure size 640x480 with 1 Axes>"
      ]
     },
     "metadata": {},
     "output_type": "display_data"
    },
    {
     "data": {
      "image/png": "[encoded data removed]",
      "text/plain": [
       "<Figure size 640x480 with 1 Axes>"
      ]
     },
     "metadata": {},
     "output_type": "display_data"
    },
    {
     "data": {
      "image/png": "[encoded data removed]",
      "text/plain": [
       "<Figure size 640x480 with 1 Axes>"
      ]
     },
     "metadata": {},
     "output_type": "display_data"
    },
    {
     "data": {
      "image/png": "[encoded data removed]",
      "text/plain": [
       "<Figure size 640x480 with 1 Axes>"
      ]
     },
     "metadata": {},
     "output_type": "display_data"
    },
    {
     "data": {
      "image/png": "[encoded data removed]",
      "text/plain": [
       "<Figure size 640x480 with 1 Axes>"
      ]
     },
     "metadata": {},
     "output_type": "display_data"
    },
    {
     "data": {
      "image/png": "[encoded data removed]",
      "text/plain": [
       "<Figure size 640x480 with 1 Axes>"
      ]
     },
     "metadata": {},
     "output_type": "display_data"
    },
    {
     "data": {
      "image/png": "[encoded data removed]",
      "text/plain": [
       "<Figure size 640x480 with 1 Axes>"
      ]
     },
     "metadata": {},
     "output_type": "display_data"
    },
    {
     "data": {
      "image/png": "[encoded data removed]",
      "text/plain": [
       "<Figure size 640x480 with 1 Axes>"
      ]
     },
     "metadata": {},
     "output_type": "display_data"
    }
   ],
   "source": [
    "for k in range(12):\n",
    "    plt.imshow(train_images[1,k,:,:])\n",
    "    plt.show()"
   ]
  },
  {
   "cell_type": "code",
   "execution_count": 11,
   "metadata": {
    "ExecuteTime": {
     "end_time": "2023-02-17T17:51:02.646157Z",
     "start_time": "2023-02-17T17:51:02.642650Z"
    },
    "colab": {
     "base_uri": "https://localhost:8080/"
    },
    "executionInfo": {
     "elapsed": 5,
     "status": "ok",
     "timestamp": 1674723358203,
     "user": {
      "displayName": "Nelson Mganga",
      "userId": "15984282569117459010"
     },
     "user_tz": -180
    },
    "id": "TAFde--LSZR5",
    "outputId": "945db10c-44b5-48a2-e4d8-e0de199362d6"
   },
   "outputs": [
    {
     "data": {
      "text/plain": [
       "99.10187530517578"
      ]
     },
     "execution_count": 11,
     "metadata": {},
     "output_type": "execute_result"
    }
   ],
   "source": [
    "train_biomasses[1]"
   ]
  },
  {
   "cell_type": "code",
   "execution_count": 12,
   "metadata": {
    "ExecuteTime": {
     "end_time": "2023-02-17T17:51:04.360096Z",
     "start_time": "2023-02-17T17:51:04.356736Z"
    }
   },
   "outputs": [
    {
     "data": {
      "text/plain": [
       "(25036, 12, 15, 15)"
      ]
     },
     "execution_count": 12,
     "metadata": {},
     "output_type": "execute_result"
    }
   ],
   "source": [
    "train_images.shape"
   ]
  },
  {
   "cell_type": "code",
   "execution_count": 13,
   "metadata": {
    "ExecuteTime": {
     "end_time": "2023-02-17T17:51:05.747860Z",
     "start_time": "2023-02-17T17:51:05.744122Z"
    }
   },
   "outputs": [
    {
     "data": {
      "text/plain": [
       "(25036, 15, 15)"
      ]
     },
     "execution_count": 13,
     "metadata": {},
     "output_type": "execute_result"
    }
   ],
   "source": [
    "train_images[:,2].shape"
   ]
  },
  {
   "cell_type": "code",
   "execution_count": 86,
   "metadata": {
    "ExecuteTime": {
     "end_time": "2023-02-17T23:55:13.650468Z",
     "start_time": "2023-02-17T23:55:13.646892Z"
    }
   },
   "outputs": [
    {
     "data": {
      "text/plain": [
       "(15, 15, 1)"
      ]
     },
     "execution_count": 86,
     "metadata": {},
     "output_type": "execute_result"
    }
   ],
   "source": [
    "train_cloud[0].shape"
   ]
  },
  {
   "cell_type": "code",
   "execution_count": 90,
   "metadata": {
    "ExecuteTime": {
     "end_time": "2023-02-18T00:01:23.054223Z",
     "start_time": "2023-02-18T00:01:23.050069Z"
    }
   },
   "outputs": [
    {
     "data": {
      "text/plain": [
       "(15, 15, 1)"
      ]
     },
     "execution_count": 90,
     "metadata": {},
     "output_type": "execute_result"
    }
   ],
   "source": [
    "train_lon[0].shape"
   ]
  },
  {
   "cell_type": "markdown",
   "metadata": {
    "id": "ffXv4PbxI5QS"
   },
   "source": [
    " **Below we explore the skewness of train dataset in each channel**"
   ]
  },
  {
   "cell_type": "code",
   "execution_count": 14,
   "metadata": {
    "ExecuteTime": {
     "end_time": "2023-02-17T17:51:13.493158Z",
     "start_time": "2023-02-17T17:51:11.840516Z"
    },
    "executionInfo": {
     "elapsed": 3367,
     "status": "ok",
     "timestamp": 1674723363080,
     "user": {
      "displayName": "Nelson Mganga",
      "userId": "15984282569117459010"
     },
     "user_tz": -180
    },
    "id": "CrCKjC-mSmJm"
   },
   "outputs": [],
   "source": [
    "band_skewness = []\n",
    "band_skewness_after_sqrt = []\n",
    "for c in range(12):\n",
    "    #calculate skewness\n",
    "    band_skewness.append(pd.Series(train_images[:,c].flatten()).skew())\n",
    "    #calculate skewness after applying sqrt\n",
    "    band_skewness_after_sqrt.append(pd.Series(np.sqrt(train_images[:,c].flatten())).skew())"
   ]
  },
  {
   "cell_type": "code",
   "execution_count": 15,
   "metadata": {
    "ExecuteTime": {
     "end_time": "2023-02-17T17:51:14.022242Z",
     "start_time": "2023-02-17T17:51:13.939301Z"
    },
    "colab": {
     "base_uri": "https://localhost:8080/",
     "height": 279
    },
    "executionInfo": {
     "elapsed": 7,
     "status": "ok",
     "timestamp": 1674723363081,
     "user": {
      "displayName": "Nelson Mganga",
      "userId": "15984282569117459010"
     },
     "user_tz": -180
    },
    "id": "mQuF1liYSppT",
    "outputId": "25110683-aea1-44d1-fe7a-f460c69d3ae7"
   },
   "outputs": [
    {
     "data": {
      "image/png": "[encoded data removed]",
      "text/plain": [
       "<Figure size 640x480 with 1 Axes>"
      ]
     },
     "metadata": {},
     "output_type": "display_data"
    }
   ],
   "source": [
    "# skweness\n",
    "width = 0.25\n",
    "\n",
    "rng = [i for i in range(0,12)]\n",
    "rng2 = [i+width for i in range(0,12)]\n",
    "\n",
    "plt.bar(rng, band_skewness, align='center', width = width, label='Original', color ='b')\n",
    "plt.bar(rng2, band_skewness_after_sqrt, align='center', width = width, label='After sqrt', color ='g')\n",
    "plt.gca().set_xticks(rng)\n",
    "plt.legend()\n",
    "plt.xlabel('Band ID')\n",
    "plt.ylabel('Skewness')\n",
    "plt.show()"
   ]
  },
  {
   "cell_type": "markdown",
   "metadata": {
    "id": "SYkqo_nDQlzS"
   },
   "source": [
    "# First Baseline With Sklearn"
   ]
  },
  {
   "cell_type": "code",
   "execution_count": 16,
   "metadata": {
    "ExecuteTime": {
     "end_time": "2023-02-17T17:51:17.113093Z",
     "start_time": "2023-02-17T17:51:16.755707Z"
    },
    "executionInfo": {
     "elapsed": 1159,
     "status": "ok",
     "timestamp": 1674723364234,
     "user": {
      "displayName": "Nelson Mganga",
      "userId": "15984282569117459010"
     },
     "user_tz": -180
    },
    "id": "is7xLI-1VzAW"
   },
   "outputs": [],
   "source": [
    "from sklearn.linear_model import LinearRegression,Ridge,Lasso\n",
    "from sklearn.svm import LinearSVR\n",
    "from sklearn.neighbors import KNeighborsRegressor\n",
    "from sklearn.ensemble import RandomForestRegressor, GradientBoostingRegressor\n",
    "from sklearn.model_selection import GridSearchCV\n",
    "from sklearn.pipeline import Pipeline\n",
    "from sklearn.metrics import mean_squared_error\n",
    "from sklearn import model_selection\n",
    "from sklearn.compose import ColumnTransformer\n",
    "from sklearn.impute import SimpleImputer\n",
    "from sklearn.preprocessing import StandardScaler\n",
    "from sklearn.base import BaseEstimator, TransformerMixin"
   ]
  },
  {
   "cell_type": "code",
   "execution_count": 17,
   "metadata": {
    "ExecuteTime": {
     "end_time": "2023-02-17T17:51:17.116568Z",
     "start_time": "2023-02-17T17:51:17.114343Z"
    },
    "executionInfo": {
     "elapsed": 3,
     "status": "ok",
     "timestamp": 1674723364234,
     "user": {
      "displayName": "Nelson Mganga",
      "userId": "15984282569117459010"
     },
     "user_tz": -180
    },
    "id": "t54SAWW6pr1S"
   },
   "outputs": [],
   "source": [
    "from sklearn import set_config\n",
    "set_config(display='diagram')"
   ]
  },
  {
   "cell_type": "markdown",
   "metadata": {
    "id": "PVAxS2EwqKiW"
   },
   "source": [
    "## Modelisation"
   ]
  },
  {
   "cell_type": "markdown",
   "metadata": {},
   "source": [
    "## convert To tensor Dataset\n"
   ]
  },
  {
   "cell_type": "code",
   "execution_count": 18,
   "metadata": {
    "ExecuteTime": {
     "end_time": "2023-02-17T17:51:18.587067Z",
     "start_time": "2023-02-17T17:51:18.583711Z"
    }
   },
   "outputs": [
    {
     "data": {
      "text/plain": [
       "array([6.87387276, 6.87378263, 6.87369204, 6.87360191, 6.87351131,\n",
       "       6.87342119, 6.87333059, 6.87323999, 6.87314987, 6.87305927,\n",
       "       6.87296915, 6.87287855, 6.87278843, 6.87269783, 6.87260771])"
      ]
     },
     "execution_count": 18,
     "metadata": {},
     "output_type": "execute_result"
    }
   ],
   "source": [
    "train_lat[:,:,0].reshape((-1,15))[0]"
   ]
  },
  {
   "cell_type": "code",
   "execution_count": 162,
   "metadata": {
    "ExecuteTime": {
     "end_time": "2023-02-18T09:21:41.763716Z",
     "start_time": "2023-02-18T09:21:41.400789Z"
    }
   },
   "outputs": [],
   "source": [
    "from tensorflow.keras.preprocessing.image import ImageDataGenerator\n",
    "datagen= ImageDataGenerator(rescale=False)\n",
    "\n",
    "trainimg=tf.data.Dataset.from_tensor_slices(train_images)\n",
    "trainlat=tf.data.Dataset.from_tensor_slices(train_lat[:,:,0].reshape((-1,15)))\n",
    "trainlon=tf.data.Dataset.from_tensor_slices(train_lon[:,:,0].reshape((-1,15)))\n",
    "traincloud=tf.data.Dataset.from_tensor_slices(train_cloud[:,:,:].reshape((-1,225)))\n",
    "trainbiom=tf.data.Dataset.from_tensor_slices( train_biomasses)\n",
    "traindata=tf.data.Dataset.zip((trainimg,trainlat, trainlon, traincloud))\n",
    "traindata=tf.data.Dataset.zip((traindata, trainbiom)).batch(32).prefetch(tf.data.AUTOTUNE)\n",
    "\n",
    "validateimg=tf.data.Dataset.from_tensor_slices(validate_images) \n",
    "validatelat=tf.data.Dataset.from_tensor_slices(validate_lat[:,:,0].reshape((-1,15)))\n",
    "validatelon=tf.data.Dataset.from_tensor_slices(validate_lon[:,:,0].reshape((-1,15)))\n",
    "validatecloud=tf.data.Dataset.from_tensor_slices(validate_cloud[:,:,:].reshape((-1,225)))\n",
    "\n",
    "validatebiom=tf.data.Dataset.from_tensor_slices( validate_biomasses)\n",
    "validatedata=tf.data.Dataset.zip((validateimg,validatelat, validatelon, validatecloud))\n",
    "validatedata=tf.data.Dataset.zip((validatedata, validatebiom)).batch(32).prefetch(tf.data.AUTOTUNE)\n",
    "\n",
    "#traingen= datagen.flow( train_images,\n",
    "#        y=train_biomasses,\n",
    "#        batch_size=32,\n",
    "#        shuffle=True,\n",
    "#    )\n",
    "#valgen= datagen.flow( validate_images,\n",
    "#        y=validate_biomasses,\n",
    "#        batch_size=32,\n",
    "#        shuffle=True,\n",
    "#    )\n"
   ]
  },
  {
   "cell_type": "code",
   "execution_count": 163,
   "metadata": {
    "ExecuteTime": {
     "end_time": "2023-02-18T09:21:43.264309Z",
     "start_time": "2023-02-18T09:21:43.201306Z"
    }
   },
   "outputs": [
    {
     "name": "stdout",
     "output_type": "stream",
     "text": [
      "(32, 15)\n",
      "(32, 30)\n",
      "(32, 30)\n"
     ]
    }
   ],
   "source": [
    "for k in traindata:\n",
    "    print( k[0][2].shape)\n",
    "    d=tf.keras.layers.Concatenate(axis=-1)([k[0][2],k[0][1]])\n",
    "    print(d.shape)\n",
    "    d=tf.keras.layers.Flatten()(d)\n",
    "    print(d.shape)\n",
    "    \n",
    "    break"
   ]
  },
  {
   "cell_type": "raw",
   "metadata": {},
   "source": []
  },
  {
   "cell_type": "code",
   "execution_count": 202,
   "metadata": {
    "ExecuteTime": {
     "end_time": "2023-02-18T09:43:49.560314Z",
     "start_time": "2023-02-18T09:43:48.030601Z"
    }
   },
   "outputs": [],
   "source": [
    "from tensorflow import keras\n",
    "from tensorflow.keras import layers\n",
    "from tensorflow.keras.metrics import RootMeanSquaredError\n",
    "from tensorflow.keras.losses import Huber, MeanSquaredLogarithmicError\n",
    "from tensorflow.keras.optimizers import RMSprop, Adam,SGD\n",
    "import tensorflow.keras.backend as K\n",
    "\n",
    "def root_mean_squared_error(y_true, y_pred):\n",
    "        return K.sqrt(K.mean(K.square(y_pred - y_true))) \n",
    "\n",
    "\n",
    "def input_ly( shape, data, norm=True):\n",
    "    input_ = keras.Input(shape=shape)\n",
    "    normalizer = tf.keras.layers.Normalization()\n",
    "    normalizer.adapt(data)\n",
    "    x_image = normalizer(input_)\n",
    "    return input_, x_image\n",
    "\n",
    "\n",
    "def generate_compile_model():\n",
    "    model_v1 = tf.keras.models.Sequential([    \n",
    "    tf.keras.layers.Flatten(),\n",
    "    tf.keras.layers.Dense(300, activation='relu'),\n",
    "    #tf.keras.layers.Dense(150, activation='relu'),\n",
    "    tf.keras.layers.Dropout(0.3),\n",
    "    tf.keras.layers.Dense(1, activation='relu'),\n",
    "    tf.keras.layers.Lambda(lambda x:x*160)\n",
    "    ])\n",
    "    inputs_image,x_image= input_ly(( 12,15,15), train_images)\n",
    "    x_image=tf.keras.layers.Flatten()(x_image)\n",
    "    inputs_lat, x_lat=input_ly((15,1), train_lat, False)\n",
    "    inputs_lon, x_lon=input_ly((15,1), train_lon, False)\n",
    "    inputs_cloud, x_cloud=input_ly((225,1), train_cloud, False)\n",
    "    outputs_images = model_v1(x_image)\n",
    "    coord=tf.keras.layers.Concatenate(axis=1)([x_lat[0],x_lon[0],x_cloud[0]])\n",
    "    coord=tf.keras.layers.Flatten()(coord)\n",
    "    coord= tf.keras.layers.Dense(250, activation='relu')( coord)\n",
    "    #coord= tf.keras.layers.Dropout(0.3)( coord)\n",
    "    \n",
    "    coord=tf.keras.layers.Concatenate(axis=-1)([coord,outputs_images])\n",
    "    coord= tf.keras.layers.Dense(250, activation='relu')( coord)\n",
    "    #coord= tf.keras.layers.Dense(150, activation='relu')( coord)\n",
    "    coord= tf.keras.layers.Dropout(0.3)( coord)\n",
    "    coord=tf.keras.layers.Dense(1, activation='relu')( coord)\n",
    "    outputs= tf.keras.layers.Lambda(lambda x:x*160)(coord)\n",
    "    model = keras.Model([inputs_image, inputs_lat,inputs_lon, inputs_cloud], outputs)\n",
    "    \n",
    "    model.compile(optimizer = Adam(\n",
    "                    learning_rate=1e-7),\n",
    "        loss = root_mean_squared_error, \n",
    "        metrics = [RootMeanSquaredError()]        \n",
    "    )\n",
    "    return model, model_v1\n",
    "model, model_v1=generate_compile_model()\n"
   ]
  },
  {
   "cell_type": "code",
   "execution_count": 203,
   "metadata": {
    "ExecuteTime": {
     "end_time": "2023-02-18T09:43:49.568688Z",
     "start_time": "2023-02-18T09:43:49.561840Z"
    }
   },
   "outputs": [
    {
     "name": "stdout",
     "output_type": "stream",
     "text": [
      "Model: \"sequential_19\"\n",
      "_________________________________________________________________\n",
      " Layer (type)                Output Shape              Param #   \n",
      "=================================================================\n",
      " flatten_57 (Flatten)        (None, 2700)              0         \n",
      "                                                                 \n",
      " dense_109 (Dense)           (None, 300)               810300    \n",
      "                                                                 \n",
      " dropout_26 (Dropout)        (None, 300)               0         \n",
      "                                                                 \n",
      " dense_110 (Dense)           (None, 1)                 301       \n",
      "                                                                 \n",
      " lambda_36 (Lambda)          (None, 1)                 0         \n",
      "                                                                 \n",
      "=================================================================\n",
      "Total params: 810,601\n",
      "Trainable params: 810,601\n",
      "Non-trainable params: 0\n",
      "_________________________________________________________________\n"
     ]
    }
   ],
   "source": [
    "model_v1.summary()"
   ]
  },
  {
   "cell_type": "code",
   "execution_count": 204,
   "metadata": {
    "ExecuteTime": {
     "end_time": "2023-02-18T09:43:49.593463Z",
     "start_time": "2023-02-18T09:43:49.569806Z"
    }
   },
   "outputs": [
    {
     "name": "stdout",
     "output_type": "stream",
     "text": [
      "Model: \"model_17\"\n",
      "__________________________________________________________________________________________________\n",
      " Layer (type)                   Output Shape         Param #     Connected to                     \n",
      "==================================================================================================\n",
      " input_71 (InputLayer)          [(None, 15, 1)]      0           []                               \n",
      "                                                                                                  \n",
      " input_72 (InputLayer)          [(None, 15, 1)]      0           []                               \n",
      "                                                                                                  \n",
      " input_73 (InputLayer)          [(None, 225, 1)]     0           []                               \n",
      "                                                                                                  \n",
      " normalization_66 (Normalizatio  (1, None, 15, 1)    3           ['input_71[0][0]']               \n",
      " n)                                                                                               \n",
      "                                                                                                  \n",
      " normalization_67 (Normalizatio  (1, None, 15, 1)    3           ['input_72[0][0]']               \n",
      " n)                                                                                               \n",
      "                                                                                                  \n",
      " normalization_68 (Normalizatio  (1, None, 225, 1)   3           ['input_73[0][0]']               \n",
      " n)                                                                                               \n",
      "                                                                                                  \n",
      " tf.__operators__.getitem_50 (S  (None, 15, 1)       0           ['normalization_66[0][0]']       \n",
      " licingOpLambda)                                                                                  \n",
      "                                                                                                  \n",
      " tf.__operators__.getitem_51 (S  (None, 15, 1)       0           ['normalization_67[0][0]']       \n",
      " licingOpLambda)                                                                                  \n",
      "                                                                                                  \n",
      " tf.__operators__.getitem_52 (S  (None, 225, 1)      0           ['normalization_68[0][0]']       \n",
      " licingOpLambda)                                                                                  \n",
      "                                                                                                  \n",
      " input_70 (InputLayer)          [(None, 12, 15, 15)  0           []                               \n",
      "                                ]                                                                 \n",
      "                                                                                                  \n",
      " concatenate_38 (Concatenate)   (None, 255, 1)       0           ['tf.__operators__.getitem_50[0][\n",
      "                                                                 0]',                             \n",
      "                                                                  'tf.__operators__.getitem_51[0][\n",
      "                                                                 0]',                             \n",
      "                                                                  'tf.__operators__.getitem_52[0][\n",
      "                                                                 0]']                             \n",
      "                                                                                                  \n",
      " normalization_65 (Normalizatio  (None, 12, 15, 15)  31          ['input_70[0][0]']               \n",
      " n)                                                                                               \n",
      "                                                                                                  \n",
      " flatten_59 (Flatten)           (None, 255)          0           ['concatenate_38[0][0]']         \n",
      "                                                                                                  \n",
      " flatten_58 (Flatten)           (None, 2700)         0           ['normalization_65[0][0]']       \n",
      "                                                                                                  \n",
      " dense_111 (Dense)              (None, 250)          64000       ['flatten_59[0][0]']             \n",
      "                                                                                                  \n",
      " sequential_19 (Sequential)     (None, 1)            810601      ['flatten_58[0][0]']             \n",
      "                                                                                                  \n",
      " concatenate_39 (Concatenate)   (None, 251)          0           ['dense_111[0][0]',              \n",
      "                                                                  'sequential_19[0][0]']          \n",
      "                                                                                                  \n",
      " dense_112 (Dense)              (None, 250)          63000       ['concatenate_39[0][0]']         \n",
      "                                                                                                  \n",
      " dropout_27 (Dropout)           (None, 250)          0           ['dense_112[0][0]']              \n",
      "                                                                                                  \n",
      " dense_113 (Dense)              (None, 1)            251         ['dropout_27[0][0]']             \n",
      "                                                                                                  \n",
      " lambda_37 (Lambda)             (None, 1)            0           ['dense_113[0][0]']              \n",
      "                                                                                                  \n",
      "==================================================================================================\n",
      "Total params: 937,892\n",
      "Trainable params: 937,852\n",
      "Non-trainable params: 40\n",
      "__________________________________________________________________________________________________\n"
     ]
    }
   ],
   "source": [
    "model.summary()"
   ]
  },
  {
   "cell_type": "code",
   "execution_count": null,
   "metadata": {
    "ExecuteTime": {
     "end_time": "2023-02-12T17:35:07.873617Z",
     "start_time": "2023-02-12T17:35:07.870499Z"
    }
   },
   "outputs": [],
   "source": []
  },
  {
   "cell_type": "code",
   "execution_count": null,
   "metadata": {
    "ExecuteTime": {
     "end_time": "2023-02-12T16:47:00.270218Z",
     "start_time": "2023-02-12T16:47:00.261884Z"
    }
   },
   "outputs": [],
   "source": []
  },
  {
   "cell_type": "code",
   "execution_count": 205,
   "metadata": {
    "ExecuteTime": {
     "end_time": "2023-02-18T09:43:50.137333Z",
     "start_time": "2023-02-18T09:43:49.594706Z"
    },
    "executionInfo": {
     "elapsed": 1133,
     "status": "ok",
     "timestamp": 1674723365365,
     "user": {
      "displayName": "Nelson Mganga",
      "userId": "15984282569117459010"
     },
     "user_tz": -180
    },
    "id": "T3OrinVvV3-8"
   },
   "outputs": [],
   "source": [
    "# constante for standardization\n",
    "MEAN = train_images.mean((0,2,3))\n",
    "STD = train_images.std((0,2,3))"
   ]
  },
  {
   "cell_type": "code",
   "execution_count": 206,
   "metadata": {
    "ExecuteTime": {
     "end_time": "2023-02-18T09:43:50.256714Z",
     "start_time": "2023-02-18T09:43:50.138533Z"
    }
   },
   "outputs": [
    {
     "data": {
      "text/plain": [
       "15687.0"
      ]
     },
     "execution_count": 206,
     "metadata": {},
     "output_type": "execute_result"
    }
   ],
   "source": [
    "# Evaluate( with the hands) the max\n",
    "np.max(train_images.reshape(25036, 12,225),axis=2).max()"
   ]
  },
  {
   "cell_type": "code",
   "execution_count": 207,
   "metadata": {
    "ExecuteTime": {
     "end_time": "2023-02-18T09:43:50.259892Z",
     "start_time": "2023-02-18T09:43:50.258163Z"
    }
   },
   "outputs": [],
   "source": [
    "checkpoint_filepath='./checkpoints/'"
   ]
  },
  {
   "cell_type": "code",
   "execution_count": 208,
   "metadata": {
    "ExecuteTime": {
     "end_time": "2023-02-18T09:43:50.263780Z",
     "start_time": "2023-02-18T09:43:50.260835Z"
    }
   },
   "outputs": [],
   "source": [
    "model_checkpoint_callback = tf.keras.callbacks.ModelCheckpoint(\n",
    "    filepath=checkpoint_filepath,\n",
    "    save_weights_only=True,\n",
    "    monitor='val_root_mean_squared_error',\n",
    "    mode='min',\n",
    "    save_best_only=True)\n"
   ]
  },
  {
   "cell_type": "code",
   "execution_count": 209,
   "metadata": {
    "ExecuteTime": {
     "end_time": "2023-02-18T09:50:00.935527Z",
     "start_time": "2023-02-18T09:43:50.788457Z"
    },
    "scrolled": true
   },
   "outputs": [
    {
     "name": "stdout",
     "output_type": "stream",
     "text": [
      "Epoch 1/100\n",
      "783/783 - 3s - loss: 687.0418 - root_mean_squared_error: 771.3701 - val_loss: 74.2730 - val_root_mean_squared_error: 81.9334 - 3s/epoch - 4ms/step\n",
      "Epoch 2/100\n",
      "783/783 - 3s - loss: 248.6344 - root_mean_squared_error: 298.5467 - val_loss: 71.1004 - val_root_mean_squared_error: 79.0157 - 3s/epoch - 4ms/step\n",
      "Epoch 3/100\n",
      "783/783 - 4s - loss: 129.0337 - root_mean_squared_error: 158.3972 - val_loss: 70.0510 - val_root_mean_squared_error: 78.0310 - 4s/epoch - 5ms/step\n",
      "Epoch 4/100\n",
      "783/783 - 4s - loss: 101.2290 - root_mean_squared_error: 132.8673 - val_loss: 69.0808 - val_root_mean_squared_error: 77.1282 - 4s/epoch - 5ms/step\n",
      "Epoch 5/100\n",
      "783/783 - 4s - loss: 85.0400 - root_mean_squared_error: 96.6505 - val_loss: 68.2448 - val_root_mean_squared_error: 76.3515 - 4s/epoch - 5ms/step\n",
      "Epoch 6/100\n",
      "783/783 - 3s - loss: 80.9314 - root_mean_squared_error: 92.4874 - val_loss: 67.4491 - val_root_mean_squared_error: 75.5965 - 3s/epoch - 4ms/step\n",
      "Epoch 7/100\n",
      "783/783 - 3s - loss: 76.0963 - root_mean_squared_error: 83.8506 - val_loss: 66.6705 - val_root_mean_squared_error: 74.8677 - 3s/epoch - 4ms/step\n",
      "Epoch 8/100\n",
      "783/783 - 4s - loss: 74.0120 - root_mean_squared_error: 82.5153 - val_loss: 65.9035 - val_root_mean_squared_error: 74.1555 - 4s/epoch - 5ms/step\n",
      "Epoch 9/100\n",
      "783/783 - 4s - loss: 71.8795 - root_mean_squared_error: 77.9330 - val_loss: 65.1955 - val_root_mean_squared_error: 73.5096 - 4s/epoch - 5ms/step\n",
      "Epoch 10/100\n",
      "783/783 - 4s - loss: 70.1570 - root_mean_squared_error: 77.0775 - val_loss: 64.5336 - val_root_mean_squared_error: 72.9056 - 4s/epoch - 5ms/step\n",
      "Epoch 11/100\n",
      "783/783 - 4s - loss: 68.2805 - root_mean_squared_error: 73.9956 - val_loss: 63.9075 - val_root_mean_squared_error: 72.3380 - 4s/epoch - 5ms/step\n",
      "Epoch 12/100\n",
      "783/783 - 4s - loss: 69.6293 - root_mean_squared_error: 77.2149 - val_loss: 63.3651 - val_root_mean_squared_error: 71.8449 - 4s/epoch - 5ms/step\n",
      "Epoch 13/100\n",
      "783/783 - 4s - loss: 66.6652 - root_mean_squared_error: 72.1393 - val_loss: 62.8844 - val_root_mean_squared_error: 71.4095 - 4s/epoch - 5ms/step\n",
      "Epoch 14/100\n",
      "783/783 - 4s - loss: 67.8914 - root_mean_squared_error: 78.2075 - val_loss: 62.4359 - val_root_mean_squared_error: 71.0059 - 4s/epoch - 5ms/step\n",
      "Epoch 15/100\n",
      "783/783 - 4s - loss: 66.9849 - root_mean_squared_error: 72.6957 - val_loss: 62.0499 - val_root_mean_squared_error: 70.6594 - 4s/epoch - 5ms/step\n",
      "Epoch 16/100\n",
      "783/783 - 4s - loss: 65.2203 - root_mean_squared_error: 69.6267 - val_loss: 61.6840 - val_root_mean_squared_error: 70.3289 - 4s/epoch - 5ms/step\n",
      "Epoch 17/100\n",
      "783/783 - 4s - loss: 64.4251 - root_mean_squared_error: 68.4172 - val_loss: 61.3617 - val_root_mean_squared_error: 70.0290 - 4s/epoch - 5ms/step\n",
      "Epoch 18/100\n",
      "783/783 - 4s - loss: 63.7586 - root_mean_squared_error: 68.1869 - val_loss: 61.0698 - val_root_mean_squared_error: 69.7554 - 4s/epoch - 5ms/step\n",
      "Epoch 19/100\n",
      "783/783 - 4s - loss: 62.7774 - root_mean_squared_error: 66.3695 - val_loss: 60.7932 - val_root_mean_squared_error: 69.4925 - 4s/epoch - 5ms/step\n",
      "Epoch 20/100\n",
      "783/783 - 4s - loss: 62.7191 - root_mean_squared_error: 66.6810 - val_loss: 60.5803 - val_root_mean_squared_error: 69.2871 - 4s/epoch - 5ms/step\n",
      "Epoch 21/100\n",
      "783/783 - 4s - loss: 63.8214 - root_mean_squared_error: 69.0291 - val_loss: 60.3860 - val_root_mean_squared_error: 69.0970 - 4s/epoch - 5ms/step\n",
      "Epoch 22/100\n",
      "783/783 - 4s - loss: 62.4294 - root_mean_squared_error: 66.4248 - val_loss: 60.2239 - val_root_mean_squared_error: 68.9364 - 4s/epoch - 5ms/step\n",
      "Epoch 23/100\n",
      "783/783 - 4s - loss: 62.3208 - root_mean_squared_error: 66.0779 - val_loss: 60.1020 - val_root_mean_squared_error: 68.8131 - 4s/epoch - 4ms/step\n",
      "Epoch 24/100\n",
      "783/783 - 4s - loss: 62.2182 - root_mean_squared_error: 66.0515 - val_loss: 59.9930 - val_root_mean_squared_error: 68.7023 - 4s/epoch - 4ms/step\n",
      "Epoch 25/100\n",
      "783/783 - 4s - loss: 62.2054 - root_mean_squared_error: 65.8069 - val_loss: 59.9008 - val_root_mean_squared_error: 68.6081 - 4s/epoch - 4ms/step\n",
      "Epoch 26/100\n",
      "783/783 - 4s - loss: 61.7575 - root_mean_squared_error: 65.4143 - val_loss: 59.8244 - val_root_mean_squared_error: 68.5289 - 4s/epoch - 5ms/step\n",
      "Epoch 27/100\n",
      "783/783 - 4s - loss: 61.4421 - root_mean_squared_error: 65.3089 - val_loss: 59.7499 - val_root_mean_squared_error: 68.4488 - 4s/epoch - 5ms/step\n",
      "Epoch 28/100\n",
      "783/783 - 3s - loss: 61.0239 - root_mean_squared_error: 64.7248 - val_loss: 59.6703 - val_root_mean_squared_error: 68.3630 - 3s/epoch - 4ms/step\n",
      "Epoch 29/100\n",
      "783/783 - 3s - loss: 61.7419 - root_mean_squared_error: 66.6195 - val_loss: 59.6158 - val_root_mean_squared_error: 68.3024 - 3s/epoch - 4ms/step\n",
      "Epoch 30/100\n",
      "783/783 - 3s - loss: 61.5316 - root_mean_squared_error: 65.3362 - val_loss: 59.5769 - val_root_mean_squared_error: 68.2586 - 3s/epoch - 4ms/step\n",
      "Epoch 31/100\n",
      "783/783 - 3s - loss: 61.2580 - root_mean_squared_error: 64.8904 - val_loss: 59.5357 - val_root_mean_squared_error: 68.2110 - 3s/epoch - 4ms/step\n",
      "Epoch 32/100\n",
      "783/783 - 3s - loss: 61.1694 - root_mean_squared_error: 66.3275 - val_loss: 59.4937 - val_root_mean_squared_error: 68.1624 - 3s/epoch - 4ms/step\n",
      "Epoch 33/100\n",
      "783/783 - 3s - loss: 61.2678 - root_mean_squared_error: 65.4933 - val_loss: 59.4739 - val_root_mean_squared_error: 68.1371 - 3s/epoch - 4ms/step\n",
      "Epoch 34/100\n",
      "783/783 - 3s - loss: 60.6572 - root_mean_squared_error: 64.1377 - val_loss: 59.4471 - val_root_mean_squared_error: 68.1037 - 3s/epoch - 4ms/step\n",
      "Epoch 35/100\n",
      "783/783 - 3s - loss: 60.7168 - root_mean_squared_error: 64.3041 - val_loss: 59.4062 - val_root_mean_squared_error: 68.0558 - 3s/epoch - 4ms/step\n",
      "Epoch 36/100\n",
      "783/783 - 4s - loss: 61.1775 - root_mean_squared_error: 64.6939 - val_loss: 59.4032 - val_root_mean_squared_error: 68.0476 - 4s/epoch - 5ms/step\n",
      "Epoch 37/100\n",
      "783/783 - 4s - loss: 60.8546 - root_mean_squared_error: 64.6251 - val_loss: 59.3798 - val_root_mean_squared_error: 68.0178 - 4s/epoch - 5ms/step\n",
      "Epoch 38/100\n",
      "783/783 - 4s - loss: 60.4518 - root_mean_squared_error: 63.9365 - val_loss: 59.3730 - val_root_mean_squared_error: 68.0062 - 4s/epoch - 5ms/step\n",
      "Epoch 39/100\n",
      "783/783 - 4s - loss: 60.5668 - root_mean_squared_error: 64.1048 - val_loss: 59.3691 - val_root_mean_squared_error: 67.9964 - 4s/epoch - 5ms/step\n",
      "Epoch 40/100\n",
      "783/783 - 5s - loss: 60.5630 - root_mean_squared_error: 64.0598 - val_loss: 59.3666 - val_root_mean_squared_error: 67.9881 - 5s/epoch - 6ms/step\n",
      "Epoch 41/100\n",
      "783/783 - 5s - loss: 60.4362 - root_mean_squared_error: 63.9188 - val_loss: 59.3603 - val_root_mean_squared_error: 67.9772 - 5s/epoch - 7ms/step\n",
      "Epoch 42/100\n",
      "783/783 - 4s - loss: 60.5716 - root_mean_squared_error: 64.1383 - val_loss: 59.3412 - val_root_mean_squared_error: 67.9534 - 4s/epoch - 5ms/step\n",
      "Epoch 43/100\n",
      "783/783 - 4s - loss: 60.4566 - root_mean_squared_error: 63.9793 - val_loss: 59.3456 - val_root_mean_squared_error: 67.9529 - 4s/epoch - 5ms/step\n",
      "Epoch 44/100\n",
      "783/783 - 4s - loss: 60.5204 - root_mean_squared_error: 64.0150 - val_loss: 59.3374 - val_root_mean_squared_error: 67.9406 - 4s/epoch - 5ms/step\n",
      "Epoch 45/100\n",
      "783/783 - 4s - loss: 60.2929 - root_mean_squared_error: 63.9508 - val_loss: 59.3237 - val_root_mean_squared_error: 67.9232 - 4s/epoch - 5ms/step\n",
      "Epoch 46/100\n",
      "783/783 - 4s - loss: 60.7884 - root_mean_squared_error: 64.4024 - val_loss: 59.3463 - val_root_mean_squared_error: 67.9450 - 4s/epoch - 5ms/step\n",
      "Epoch 47/100\n",
      "783/783 - 4s - loss: 60.5893 - root_mean_squared_error: 64.2247 - val_loss: 59.3465 - val_root_mean_squared_error: 67.9400 - 4s/epoch - 5ms/step\n",
      "Epoch 48/100\n",
      "783/783 - 4s - loss: 60.2740 - root_mean_squared_error: 63.8064 - val_loss: 59.3344 - val_root_mean_squared_error: 67.9235 - 4s/epoch - 5ms/step\n",
      "Epoch 49/100\n",
      "783/783 - 4s - loss: 60.1599 - root_mean_squared_error: 63.6470 - val_loss: 59.3234 - val_root_mean_squared_error: 67.9082 - 4s/epoch - 5ms/step\n",
      "Epoch 50/100\n",
      "783/783 - 4s - loss: 60.5385 - root_mean_squared_error: 63.9748 - val_loss: 59.3226 - val_root_mean_squared_error: 67.9048 - 4s/epoch - 5ms/step\n",
      "Epoch 51/100\n",
      "783/783 - 4s - loss: 60.2699 - root_mean_squared_error: 63.7680 - val_loss: 59.3230 - val_root_mean_squared_error: 67.9029 - 4s/epoch - 5ms/step\n",
      "Epoch 52/100\n",
      "783/783 - 4s - loss: 60.0128 - root_mean_squared_error: 63.4084 - val_loss: 59.3117 - val_root_mean_squared_error: 67.8878 - 4s/epoch - 5ms/step\n"
     ]
    },
    {
     "name": "stdout",
     "output_type": "stream",
     "text": [
      "Epoch 53/100\n",
      "783/783 - 4s - loss: 60.3037 - root_mean_squared_error: 63.9356 - val_loss: 59.3043 - val_root_mean_squared_error: 67.8781 - 4s/epoch - 5ms/step\n",
      "Epoch 54/100\n",
      "783/783 - 4s - loss: 60.2450 - root_mean_squared_error: 63.6703 - val_loss: 59.3050 - val_root_mean_squared_error: 67.8768 - 4s/epoch - 5ms/step\n",
      "Epoch 55/100\n",
      "783/783 - 4s - loss: 60.4118 - root_mean_squared_error: 64.0190 - val_loss: 59.2928 - val_root_mean_squared_error: 67.8597 - 4s/epoch - 5ms/step\n",
      "Epoch 56/100\n",
      "783/783 - 4s - loss: 59.9835 - root_mean_squared_error: 63.4725 - val_loss: 59.2970 - val_root_mean_squared_error: 67.8634 - 4s/epoch - 5ms/step\n",
      "Epoch 57/100\n",
      "783/783 - 4s - loss: 60.0229 - root_mean_squared_error: 63.5184 - val_loss: 59.2858 - val_root_mean_squared_error: 67.8493 - 4s/epoch - 5ms/step\n",
      "Epoch 58/100\n",
      "783/783 - 4s - loss: 59.8981 - root_mean_squared_error: 63.4011 - val_loss: 59.2811 - val_root_mean_squared_error: 67.8419 - 4s/epoch - 5ms/step\n",
      "Epoch 59/100\n",
      "783/783 - 4s - loss: 60.1597 - root_mean_squared_error: 63.5828 - val_loss: 59.2890 - val_root_mean_squared_error: 67.8486 - 4s/epoch - 5ms/step\n",
      "Epoch 60/100\n",
      "783/783 - 4s - loss: 60.0814 - root_mean_squared_error: 63.6808 - val_loss: 59.2916 - val_root_mean_squared_error: 67.8488 - 4s/epoch - 5ms/step\n",
      "Epoch 61/100\n",
      "783/783 - 4s - loss: 60.0758 - root_mean_squared_error: 63.5947 - val_loss: 59.2946 - val_root_mean_squared_error: 67.8494 - 4s/epoch - 5ms/step\n",
      "Epoch 62/100\n",
      "783/783 - 4s - loss: 60.1261 - root_mean_squared_error: 63.6733 - val_loss: 59.2951 - val_root_mean_squared_error: 67.8488 - 4s/epoch - 5ms/step\n",
      "Epoch 63/100\n",
      "783/783 - 4s - loss: 59.9543 - root_mean_squared_error: 63.5246 - val_loss: 59.3039 - val_root_mean_squared_error: 67.8553 - 4s/epoch - 5ms/step\n",
      "Epoch 64/100\n",
      "783/783 - 4s - loss: 59.9113 - root_mean_squared_error: 63.3760 - val_loss: 59.3013 - val_root_mean_squared_error: 67.8524 - 4s/epoch - 5ms/step\n",
      "Epoch 65/100\n",
      "783/783 - 3s - loss: 59.9783 - root_mean_squared_error: 63.4340 - val_loss: 59.2938 - val_root_mean_squared_error: 67.8428 - 3s/epoch - 4ms/step\n",
      "Epoch 66/100\n",
      "783/783 - 3s - loss: 59.8668 - root_mean_squared_error: 63.3900 - val_loss: 59.2829 - val_root_mean_squared_error: 67.8321 - 3s/epoch - 4ms/step\n",
      "Epoch 67/100\n",
      "783/783 - 4s - loss: 59.8351 - root_mean_squared_error: 63.3285 - val_loss: 59.2680 - val_root_mean_squared_error: 67.8160 - 4s/epoch - 4ms/step\n",
      "Epoch 68/100\n",
      "783/783 - 3s - loss: 59.8593 - root_mean_squared_error: 63.4161 - val_loss: 59.2613 - val_root_mean_squared_error: 67.8071 - 3s/epoch - 4ms/step\n",
      "Epoch 69/100\n",
      "783/783 - 3s - loss: 59.8986 - root_mean_squared_error: 63.3919 - val_loss: 59.2636 - val_root_mean_squared_error: 67.8094 - 3s/epoch - 4ms/step\n",
      "Epoch 70/100\n",
      "783/783 - 4s - loss: 59.5974 - root_mean_squared_error: 63.1073 - val_loss: 59.2377 - val_root_mean_squared_error: 67.7810 - 4s/epoch - 4ms/step\n",
      "Epoch 71/100\n",
      "783/783 - 3s - loss: 59.8553 - root_mean_squared_error: 63.3283 - val_loss: 59.2383 - val_root_mean_squared_error: 67.7826 - 3s/epoch - 4ms/step\n",
      "Epoch 72/100\n",
      "783/783 - 4s - loss: 59.5364 - root_mean_squared_error: 63.0140 - val_loss: 59.2210 - val_root_mean_squared_error: 67.7648 - 4s/epoch - 5ms/step\n",
      "Epoch 73/100\n",
      "783/783 - 4s - loss: 59.7427 - root_mean_squared_error: 63.1992 - val_loss: 59.2146 - val_root_mean_squared_error: 67.7579 - 4s/epoch - 4ms/step\n",
      "Epoch 74/100\n",
      "783/783 - 4s - loss: 59.5223 - root_mean_squared_error: 63.0305 - val_loss: 59.2073 - val_root_mean_squared_error: 67.7516 - 4s/epoch - 5ms/step\n",
      "Epoch 75/100\n",
      "783/783 - 4s - loss: 59.8179 - root_mean_squared_error: 63.2539 - val_loss: 59.1985 - val_root_mean_squared_error: 67.7426 - 4s/epoch - 5ms/step\n",
      "Epoch 76/100\n",
      "783/783 - 4s - loss: 59.6794 - root_mean_squared_error: 63.3275 - val_loss: 59.1895 - val_root_mean_squared_error: 67.7333 - 4s/epoch - 5ms/step\n",
      "Epoch 77/100\n",
      "783/783 - 4s - loss: 59.8388 - root_mean_squared_error: 63.2798 - val_loss: 59.1826 - val_root_mean_squared_error: 67.7260 - 4s/epoch - 5ms/step\n",
      "Epoch 78/100\n",
      "783/783 - 4s - loss: 59.7032 - root_mean_squared_error: 63.1660 - val_loss: 59.1787 - val_root_mean_squared_error: 67.7233 - 4s/epoch - 5ms/step\n",
      "Epoch 79/100\n",
      "783/783 - 4s - loss: 59.9405 - root_mean_squared_error: 63.4441 - val_loss: 59.1801 - val_root_mean_squared_error: 67.7272 - 4s/epoch - 5ms/step\n",
      "Epoch 80/100\n",
      "783/783 - 4s - loss: 59.7712 - root_mean_squared_error: 63.2354 - val_loss: 59.1915 - val_root_mean_squared_error: 67.7396 - 4s/epoch - 5ms/step\n",
      "Epoch 81/100\n",
      "783/783 - 4s - loss: 59.6372 - root_mean_squared_error: 63.1022 - val_loss: 59.1704 - val_root_mean_squared_error: 67.7162 - 4s/epoch - 5ms/step\n",
      "Epoch 82/100\n",
      "783/783 - 4s - loss: 59.4771 - root_mean_squared_error: 62.9363 - val_loss: 59.1724 - val_root_mean_squared_error: 67.7202 - 4s/epoch - 5ms/step\n",
      "Epoch 83/100\n",
      "783/783 - 4s - loss: 59.4763 - root_mean_squared_error: 62.9667 - val_loss: 59.1757 - val_root_mean_squared_error: 67.7247 - 4s/epoch - 5ms/step\n",
      "Epoch 84/100\n",
      "783/783 - 4s - loss: 59.5638 - root_mean_squared_error: 63.0709 - val_loss: 59.1657 - val_root_mean_squared_error: 67.7141 - 4s/epoch - 5ms/step\n",
      "Epoch 85/100\n",
      "783/783 - 4s - loss: 59.5561 - root_mean_squared_error: 63.0792 - val_loss: 59.1578 - val_root_mean_squared_error: 67.7061 - 4s/epoch - 5ms/step\n",
      "Epoch 86/100\n",
      "783/783 - 4s - loss: 59.8291 - root_mean_squared_error: 63.4034 - val_loss: 59.1528 - val_root_mean_squared_error: 67.7027 - 4s/epoch - 5ms/step\n",
      "Epoch 87/100\n",
      "783/783 - 4s - loss: 59.2838 - root_mean_squared_error: 62.8664 - val_loss: 59.1431 - val_root_mean_squared_error: 67.6929 - 4s/epoch - 5ms/step\n",
      "Epoch 88/100\n",
      "783/783 - 4s - loss: 59.6453 - root_mean_squared_error: 63.3418 - val_loss: 59.1515 - val_root_mean_squared_error: 67.7010 - 4s/epoch - 5ms/step\n",
      "Epoch 89/100\n",
      "783/783 - 4s - loss: 59.2031 - root_mean_squared_error: 62.7657 - val_loss: 59.1447 - val_root_mean_squared_error: 67.6961 - 4s/epoch - 5ms/step\n",
      "Epoch 90/100\n",
      "783/783 - 4s - loss: 59.4098 - root_mean_squared_error: 62.9060 - val_loss: 59.1250 - val_root_mean_squared_error: 67.6752 - 4s/epoch - 5ms/step\n",
      "Epoch 91/100\n",
      "783/783 - 4s - loss: 59.4485 - root_mean_squared_error: 62.9733 - val_loss: 59.1193 - val_root_mean_squared_error: 67.6706 - 4s/epoch - 5ms/step\n",
      "Epoch 92/100\n",
      "783/783 - 4s - loss: 59.6614 - root_mean_squared_error: 63.2275 - val_loss: 59.1205 - val_root_mean_squared_error: 67.6747 - 4s/epoch - 5ms/step\n",
      "Epoch 93/100\n",
      "783/783 - 4s - loss: 59.5029 - root_mean_squared_error: 63.0383 - val_loss: 59.1131 - val_root_mean_squared_error: 67.6684 - 4s/epoch - 5ms/step\n",
      "Epoch 94/100\n",
      "783/783 - 4s - loss: 59.2558 - root_mean_squared_error: 62.7958 - val_loss: 59.0919 - val_root_mean_squared_error: 67.6460 - 4s/epoch - 5ms/step\n",
      "Epoch 95/100\n",
      "783/783 - 4s - loss: 59.4544 - root_mean_squared_error: 63.0225 - val_loss: 59.0917 - val_root_mean_squared_error: 67.6456 - 4s/epoch - 5ms/step\n",
      "Epoch 96/100\n",
      "783/783 - 4s - loss: 59.4250 - root_mean_squared_error: 62.9440 - val_loss: 59.0783 - val_root_mean_squared_error: 67.6322 - 4s/epoch - 5ms/step\n",
      "Epoch 97/100\n",
      "783/783 - 4s - loss: 59.2736 - root_mean_squared_error: 62.8073 - val_loss: 59.0714 - val_root_mean_squared_error: 67.6256 - 4s/epoch - 5ms/step\n",
      "Epoch 98/100\n",
      "783/783 - 4s - loss: 59.2215 - root_mean_squared_error: 62.7034 - val_loss: 59.0552 - val_root_mean_squared_error: 67.6095 - 4s/epoch - 5ms/step\n",
      "Epoch 99/100\n",
      "783/783 - 4s - loss: 59.5818 - root_mean_squared_error: 63.1077 - val_loss: 59.0485 - val_root_mean_squared_error: 67.6040 - 4s/epoch - 5ms/step\n",
      "Epoch 100/100\n",
      "783/783 - 4s - loss: 59.3027 - root_mean_squared_error: 62.7854 - val_loss: 59.0477 - val_root_mean_squared_error: 67.6058 - 4s/epoch - 5ms/step\n"
     ]
    }
   ],
   "source": [
    "history=model.fit(\n",
    "            traindata,\n",
    "        validation_data = validatedata,\n",
    "            #steps_per_epoch = 100,\n",
    "            epochs = 100,\n",
    "            #validation_steps = 50,\n",
    "            callbacks=[model_checkpoint_callback],\n",
    "            verbose = 2)"
   ]
  },
  {
   "cell_type": "code",
   "execution_count": 174,
   "metadata": {
    "ExecuteTime": {
     "end_time": "2023-02-18T09:28:42.850713Z",
     "start_time": "2023-02-18T09:28:42.771378Z"
    }
   },
   "outputs": [
    {
     "data": {
      "image/png": "[encoded data removed]",
      "text/plain": [
       "<Figure size 640x480 with 1 Axes>"
      ]
     },
     "metadata": {},
     "output_type": "display_data"
    },
    {
     "data": {
      "text/plain": [
       "<Figure size 640x480 with 0 Axes>"
      ]
     },
     "metadata": {},
     "output_type": "display_data"
    }
   ],
   "source": [
    "import matplotlib.pyplot as plt\n",
    "acc = history.history['root_mean_squared_error']\n",
    "val_acc = history.history['val_root_mean_squared_error']\n",
    "loss = history.history['loss']\n",
    "val_loss = history.history['val_loss']\n",
    "\n",
    "epochs = range(len(acc))\n",
    "\n",
    "plt.plot(epochs, acc, 'r', label='Training metric')\n",
    "plt.plot(epochs, val_acc, 'b', label='Validation metric')\n",
    "plt.title('Training and validation root_mean_squared_error')\n",
    "plt.legend(loc=0)\n",
    "plt.figure()\n",
    "\n",
    "\n",
    "plt.show()"
   ]
  },
  {
   "cell_type": "code",
   "execution_count": 182,
   "metadata": {
    "ExecuteTime": {
     "end_time": "2023-02-18T09:29:10.183750Z",
     "start_time": "2023-02-18T09:29:10.181186Z"
    }
   },
   "outputs": [],
   "source": [
    "\n",
    "\n",
    "# Set the learning rate scheduler\n",
    "lr_schedule = tf.keras.callbacks.LearningRateScheduler(\n",
    "    lambda epoch: 1e-8 * 10**(epoch / 20))\n",
    "\n"
   ]
  },
  {
   "cell_type": "code",
   "execution_count": 183,
   "metadata": {
    "ExecuteTime": {
     "end_time": "2023-02-18T09:35:06.488147Z",
     "start_time": "2023-02-18T09:29:10.307611Z"
    },
    "scrolled": true
   },
   "outputs": [
    {
     "name": "stdout",
     "output_type": "stream",
     "text": [
      "Epoch 1/100\n",
      "783/783 - 3s - loss: 131.6732 - root_mean_squared_error: 165.0321 - val_loss: 73.2176 - val_root_mean_squared_error: 80.6391 - lr: 1.0000e-08 - 3s/epoch - 4ms/step\n",
      "Epoch 2/100\n",
      "783/783 - 3s - loss: 120.4682 - root_mean_squared_error: 151.6520 - val_loss: 73.4594 - val_root_mean_squared_error: 80.9503 - lr: 1.1220e-08 - 3s/epoch - 4ms/step\n",
      "Epoch 3/100\n",
      "783/783 - 3s - loss: 124.5624 - root_mean_squared_error: 158.6784 - val_loss: 73.6842 - val_root_mean_squared_error: 81.2785 - lr: 1.2589e-08 - 3s/epoch - 4ms/step\n",
      "Epoch 4/100\n",
      "783/783 - 3s - loss: 112.0582 - root_mean_squared_error: 140.4341 - val_loss: 73.9576 - val_root_mean_squared_error: 81.5682 - lr: 1.4125e-08 - 3s/epoch - 4ms/step\n",
      "Epoch 5/100\n",
      "783/783 - 3s - loss: 108.4345 - root_mean_squared_error: 134.4214 - val_loss: 74.2364 - val_root_mean_squared_error: 81.8229 - lr: 1.5849e-08 - 3s/epoch - 4ms/step\n",
      "Epoch 6/100\n",
      "783/783 - 3s - loss: 106.0188 - root_mean_squared_error: 131.9408 - val_loss: 74.5400 - val_root_mean_squared_error: 82.1139 - lr: 1.7783e-08 - 3s/epoch - 4ms/step\n",
      "Epoch 7/100\n",
      "783/783 - 3s - loss: 100.7425 - root_mean_squared_error: 122.4082 - val_loss: 74.8235 - val_root_mean_squared_error: 82.4372 - lr: 1.9953e-08 - 3s/epoch - 4ms/step\n",
      "Epoch 8/100\n",
      "783/783 - 3s - loss: 96.7733 - root_mean_squared_error: 115.1979 - val_loss: 74.9200 - val_root_mean_squared_error: 82.5986 - lr: 2.2387e-08 - 3s/epoch - 4ms/step\n",
      "Epoch 9/100\n",
      "783/783 - 3s - loss: 95.6669 - root_mean_squared_error: 113.7628 - val_loss: 75.1429 - val_root_mean_squared_error: 82.9431 - lr: 2.5119e-08 - 3s/epoch - 4ms/step\n",
      "Epoch 10/100\n",
      "783/783 - 3s - loss: 92.5303 - root_mean_squared_error: 111.5493 - val_loss: 75.4539 - val_root_mean_squared_error: 83.2633 - lr: 2.8184e-08 - 3s/epoch - 4ms/step\n",
      "Epoch 11/100\n",
      "783/783 - 4s - loss: 89.0047 - root_mean_squared_error: 111.2949 - val_loss: 75.6086 - val_root_mean_squared_error: 83.3607 - lr: 3.1623e-08 - 4s/epoch - 5ms/step\n",
      "Epoch 12/100\n",
      "783/783 - 3s - loss: 86.9295 - root_mean_squared_error: 101.2137 - val_loss: 75.5033 - val_root_mean_squared_error: 83.1907 - lr: 3.5481e-08 - 3s/epoch - 4ms/step\n",
      "Epoch 13/100\n",
      "783/783 - 3s - loss: 85.1524 - root_mean_squared_error: 97.4543 - val_loss: 75.5387 - val_root_mean_squared_error: 83.1503 - lr: 3.9811e-08 - 3s/epoch - 4ms/step\n",
      "Epoch 14/100\n",
      "783/783 - 4s - loss: 83.6091 - root_mean_squared_error: 95.6062 - val_loss: 75.4508 - val_root_mean_squared_error: 83.0055 - lr: 4.4668e-08 - 4s/epoch - 5ms/step\n",
      "Epoch 15/100\n",
      "783/783 - 4s - loss: 80.8998 - root_mean_squared_error: 91.1701 - val_loss: 75.3876 - val_root_mean_squared_error: 82.8942 - lr: 5.0119e-08 - 4s/epoch - 5ms/step\n",
      "Epoch 16/100\n",
      "783/783 - 3s - loss: 81.0329 - root_mean_squared_error: 89.3111 - val_loss: 75.1960 - val_root_mean_squared_error: 82.6626 - lr: 5.6234e-08 - 3s/epoch - 4ms/step\n",
      "Epoch 17/100\n",
      "783/783 - 3s - loss: 80.8618 - root_mean_squared_error: 90.0364 - val_loss: 75.0138 - val_root_mean_squared_error: 82.4411 - lr: 6.3096e-08 - 3s/epoch - 4ms/step\n",
      "Epoch 18/100\n",
      "783/783 - 3s - loss: 80.3510 - root_mean_squared_error: 91.7881 - val_loss: 74.7888 - val_root_mean_squared_error: 82.1838 - lr: 7.0795e-08 - 3s/epoch - 4ms/step\n",
      "Epoch 19/100\n",
      "783/783 - 4s - loss: 79.0069 - root_mean_squared_error: 86.3877 - val_loss: 74.4503 - val_root_mean_squared_error: 81.7904 - lr: 7.9433e-08 - 4s/epoch - 4ms/step\n",
      "Epoch 20/100\n",
      "783/783 - 3s - loss: 76.4981 - root_mean_squared_error: 84.0471 - val_loss: 74.1254 - val_root_mean_squared_error: 81.4209 - lr: 8.9125e-08 - 3s/epoch - 4ms/step\n",
      "Epoch 21/100\n",
      "783/783 - 3s - loss: 76.6742 - root_mean_squared_error: 83.2399 - val_loss: 73.8506 - val_root_mean_squared_error: 81.1149 - lr: 1.0000e-07 - 3s/epoch - 4ms/step\n",
      "Epoch 22/100\n",
      "783/783 - 3s - loss: 75.0533 - root_mean_squared_error: 80.6742 - val_loss: 73.5355 - val_root_mean_squared_error: 80.7748 - lr: 1.1220e-07 - 3s/epoch - 4ms/step\n",
      "Epoch 23/100\n",
      "783/783 - 3s - loss: 75.3223 - root_mean_squared_error: 82.2712 - val_loss: 73.2197 - val_root_mean_squared_error: 80.4471 - lr: 1.2589e-07 - 3s/epoch - 4ms/step\n",
      "Epoch 24/100\n",
      "783/783 - 3s - loss: 75.7659 - root_mean_squared_error: 84.6257 - val_loss: 72.9980 - val_root_mean_squared_error: 80.2237 - lr: 1.4125e-07 - 3s/epoch - 4ms/step\n",
      "Epoch 25/100\n",
      "783/783 - 3s - loss: 74.3557 - root_mean_squared_error: 80.6573 - val_loss: 72.7219 - val_root_mean_squared_error: 79.9508 - lr: 1.5849e-07 - 3s/epoch - 4ms/step\n",
      "Epoch 26/100\n",
      "783/783 - 4s - loss: 73.2647 - root_mean_squared_error: 78.3968 - val_loss: 72.4613 - val_root_mean_squared_error: 79.7053 - lr: 1.7783e-07 - 4s/epoch - 5ms/step\n",
      "Epoch 27/100\n",
      "783/783 - 4s - loss: 71.7498 - root_mean_squared_error: 76.1456 - val_loss: 72.3435 - val_root_mean_squared_error: 79.5811 - lr: 1.9953e-07 - 4s/epoch - 5ms/step\n",
      "Epoch 28/100\n",
      "783/783 - 3s - loss: 72.7033 - root_mean_squared_error: 78.4418 - val_loss: 72.2452 - val_root_mean_squared_error: 79.4816 - lr: 2.2387e-07 - 3s/epoch - 4ms/step\n",
      "Epoch 29/100\n",
      "783/783 - 4s - loss: 71.1055 - root_mean_squared_error: 75.6489 - val_loss: 72.2186 - val_root_mean_squared_error: 79.4499 - lr: 2.5119e-07 - 4s/epoch - 4ms/step\n",
      "Epoch 30/100\n",
      "783/783 - 4s - loss: 70.6147 - root_mean_squared_error: 74.8436 - val_loss: 72.1481 - val_root_mean_squared_error: 79.3923 - lr: 2.8184e-07 - 4s/epoch - 5ms/step\n",
      "Epoch 31/100\n",
      "783/783 - 3s - loss: 70.5769 - root_mean_squared_error: 75.4869 - val_loss: 71.7175 - val_root_mean_squared_error: 79.0256 - lr: 3.1623e-07 - 3s/epoch - 4ms/step\n",
      "Epoch 32/100\n",
      "783/783 - 3s - loss: 69.6124 - root_mean_squared_error: 74.6120 - val_loss: 70.7265 - val_root_mean_squared_error: 78.1815 - lr: 3.5481e-07 - 3s/epoch - 4ms/step\n",
      "Epoch 33/100\n",
      "783/783 - 3s - loss: 68.8343 - root_mean_squared_error: 72.9571 - val_loss: 69.5048 - val_root_mean_squared_error: 77.1440 - lr: 3.9811e-07 - 3s/epoch - 4ms/step\n",
      "Epoch 34/100\n",
      "783/783 - 3s - loss: 67.5800 - root_mean_squared_error: 71.6819 - val_loss: 68.1607 - val_root_mean_squared_error: 75.9667 - lr: 4.4668e-07 - 3s/epoch - 4ms/step\n",
      "Epoch 35/100\n",
      "783/783 - 4s - loss: 66.4849 - root_mean_squared_error: 70.4718 - val_loss: 66.8636 - val_root_mean_squared_error: 74.7908 - lr: 5.0119e-07 - 4s/epoch - 5ms/step\n",
      "Epoch 36/100\n",
      "783/783 - 4s - loss: 66.4403 - root_mean_squared_error: 71.0240 - val_loss: 65.8250 - val_root_mean_squared_error: 73.8350 - lr: 5.6234e-07 - 4s/epoch - 5ms/step\n",
      "Epoch 37/100\n",
      "783/783 - 4s - loss: 63.9199 - root_mean_squared_error: 67.5150 - val_loss: 64.1962 - val_root_mean_squared_error: 72.3318 - lr: 6.3096e-07 - 4s/epoch - 4ms/step\n",
      "Epoch 38/100\n",
      "783/783 - 3s - loss: 62.4008 - root_mean_squared_error: 65.9660 - val_loss: 61.2098 - val_root_mean_squared_error: 69.6068 - lr: 7.0795e-07 - 3s/epoch - 4ms/step\n",
      "Epoch 39/100\n",
      "783/783 - 3s - loss: 61.0736 - root_mean_squared_error: 64.5720 - val_loss: 59.8473 - val_root_mean_squared_error: 68.3593 - lr: 7.9433e-07 - 3s/epoch - 4ms/step\n",
      "Epoch 40/100\n",
      "783/783 - 3s - loss: 61.0439 - root_mean_squared_error: 64.6099 - val_loss: 59.6201 - val_root_mean_squared_error: 68.1287 - lr: 8.9125e-07 - 3s/epoch - 4ms/step\n",
      "Epoch 41/100\n",
      "783/783 - 3s - loss: 60.4392 - root_mean_squared_error: 63.8639 - val_loss: 59.5975 - val_root_mean_squared_error: 68.1110 - lr: 1.0000e-06 - 3s/epoch - 4ms/step\n",
      "Epoch 42/100\n",
      "783/783 - 4s - loss: 60.4265 - root_mean_squared_error: 64.0241 - val_loss: 59.5000 - val_root_mean_squared_error: 68.0217 - lr: 1.1220e-06 - 4s/epoch - 5ms/step\n",
      "Epoch 43/100\n",
      "783/783 - 4s - loss: 60.1204 - root_mean_squared_error: 63.6292 - val_loss: 59.3391 - val_root_mean_squared_error: 67.8797 - lr: 1.2589e-06 - 4s/epoch - 4ms/step\n",
      "Epoch 44/100\n",
      "783/783 - 4s - loss: 59.7188 - root_mean_squared_error: 63.1109 - val_loss: 59.1958 - val_root_mean_squared_error: 67.7428 - lr: 1.4125e-06 - 4s/epoch - 4ms/step\n",
      "Epoch 45/100\n",
      "783/783 - 4s - loss: 59.4878 - root_mean_squared_error: 62.9981 - val_loss: 59.0587 - val_root_mean_squared_error: 67.6237 - lr: 1.5849e-06 - 4s/epoch - 5ms/step\n",
      "Epoch 46/100\n",
      "783/783 - 3s - loss: 59.1379 - root_mean_squared_error: 62.6523 - val_loss: 58.9483 - val_root_mean_squared_error: 67.5250 - lr: 1.7783e-06 - 3s/epoch - 4ms/step\n",
      "Epoch 47/100\n",
      "783/783 - 4s - loss: 59.2683 - root_mean_squared_error: 62.8248 - val_loss: 58.9779 - val_root_mean_squared_error: 67.5692 - lr: 1.9953e-06 - 4s/epoch - 4ms/step\n"
     ]
    },
    {
     "name": "stdout",
     "output_type": "stream",
     "text": [
      "Epoch 48/100\n",
      "783/783 - 3s - loss: 58.9304 - root_mean_squared_error: 62.4495 - val_loss: 58.8732 - val_root_mean_squared_error: 67.4822 - lr: 2.2387e-06 - 3s/epoch - 4ms/step\n",
      "Epoch 49/100\n",
      "783/783 - 4s - loss: 58.6834 - root_mean_squared_error: 62.2687 - val_loss: 58.7718 - val_root_mean_squared_error: 67.3967 - lr: 2.5119e-06 - 4s/epoch - 5ms/step\n",
      "Epoch 50/100\n",
      "783/783 - 3s - loss: 58.2913 - root_mean_squared_error: 61.8796 - val_loss: 58.6898 - val_root_mean_squared_error: 67.3063 - lr: 2.8184e-06 - 3s/epoch - 4ms/step\n",
      "Epoch 51/100\n",
      "783/783 - 3s - loss: 58.0197 - root_mean_squared_error: 61.6187 - val_loss: 58.5862 - val_root_mean_squared_error: 67.2116 - lr: 3.1623e-06 - 3s/epoch - 4ms/step\n",
      "Epoch 52/100\n",
      "783/783 - 4s - loss: 57.8183 - root_mean_squared_error: 61.4655 - val_loss: 58.5364 - val_root_mean_squared_error: 67.1840 - lr: 3.5481e-06 - 4s/epoch - 5ms/step\n",
      "Epoch 53/100\n",
      "783/783 - 4s - loss: 57.4792 - root_mean_squared_error: 61.1446 - val_loss: 58.4295 - val_root_mean_squared_error: 67.0644 - lr: 3.9811e-06 - 4s/epoch - 5ms/step\n",
      "Epoch 54/100\n",
      "783/783 - 3s - loss: 57.3263 - root_mean_squared_error: 61.0104 - val_loss: 58.3801 - val_root_mean_squared_error: 67.0171 - lr: 4.4668e-06 - 3s/epoch - 4ms/step\n",
      "Epoch 55/100\n",
      "783/783 - 3s - loss: 57.2080 - root_mean_squared_error: 61.1076 - val_loss: 58.3270 - val_root_mean_squared_error: 66.9730 - lr: 5.0119e-06 - 3s/epoch - 4ms/step\n",
      "Epoch 56/100\n",
      "783/783 - 4s - loss: 56.8126 - root_mean_squared_error: 60.5727 - val_loss: 58.2449 - val_root_mean_squared_error: 66.9058 - lr: 5.6234e-06 - 4s/epoch - 4ms/step\n",
      "Epoch 57/100\n",
      "783/783 - 3s - loss: 56.6015 - root_mean_squared_error: 60.3310 - val_loss: 58.1805 - val_root_mean_squared_error: 66.8408 - lr: 6.3096e-06 - 3s/epoch - 4ms/step\n",
      "Epoch 58/100\n",
      "783/783 - 4s - loss: 56.2119 - root_mean_squared_error: 60.0387 - val_loss: 58.0589 - val_root_mean_squared_error: 66.7122 - lr: 7.0795e-06 - 4s/epoch - 5ms/step\n",
      "Epoch 59/100\n",
      "783/783 - 4s - loss: 56.0592 - root_mean_squared_error: 59.8981 - val_loss: 57.9500 - val_root_mean_squared_error: 66.6245 - lr: 7.9433e-06 - 4s/epoch - 5ms/step\n",
      "Epoch 60/100\n",
      "783/783 - 3s - loss: 55.8371 - root_mean_squared_error: 59.7114 - val_loss: 57.8951 - val_root_mean_squared_error: 66.5439 - lr: 8.9125e-06 - 3s/epoch - 4ms/step\n",
      "Epoch 61/100\n",
      "783/783 - 3s - loss: 55.7264 - root_mean_squared_error: 59.5614 - val_loss: 57.9246 - val_root_mean_squared_error: 66.6076 - lr: 1.0000e-05 - 3s/epoch - 4ms/step\n",
      "Epoch 62/100\n",
      "783/783 - 3s - loss: 55.4643 - root_mean_squared_error: 59.3873 - val_loss: 57.7715 - val_root_mean_squared_error: 66.4475 - lr: 1.1220e-05 - 3s/epoch - 4ms/step\n",
      "Epoch 63/100\n",
      "783/783 - 3s - loss: 55.3657 - root_mean_squared_error: 59.2077 - val_loss: 57.8422 - val_root_mean_squared_error: 66.5298 - lr: 1.2589e-05 - 3s/epoch - 4ms/step\n",
      "Epoch 64/100\n",
      "783/783 - 4s - loss: 55.1974 - root_mean_squared_error: 59.1948 - val_loss: 57.8200 - val_root_mean_squared_error: 66.5128 - lr: 1.4125e-05 - 4s/epoch - 4ms/step\n",
      "Epoch 65/100\n",
      "783/783 - 3s - loss: 54.9810 - root_mean_squared_error: 58.9325 - val_loss: 57.7058 - val_root_mean_squared_error: 66.3999 - lr: 1.5849e-05 - 3s/epoch - 4ms/step\n",
      "Epoch 66/100\n",
      "783/783 - 3s - loss: 54.7850 - root_mean_squared_error: 58.7569 - val_loss: 57.5846 - val_root_mean_squared_error: 66.2967 - lr: 1.7783e-05 - 3s/epoch - 4ms/step\n",
      "Epoch 67/100\n",
      "783/783 - 3s - loss: 54.7520 - root_mean_squared_error: 58.7096 - val_loss: 57.6061 - val_root_mean_squared_error: 66.3334 - lr: 1.9953e-05 - 3s/epoch - 4ms/step\n",
      "Epoch 68/100\n",
      "783/783 - 4s - loss: 54.4737 - root_mean_squared_error: 58.4344 - val_loss: 57.4760 - val_root_mean_squared_error: 66.1847 - lr: 2.2387e-05 - 4s/epoch - 5ms/step\n",
      "Epoch 69/100\n",
      "783/783 - 4s - loss: 54.4649 - root_mean_squared_error: 58.4553 - val_loss: 57.4206 - val_root_mean_squared_error: 66.0965 - lr: 2.5119e-05 - 4s/epoch - 5ms/step\n",
      "Epoch 70/100\n",
      "783/783 - 4s - loss: 54.3513 - root_mean_squared_error: 58.2768 - val_loss: 57.4542 - val_root_mean_squared_error: 66.2000 - lr: 2.8184e-05 - 4s/epoch - 5ms/step\n",
      "Epoch 71/100\n",
      "783/783 - 4s - loss: 54.1901 - root_mean_squared_error: 58.1688 - val_loss: 57.4213 - val_root_mean_squared_error: 66.1450 - lr: 3.1623e-05 - 4s/epoch - 5ms/step\n",
      "Epoch 72/100\n",
      "783/783 - 4s - loss: 54.1220 - root_mean_squared_error: 58.1160 - val_loss: 57.4563 - val_root_mean_squared_error: 66.1540 - lr: 3.5481e-05 - 4s/epoch - 6ms/step\n",
      "Epoch 73/100\n",
      "783/783 - 4s - loss: 53.9811 - root_mean_squared_error: 57.9502 - val_loss: 57.3608 - val_root_mean_squared_error: 66.0994 - lr: 3.9811e-05 - 4s/epoch - 5ms/step\n",
      "Epoch 74/100\n",
      "783/783 - 3s - loss: 53.8836 - root_mean_squared_error: 57.8637 - val_loss: 57.3103 - val_root_mean_squared_error: 66.0630 - lr: 4.4668e-05 - 3s/epoch - 4ms/step\n",
      "Epoch 75/100\n",
      "783/783 - 3s - loss: 53.6714 - root_mean_squared_error: 57.6938 - val_loss: 57.2873 - val_root_mean_squared_error: 65.9846 - lr: 5.0119e-05 - 3s/epoch - 4ms/step\n",
      "Epoch 76/100\n",
      "783/783 - 3s - loss: 53.6300 - root_mean_squared_error: 57.6215 - val_loss: 57.1032 - val_root_mean_squared_error: 65.8070 - lr: 5.6234e-05 - 3s/epoch - 4ms/step\n",
      "Epoch 77/100\n",
      "783/783 - 3s - loss: 53.5182 - root_mean_squared_error: 57.5392 - val_loss: 57.1342 - val_root_mean_squared_error: 65.8264 - lr: 6.3096e-05 - 3s/epoch - 4ms/step\n",
      "Epoch 78/100\n",
      "783/783 - 4s - loss: 53.4110 - root_mean_squared_error: 57.4260 - val_loss: 57.0379 - val_root_mean_squared_error: 65.6887 - lr: 7.0795e-05 - 4s/epoch - 5ms/step\n",
      "Epoch 79/100\n",
      "783/783 - 3s - loss: 53.3381 - root_mean_squared_error: 57.3386 - val_loss: 56.9996 - val_root_mean_squared_error: 65.7023 - lr: 7.9433e-05 - 3s/epoch - 4ms/step\n",
      "Epoch 80/100\n",
      "783/783 - 4s - loss: 53.2100 - root_mean_squared_error: 57.2525 - val_loss: 56.8376 - val_root_mean_squared_error: 65.5416 - lr: 8.9125e-05 - 4s/epoch - 4ms/step\n",
      "Epoch 81/100\n",
      "783/783 - 3s - loss: 53.1423 - root_mean_squared_error: 57.1630 - val_loss: 56.8300 - val_root_mean_squared_error: 65.4992 - lr: 1.0000e-04 - 3s/epoch - 4ms/step\n",
      "Epoch 82/100\n",
      "783/783 - 3s - loss: 52.9889 - root_mean_squared_error: 56.9727 - val_loss: 56.8974 - val_root_mean_squared_error: 65.4814 - lr: 1.1220e-04 - 3s/epoch - 4ms/step\n",
      "Epoch 83/100\n",
      "783/783 - 3s - loss: 52.8376 - root_mean_squared_error: 56.8329 - val_loss: 56.7077 - val_root_mean_squared_error: 65.3884 - lr: 1.2589e-04 - 3s/epoch - 4ms/step\n",
      "Epoch 84/100\n",
      "783/783 - 3s - loss: 52.7357 - root_mean_squared_error: 56.7386 - val_loss: 56.6566 - val_root_mean_squared_error: 65.3520 - lr: 1.4125e-04 - 3s/epoch - 4ms/step\n",
      "Epoch 85/100\n",
      "783/783 - 4s - loss: 52.6403 - root_mean_squared_error: 56.6151 - val_loss: 56.5984 - val_root_mean_squared_error: 65.3287 - lr: 1.5849e-04 - 4s/epoch - 5ms/step\n",
      "Epoch 86/100\n",
      "783/783 - 4s - loss: 52.5636 - root_mean_squared_error: 56.5799 - val_loss: 56.5012 - val_root_mean_squared_error: 65.2012 - lr: 1.7783e-04 - 4s/epoch - 5ms/step\n",
      "Epoch 87/100\n",
      "783/783 - 4s - loss: 52.3413 - root_mean_squared_error: 56.3669 - val_loss: 56.5986 - val_root_mean_squared_error: 65.4127 - lr: 1.9953e-04 - 4s/epoch - 5ms/step\n",
      "Epoch 88/100\n",
      "783/783 - 4s - loss: 52.3689 - root_mean_squared_error: 56.4132 - val_loss: 56.4451 - val_root_mean_squared_error: 65.1786 - lr: 2.2387e-04 - 4s/epoch - 5ms/step\n",
      "Epoch 89/100\n",
      "783/783 - 4s - loss: 52.2855 - root_mean_squared_error: 56.2935 - val_loss: 55.8815 - val_root_mean_squared_error: 64.7497 - lr: 2.5119e-04 - 4s/epoch - 5ms/step\n",
      "Epoch 90/100\n",
      "783/783 - 4s - loss: 51.8157 - root_mean_squared_error: 55.9047 - val_loss: 54.9722 - val_root_mean_squared_error: 63.9723 - lr: 2.8184e-04 - 4s/epoch - 5ms/step\n",
      "Epoch 91/100\n",
      "783/783 - 4s - loss: 51.3439 - root_mean_squared_error: 55.4405 - val_loss: 55.0469 - val_root_mean_squared_error: 64.0393 - lr: 3.1623e-04 - 4s/epoch - 5ms/step\n",
      "Epoch 92/100\n",
      "783/783 - 4s - loss: 51.1688 - root_mean_squared_error: 55.3112 - val_loss: 55.1339 - val_root_mean_squared_error: 64.1668 - lr: 3.5481e-04 - 4s/epoch - 5ms/step\n",
      "Epoch 93/100\n",
      "783/783 - 4s - loss: 51.1752 - root_mean_squared_error: 55.3429 - val_loss: 54.8989 - val_root_mean_squared_error: 63.9478 - lr: 3.9811e-04 - 4s/epoch - 4ms/step\n",
      "Epoch 94/100\n",
      "783/783 - 5s - loss: 51.3203 - root_mean_squared_error: 55.4271 - val_loss: 55.1812 - val_root_mean_squared_error: 64.2064 - lr: 4.4668e-04 - 5s/epoch - 6ms/step\n"
     ]
    },
    {
     "name": "stdout",
     "output_type": "stream",
     "text": [
      "Epoch 95/100\n",
      "783/783 - 4s - loss: 51.2451 - root_mean_squared_error: 55.3775 - val_loss: 55.1182 - val_root_mean_squared_error: 64.0273 - lr: 5.0119e-04 - 4s/epoch - 5ms/step\n",
      "Epoch 96/100\n",
      "783/783 - 4s - loss: 51.1617 - root_mean_squared_error: 55.2966 - val_loss: 55.0203 - val_root_mean_squared_error: 64.1360 - lr: 5.6234e-04 - 4s/epoch - 5ms/step\n",
      "Epoch 97/100\n",
      "783/783 - 4s - loss: 51.1721 - root_mean_squared_error: 55.2893 - val_loss: 55.0326 - val_root_mean_squared_error: 64.1397 - lr: 6.3096e-04 - 4s/epoch - 5ms/step\n",
      "Epoch 98/100\n",
      "783/783 - 4s - loss: 51.3002 - root_mean_squared_error: 55.4294 - val_loss: 55.0423 - val_root_mean_squared_error: 64.0561 - lr: 7.0795e-04 - 4s/epoch - 5ms/step\n",
      "Epoch 99/100\n",
      "783/783 - 4s - loss: 51.2173 - root_mean_squared_error: 55.3286 - val_loss: 55.0618 - val_root_mean_squared_error: 64.1909 - lr: 7.9433e-04 - 4s/epoch - 5ms/step\n",
      "Epoch 100/100\n",
      "783/783 - 4s - loss: 51.1157 - root_mean_squared_error: 55.2344 - val_loss: 55.1192 - val_root_mean_squared_error: 64.1178 - lr: 8.9125e-04 - 4s/epoch - 5ms/step\n"
     ]
    }
   ],
   "source": [
    "history=model.fit(\n",
    "        traindata,\n",
    "        validation_data = validatedata,\n",
    "        #steps_per_epoch = 100,\n",
    "        epochs = 100,\n",
    "        #validation_steps = 50,\n",
    "        verbose = 2,\n",
    "        callbacks=[lr_schedule])"
   ]
  },
  {
   "cell_type": "code",
   "execution_count": 185,
   "metadata": {
    "ExecuteTime": {
     "end_time": "2023-02-18T09:37:54.932190Z",
     "start_time": "2023-02-18T09:37:54.739707Z"
    }
   },
   "outputs": [
    {
     "data": {
      "image/png": "[encoded data removed]",
      "text/plain": [
       "<Figure size 1000x600 with 1 Axes>"
      ]
     },
     "metadata": {},
     "output_type": "display_data"
    }
   ],
   "source": [
    "# Define the learning rate array\n",
    "lrs = 1e-8 * (10 ** (np.arange(100) / 20))\n",
    "\n",
    "# Set the figure size\n",
    "plt.figure(figsize=(10, 6))\n",
    "\n",
    "# Set the grid\n",
    "plt.grid(True)\n",
    "\n",
    "# Plot the loss in log scale\n",
    "plt.semilogx(lrs, history.history[\"loss\"])\n",
    "\n",
    "# Increase the tickmarks size\n",
    "plt.tick_params('both', length=10, width=1, which='both')\n",
    "\n",
    "# Set the plot boundaries\n",
    "#plt.axis([1e-8, 1e-3, 0, 300])"
   ]
  },
  {
   "cell_type": "code",
   "execution_count": 159,
   "metadata": {
    "ExecuteTime": {
     "end_time": "2023-02-10T22:38:25.760250Z",
     "start_time": "2023-02-10T22:38:25.758485Z"
    },
    "colab": {
     "base_uri": "https://localhost:8080/"
    },
    "executionInfo": {
     "elapsed": 683,
     "status": "ok",
     "timestamp": 1674723386245,
     "user": {
      "displayName": "Nelson Mganga",
      "userId": "15984282569117459010"
     },
     "user_tz": -180
    },
    "id": "61dZDV4Dmx-h",
    "outputId": "d27f2c70-ac67-4309-a9bb-3d0625213bbc"
   },
   "outputs": [],
   "source": [
    "# predict\n",
    "#pred_train = pipe.predict(train_images)\n",
    "\n",
    "# train mse error\n",
    "#mse = mean_squared_error(train_biomasses, pred_train) \n",
    "#mse\n",
    "#rmse = np.sqrt(mse)"
   ]
  },
  {
   "cell_type": "code",
   "execution_count": 19,
   "metadata": {
    "ExecuteTime": {
     "end_time": "2023-02-09T23:22:42.218443Z",
     "start_time": "2023-02-09T23:22:42.068209Z"
    },
    "colab": {
     "base_uri": "https://localhost:8080/"
    },
    "executionInfo": {
     "elapsed": 3,
     "status": "ok",
     "timestamp": 1674723386245,
     "user": {
      "displayName": "Nelson Mganga",
      "userId": "15984282569117459010"
     },
     "user_tz": -180
    },
    "id": "T17ZqXTop6DJ",
    "outputId": "c38c43a0-719d-477d-f241-5edf2dcc918b"
   },
   "outputs": [
    {
     "data": {
      "text/plain": [
       "3961.942859655493"
      ]
     },
     "execution_count": 19,
     "metadata": {},
     "output_type": "execute_result"
    }
   ],
   "source": [
    "# predict\n",
    "#pred_validate = pipe.predict(validate_images)\n",
    "\n",
    "#  validate mse error\n",
    "#mse = mean_squared_error(validate_biomasses, pred_validate) \n",
    "#mse\n",
    "#rmse = np.sqrt(mse)\n",
    "3961.942859655493"
   ]
  },
  {
   "cell_type": "markdown",
   "metadata": {
    "id": "MjL1gMrGqSwY"
   },
   "source": [
    "### Gridsearch"
   ]
  },
  {
   "cell_type": "markdown",
   "metadata": {
    "colab": {
     "base_uri": "https://localhost:8080/",
     "height": 70
    },
    "executionInfo": {
     "elapsed": 3,
     "status": "ok",
     "timestamp": 1674652238306,
     "user": {
      "displayName": "Nelson Mganga",
      "userId": "15984282569117459010"
     },
     "user_tz": -180
    },
    "id": "bZZ00__izp6T",
    "outputId": "a1919452-072f-4d52-bf9b-6c113589e490"
   },
   "source": [
    " Initiaze the hyperparameters for each dictionary\n",
    "param1 = {}\n",
    "param1['classifier'] = [LinearRegression()]\n",
    "\n",
    "param2 = {}\n",
    "param2['classifier__alpha'] = [0.1, 0.5, 1]\n",
    "param2['classifier'] = [Ridge()]\n",
    "\n",
    "param3 = {}\n",
    "param3['classifier__alpha'] = [0.1, 0.5, 1]\n",
    "param3['classifier'] = [Lasso()]\n",
    "\n",
    "param4 = {}\n",
    "param4['classifier__n_neighbors'] = [2,5,10,25,50]\n",
    "param4['classifier'] = [KNeighborsRegressor()]\n",
    "\n",
    "\"\"\"\n",
    "param5 = {}\n",
    "param5['classifier__C'] = [10**-2, 10**-1, 10**0, 10**1, 10**2]\n",
    "param5['classifier__epsilon'] = [0.0,0.2,0.5,1]\n",
    "param5['classifier'] = [LinearSVR()]\n",
    "\"\"\""
   ]
  },
  {
   "cell_type": "markdown",
   "metadata": {
    "id": "ptJz-yeCNYzM"
   },
   "source": [
    "pipeline = pipe = Pipeline(steps=[(\"scaler\", CustomScaler(MEAN,STD)),\n",
    "                       (\"flatten\", FlattenTransformer()),\n",
    "                       (\"classifier\", LinearRegression())])\n",
    "params = [param1, param2, param3, param4] # param5\n"
   ]
  },
  {
   "cell_type": "markdown",
   "metadata": {
    "id": "f3NqYDHctRC5"
   },
   "source": [
    " Train the grid search model\n",
    "grid_search = GridSearchCV(pipeline, params, cv=3, scoring='neg_mean_squared_error').fit(train_images,train_biomasses)"
   ]
  },
  {
   "cell_type": "markdown",
   "metadata": {
    "ExecuteTime": {
     "end_time": "2023-02-10T22:22:37.938405Z",
     "start_time": "2023-02-10T22:22:37.930388Z"
    },
    "id": "GKM3uy2Cth2W"
   },
   "source": [
    " Best performing model and its corresponding hyperparameters\n",
    "grid_search.best_params_"
   ]
  },
  {
   "cell_type": "markdown",
   "metadata": {
    "id": "Ohdx1LKttk2y"
   },
   "source": [
    "model = grid_search.best_estimator_\n",
    " predict\n",
    "pred = model.predict(train_images)\n",
    "\n",
    " validate mse error\n",
    "mse = mean_squared_error(train_biomasses, pred) \n",
    "rmse = np.sqrt(mse)\n",
    "\n",
    "print(mse, rmse)\n",
    "\n",
    "model = grid_search.best_estimator_\n",
    " predict\n",
    "pred = model.predict(validate_images)\n",
    "\n",
    " validate mse error\n",
    "mse = mean_squared_error(validate_biomasses, pred) \n",
    "rmse = np.sqrt(mse)\n",
    "\n",
    "print(mse, rmse)"
   ]
  },
  {
   "cell_type": "markdown",
   "metadata": {
    "id": "pdAypOP5BkR_"
   },
   "source": [
    "### Predict GIZ Biomass"
   ]
  },
  {
   "cell_type": "code",
   "execution_count": 122,
   "metadata": {
    "ExecuteTime": {
     "end_time": "2023-02-12T16:08:45.504500Z",
     "start_time": "2023-02-12T16:08:45.499989Z"
    },
    "executionInfo": {
     "elapsed": 416,
     "status": "ok",
     "timestamp": 1674723578973,
     "user": {
      "displayName": "Nelson Mganga",
      "userId": "15984282569117459010"
     },
     "user_tz": -180
    },
    "id": "5LDX4p2XBoz2"
   },
   "outputs": [],
   "source": [
    "s2_images_h5 = h5py.File(\"./data/images_test.h5\", \"r\")"
   ]
  },
  {
   "cell_type": "code",
   "execution_count": 215,
   "metadata": {
    "ExecuteTime": {
     "end_time": "2023-02-12T17:21:39.235818Z",
     "start_time": "2023-02-12T17:21:39.212507Z"
    }
   },
   "outputs": [
    {
     "data": {
      "text/plain": [
       "<tensorflow.python.checkpoint.checkpoint.CheckpointLoadStatus at 0x7f22fffd4b80>"
      ]
     },
     "execution_count": 215,
     "metadata": {},
     "output_type": "execute_result"
    }
   ],
   "source": [
    "model.load_weights(checkpoint_filepath)\n"
   ]
  },
  {
   "cell_type": "code",
   "execution_count": 203,
   "metadata": {
    "ExecuteTime": {
     "end_time": "2023-02-12T17:15:08.277587Z",
     "start_time": "2023-02-12T17:15:08.273817Z"
    }
   },
   "outputs": [
    {
     "data": {
      "text/plain": [
       "<KeysViewHDF5 ['agbd', 'cloud', 'images', 'lat', 'lon', 'scl']>"
      ]
     },
     "execution_count": 203,
     "metadata": {},
     "output_type": "execute_result"
    }
   ],
   "source": [
    "testset.keys()"
   ]
  },
  {
   "cell_type": "code",
   "execution_count": 141,
   "metadata": {
    "ExecuteTime": {
     "end_time": "2023-02-12T16:35:47.718474Z",
     "start_time": "2023-02-12T16:35:47.697724Z"
    }
   },
   "outputs": [],
   "source": [
    "testimg=tf.data.Dataset.from_tensor_slices(test_images)\n",
    "\n",
    "testlat=tf.data.Dataset.from_tensor_slices(test_lat[:,:,0].reshape((-1,15)))\n",
    "testlon=tf.data.Dataset.from_tensor_slices(test_lon[:,:,0].reshape((-1,15)))\n",
    "testdata=tf.data.Dataset.zip((testimg,testlat, testlon)).batch(32)\n"
   ]
  },
  {
   "cell_type": "code",
   "execution_count": 354,
   "metadata": {
    "ExecuteTime": {
     "end_time": "2023-02-12T05:11:56.544471Z",
     "start_time": "2023-02-12T05:11:56.539709Z"
    },
    "executionInfo": {
     "elapsed": 1,
     "status": "ok",
     "timestamp": 1674723580772,
     "user": {
      "displayName": "Nelson Mganga",
      "userId": "15984282569117459010"
     },
     "user_tz": -180
    },
    "id": "PG3shy0oDS4A"
   },
   "outputs": [],
   "source": [
    "#prepare test set sentinel 2 images \n",
    "#s2_images = np.array(s2_images_h5[\"images\"])\n",
    "#s2_images = s2_images.transpose(0,3,1,2)"
   ]
  },
  {
   "cell_type": "code",
   "execution_count": 216,
   "metadata": {
    "ExecuteTime": {
     "end_time": "2023-02-12T17:21:43.898850Z",
     "start_time": "2023-02-12T17:21:43.525166Z"
    }
   },
   "outputs": [
    {
     "name": "stdout",
     "output_type": "stream",
     "text": [
      "162/162 [==============================] - 0s 2ms/step - loss: 56.9318 - root_mean_squared_error: 65.7728\n"
     ]
    },
    {
     "data": {
      "text/plain": [
       "(56.93183517456055, 65.77277374267578)"
      ]
     },
     "execution_count": 216,
     "metadata": {},
     "output_type": "execute_result"
    }
   ],
   "source": [
    "loss_eval, rmse_eval=model.evaluate(validatedata)\n",
    "loss_eval, rmse_eval\n",
    "#(54.43159866333008, 63.476097106933594)"
   ]
  },
  {
   "cell_type": "code",
   "execution_count": 217,
   "metadata": {
    "ExecuteTime": {
     "end_time": "2023-02-12T17:21:54.086334Z",
     "start_time": "2023-02-12T17:21:54.082561Z"
    }
   },
   "outputs": [
    {
     "data": {
      "text/plain": [
       "['loss', 'root_mean_squared_error']"
      ]
     },
     "execution_count": 217,
     "metadata": {},
     "output_type": "execute_result"
    }
   ],
   "source": [
    "model.metrics_names "
   ]
  },
  {
   "cell_type": "code",
   "execution_count": 219,
   "metadata": {
    "ExecuteTime": {
     "end_time": "2023-02-12T17:22:01.669434Z",
     "start_time": "2023-02-12T17:22:01.362781Z"
    },
    "executionInfo": {
     "elapsed": 2,
     "status": "ok",
     "timestamp": 1674723582520,
     "user": {
      "displayName": "Nelson Mganga",
      "userId": "15984282569117459010"
     },
     "user_tz": -180
    },
    "id": "F5uan3E8DpEU"
   },
   "outputs": [
    {
     "name": "stdout",
     "output_type": "stream",
     "text": [
      "163/163 [==============================] - 0s 1ms/step\n"
     ]
    },
    {
     "data": {
      "text/plain": [
       "(5190, 1)"
      ]
     },
     "execution_count": 219,
     "metadata": {},
     "output_type": "execute_result"
    }
   ],
   "source": [
    "# predict on giz test data\n",
    "pred_giz = model.predict([test_images,test_lat[:,:,0].reshape((-1,15)), test_lon[:,:,0].reshape((-1,15)) ])\n",
    "pred_giz.shape"
   ]
  },
  {
   "cell_type": "code",
   "execution_count": 220,
   "metadata": {
    "ExecuteTime": {
     "end_time": "2023-02-12T17:22:01.889547Z",
     "start_time": "2023-02-12T17:22:01.886042Z"
    }
   },
   "outputs": [
    {
     "data": {
      "text/plain": [
       "71.258865"
      ]
     },
     "execution_count": 220,
     "metadata": {},
     "output_type": "execute_result"
    }
   ],
   "source": [
    "pred_giz.max()"
   ]
  },
  {
   "cell_type": "code",
   "execution_count": 221,
   "metadata": {
    "ExecuteTime": {
     "end_time": "2023-02-12T17:22:02.431085Z",
     "start_time": "2023-02-12T17:22:02.428099Z"
    }
   },
   "outputs": [],
   "source": [
    "pred_giz=pred_giz.reshape(1,-1)[0]"
   ]
  },
  {
   "cell_type": "code",
   "execution_count": 222,
   "metadata": {
    "ExecuteTime": {
     "end_time": "2023-02-12T17:22:02.958182Z",
     "start_time": "2023-02-12T17:22:02.951214Z"
    },
    "executionInfo": {
     "elapsed": 427,
     "status": "ok",
     "timestamp": 1674723586040,
     "user": {
      "displayName": "Nelson Mganga",
      "userId": "15984282569117459010"
     },
     "user_tz": -180
    },
    "id": "WD4IyJWvGgzo"
   },
   "outputs": [],
   "source": [
    "ID_S2_pair = pd.read_csv('./data/UniqueID-SentinelPair.csv')\n",
    "\n",
    "preds = pd.DataFrame({'Target':pred_giz}).rename_axis('S2_idx').reset_index()\n",
    "preds = ID_S2_pair.merge(preds, on='S2_idx').drop(columns=['S2_idx'])"
   ]
  },
  {
   "cell_type": "code",
   "execution_count": 223,
   "metadata": {
    "ExecuteTime": {
     "end_time": "2023-02-12T17:22:04.204415Z",
     "start_time": "2023-02-12T17:22:04.200544Z"
    },
    "executionInfo": {
     "elapsed": 450,
     "status": "ok",
     "timestamp": 1674723608727,
     "user": {
      "displayName": "Nelson Mganga",
      "userId": "15984282569117459010"
     },
     "user_tz": -180
    },
    "id": "_zMlJsmG-rMO"
   },
   "outputs": [],
   "source": [
    "\n",
    "preds.to_csv(f'GIZ_Biomass_predictions_{rmse_eval}.csv', index=False)"
   ]
  },
  {
   "cell_type": "code",
   "execution_count": 224,
   "metadata": {
    "ExecuteTime": {
     "end_time": "2023-02-12T17:22:05.975551Z",
     "start_time": "2023-02-12T17:22:05.968844Z"
    },
    "colab": {
     "base_uri": "https://localhost:8080/",
     "height": 424
    },
    "executionInfo": {
     "elapsed": 524,
     "status": "ok",
     "timestamp": 1674723601203,
     "user": {
      "displayName": "Nelson Mganga",
      "userId": "15984282569117459010"
     },
     "user_tz": -180
    },
    "id": "9AYlcFAhTiHi",
    "outputId": "e7363c71-f2fa-4b7b-add6-945aa96ad803"
   },
   "outputs": [
    {
     "data": {
      "text/html": [
       "<div>\n",
       "<style scoped>\n",
       "    .dataframe tbody tr th:only-of-type {\n",
       "        vertical-align: middle;\n",
       "    }\n",
       "\n",
       "    .dataframe tbody tr th {\n",
       "        vertical-align: top;\n",
       "    }\n",
       "\n",
       "    .dataframe thead th {\n",
       "        text-align: right;\n",
       "    }\n",
       "</style>\n",
       "<table border=\"1\" class=\"dataframe\">\n",
       "  <thead>\n",
       "    <tr style=\"text-align: right;\">\n",
       "      <th></th>\n",
       "      <th>ID</th>\n",
       "      <th>Target</th>\n",
       "    </tr>\n",
       "  </thead>\n",
       "  <tbody>\n",
       "    <tr>\n",
       "      <th>0</th>\n",
       "      <td>ID_1EB0DGFP07</td>\n",
       "      <td>20.650194</td>\n",
       "    </tr>\n",
       "    <tr>\n",
       "      <th>1</th>\n",
       "      <td>ID_844T2PSXTK</td>\n",
       "      <td>45.734779</td>\n",
       "    </tr>\n",
       "    <tr>\n",
       "      <th>2</th>\n",
       "      <td>ID_4MCV3S8MLN</td>\n",
       "      <td>24.583229</td>\n",
       "    </tr>\n",
       "    <tr>\n",
       "      <th>3</th>\n",
       "      <td>ID_L7441JV5F3</td>\n",
       "      <td>0.000000</td>\n",
       "    </tr>\n",
       "    <tr>\n",
       "      <th>4</th>\n",
       "      <td>ID_5GUVM4YEWZ</td>\n",
       "      <td>24.172304</td>\n",
       "    </tr>\n",
       "    <tr>\n",
       "      <th>...</th>\n",
       "      <td>...</td>\n",
       "      <td>...</td>\n",
       "    </tr>\n",
       "    <tr>\n",
       "      <th>85</th>\n",
       "      <td>ID_MEW6189J1B</td>\n",
       "      <td>20.551460</td>\n",
       "    </tr>\n",
       "    <tr>\n",
       "      <th>86</th>\n",
       "      <td>ID_TH9HRUXGTP</td>\n",
       "      <td>24.196527</td>\n",
       "    </tr>\n",
       "    <tr>\n",
       "      <th>87</th>\n",
       "      <td>ID_GPC7YS3JG8</td>\n",
       "      <td>42.248810</td>\n",
       "    </tr>\n",
       "    <tr>\n",
       "      <th>88</th>\n",
       "      <td>ID_1P7PJMPV0R</td>\n",
       "      <td>30.628073</td>\n",
       "    </tr>\n",
       "    <tr>\n",
       "      <th>89</th>\n",
       "      <td>ID_NTFSOIOEOG</td>\n",
       "      <td>24.182327</td>\n",
       "    </tr>\n",
       "  </tbody>\n",
       "</table>\n",
       "<p>90 rows × 2 columns</p>\n",
       "</div>"
      ],
      "text/plain": [
       "               ID     Target\n",
       "0   ID_1EB0DGFP07  20.650194\n",
       "1   ID_844T2PSXTK  45.734779\n",
       "2   ID_4MCV3S8MLN  24.583229\n",
       "3   ID_L7441JV5F3   0.000000\n",
       "4   ID_5GUVM4YEWZ  24.172304\n",
       "..            ...        ...\n",
       "85  ID_MEW6189J1B  20.551460\n",
       "86  ID_TH9HRUXGTP  24.196527\n",
       "87  ID_GPC7YS3JG8  42.248810\n",
       "88  ID_1P7PJMPV0R  30.628073\n",
       "89  ID_NTFSOIOEOG  24.182327\n",
       "\n",
       "[90 rows x 2 columns]"
      ]
     },
     "execution_count": 224,
     "metadata": {},
     "output_type": "execute_result"
    }
   ],
   "source": [
    "preds"
   ]
  },
  {
   "cell_type": "code",
   "execution_count": null,
   "metadata": {},
   "outputs": [],
   "source": []
  }
 ],
 "metadata": {
  "colab": {
   "authorship_tag": "ABX9TyOihXjq07msZbeQcKWpSf4h",
   "mount_file_id": "1A8QpZiR1T7BX1Re4gixSxA2ju6cXFn4s",
   "provenance": []
  },
  "kernelspec": {
   "display_name": "Python 3 (ipykernel)",
   "language": "python",
   "name": "python3"
  },
  "language_info": {
   "codemirror_mode": {
    "name": "ipython",
    "version": 3
   },
   "file_extension": ".py",
   "mimetype": "text/x-python",
   "name": "python",
   "nbconvert_exporter": "python",
   "pygments_lexer": "ipython3",
   "version": "3.10.9"
  },
  "toc": {
   "base_numbering": 1,
   "nav_menu": {},
   "number_sections": true,
   "sideBar": true,
   "skip_h1_title": false,
   "title_cell": "Table of Contents",
   "title_sidebar": "Contents",
   "toc_cell": true,
   "toc_position": {},
   "toc_section_display": true,
   "toc_window_display": true
  }
 },
 "nbformat": 4,
 "nbformat_minor": 1
}
