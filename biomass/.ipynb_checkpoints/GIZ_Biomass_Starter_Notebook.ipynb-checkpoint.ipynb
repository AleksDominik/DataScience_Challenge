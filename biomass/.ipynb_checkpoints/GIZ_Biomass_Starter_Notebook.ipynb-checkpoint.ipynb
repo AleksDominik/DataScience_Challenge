{
 "cells": [
  {
   "cell_type": "markdown",
   "metadata": {
    "toc": true
   },
   "source": [
    "<h1>Table of Contents<span class=\"tocSkip\"></span></h1>\n",
    "<div class=\"toc\"><ul class=\"toc-item\"><li><span><a href=\"#Images-Extractions\" data-toc-modified-id=\"Images-Extractions-1\"><span class=\"toc-item-num\">1&nbsp;&nbsp;</span>Images Extractions</a></span><ul class=\"toc-item\"><li><span><a href=\"#Explore-datasets\" data-toc-modified-id=\"Explore-datasets-1.1\"><span class=\"toc-item-num\">1.1&nbsp;&nbsp;</span>Explore datasets</a></span></li><li><span><a href=\"#Some-visulizations\" data-toc-modified-id=\"Some-visulizations-1.2\"><span class=\"toc-item-num\">1.2&nbsp;&nbsp;</span>Some visulizations</a></span></li></ul></li><li><span><a href=\"#First-Baseline-With-Sklearn\" data-toc-modified-id=\"First-Baseline-With-Sklearn-2\"><span class=\"toc-item-num\">2&nbsp;&nbsp;</span>First Baseline With Sklearn</a></span><ul class=\"toc-item\"><li><span><a href=\"#Modelisation\" data-toc-modified-id=\"Modelisation-2.1\"><span class=\"toc-item-num\">2.1&nbsp;&nbsp;</span>Modelisation</a></span></li><li><span><a href=\"#convert-To-tensor-Dataset\" data-toc-modified-id=\"convert-To-tensor-Dataset-2.2\"><span class=\"toc-item-num\">2.2&nbsp;&nbsp;</span>convert To tensor Dataset</a></span><ul class=\"toc-item\"><li><span><a href=\"#Gridsearch\" data-toc-modified-id=\"Gridsearch-2.2.1\"><span class=\"toc-item-num\">2.2.1&nbsp;&nbsp;</span>Gridsearch</a></span></li><li><span><a href=\"#Predict-GIZ-Biomass\" data-toc-modified-id=\"Predict-GIZ-Biomass-2.2.2\"><span class=\"toc-item-num\">2.2.2&nbsp;&nbsp;</span>Predict GIZ Biomass</a></span></li></ul></li></ul></li></ul></div>"
   ]
  },
  {
   "cell_type": "markdown",
   "metadata": {
    "id": "28R01eNOra9X"
   },
   "source": [
    "In this notebook, we will show you the differents steps to train step by step dly your model in this competition."
   ]
  },
  {
   "cell_type": "markdown",
   "metadata": {
    "id": "BiF5fKp2Qv1d"
   },
   "source": [
    "# Images Extractions"
   ]
  },
  {
   "cell_type": "code",
   "execution_count": 1,
   "metadata": {
    "ExecuteTime": {
     "end_time": "2023-02-12T09:59:13.552759Z",
     "start_time": "2023-02-12T09:59:11.404368Z"
    },
    "executionInfo": {
     "elapsed": 662,
     "status": "ok",
     "timestamp": 1674723307296,
     "user": {
      "displayName": "Nelson Mganga",
      "userId": "15984282569117459010"
     },
     "user_tz": -180
    },
    "id": "ghyAh0w20yIH"
   },
   "outputs": [
    {
     "name": "stderr",
     "output_type": "stream",
     "text": [
      "2023-02-12 10:59:11.949969: I tensorflow/core/platform/cpu_feature_guard.cc:193] This TensorFlow binary is optimized with oneAPI Deep Neural Network Library (oneDNN) to use the following CPU instructions in performance-critical operations:  AVX2 AVX_VNNI FMA\n",
      "To enable them in other operations, rebuild TensorFlow with the appropriate compiler flags.\n",
      "2023-02-12 10:59:12.121865: I tensorflow/core/util/port.cc:104] oneDNN custom operations are on. You may see slightly different numerical results due to floating-point round-off errors from different computation orders. To turn them off, set the environment variable `TF_ENABLE_ONEDNN_OPTS=0`.\n",
      "2023-02-12 10:59:12.147449: W tensorflow/compiler/xla/stream_executor/platform/default/dso_loader.cc:64] Could not load dynamic library 'libcudart.so.11.0'; dlerror: libcudart.so.11.0: cannot open shared object file: No such file or directory\n",
      "2023-02-12 10:59:12.147469: I tensorflow/compiler/xla/stream_executor/cuda/cudart_stub.cc:29] Ignore above cudart dlerror if you do not have a GPU set up on your machine.\n",
      "2023-02-12 10:59:12.804765: W tensorflow/compiler/xla/stream_executor/platform/default/dso_loader.cc:64] Could not load dynamic library 'libnvinfer.so.7'; dlerror: libnvinfer.so.7: cannot open shared object file: No such file or directory\n",
      "2023-02-12 10:59:12.804809: W tensorflow/compiler/xla/stream_executor/platform/default/dso_loader.cc:64] Could not load dynamic library 'libnvinfer_plugin.so.7'; dlerror: libnvinfer_plugin.so.7: cannot open shared object file: No such file or directory\n",
      "2023-02-12 10:59:12.804813: W tensorflow/compiler/tf2tensorrt/utils/py_utils.cc:38] TF-TRT Warning: Cannot dlopen some TensorRT libraries. If you would like to use Nvidia GPU with TensorRT, please make sure the missing libraries mentioned above are installed properly.\n"
     ]
    }
   ],
   "source": [
    "import h5py\n",
    "import matplotlib.pyplot as plt\n",
    "import pandas as pd\n",
    "import numpy as np\n",
    "import warnings\n",
    "import tensorflow as tf\n",
    "warnings.filterwarnings('ignore')"
   ]
  },
  {
   "cell_type": "code",
   "execution_count": 2,
   "metadata": {
    "ExecuteTime": {
     "end_time": "2023-02-12T09:59:21.650226Z",
     "start_time": "2023-02-12T09:59:21.647753Z"
    },
    "executionInfo": {
     "elapsed": 15503,
     "status": "ok",
     "timestamp": 1674723322797,
     "user": {
      "displayName": "Nelson Mganga",
      "userId": "15984282569117459010"
     },
     "user_tz": -180
    },
    "id": "FSbBd9XiQ5q5"
   },
   "outputs": [],
   "source": [
    "#!wget -q  https://share.phys.ethz.ch/~pf/albecker/abc/09072022_1154_train.h5\n",
    "#!wget -q  https://share.phys.ethz.ch/~pf/albecker/abc/09072022_1154_val.h5\n",
    "#!wget -q https://share.phys.ethz.ch/~pf/albecker/abc/09072022_1154_test.h5"
   ]
  },
  {
   "cell_type": "code",
   "execution_count": 3,
   "metadata": {
    "ExecuteTime": {
     "end_time": "2023-02-12T09:59:22.210934Z",
     "start_time": "2023-02-12T09:59:22.203529Z"
    },
    "executionInfo": {
     "elapsed": 7,
     "status": "ok",
     "timestamp": 1674723322798,
     "user": {
      "displayName": "Nelson Mganga",
      "userId": "15984282569117459010"
     },
     "user_tz": -180
    },
    "id": "k3ZQRlZOQ65B"
   },
   "outputs": [],
   "source": [
    "trainset = h5py.File(\"09072022_1154_train.h5\", \"r\")\n",
    "validateset = h5py.File(\"09072022_1154_val.h5\", \"r\")\n",
    "testset = h5py.File(\"09072022_1154_test.h5\", \"r\")"
   ]
  },
  {
   "cell_type": "code",
   "execution_count": 4,
   "metadata": {
    "ExecuteTime": {
     "end_time": "2023-02-12T09:59:22.418098Z",
     "start_time": "2023-02-12T09:59:22.411851Z"
    },
    "colab": {
     "base_uri": "https://localhost:8080/"
    },
    "executionInfo": {
     "elapsed": 6,
     "status": "ok",
     "timestamp": 1674723322798,
     "user": {
      "displayName": "Nelson Mganga",
      "userId": "15984282569117459010"
     },
     "user_tz": -180
    },
    "id": "sQnKRSw9RDu6",
    "outputId": "3db2d7d8-aee9-4a1a-a8a2-bcf59fff71ee"
   },
   "outputs": [
    {
     "data": {
      "text/plain": [
       "<KeysViewHDF5 ['agbd', 'cloud', 'images', 'lat', 'lon', 'scl']>"
      ]
     },
     "execution_count": 4,
     "metadata": {},
     "output_type": "execute_result"
    }
   ],
   "source": [
    "# attributes of trainset\n",
    "trainset.keys()"
   ]
  },
  {
   "cell_type": "code",
   "execution_count": 5,
   "metadata": {
    "ExecuteTime": {
     "end_time": "2023-02-12T09:59:22.670160Z",
     "start_time": "2023-02-12T09:59:22.658252Z"
    }
   },
   "outputs": [
    {
     "data": {
      "text/plain": [
       "10"
      ]
     },
     "execution_count": 5,
     "metadata": {},
     "output_type": "execute_result"
    }
   ],
   "source": [
    "np.array(trainset['scl']).max()"
   ]
  },
  {
   "cell_type": "markdown",
   "metadata": {
    "id": "2rKhoGtGR1Xu"
   },
   "source": [
    "## Explore datasets"
   ]
  },
  {
   "cell_type": "code",
   "execution_count": 8,
   "metadata": {
    "ExecuteTime": {
     "end_time": "2023-02-12T09:59:31.353657Z",
     "start_time": "2023-02-12T09:59:30.880705Z"
    },
    "executionInfo": {
     "elapsed": 1089,
     "status": "ok",
     "timestamp": 1674723355639,
     "user": {
      "displayName": "Nelson Mganga",
      "userId": "15984282569117459010"
     },
     "user_tz": -180
    },
    "id": "YgOvKhevSGNV"
   },
   "outputs": [],
   "source": [
    "# train\n",
    "train_images = np.array(trainset['images'],dtype=np.float64)\n",
    "train_images = train_images.transpose(0,3,1,2)\n",
    "\n",
    "train_lat = np.array(trainset['lat'],dtype=np.float64)\n",
    "train_lon = np.array(trainset['lon'],dtype=np.float64)\n",
    "\n",
    "\n",
    "train_biomasses = np.array(trainset['agbd'],dtype=np.float64)\n",
    "\n",
    "# validate\n",
    "validate_images = np.array(validateset['images'],dtype=np.float64)\n",
    "validate_images = validate_images.transpose(0,3,1,2)\n",
    "\n",
    "validate_lat = np.array(validateset['lat'],dtype=np.float64)\n",
    "validate_lon = np.array(validateset['lon'],dtype=np.float64)\n",
    "\n",
    "validate_biomasses = np.array(validateset['agbd'],dtype=np.float64)\n",
    "\n",
    "# test \n",
    "test_images = np.array(testset['images'],dtype=np.float32)\n",
    "test_images = test_images.transpose(0,3,1,2)\n",
    "test_biomasses = np.array(testset['agbd'],dtype=np.float32)"
   ]
  },
  {
   "cell_type": "code",
   "execution_count": 9,
   "metadata": {
    "ExecuteTime": {
     "end_time": "2023-02-12T09:59:32.518185Z",
     "start_time": "2023-02-12T09:59:32.514858Z"
    },
    "colab": {
     "base_uri": "https://localhost:8080/"
    },
    "executionInfo": {
     "elapsed": 2,
     "status": "ok",
     "timestamp": 1674723355639,
     "user": {
      "displayName": "Nelson Mganga",
      "userId": "15984282569117459010"
     },
     "user_tz": -180
    },
    "id": "Ps-9IeIgSJ4w",
    "outputId": "8ed5a021-0c63-4eab-b4ac-1095c4158ee6"
   },
   "outputs": [
    {
     "name": "stdout",
     "output_type": "stream",
     "text": [
      "train dataset size (25036, 12, 15, 15) train lab size (25036,)\n",
      "\n",
      "validate dataset size (5174, 12, 15, 15) validate lab size (5174,)\n",
      "\n",
      "test dataset size (5190, 12, 15, 15) test lab size (5190,)\n"
     ]
    }
   ],
   "source": [
    "print(f\"train dataset size {train_images.shape} train lab size {train_biomasses.shape}\")\n",
    "print()\n",
    "print(f\"validate dataset size {validate_images.shape} validate lab size {validate_biomasses.shape}\")\n",
    "print()\n",
    "print(f\"test dataset size {test_images.shape} test lab size {test_biomasses.shape}\")"
   ]
  },
  {
   "cell_type": "code",
   "execution_count": 10,
   "metadata": {
    "ExecuteTime": {
     "end_time": "2023-02-12T09:59:32.759021Z",
     "start_time": "2023-02-12T09:59:32.665266Z"
    }
   },
   "outputs": [
    {
     "data": {
      "text/plain": [
       "<AxesSubplot: ylabel='Frequency'>"
      ]
     },
     "execution_count": 10,
     "metadata": {},
     "output_type": "execute_result"
    },
    {
     "data": {
      "image/png": "[encoded data removed]",
      "text/plain": [
       "<Figure size 640x480 with 1 Axes>"
      ]
     },
     "metadata": {},
     "output_type": "display_data"
    }
   ],
   "source": [
    "pd.Series(train_biomasses).plot(kind='hist')"
   ]
  },
  {
   "cell_type": "markdown",
   "metadata": {
    "id": "zNdh9lMISRdZ"
   },
   "source": [
    "##  Some visulizations"
   ]
  },
  {
   "cell_type": "code",
   "execution_count": 11,
   "metadata": {
    "ExecuteTime": {
     "end_time": "2023-02-12T09:59:34.257952Z",
     "start_time": "2023-02-12T09:59:34.178775Z"
    },
    "colab": {
     "base_uri": "https://localhost:8080/",
     "height": 282
    },
    "executionInfo": {
     "elapsed": 482,
     "status": "ok",
     "timestamp": 1674723358203,
     "user": {
      "displayName": "Nelson Mganga",
      "userId": "15984282569117459010"
     },
     "user_tz": -180
    },
    "id": "fp5UpiavSMqn",
    "outputId": "84eb860f-78fe-4dbb-9da2-ed65b0ece40d"
   },
   "outputs": [
    {
     "data": {
      "text/plain": [
       "<matplotlib.image.AxesImage at 0x7f2169b7d690>"
      ]
     },
     "execution_count": 11,
     "metadata": {},
     "output_type": "execute_result"
    },
    {
     "data": {
      "image/png": "[encoded data removed]",
      "text/plain": [
       "<Figure size 640x480 with 1 Axes>"
      ]
     },
     "metadata": {},
     "output_type": "display_data"
    }
   ],
   "source": [
    "plt.imshow(train_images[1,1,:,:])"
   ]
  },
  {
   "cell_type": "code",
   "execution_count": 12,
   "metadata": {
    "ExecuteTime": {
     "end_time": "2023-02-12T09:59:35.300921Z",
     "start_time": "2023-02-12T09:59:34.594885Z"
    },
    "scrolled": true
   },
   "outputs": [
    {
     "data": {
      "image/png": "[encoded data removed]",
      "text/plain": [
       "<Figure size 640x480 with 1 Axes>"
      ]
     },
     "metadata": {},
     "output_type": "display_data"
    },
    {
     "data": {
      "image/png": "[encoded data removed]",
      "text/plain": [
       "<Figure size 640x480 with 1 Axes>"
      ]
     },
     "metadata": {},
     "output_type": "display_data"
    },
    {
     "data": {
      "image/png": "[encoded data removed]",
      "text/plain": [
       "<Figure size 640x480 with 1 Axes>"
      ]
     },
     "metadata": {},
     "output_type": "display_data"
    },
    {
     "data": {
      "image/png": "[encoded data removed]",
      "text/plain": [
       "<Figure size 640x480 with 1 Axes>"
      ]
     },
     "metadata": {},
     "output_type": "display_data"
    },
    {
     "data": {
      "image/png": "[encoded data removed]",
      "text/plain": [
       "<Figure size 640x480 with 1 Axes>"
      ]
     },
     "metadata": {},
     "output_type": "display_data"
    },
    {
     "data": {
      "image/png": "[encoded data removed]",
      "text/plain": [
       "<Figure size 640x480 with 1 Axes>"
      ]
     },
     "metadata": {},
     "output_type": "display_data"
    },
    {
     "data": {
      "image/png": "[encoded data removed]",
      "text/plain": [
       "<Figure size 640x480 with 1 Axes>"
      ]
     },
     "metadata": {},
     "output_type": "display_data"
    },
    {
     "data": {
      "image/png": "[encoded data removed]",
      "text/plain": [
       "<Figure size 640x480 with 1 Axes>"
      ]
     },
     "metadata": {},
     "output_type": "display_data"
    },
    {
     "data": {
      "image/png": "[encoded data removed]",
      "text/plain": [
       "<Figure size 640x480 with 1 Axes>"
      ]
     },
     "metadata": {},
     "output_type": "display_data"
    },
    {
     "data": {
      "image/png": "[encoded data removed]",
      "text/plain": [
       "<Figure size 640x480 with 1 Axes>"
      ]
     },
     "metadata": {},
     "output_type": "display_data"
    },
    {
     "data": {
      "image/png": "[encoded data removed]",
      "text/plain": [
       "<Figure size 640x480 with 1 Axes>"
      ]
     },
     "metadata": {},
     "output_type": "display_data"
    },
    {
     "data": {
      "image/png": "[encoded data removed]",
      "text/plain": [
       "<Figure size 640x480 with 1 Axes>"
      ]
     },
     "metadata": {},
     "output_type": "display_data"
    }
   ],
   "source": [
    "for k in range(12):\n",
    "    plt.imshow(train_images[1,k,:,:])\n",
    "    plt.show()"
   ]
  },
  {
   "cell_type": "code",
   "execution_count": 70,
   "metadata": {
    "ExecuteTime": {
     "end_time": "2023-02-12T13:19:18.846107Z",
     "start_time": "2023-02-12T13:19:18.840252Z"
    }
   },
   "outputs": [
    {
     "data": {
      "text/plain": [
       "array([[[6.87387276],\n",
       "        [6.87387276],\n",
       "        [6.87387276],\n",
       "        [6.87387276],\n",
       "        [6.87387276],\n",
       "        [6.87387276],\n",
       "        [6.87387276],\n",
       "        [6.87387276],\n",
       "        [6.87387276],\n",
       "        [6.87387276],\n",
       "        [6.87387276],\n",
       "        [6.87387276],\n",
       "        [6.87387276],\n",
       "        [6.87387276],\n",
       "        [6.87387276]],\n",
       "\n",
       "       [[6.87378263],\n",
       "        [6.87378263],\n",
       "        [6.87378263],\n",
       "        [6.87378263],\n",
       "        [6.87378263],\n",
       "        [6.87378263],\n",
       "        [6.87378263],\n",
       "        [6.87378263],\n",
       "        [6.87378263],\n",
       "        [6.87378263],\n",
       "        [6.87378263],\n",
       "        [6.87378263],\n",
       "        [6.87378263],\n",
       "        [6.87378263],\n",
       "        [6.87378263]],\n",
       "\n",
       "       [[6.87369204],\n",
       "        [6.87369204],\n",
       "        [6.87369204],\n",
       "        [6.87369204],\n",
       "        [6.87369204],\n",
       "        [6.87369204],\n",
       "        [6.87369204],\n",
       "        [6.87369204],\n",
       "        [6.87369204],\n",
       "        [6.87369204],\n",
       "        [6.87369204],\n",
       "        [6.87369204],\n",
       "        [6.87369204],\n",
       "        [6.87369204],\n",
       "        [6.87369204]],\n",
       "\n",
       "       [[6.87360191],\n",
       "        [6.87360191],\n",
       "        [6.87360191],\n",
       "        [6.87360191],\n",
       "        [6.87360191],\n",
       "        [6.87360191],\n",
       "        [6.87360191],\n",
       "        [6.87360191],\n",
       "        [6.87360191],\n",
       "        [6.87360191],\n",
       "        [6.87360191],\n",
       "        [6.87360191],\n",
       "        [6.87360191],\n",
       "        [6.87360191],\n",
       "        [6.87360191]],\n",
       "\n",
       "       [[6.87351131],\n",
       "        [6.87351131],\n",
       "        [6.87351131],\n",
       "        [6.87351131],\n",
       "        [6.87351131],\n",
       "        [6.87351131],\n",
       "        [6.87351131],\n",
       "        [6.87351131],\n",
       "        [6.87351131],\n",
       "        [6.87351131],\n",
       "        [6.87351131],\n",
       "        [6.87351131],\n",
       "        [6.87351131],\n",
       "        [6.87351131],\n",
       "        [6.87351131]],\n",
       "\n",
       "       [[6.87342119],\n",
       "        [6.87342119],\n",
       "        [6.87342119],\n",
       "        [6.87342119],\n",
       "        [6.87342119],\n",
       "        [6.87342119],\n",
       "        [6.87342119],\n",
       "        [6.87342119],\n",
       "        [6.87342119],\n",
       "        [6.87342119],\n",
       "        [6.87342119],\n",
       "        [6.87342119],\n",
       "        [6.87342119],\n",
       "        [6.87342119],\n",
       "        [6.87342119]],\n",
       "\n",
       "       [[6.87333059],\n",
       "        [6.87333059],\n",
       "        [6.87333059],\n",
       "        [6.87333059],\n",
       "        [6.87333059],\n",
       "        [6.87333059],\n",
       "        [6.87333059],\n",
       "        [6.87333059],\n",
       "        [6.87333059],\n",
       "        [6.87333059],\n",
       "        [6.87333059],\n",
       "        [6.87333059],\n",
       "        [6.87333059],\n",
       "        [6.87333059],\n",
       "        [6.87333059]],\n",
       "\n",
       "       [[6.87323999],\n",
       "        [6.87323999],\n",
       "        [6.87323999],\n",
       "        [6.87323999],\n",
       "        [6.87323999],\n",
       "        [6.87323999],\n",
       "        [6.87323999],\n",
       "        [6.87323999],\n",
       "        [6.87323999],\n",
       "        [6.87323999],\n",
       "        [6.87323999],\n",
       "        [6.87323999],\n",
       "        [6.87323999],\n",
       "        [6.87323999],\n",
       "        [6.87323999]],\n",
       "\n",
       "       [[6.87314987],\n",
       "        [6.87314987],\n",
       "        [6.87314987],\n",
       "        [6.87314987],\n",
       "        [6.87314987],\n",
       "        [6.87314987],\n",
       "        [6.87314987],\n",
       "        [6.87314987],\n",
       "        [6.87314987],\n",
       "        [6.87314987],\n",
       "        [6.87314987],\n",
       "        [6.87314987],\n",
       "        [6.87314987],\n",
       "        [6.87314987],\n",
       "        [6.87314987]],\n",
       "\n",
       "       [[6.87305927],\n",
       "        [6.87305927],\n",
       "        [6.87305927],\n",
       "        [6.87305927],\n",
       "        [6.87305927],\n",
       "        [6.87305927],\n",
       "        [6.87305927],\n",
       "        [6.87305927],\n",
       "        [6.87305927],\n",
       "        [6.87305927],\n",
       "        [6.87305927],\n",
       "        [6.87305927],\n",
       "        [6.87305927],\n",
       "        [6.87305927],\n",
       "        [6.87305927]],\n",
       "\n",
       "       [[6.87296915],\n",
       "        [6.87296915],\n",
       "        [6.87296915],\n",
       "        [6.87296915],\n",
       "        [6.87296915],\n",
       "        [6.87296915],\n",
       "        [6.87296915],\n",
       "        [6.87296915],\n",
       "        [6.87296915],\n",
       "        [6.87296915],\n",
       "        [6.87296915],\n",
       "        [6.87296915],\n",
       "        [6.87296915],\n",
       "        [6.87296915],\n",
       "        [6.87296915]],\n",
       "\n",
       "       [[6.87287855],\n",
       "        [6.87287855],\n",
       "        [6.87287855],\n",
       "        [6.87287855],\n",
       "        [6.87287855],\n",
       "        [6.87287855],\n",
       "        [6.87287855],\n",
       "        [6.87287855],\n",
       "        [6.87287855],\n",
       "        [6.87287855],\n",
       "        [6.87287855],\n",
       "        [6.87287855],\n",
       "        [6.87287855],\n",
       "        [6.87287855],\n",
       "        [6.87287855]],\n",
       "\n",
       "       [[6.87278843],\n",
       "        [6.87278843],\n",
       "        [6.87278843],\n",
       "        [6.87278843],\n",
       "        [6.87278843],\n",
       "        [6.87278843],\n",
       "        [6.87278843],\n",
       "        [6.87278843],\n",
       "        [6.87278843],\n",
       "        [6.87278843],\n",
       "        [6.87278843],\n",
       "        [6.87278843],\n",
       "        [6.87278843],\n",
       "        [6.87278843],\n",
       "        [6.87278843]],\n",
       "\n",
       "       [[6.87269783],\n",
       "        [6.87269783],\n",
       "        [6.87269783],\n",
       "        [6.87269783],\n",
       "        [6.87269783],\n",
       "        [6.87269783],\n",
       "        [6.87269783],\n",
       "        [6.87269783],\n",
       "        [6.87269783],\n",
       "        [6.87269783],\n",
       "        [6.87269783],\n",
       "        [6.87269783],\n",
       "        [6.87269783],\n",
       "        [6.87269783],\n",
       "        [6.87269783]],\n",
       "\n",
       "       [[6.87260771],\n",
       "        [6.87260771],\n",
       "        [6.87260771],\n",
       "        [6.87260771],\n",
       "        [6.87260771],\n",
       "        [6.87260771],\n",
       "        [6.87260771],\n",
       "        [6.87260771],\n",
       "        [6.87260771],\n",
       "        [6.87260771],\n",
       "        [6.87260771],\n",
       "        [6.87260771],\n",
       "        [6.87260771],\n",
       "        [6.87260771],\n",
       "        [6.87260771]]])"
      ]
     },
     "execution_count": 70,
     "metadata": {},
     "output_type": "execute_result"
    }
   ],
   "source": [
    "train_lat[0]."
   ]
  },
  {
   "cell_type": "code",
   "execution_count": 14,
   "metadata": {
    "ExecuteTime": {
     "end_time": "2023-02-12T09:59:42.043798Z",
     "start_time": "2023-02-12T09:59:42.039890Z"
    },
    "colab": {
     "base_uri": "https://localhost:8080/"
    },
    "executionInfo": {
     "elapsed": 5,
     "status": "ok",
     "timestamp": 1674723358203,
     "user": {
      "displayName": "Nelson Mganga",
      "userId": "15984282569117459010"
     },
     "user_tz": -180
    },
    "id": "TAFde--LSZR5",
    "outputId": "945db10c-44b5-48a2-e4d8-e0de199362d6"
   },
   "outputs": [
    {
     "data": {
      "text/plain": [
       "99.10187530517578"
      ]
     },
     "execution_count": 14,
     "metadata": {},
     "output_type": "execute_result"
    }
   ],
   "source": [
    "train_biomasses[1]"
   ]
  },
  {
   "cell_type": "code",
   "execution_count": 15,
   "metadata": {
    "ExecuteTime": {
     "end_time": "2023-02-12T09:59:42.259050Z",
     "start_time": "2023-02-12T09:59:42.255513Z"
    }
   },
   "outputs": [
    {
     "data": {
      "text/plain": [
       "(25036, 12, 15, 15)"
      ]
     },
     "execution_count": 15,
     "metadata": {},
     "output_type": "execute_result"
    }
   ],
   "source": [
    "train_images.shape"
   ]
  },
  {
   "cell_type": "code",
   "execution_count": 16,
   "metadata": {
    "ExecuteTime": {
     "end_time": "2023-02-12T09:59:42.453811Z",
     "start_time": "2023-02-12T09:59:42.449766Z"
    }
   },
   "outputs": [
    {
     "data": {
      "text/plain": [
       "(25036, 15, 15)"
      ]
     },
     "execution_count": 16,
     "metadata": {},
     "output_type": "execute_result"
    }
   ],
   "source": [
    "train_images[:,2].shape"
   ]
  },
  {
   "cell_type": "markdown",
   "metadata": {
    "id": "ffXv4PbxI5QS"
   },
   "source": [
    " **Below we explore the skewness of train dataset in each channel**"
   ]
  },
  {
   "cell_type": "code",
   "execution_count": 17,
   "metadata": {
    "ExecuteTime": {
     "end_time": "2023-02-12T09:59:45.474120Z",
     "start_time": "2023-02-12T09:59:43.484326Z"
    },
    "executionInfo": {
     "elapsed": 3367,
     "status": "ok",
     "timestamp": 1674723363080,
     "user": {
      "displayName": "Nelson Mganga",
      "userId": "15984282569117459010"
     },
     "user_tz": -180
    },
    "id": "CrCKjC-mSmJm"
   },
   "outputs": [],
   "source": [
    "band_skewness = []\n",
    "band_skewness_after_sqrt = []\n",
    "for c in range(12):\n",
    "    #calculate skewness\n",
    "    band_skewness.append(pd.Series(train_images[:,c].flatten()).skew())\n",
    "    #calculate skewness after applying sqrt\n",
    "    band_skewness_after_sqrt.append(pd.Series(np.sqrt(train_images[:,c].flatten())).skew())"
   ]
  },
  {
   "cell_type": "code",
   "execution_count": 18,
   "metadata": {
    "ExecuteTime": {
     "end_time": "2023-02-12T09:59:45.575605Z",
     "start_time": "2023-02-12T09:59:45.475895Z"
    },
    "colab": {
     "base_uri": "https://localhost:8080/",
     "height": 279
    },
    "executionInfo": {
     "elapsed": 7,
     "status": "ok",
     "timestamp": 1674723363081,
     "user": {
      "displayName": "Nelson Mganga",
      "userId": "15984282569117459010"
     },
     "user_tz": -180
    },
    "id": "mQuF1liYSppT",
    "outputId": "25110683-aea1-44d1-fe7a-f460c69d3ae7"
   },
   "outputs": [
    {
     "data": {
      "image/png": "[encoded data removed]",
      "text/plain": [
       "<Figure size 640x480 with 1 Axes>"
      ]
     },
     "metadata": {},
     "output_type": "display_data"
    }
   ],
   "source": [
    "# skweness\n",
    "width = 0.25\n",
    "\n",
    "rng = [i for i in range(0,12)]\n",
    "rng2 = [i+width for i in range(0,12)]\n",
    "\n",
    "plt.bar(rng, band_skewness, align='center', width = width, label='Original', color ='b')\n",
    "plt.bar(rng2, band_skewness_after_sqrt, align='center', width = width, label='After sqrt', color ='g')\n",
    "plt.gca().set_xticks(rng)\n",
    "plt.legend()\n",
    "plt.xlabel('Band ID')\n",
    "plt.ylabel('Skewness')\n",
    "plt.show()"
   ]
  },
  {
   "cell_type": "markdown",
   "metadata": {
    "id": "SYkqo_nDQlzS"
   },
   "source": [
    "# First Baseline With Sklearn"
   ]
  },
  {
   "cell_type": "code",
   "execution_count": 19,
   "metadata": {
    "ExecuteTime": {
     "end_time": "2023-02-12T09:59:45.959938Z",
     "start_time": "2023-02-12T09:59:45.577241Z"
    },
    "executionInfo": {
     "elapsed": 1159,
     "status": "ok",
     "timestamp": 1674723364234,
     "user": {
      "displayName": "Nelson Mganga",
      "userId": "15984282569117459010"
     },
     "user_tz": -180
    },
    "id": "is7xLI-1VzAW"
   },
   "outputs": [],
   "source": [
    "from sklearn.linear_model import LinearRegression,Ridge,Lasso\n",
    "from sklearn.svm import LinearSVR\n",
    "from sklearn.neighbors import KNeighborsRegressor\n",
    "from sklearn.ensemble import RandomForestRegressor, GradientBoostingRegressor\n",
    "from sklearn.model_selection import GridSearchCV\n",
    "from sklearn.pipeline import Pipeline\n",
    "from sklearn.metrics import mean_squared_error\n",
    "from sklearn import model_selection\n",
    "from sklearn.compose import ColumnTransformer\n",
    "from sklearn.impute import SimpleImputer\n",
    "from sklearn.preprocessing import StandardScaler\n",
    "from sklearn.base import BaseEstimator, TransformerMixin"
   ]
  },
  {
   "cell_type": "code",
   "execution_count": 20,
   "metadata": {
    "ExecuteTime": {
     "end_time": "2023-02-12T09:59:45.963750Z",
     "start_time": "2023-02-12T09:59:45.961482Z"
    },
    "executionInfo": {
     "elapsed": 3,
     "status": "ok",
     "timestamp": 1674723364234,
     "user": {
      "displayName": "Nelson Mganga",
      "userId": "15984282569117459010"
     },
     "user_tz": -180
    },
    "id": "t54SAWW6pr1S"
   },
   "outputs": [],
   "source": [
    "from sklearn import set_config\n",
    "set_config(display='diagram')"
   ]
  },
  {
   "cell_type": "markdown",
   "metadata": {
    "id": "PVAxS2EwqKiW"
   },
   "source": [
    "## Modelisation"
   ]
  },
  {
   "cell_type": "markdown",
   "metadata": {},
   "source": [
    "## convert To tensor Dataset\n"
   ]
  },
  {
   "cell_type": "code",
   "execution_count": 85,
   "metadata": {
    "ExecuteTime": {
     "end_time": "2023-02-12T13:23:05.942853Z",
     "start_time": "2023-02-12T13:23:05.752272Z"
    }
   },
   "outputs": [],
   "source": [
    "from tensorflow.keras.preprocessing.image import ImageDataGenerator\n",
    "datagen= ImageDataGenerator(rescale=False)\n",
    "\n",
    "trainimg=tf.data.Dataset.from_tensor_slices(train_images)\n",
    "trainlat=tf.data.Dataset.from_tensor_slices(train_lat).map(lambda x :x[:,0,:])\n",
    "trainlon=tf.data.Dataset.from_tensor_slices(train_lon).map(lambda x :x[:,0,:])\n",
    "trainbiom=tf.data.Dataset.from_tensor_slices( train_biomasses)\n",
    "traindata=tf.data.Dataset.zip((trainimg,trainlat, trainlon))\n",
    "traindata=tf.data.Dataset.zip((traindata, trainbiom)).batch(32).prefetch(tf.data.AUTOTUNE)\n",
    "\n",
    "validateimg=tf.data.Dataset.from_tensor_slices(validate_images) \n",
    "validatelat=tf.data.Dataset.from_tensor_slices(validate_lat).map(lambda x :x[:,0,:])\n",
    "validatelon=tf.data.Dataset.from_tensor_slices(validate_lon).map(lambda x :x[:,0,:])\n",
    "validatebiom=tf.data.Dataset.from_tensor_slices( validate_biomasses)\n",
    "validatedata=tf.data.Dataset.zip((validateimg,validatelat, validatelon))\n",
    "validatedata=tf.data.Dataset.zip((validatedata, validatebiom)).batch(32).prefetch(tf.data.AUTOTUNE)\n",
    "\n",
    "#traingen= datagen.flow( train_images,\n",
    "#        y=train_biomasses,\n",
    "#        batch_size=32,\n",
    "#        shuffle=True,\n",
    "#    )\n",
    "#valgen= datagen.flow( validate_images,\n",
    "#        y=validate_biomasses,\n",
    "#        batch_size=32,\n",
    "#        shuffle=True,\n",
    "#    )\n"
   ]
  },
  {
   "cell_type": "code",
   "execution_count": 86,
   "metadata": {
    "ExecuteTime": {
     "end_time": "2023-02-12T13:23:06.936894Z",
     "start_time": "2023-02-12T13:23:06.923032Z"
    }
   },
   "outputs": [
    {
     "name": "stdout",
     "output_type": "stream",
     "text": [
      "(15, 1) tf.Tensor(\n",
      "[[6.87387276]\n",
      " [6.87378263]\n",
      " [6.87369204]\n",
      " [6.87360191]\n",
      " [6.87351131]\n",
      " [6.87342119]\n",
      " [6.87333059]\n",
      " [6.87323999]\n",
      " [6.87314987]\n",
      " [6.87305927]\n",
      " [6.87296915]\n",
      " [6.87287855]\n",
      " [6.87278843]\n",
      " [6.87269783]\n",
      " [6.87260771]], shape=(15, 1), dtype=float64)\n"
     ]
    }
   ],
   "source": [
    "for k in trainlat:\n",
    "    print(k.shape, k)\n",
    "    break"
   ]
  },
  {
   "cell_type": "raw",
   "metadata": {},
   "source": []
  },
  {
   "cell_type": "code",
   "execution_count": 148,
   "metadata": {
    "ExecuteTime": {
     "end_time": "2023-02-12T13:47:50.388918Z",
     "start_time": "2023-02-12T13:47:48.726172Z"
    }
   },
   "outputs": [],
   "source": [
    "from tensorflow import keras\n",
    "from tensorflow.keras import layers\n",
    "\n",
    "\n",
    "\n",
    "model_v1 = tf.keras.models.Sequential([\n",
    "    # Note the input shape is the desired size of the image 150x150 with 3 bytes color\n",
    "    # This is the first convolution\n",
    "    #tf.keras.layers.Conv2D(650, (3,3), activation='relu', input_shape=(12,15,15), data_format='channels_first'),\n",
    "    #tf.keras.layers.GlobalAveragePooling2D(data_format='channels_first'),\n",
    "    #tf.keras.layers.MaxPooling2D(2, 2,data_format='channels_first'),\n",
    "    # The second convolution\n",
    "    #tf.keras.layers.Conv2D(350, (3,3), activation='relu',  data_format='channels_first'),\n",
    "    #tf.keras.layers.MaxPooling2D(2,2,data_format='channels_first'),\n",
    "    \n",
    "    tf.keras.layers.Flatten(),\n",
    "    #tf.keras.layers.lambda (lambda x: tf.math.sqrt(x)),\n",
    "    # 512 neuron hidden layer\n",
    "    tf.keras.layers.Dense(350, activation='relu'),\n",
    "    tf.keras.layers.Dense(250, activation='relu'),\n",
    "    tf.keras.layers.Dense(150, activation='relu'),\n",
    "    tf.keras.layers.Dense(50, activation='relu'),\n",
    "    # Only 1 output neuron. It will contain a value from 0-1 where 0 for 1 class ('horses') and 1 for the other ('humans')\n",
    "        tf.keras.layers.Dense(1, activation='relu'),\n",
    "    tf.keras.layers.Lambda(lambda x:x*160)\n",
    "\n",
    "])\n",
    "\n",
    "def input_ly( shape, data):\n",
    "    input_ = keras.Input(shape=shape)\n",
    "    normalizer = tf.keras.layers.Normalization()\n",
    "    normalizer.adapt(data)\n",
    "    x_image = normalizer(input_)\n",
    "    return input_, x_image\n",
    "inputs_image,x_image= input_ly(( 12,15,15), train_images)\n",
    "x_image=tf.keras.layers.Flatten()(x_image)\n",
    "\n",
    "inputs_lat, x_lat=input_ly((15,1), train_lat)\n",
    "\n",
    "inputs_lon, x_lon=input_ly((15,1), train_lon)\n",
    "\n",
    "\n",
    "outputs_images = model_v1(x_image)\n",
    "coord=tf.keras.layers.Concatenate(axis=-1)([x_lat,x_lon])\n",
    "print(coord.shape)\n",
    "coord=tf.keras.layers.Flatten()(coord)\n",
    "coord.set_shape(tf.TensorShape((None, 30)))\n",
    "print(coord.shape)\n",
    "coord= tf.keras.layers.Dense(350, activation='relu')( coord)\n",
    "coord=tf.keras.layers.Concatenate(axis=-1)([coord,outputs_images])\n",
    "\n",
    "coord= tf.keras.layers.Dense(150, activation='relu')( coord)\n",
    "coord= tf.keras.layers.Dense(150, activation='relu')( coord)\n",
    "coord=tf.keras.layers.Dense(1, activation='relu')( coord)\n",
    "outputs= tf.keras.layers.Lambda(lambda x:x*160)(coord)\n",
    "\n",
    "model = keras.Model([inputs_image, inputs_lat,inputs_lon], outputs)\n",
    "\n"
   ]
  },
  {
   "cell_type": "code",
   "execution_count": 149,
   "metadata": {
    "ExecuteTime": {
     "end_time": "2023-02-12T13:47:58.932386Z",
     "start_time": "2023-02-12T13:47:58.929723Z"
    }
   },
   "outputs": [],
   "source": [
    "print(2)"
   ]
  },
  {
   "cell_type": "code",
   "execution_count": 136,
   "metadata": {
    "ExecuteTime": {
     "end_time": "2023-02-12T13:47:23.710569Z",
     "start_time": "2023-02-12T13:47:23.707124Z"
    }
   },
   "outputs": [],
   "source": [
    "coord.__dict__"
   ]
  },
  {
   "cell_type": "code",
   "execution_count": 137,
   "metadata": {
    "ExecuteTime": {
     "end_time": "2023-02-12T13:47:25.238527Z",
     "start_time": "2023-02-12T13:47:25.227309Z"
    }
   },
   "outputs": [],
   "source": [
    "model_v1.summary()"
   ]
  },
  {
   "cell_type": "code",
   "execution_count": 138,
   "metadata": {
    "ExecuteTime": {
     "end_time": "2023-02-12T13:47:25.525857Z",
     "start_time": "2023-02-12T13:47:25.508820Z"
    }
   },
   "outputs": [],
   "source": [
    "model.summary()"
   ]
  },
  {
   "cell_type": "code",
   "execution_count": 139,
   "metadata": {
    "ExecuteTime": {
     "end_time": "2023-02-12T13:47:26.720107Z",
     "start_time": "2023-02-12T13:47:26.717270Z"
    }
   },
   "outputs": [],
   "source": [
    "import tensorflow.keras.backend as K\n",
    "def root_mean_squared_error(y_true, y_pred):\n",
    "        return K.sqrt(K.mean(K.square(y_pred - y_true))) \n"
   ]
  },
  {
   "cell_type": "code",
   "execution_count": 140,
   "metadata": {
    "ExecuteTime": {
     "end_time": "2023-02-12T13:47:26.965729Z",
     "start_time": "2023-02-12T13:47:26.962203Z"
    }
   },
   "outputs": [],
   "source": [
    "0.0000001"
   ]
  },
  {
   "cell_type": "code",
   "execution_count": 141,
   "metadata": {
    "ExecuteTime": {
     "end_time": "2023-02-12T13:47:27.292021Z",
     "start_time": "2023-02-12T13:47:27.284016Z"
    }
   },
   "outputs": [],
   "source": [
    "from tensorflow.keras.metrics import RootMeanSquaredError\n",
    "from tensorflow.keras.losses import Huber, MeanSquaredLogarithmicError\n",
    "from tensorflow.keras.optimizers import RMSprop, Adam,SGD\n",
    "model.compile(optimizer = Adam(\n",
    "    learning_rate=0.0000001\n",
    "        ), \n",
    "              loss = root_mean_squared_error, \n",
    "              metrics = [RootMeanSquaredError()])\n",
    "\n"
   ]
  },
  {
   "cell_type": "code",
   "execution_count": 142,
   "metadata": {
    "ExecuteTime": {
     "end_time": "2023-02-12T13:47:28.330552Z",
     "start_time": "2023-02-12T13:47:27.848896Z"
    },
    "executionInfo": {
     "elapsed": 1133,
     "status": "ok",
     "timestamp": 1674723365365,
     "user": {
      "displayName": "Nelson Mganga",
      "userId": "15984282569117459010"
     },
     "user_tz": -180
    },
    "id": "T3OrinVvV3-8"
   },
   "outputs": [],
   "source": [
    "# constante for standardization\n",
    "MEAN = train_images.mean((0,2,3))\n",
    "STD = train_images.std((0,2,3))"
   ]
  },
  {
   "cell_type": "code",
   "execution_count": 143,
   "metadata": {
    "ExecuteTime": {
     "end_time": "2023-02-12T13:47:28.475128Z",
     "start_time": "2023-02-12T13:47:28.332426Z"
    }
   },
   "outputs": [],
   "source": [
    "# Evaluate( with the hands) the max\n",
    "np.max(train_images.reshape(25036, 12,225),axis=2).max()"
   ]
  },
  {
   "cell_type": "code",
   "execution_count": 144,
   "metadata": {
    "ExecuteTime": {
     "end_time": "2023-02-12T13:47:28.494725Z",
     "start_time": "2023-02-12T13:47:28.492499Z"
    }
   },
   "outputs": [],
   "source": [
    "checkpoint_filepath='./checkpoints/'"
   ]
  },
  {
   "cell_type": "code",
   "execution_count": 145,
   "metadata": {
    "ExecuteTime": {
     "end_time": "2023-02-12T13:47:30.163991Z",
     "start_time": "2023-02-12T13:47:30.161363Z"
    }
   },
   "outputs": [],
   "source": [
    "model_checkpoint_callback = tf.keras.callbacks.ModelCheckpoint(\n",
    "    filepath=checkpoint_filepath,\n",
    "    save_weights_only=True,\n",
    "    monitor='val_root_mean_squared_error',\n",
    "    mode='max',\n",
    "    save_best_only=True)\n"
   ]
  },
  {
   "cell_type": "code",
   "execution_count": 146,
   "metadata": {
    "ExecuteTime": {
     "end_time": "2023-02-12T13:47:32.252726Z",
     "start_time": "2023-02-12T13:47:31.592786Z"
    },
    "scrolled": true
   },
   "outputs": [],
   "source": [
    "history=model.fit(\n",
    "            traindata,\n",
    "        validation_data = validatedata,\n",
    "            steps_per_epoch = 100,\n",
    "            epochs = 150,\n",
    "            validation_steps = 50,\n",
    "            callbacks=[model_checkpoint_callback],\n",
    "            verbose = 2)"
   ]
  },
  {
   "cell_type": "code",
   "execution_count": 147,
   "metadata": {
    "ExecuteTime": {
     "end_time": "2023-02-12T13:47:37.645772Z",
     "start_time": "2023-02-12T13:47:37.557713Z"
    }
   },
   "outputs": [],
   "source": [
    "import matplotlib.pyplot as plt\n",
    "acc = history.history['root_mean_squared_error']\n",
    "val_acc = history.history['val_root_mean_squared_error']\n",
    "loss = history.history['loss']\n",
    "val_loss = history.history['val_loss']\n",
    "\n",
    "epochs = range(len(acc))\n",
    "\n",
    "plt.plot(epochs, acc, 'r', label='Training metric')\n",
    "plt.plot(epochs, val_acc, 'b', label='Validation metric')\n",
    "plt.title('Training and validation root_mean_squared_error')\n",
    "plt.legend(loc=0)\n",
    "plt.figure()\n",
    "\n",
    "\n",
    "plt.show()"
   ]
  },
  {
   "cell_type": "code",
   "execution_count": 33,
   "metadata": {
    "ExecuteTime": {
     "end_time": "2023-02-12T10:00:22.015909Z",
     "start_time": "2023-02-12T10:00:22.012760Z"
    }
   },
   "outputs": [],
   "source": [
    "\n",
    "\n",
    "# Set the learning rate scheduler\n",
    "lr_schedule = tf.keras.callbacks.LearningRateScheduler(\n",
    "    lambda epoch: 1e-8 * 10**(epoch / 20))\n",
    "\n"
   ]
  },
  {
   "cell_type": "code",
   "execution_count": 94,
   "metadata": {
    "ExecuteTime": {
     "end_time": "2023-02-12T13:23:56.736880Z",
     "start_time": "2023-02-12T13:23:56.031199Z"
    },
    "scrolled": false
   },
   "outputs": [
    {
     "name": "stdout",
     "output_type": "stream",
     "text": [
      "Epoch 1/100\n"
     ]
    },
    {
     "ename": "InvalidArgumentError",
     "evalue": "Graph execution error:\n\nDetected at node 'model_3/dense_37/Relu' defined at (most recent call last):\n    File \"/home/aleks/miniconda3/envs/ai310/lib/python3.10/runpy.py\", line 196, in _run_module_as_main\n      return _run_code(code, main_globals, None,\n    File \"/home/aleks/miniconda3/envs/ai310/lib/python3.10/runpy.py\", line 86, in _run_code\n      exec(code, run_globals)\n    File \"/home/aleks/miniconda3/envs/ai310/lib/python3.10/site-packages/ipykernel_launcher.py\", line 17, in <module>\n      app.launch_new_instance()\n    File \"/home/aleks/miniconda3/envs/ai310/lib/python3.10/site-packages/traitlets/config/application.py\", line 1043, in launch_instance\n      app.start()\n    File \"/home/aleks/miniconda3/envs/ai310/lib/python3.10/site-packages/ipykernel/kernelapp.py\", line 728, in start\n      self.io_loop.start()\n    File \"/home/aleks/miniconda3/envs/ai310/lib/python3.10/site-packages/tornado/platform/asyncio.py\", line 215, in start\n      self.asyncio_loop.run_forever()\n    File \"/home/aleks/miniconda3/envs/ai310/lib/python3.10/asyncio/base_events.py\", line 603, in run_forever\n      self._run_once()\n    File \"/home/aleks/miniconda3/envs/ai310/lib/python3.10/asyncio/base_events.py\", line 1906, in _run_once\n      handle._run()\n    File \"/home/aleks/miniconda3/envs/ai310/lib/python3.10/asyncio/events.py\", line 80, in _run\n      self._context.run(self._callback, *self._args)\n    File \"/home/aleks/miniconda3/envs/ai310/lib/python3.10/site-packages/ipykernel/kernelbase.py\", line 513, in dispatch_queue\n      await self.process_one()\n    File \"/home/aleks/miniconda3/envs/ai310/lib/python3.10/site-packages/ipykernel/kernelbase.py\", line 502, in process_one\n      await dispatch(*args)\n    File \"/home/aleks/miniconda3/envs/ai310/lib/python3.10/site-packages/ipykernel/kernelbase.py\", line 409, in dispatch_shell\n      await result\n    File \"/home/aleks/miniconda3/envs/ai310/lib/python3.10/site-packages/ipykernel/kernelbase.py\", line 729, in execute_request\n      reply_content = await reply_content\n    File \"/home/aleks/miniconda3/envs/ai310/lib/python3.10/site-packages/ipykernel/ipkernel.py\", line 423, in do_execute\n      res = shell.run_cell(\n    File \"/home/aleks/miniconda3/envs/ai310/lib/python3.10/site-packages/ipykernel/zmqshell.py\", line 540, in run_cell\n      return super().run_cell(*args, **kwargs)\n    File \"/home/aleks/miniconda3/envs/ai310/lib/python3.10/site-packages/IPython/core/interactiveshell.py\", line 2945, in run_cell\n      result = self._run_cell(\n    File \"/home/aleks/miniconda3/envs/ai310/lib/python3.10/site-packages/IPython/core/interactiveshell.py\", line 3000, in _run_cell\n      return runner(coro)\n    File \"/home/aleks/miniconda3/envs/ai310/lib/python3.10/site-packages/IPython/core/async_helpers.py\", line 129, in _pseudo_sync_runner\n      coro.send(None)\n    File \"/home/aleks/miniconda3/envs/ai310/lib/python3.10/site-packages/IPython/core/interactiveshell.py\", line 3203, in run_cell_async\n      has_raised = await self.run_ast_nodes(code_ast.body, cell_name,\n    File \"/home/aleks/miniconda3/envs/ai310/lib/python3.10/site-packages/IPython/core/interactiveshell.py\", line 3382, in run_ast_nodes\n      if await self.run_code(code, result, async_=asy):\n    File \"/home/aleks/miniconda3/envs/ai310/lib/python3.10/site-packages/IPython/core/interactiveshell.py\", line 3442, in run_code\n      exec(code_obj, self.user_global_ns, self.user_ns)\n    File \"/tmp/ipykernel_438756/1506160658.py\", line 1, in <module>\n      history=model.fit(\n    File \"/home/aleks/miniconda3/envs/ai310/lib/python3.10/site-packages/keras/utils/traceback_utils.py\", line 65, in error_handler\n      return fn(*args, **kwargs)\n    File \"/home/aleks/miniconda3/envs/ai310/lib/python3.10/site-packages/keras/engine/training.py\", line 1650, in fit\n      tmp_logs = self.train_function(iterator)\n    File \"/home/aleks/miniconda3/envs/ai310/lib/python3.10/site-packages/keras/engine/training.py\", line 1249, in train_function\n      return step_function(self, iterator)\n    File \"/home/aleks/miniconda3/envs/ai310/lib/python3.10/site-packages/keras/engine/training.py\", line 1233, in step_function\n      outputs = model.distribute_strategy.run(run_step, args=(data,))\n    File \"/home/aleks/miniconda3/envs/ai310/lib/python3.10/site-packages/keras/engine/training.py\", line 1222, in run_step\n      outputs = model.train_step(data)\n    File \"/home/aleks/miniconda3/envs/ai310/lib/python3.10/site-packages/keras/engine/training.py\", line 1023, in train_step\n      y_pred = self(x, training=True)\n    File \"/home/aleks/miniconda3/envs/ai310/lib/python3.10/site-packages/keras/utils/traceback_utils.py\", line 65, in error_handler\n      return fn(*args, **kwargs)\n    File \"/home/aleks/miniconda3/envs/ai310/lib/python3.10/site-packages/keras/engine/training.py\", line 561, in __call__\n      return super().__call__(*args, **kwargs)\n    File \"/home/aleks/miniconda3/envs/ai310/lib/python3.10/site-packages/keras/utils/traceback_utils.py\", line 65, in error_handler\n      return fn(*args, **kwargs)\n    File \"/home/aleks/miniconda3/envs/ai310/lib/python3.10/site-packages/keras/engine/base_layer.py\", line 1132, in __call__\n      outputs = call_fn(inputs, *args, **kwargs)\n    File \"/home/aleks/miniconda3/envs/ai310/lib/python3.10/site-packages/keras/utils/traceback_utils.py\", line 96, in error_handler\n      return fn(*args, **kwargs)\n    File \"/home/aleks/miniconda3/envs/ai310/lib/python3.10/site-packages/keras/engine/functional.py\", line 511, in call\n      return self._run_internal_graph(inputs, training=training, mask=mask)\n    File \"/home/aleks/miniconda3/envs/ai310/lib/python3.10/site-packages/keras/engine/functional.py\", line 668, in _run_internal_graph\n      outputs = node.layer(*args, **kwargs)\n    File \"/home/aleks/miniconda3/envs/ai310/lib/python3.10/site-packages/keras/utils/traceback_utils.py\", line 65, in error_handler\n      return fn(*args, **kwargs)\n    File \"/home/aleks/miniconda3/envs/ai310/lib/python3.10/site-packages/keras/engine/base_layer.py\", line 1132, in __call__\n      outputs = call_fn(inputs, *args, **kwargs)\n    File \"/home/aleks/miniconda3/envs/ai310/lib/python3.10/site-packages/keras/utils/traceback_utils.py\", line 96, in error_handler\n      return fn(*args, **kwargs)\n    File \"/home/aleks/miniconda3/envs/ai310/lib/python3.10/site-packages/keras/layers/core/dense.py\", line 255, in call\n      outputs = self.activation(outputs)\n    File \"/home/aleks/miniconda3/envs/ai310/lib/python3.10/site-packages/keras/activations.py\", line 317, in relu\n      return backend.relu(\n    File \"/home/aleks/miniconda3/envs/ai310/lib/python3.10/site-packages/keras/backend.py\", line 5369, in relu\n      x = tf.nn.relu(x)\nNode: 'model_3/dense_37/Relu'\nMatrix size-incompatible: In[0]: [1,960], In[1]: [225,350]\n\t [[{{node model_3/dense_37/Relu}}]] [Op:__inference_train_function_42066]",
     "output_type": "error",
     "traceback": [
      "\u001b[0;31m---------------------------------------------------------------------------\u001b[0m",
      "\u001b[0;31mInvalidArgumentError\u001b[0m                      Traceback (most recent call last)",
      "Cell \u001b[0;32mIn[94], line 1\u001b[0m\n\u001b[0;32m----> 1\u001b[0m history\u001b[38;5;241m=\u001b[39m\u001b[43mmodel\u001b[49m\u001b[38;5;241;43m.\u001b[39;49m\u001b[43mfit\u001b[49m\u001b[43m(\u001b[49m\n\u001b[1;32m      2\u001b[0m \u001b[43m        \u001b[49m\u001b[43mtraindata\u001b[49m\u001b[43m,\u001b[49m\n\u001b[1;32m      3\u001b[0m \u001b[43m        \u001b[49m\u001b[43mvalidation_data\u001b[49m\u001b[43m \u001b[49m\u001b[38;5;241;43m=\u001b[39;49m\u001b[43m \u001b[49m\u001b[43mvalidatedata\u001b[49m\u001b[43m,\u001b[49m\n\u001b[1;32m      4\u001b[0m \u001b[43m        \u001b[49m\u001b[43msteps_per_epoch\u001b[49m\u001b[43m \u001b[49m\u001b[38;5;241;43m=\u001b[39;49m\u001b[43m \u001b[49m\u001b[38;5;241;43m100\u001b[39;49m\u001b[43m,\u001b[49m\n\u001b[1;32m      5\u001b[0m \u001b[43m        \u001b[49m\u001b[43mepochs\u001b[49m\u001b[43m \u001b[49m\u001b[38;5;241;43m=\u001b[39;49m\u001b[43m \u001b[49m\u001b[38;5;241;43m100\u001b[39;49m\u001b[43m,\u001b[49m\n\u001b[1;32m      6\u001b[0m \u001b[43m        \u001b[49m\u001b[43mvalidation_steps\u001b[49m\u001b[43m \u001b[49m\u001b[38;5;241;43m=\u001b[39;49m\u001b[43m \u001b[49m\u001b[38;5;241;43m50\u001b[39;49m\u001b[43m,\u001b[49m\n\u001b[1;32m      7\u001b[0m \u001b[43m        \u001b[49m\u001b[43mverbose\u001b[49m\u001b[43m \u001b[49m\u001b[38;5;241;43m=\u001b[39;49m\u001b[43m \u001b[49m\u001b[38;5;241;43m2\u001b[39;49m\u001b[43m,\u001b[49m\n\u001b[1;32m      8\u001b[0m \u001b[43m        \u001b[49m\u001b[43mcallbacks\u001b[49m\u001b[38;5;241;43m=\u001b[39;49m\u001b[43m[\u001b[49m\u001b[43mlr_schedule\u001b[49m\u001b[43m]\u001b[49m\u001b[43m)\u001b[49m\n",
      "File \u001b[0;32m~/miniconda3/envs/ai310/lib/python3.10/site-packages/keras/utils/traceback_utils.py:70\u001b[0m, in \u001b[0;36mfilter_traceback.<locals>.error_handler\u001b[0;34m(*args, **kwargs)\u001b[0m\n\u001b[1;32m     67\u001b[0m     filtered_tb \u001b[38;5;241m=\u001b[39m _process_traceback_frames(e\u001b[38;5;241m.\u001b[39m__traceback__)\n\u001b[1;32m     68\u001b[0m     \u001b[38;5;66;03m# To get the full stack trace, call:\u001b[39;00m\n\u001b[1;32m     69\u001b[0m     \u001b[38;5;66;03m# `tf.debugging.disable_traceback_filtering()`\u001b[39;00m\n\u001b[0;32m---> 70\u001b[0m     \u001b[38;5;28;01mraise\u001b[39;00m e\u001b[38;5;241m.\u001b[39mwith_traceback(filtered_tb) \u001b[38;5;28;01mfrom\u001b[39;00m \u001b[38;5;28mNone\u001b[39m\n\u001b[1;32m     71\u001b[0m \u001b[38;5;28;01mfinally\u001b[39;00m:\n\u001b[1;32m     72\u001b[0m     \u001b[38;5;28;01mdel\u001b[39;00m filtered_tb\n",
      "File \u001b[0;32m~/miniconda3/envs/ai310/lib/python3.10/site-packages/tensorflow/python/eager/execute.py:52\u001b[0m, in \u001b[0;36mquick_execute\u001b[0;34m(op_name, num_outputs, inputs, attrs, ctx, name)\u001b[0m\n\u001b[1;32m     50\u001b[0m \u001b[38;5;28;01mtry\u001b[39;00m:\n\u001b[1;32m     51\u001b[0m   ctx\u001b[38;5;241m.\u001b[39mensure_initialized()\n\u001b[0;32m---> 52\u001b[0m   tensors \u001b[38;5;241m=\u001b[39m pywrap_tfe\u001b[38;5;241m.\u001b[39mTFE_Py_Execute(ctx\u001b[38;5;241m.\u001b[39m_handle, device_name, op_name,\n\u001b[1;32m     53\u001b[0m                                       inputs, attrs, num_outputs)\n\u001b[1;32m     54\u001b[0m \u001b[38;5;28;01mexcept\u001b[39;00m core\u001b[38;5;241m.\u001b[39m_NotOkStatusException \u001b[38;5;28;01mas\u001b[39;00m e:\n\u001b[1;32m     55\u001b[0m   \u001b[38;5;28;01mif\u001b[39;00m name \u001b[38;5;129;01mis\u001b[39;00m \u001b[38;5;129;01mnot\u001b[39;00m \u001b[38;5;28;01mNone\u001b[39;00m:\n",
      "\u001b[0;31mInvalidArgumentError\u001b[0m: Graph execution error:\n\nDetected at node 'model_3/dense_37/Relu' defined at (most recent call last):\n    File \"/home/aleks/miniconda3/envs/ai310/lib/python3.10/runpy.py\", line 196, in _run_module_as_main\n      return _run_code(code, main_globals, None,\n    File \"/home/aleks/miniconda3/envs/ai310/lib/python3.10/runpy.py\", line 86, in _run_code\n      exec(code, run_globals)\n    File \"/home/aleks/miniconda3/envs/ai310/lib/python3.10/site-packages/ipykernel_launcher.py\", line 17, in <module>\n      app.launch_new_instance()\n    File \"/home/aleks/miniconda3/envs/ai310/lib/python3.10/site-packages/traitlets/config/application.py\", line 1043, in launch_instance\n      app.start()\n    File \"/home/aleks/miniconda3/envs/ai310/lib/python3.10/site-packages/ipykernel/kernelapp.py\", line 728, in start\n      self.io_loop.start()\n    File \"/home/aleks/miniconda3/envs/ai310/lib/python3.10/site-packages/tornado/platform/asyncio.py\", line 215, in start\n      self.asyncio_loop.run_forever()\n    File \"/home/aleks/miniconda3/envs/ai310/lib/python3.10/asyncio/base_events.py\", line 603, in run_forever\n      self._run_once()\n    File \"/home/aleks/miniconda3/envs/ai310/lib/python3.10/asyncio/base_events.py\", line 1906, in _run_once\n      handle._run()\n    File \"/home/aleks/miniconda3/envs/ai310/lib/python3.10/asyncio/events.py\", line 80, in _run\n      self._context.run(self._callback, *self._args)\n    File \"/home/aleks/miniconda3/envs/ai310/lib/python3.10/site-packages/ipykernel/kernelbase.py\", line 513, in dispatch_queue\n      await self.process_one()\n    File \"/home/aleks/miniconda3/envs/ai310/lib/python3.10/site-packages/ipykernel/kernelbase.py\", line 502, in process_one\n      await dispatch(*args)\n    File \"/home/aleks/miniconda3/envs/ai310/lib/python3.10/site-packages/ipykernel/kernelbase.py\", line 409, in dispatch_shell\n      await result\n    File \"/home/aleks/miniconda3/envs/ai310/lib/python3.10/site-packages/ipykernel/kernelbase.py\", line 729, in execute_request\n      reply_content = await reply_content\n    File \"/home/aleks/miniconda3/envs/ai310/lib/python3.10/site-packages/ipykernel/ipkernel.py\", line 423, in do_execute\n      res = shell.run_cell(\n    File \"/home/aleks/miniconda3/envs/ai310/lib/python3.10/site-packages/ipykernel/zmqshell.py\", line 540, in run_cell\n      return super().run_cell(*args, **kwargs)\n    File \"/home/aleks/miniconda3/envs/ai310/lib/python3.10/site-packages/IPython/core/interactiveshell.py\", line 2945, in run_cell\n      result = self._run_cell(\n    File \"/home/aleks/miniconda3/envs/ai310/lib/python3.10/site-packages/IPython/core/interactiveshell.py\", line 3000, in _run_cell\n      return runner(coro)\n    File \"/home/aleks/miniconda3/envs/ai310/lib/python3.10/site-packages/IPython/core/async_helpers.py\", line 129, in _pseudo_sync_runner\n      coro.send(None)\n    File \"/home/aleks/miniconda3/envs/ai310/lib/python3.10/site-packages/IPython/core/interactiveshell.py\", line 3203, in run_cell_async\n      has_raised = await self.run_ast_nodes(code_ast.body, cell_name,\n    File \"/home/aleks/miniconda3/envs/ai310/lib/python3.10/site-packages/IPython/core/interactiveshell.py\", line 3382, in run_ast_nodes\n      if await self.run_code(code, result, async_=asy):\n    File \"/home/aleks/miniconda3/envs/ai310/lib/python3.10/site-packages/IPython/core/interactiveshell.py\", line 3442, in run_code\n      exec(code_obj, self.user_global_ns, self.user_ns)\n    File \"/tmp/ipykernel_438756/1506160658.py\", line 1, in <module>\n      history=model.fit(\n    File \"/home/aleks/miniconda3/envs/ai310/lib/python3.10/site-packages/keras/utils/traceback_utils.py\", line 65, in error_handler\n      return fn(*args, **kwargs)\n    File \"/home/aleks/miniconda3/envs/ai310/lib/python3.10/site-packages/keras/engine/training.py\", line 1650, in fit\n      tmp_logs = self.train_function(iterator)\n    File \"/home/aleks/miniconda3/envs/ai310/lib/python3.10/site-packages/keras/engine/training.py\", line 1249, in train_function\n      return step_function(self, iterator)\n    File \"/home/aleks/miniconda3/envs/ai310/lib/python3.10/site-packages/keras/engine/training.py\", line 1233, in step_function\n      outputs = model.distribute_strategy.run(run_step, args=(data,))\n    File \"/home/aleks/miniconda3/envs/ai310/lib/python3.10/site-packages/keras/engine/training.py\", line 1222, in run_step\n      outputs = model.train_step(data)\n    File \"/home/aleks/miniconda3/envs/ai310/lib/python3.10/site-packages/keras/engine/training.py\", line 1023, in train_step\n      y_pred = self(x, training=True)\n    File \"/home/aleks/miniconda3/envs/ai310/lib/python3.10/site-packages/keras/utils/traceback_utils.py\", line 65, in error_handler\n      return fn(*args, **kwargs)\n    File \"/home/aleks/miniconda3/envs/ai310/lib/python3.10/site-packages/keras/engine/training.py\", line 561, in __call__\n      return super().__call__(*args, **kwargs)\n    File \"/home/aleks/miniconda3/envs/ai310/lib/python3.10/site-packages/keras/utils/traceback_utils.py\", line 65, in error_handler\n      return fn(*args, **kwargs)\n    File \"/home/aleks/miniconda3/envs/ai310/lib/python3.10/site-packages/keras/engine/base_layer.py\", line 1132, in __call__\n      outputs = call_fn(inputs, *args, **kwargs)\n    File \"/home/aleks/miniconda3/envs/ai310/lib/python3.10/site-packages/keras/utils/traceback_utils.py\", line 96, in error_handler\n      return fn(*args, **kwargs)\n    File \"/home/aleks/miniconda3/envs/ai310/lib/python3.10/site-packages/keras/engine/functional.py\", line 511, in call\n      return self._run_internal_graph(inputs, training=training, mask=mask)\n    File \"/home/aleks/miniconda3/envs/ai310/lib/python3.10/site-packages/keras/engine/functional.py\", line 668, in _run_internal_graph\n      outputs = node.layer(*args, **kwargs)\n    File \"/home/aleks/miniconda3/envs/ai310/lib/python3.10/site-packages/keras/utils/traceback_utils.py\", line 65, in error_handler\n      return fn(*args, **kwargs)\n    File \"/home/aleks/miniconda3/envs/ai310/lib/python3.10/site-packages/keras/engine/base_layer.py\", line 1132, in __call__\n      outputs = call_fn(inputs, *args, **kwargs)\n    File \"/home/aleks/miniconda3/envs/ai310/lib/python3.10/site-packages/keras/utils/traceback_utils.py\", line 96, in error_handler\n      return fn(*args, **kwargs)\n    File \"/home/aleks/miniconda3/envs/ai310/lib/python3.10/site-packages/keras/layers/core/dense.py\", line 255, in call\n      outputs = self.activation(outputs)\n    File \"/home/aleks/miniconda3/envs/ai310/lib/python3.10/site-packages/keras/activations.py\", line 317, in relu\n      return backend.relu(\n    File \"/home/aleks/miniconda3/envs/ai310/lib/python3.10/site-packages/keras/backend.py\", line 5369, in relu\n      x = tf.nn.relu(x)\nNode: 'model_3/dense_37/Relu'\nMatrix size-incompatible: In[0]: [1,960], In[1]: [225,350]\n\t [[{{node model_3/dense_37/Relu}}]] [Op:__inference_train_function_42066]"
     ]
    }
   ],
   "source": [
    "history=model.fit(\n",
    "        traindata,\n",
    "        validation_data = validatedata,\n",
    "        steps_per_epoch = 100,\n",
    "        epochs = 100,\n",
    "        validation_steps = 50,\n",
    "        verbose = 2,\n",
    "        callbacks=[lr_schedule])"
   ]
  },
  {
   "cell_type": "code",
   "execution_count": 386,
   "metadata": {
    "ExecuteTime": {
     "end_time": "2023-02-12T05:23:37.809599Z",
     "start_time": "2023-02-12T05:23:37.599339Z"
    }
   },
   "outputs": [
    {
     "data": {
      "image/png": "[encoded data removed]",
      "text/plain": [
       "<Figure size 1000x600 with 1 Axes>"
      ]
     },
     "metadata": {},
     "output_type": "display_data"
    }
   ],
   "source": [
    "# Define the learning rate array\n",
    "lrs = 1e-8 * (10 ** (np.arange(100) / 20))\n",
    "\n",
    "# Set the figure size\n",
    "plt.figure(figsize=(10, 6))\n",
    "\n",
    "# Set the grid\n",
    "plt.grid(True)\n",
    "\n",
    "# Plot the loss in log scale\n",
    "plt.semilogx(lrs, history.history[\"loss\"])\n",
    "\n",
    "# Increase the tickmarks size\n",
    "plt.tick_params('both', length=10, width=1, which='both')\n",
    "\n",
    "# Set the plot boundaries\n",
    "#plt.axis([1e-8, 1e-3, 0, 300])"
   ]
  },
  {
   "cell_type": "code",
   "execution_count": 159,
   "metadata": {
    "ExecuteTime": {
     "end_time": "2023-02-10T22:38:25.760250Z",
     "start_time": "2023-02-10T22:38:25.758485Z"
    },
    "colab": {
     "base_uri": "https://localhost:8080/"
    },
    "executionInfo": {
     "elapsed": 683,
     "status": "ok",
     "timestamp": 1674723386245,
     "user": {
      "displayName": "Nelson Mganga",
      "userId": "15984282569117459010"
     },
     "user_tz": -180
    },
    "id": "61dZDV4Dmx-h",
    "outputId": "d27f2c70-ac67-4309-a9bb-3d0625213bbc"
   },
   "outputs": [],
   "source": [
    "# predict\n",
    "#pred_train = pipe.predict(train_images)\n",
    "\n",
    "# train mse error\n",
    "#mse = mean_squared_error(train_biomasses, pred_train) \n",
    "#mse\n",
    "#rmse = np.sqrt(mse)"
   ]
  },
  {
   "cell_type": "code",
   "execution_count": 19,
   "metadata": {
    "ExecuteTime": {
     "end_time": "2023-02-09T23:22:42.218443Z",
     "start_time": "2023-02-09T23:22:42.068209Z"
    },
    "colab": {
     "base_uri": "https://localhost:8080/"
    },
    "executionInfo": {
     "elapsed": 3,
     "status": "ok",
     "timestamp": 1674723386245,
     "user": {
      "displayName": "Nelson Mganga",
      "userId": "15984282569117459010"
     },
     "user_tz": -180
    },
    "id": "T17ZqXTop6DJ",
    "outputId": "c38c43a0-719d-477d-f241-5edf2dcc918b"
   },
   "outputs": [
    {
     "data": {
      "text/plain": [
       "3961.942859655493"
      ]
     },
     "execution_count": 19,
     "metadata": {},
     "output_type": "execute_result"
    }
   ],
   "source": [
    "# predict\n",
    "#pred_validate = pipe.predict(validate_images)\n",
    "\n",
    "#  validate mse error\n",
    "#mse = mean_squared_error(validate_biomasses, pred_validate) \n",
    "#mse\n",
    "#rmse = np.sqrt(mse)\n",
    "3961.942859655493"
   ]
  },
  {
   "cell_type": "markdown",
   "metadata": {
    "id": "MjL1gMrGqSwY"
   },
   "source": [
    "### Gridsearch"
   ]
  },
  {
   "cell_type": "markdown",
   "metadata": {
    "colab": {
     "base_uri": "https://localhost:8080/",
     "height": 70
    },
    "executionInfo": {
     "elapsed": 3,
     "status": "ok",
     "timestamp": 1674652238306,
     "user": {
      "displayName": "Nelson Mganga",
      "userId": "15984282569117459010"
     },
     "user_tz": -180
    },
    "id": "bZZ00__izp6T",
    "outputId": "a1919452-072f-4d52-bf9b-6c113589e490"
   },
   "source": [
    " Initiaze the hyperparameters for each dictionary\n",
    "param1 = {}\n",
    "param1['classifier'] = [LinearRegression()]\n",
    "\n",
    "param2 = {}\n",
    "param2['classifier__alpha'] = [0.1, 0.5, 1]\n",
    "param2['classifier'] = [Ridge()]\n",
    "\n",
    "param3 = {}\n",
    "param3['classifier__alpha'] = [0.1, 0.5, 1]\n",
    "param3['classifier'] = [Lasso()]\n",
    "\n",
    "param4 = {}\n",
    "param4['classifier__n_neighbors'] = [2,5,10,25,50]\n",
    "param4['classifier'] = [KNeighborsRegressor()]\n",
    "\n",
    "\"\"\"\n",
    "param5 = {}\n",
    "param5['classifier__C'] = [10**-2, 10**-1, 10**0, 10**1, 10**2]\n",
    "param5['classifier__epsilon'] = [0.0,0.2,0.5,1]\n",
    "param5['classifier'] = [LinearSVR()]\n",
    "\"\"\""
   ]
  },
  {
   "cell_type": "markdown",
   "metadata": {
    "id": "ptJz-yeCNYzM"
   },
   "source": [
    "pipeline = pipe = Pipeline(steps=[(\"scaler\", CustomScaler(MEAN,STD)),\n",
    "                       (\"flatten\", FlattenTransformer()),\n",
    "                       (\"classifier\", LinearRegression())])\n",
    "params = [param1, param2, param3, param4] # param5\n"
   ]
  },
  {
   "cell_type": "markdown",
   "metadata": {
    "id": "f3NqYDHctRC5"
   },
   "source": [
    " Train the grid search model\n",
    "grid_search = GridSearchCV(pipeline, params, cv=3, scoring='neg_mean_squared_error').fit(train_images,train_biomasses)"
   ]
  },
  {
   "cell_type": "markdown",
   "metadata": {
    "ExecuteTime": {
     "end_time": "2023-02-10T22:22:37.938405Z",
     "start_time": "2023-02-10T22:22:37.930388Z"
    },
    "id": "GKM3uy2Cth2W"
   },
   "source": [
    " Best performing model and its corresponding hyperparameters\n",
    "grid_search.best_params_"
   ]
  },
  {
   "cell_type": "markdown",
   "metadata": {
    "id": "Ohdx1LKttk2y"
   },
   "source": [
    "model = grid_search.best_estimator_\n",
    " predict\n",
    "pred = model.predict(train_images)\n",
    "\n",
    " validate mse error\n",
    "mse = mean_squared_error(train_biomasses, pred) \n",
    "rmse = np.sqrt(mse)\n",
    "\n",
    "print(mse, rmse)\n",
    "\n",
    "model = grid_search.best_estimator_\n",
    " predict\n",
    "pred = model.predict(validate_images)\n",
    "\n",
    " validate mse error\n",
    "mse = mean_squared_error(validate_biomasses, pred) \n",
    "rmse = np.sqrt(mse)\n",
    "\n",
    "print(mse, rmse)"
   ]
  },
  {
   "cell_type": "markdown",
   "metadata": {
    "id": "pdAypOP5BkR_"
   },
   "source": [
    "### Predict GIZ Biomass"
   ]
  },
  {
   "cell_type": "code",
   "execution_count": 34,
   "metadata": {
    "ExecuteTime": {
     "end_time": "2023-02-11T09:32:02.402841Z",
     "start_time": "2023-02-11T09:32:02.397911Z"
    },
    "executionInfo": {
     "elapsed": 416,
     "status": "ok",
     "timestamp": 1674723578973,
     "user": {
      "displayName": "Nelson Mganga",
      "userId": "15984282569117459010"
     },
     "user_tz": -180
    },
    "id": "5LDX4p2XBoz2"
   },
   "outputs": [],
   "source": [
    "s2_images_h5 = h5py.File(\"./data/images_test.h5\", \"r\")"
   ]
  },
  {
   "cell_type": "code",
   "execution_count": 353,
   "metadata": {
    "ExecuteTime": {
     "end_time": "2023-02-12T05:11:53.396960Z",
     "start_time": "2023-02-12T05:11:53.349582Z"
    }
   },
   "outputs": [
    {
     "data": {
      "text/plain": [
       "<tensorflow.python.checkpoint.checkpoint.CheckpointLoadStatus at 0x7f652a14c970>"
      ]
     },
     "execution_count": 353,
     "metadata": {},
     "output_type": "execute_result"
    }
   ],
   "source": [
    "model.load_weights(checkpoint_filepath)\n"
   ]
  },
  {
   "cell_type": "code",
   "execution_count": 354,
   "metadata": {
    "ExecuteTime": {
     "end_time": "2023-02-12T05:11:56.544471Z",
     "start_time": "2023-02-12T05:11:56.539709Z"
    },
    "executionInfo": {
     "elapsed": 1,
     "status": "ok",
     "timestamp": 1674723580772,
     "user": {
      "displayName": "Nelson Mganga",
      "userId": "15984282569117459010"
     },
     "user_tz": -180
    },
    "id": "PG3shy0oDS4A"
   },
   "outputs": [],
   "source": [
    "#prepare test set sentinel 2 images \n",
    "s2_images = np.array(s2_images_h5[\"images\"])\n",
    "s2_images = s2_images.transpose(0,3,1,2)"
   ]
  },
  {
   "cell_type": "code",
   "execution_count": null,
   "metadata": {},
   "outputs": [],
   "source": []
  },
  {
   "cell_type": "code",
   "execution_count": 359,
   "metadata": {
    "ExecuteTime": {
     "end_time": "2023-02-12T05:15:00.638977Z",
     "start_time": "2023-02-12T05:15:00.204297Z"
    }
   },
   "outputs": [
    {
     "name": "stdout",
     "output_type": "stream",
     "text": [
      "162/162 [==============================] - 0s 2ms/step - loss: 55.5383 - root_mean_squared_error: 63.4614\n"
     ]
    },
    {
     "data": {
      "text/plain": [
       "(55.538299560546875, 63.46144485473633)"
      ]
     },
     "execution_count": 359,
     "metadata": {},
     "output_type": "execute_result"
    }
   ],
   "source": [
    "loss_eval, rmse_eval=model.evaluate(valgen)\n",
    "loss_eval, rmse_eval\n"
   ]
  },
  {
   "cell_type": "code",
   "execution_count": 360,
   "metadata": {
    "ExecuteTime": {
     "end_time": "2023-02-12T05:15:03.924106Z",
     "start_time": "2023-02-12T05:15:03.920301Z"
    }
   },
   "outputs": [
    {
     "data": {
      "text/plain": [
       "['loss', 'root_mean_squared_error']"
      ]
     },
     "execution_count": 360,
     "metadata": {},
     "output_type": "execute_result"
    }
   ],
   "source": [
    "model.metrics_names "
   ]
  },
  {
   "cell_type": "code",
   "execution_count": null,
   "metadata": {},
   "outputs": [],
   "source": []
  },
  {
   "cell_type": "code",
   "execution_count": 361,
   "metadata": {
    "ExecuteTime": {
     "end_time": "2023-02-12T05:15:05.356925Z",
     "start_time": "2023-02-12T05:15:05.277693Z"
    },
    "executionInfo": {
     "elapsed": 2,
     "status": "ok",
     "timestamp": 1674723582520,
     "user": {
      "displayName": "Nelson Mganga",
      "userId": "15984282569117459010"
     },
     "user_tz": -180
    },
    "id": "F5uan3E8DpEU"
   },
   "outputs": [
    {
     "name": "stdout",
     "output_type": "stream",
     "text": [
      "3/3 [==============================] - 0s 3ms/step\n"
     ]
    },
    {
     "data": {
      "text/plain": [
       "(90, 1)"
      ]
     },
     "execution_count": 361,
     "metadata": {},
     "output_type": "execute_result"
    }
   ],
   "source": [
    "# predict on giz test data\n",
    "pred_giz = model.predict(s2_images)\n",
    "pred_giz.shape"
   ]
  },
  {
   "cell_type": "code",
   "execution_count": 362,
   "metadata": {
    "ExecuteTime": {
     "end_time": "2023-02-12T05:15:08.241713Z",
     "start_time": "2023-02-12T05:15:08.238235Z"
    }
   },
   "outputs": [
    {
     "data": {
      "text/plain": [
       "70.36585"
      ]
     },
     "execution_count": 362,
     "metadata": {},
     "output_type": "execute_result"
    }
   ],
   "source": [
    "pred_giz.max()"
   ]
  },
  {
   "cell_type": "code",
   "execution_count": 363,
   "metadata": {
    "ExecuteTime": {
     "end_time": "2023-02-12T05:15:09.543430Z",
     "start_time": "2023-02-12T05:15:09.540209Z"
    }
   },
   "outputs": [],
   "source": [
    "pred_giz=pred_giz.reshape(1,-1)[0]"
   ]
  },
  {
   "cell_type": "code",
   "execution_count": 364,
   "metadata": {
    "ExecuteTime": {
     "end_time": "2023-02-12T05:15:10.417416Z",
     "start_time": "2023-02-12T05:15:10.411078Z"
    },
    "executionInfo": {
     "elapsed": 427,
     "status": "ok",
     "timestamp": 1674723586040,
     "user": {
      "displayName": "Nelson Mganga",
      "userId": "15984282569117459010"
     },
     "user_tz": -180
    },
    "id": "WD4IyJWvGgzo"
   },
   "outputs": [],
   "source": [
    "ID_S2_pair = pd.read_csv('./data/UniqueID-SentinelPair.csv')\n",
    "\n",
    "preds = pd.DataFrame({'Target':pred_giz}).rename_axis('S2_idx').reset_index()\n",
    "preds = ID_S2_pair.merge(preds, on='S2_idx').drop(columns=['S2_idx'])"
   ]
  },
  {
   "cell_type": "code",
   "execution_count": 365,
   "metadata": {
    "ExecuteTime": {
     "end_time": "2023-02-12T05:15:12.570467Z",
     "start_time": "2023-02-12T05:15:12.566335Z"
    },
    "executionInfo": {
     "elapsed": 450,
     "status": "ok",
     "timestamp": 1674723608727,
     "user": {
      "displayName": "Nelson Mganga",
      "userId": "15984282569117459010"
     },
     "user_tz": -180
    },
    "id": "_zMlJsmG-rMO"
   },
   "outputs": [],
   "source": [
    "\n",
    "preds.to_csv(f'GIZ_Biomass_predictions_{rmse_eval}.csv', index=False)"
   ]
  },
  {
   "cell_type": "code",
   "execution_count": 366,
   "metadata": {
    "ExecuteTime": {
     "end_time": "2023-02-12T05:15:13.380195Z",
     "start_time": "2023-02-12T05:15:13.373409Z"
    },
    "colab": {
     "base_uri": "https://localhost:8080/",
     "height": 424
    },
    "executionInfo": {
     "elapsed": 524,
     "status": "ok",
     "timestamp": 1674723601203,
     "user": {
      "displayName": "Nelson Mganga",
      "userId": "15984282569117459010"
     },
     "user_tz": -180
    },
    "id": "9AYlcFAhTiHi",
    "outputId": "e7363c71-f2fa-4b7b-add6-945aa96ad803"
   },
   "outputs": [
    {
     "data": {
      "text/html": [
       "<div>\n",
       "<style scoped>\n",
       "    .dataframe tbody tr th:only-of-type {\n",
       "        vertical-align: middle;\n",
       "    }\n",
       "\n",
       "    .dataframe tbody tr th {\n",
       "        vertical-align: top;\n",
       "    }\n",
       "\n",
       "    .dataframe thead th {\n",
       "        text-align: right;\n",
       "    }\n",
       "</style>\n",
       "<table border=\"1\" class=\"dataframe\">\n",
       "  <thead>\n",
       "    <tr style=\"text-align: right;\">\n",
       "      <th></th>\n",
       "      <th>ID</th>\n",
       "      <th>Target</th>\n",
       "    </tr>\n",
       "  </thead>\n",
       "  <tbody>\n",
       "    <tr>\n",
       "      <th>0</th>\n",
       "      <td>ID_1EB0DGFP07</td>\n",
       "      <td>23.167353</td>\n",
       "    </tr>\n",
       "    <tr>\n",
       "      <th>1</th>\n",
       "      <td>ID_844T2PSXTK</td>\n",
       "      <td>33.719292</td>\n",
       "    </tr>\n",
       "    <tr>\n",
       "      <th>2</th>\n",
       "      <td>ID_4MCV3S8MLN</td>\n",
       "      <td>41.016182</td>\n",
       "    </tr>\n",
       "    <tr>\n",
       "      <th>3</th>\n",
       "      <td>ID_L7441JV5F3</td>\n",
       "      <td>33.523708</td>\n",
       "    </tr>\n",
       "    <tr>\n",
       "      <th>4</th>\n",
       "      <td>ID_5GUVM4YEWZ</td>\n",
       "      <td>34.842506</td>\n",
       "    </tr>\n",
       "    <tr>\n",
       "      <th>...</th>\n",
       "      <td>...</td>\n",
       "      <td>...</td>\n",
       "    </tr>\n",
       "    <tr>\n",
       "      <th>85</th>\n",
       "      <td>ID_MEW6189J1B</td>\n",
       "      <td>52.253662</td>\n",
       "    </tr>\n",
       "    <tr>\n",
       "      <th>86</th>\n",
       "      <td>ID_TH9HRUXGTP</td>\n",
       "      <td>40.414333</td>\n",
       "    </tr>\n",
       "    <tr>\n",
       "      <th>87</th>\n",
       "      <td>ID_GPC7YS3JG8</td>\n",
       "      <td>45.949684</td>\n",
       "    </tr>\n",
       "    <tr>\n",
       "      <th>88</th>\n",
       "      <td>ID_1P7PJMPV0R</td>\n",
       "      <td>32.125221</td>\n",
       "    </tr>\n",
       "    <tr>\n",
       "      <th>89</th>\n",
       "      <td>ID_NTFSOIOEOG</td>\n",
       "      <td>48.449558</td>\n",
       "    </tr>\n",
       "  </tbody>\n",
       "</table>\n",
       "<p>90 rows × 2 columns</p>\n",
       "</div>"
      ],
      "text/plain": [
       "               ID     Target\n",
       "0   ID_1EB0DGFP07  23.167353\n",
       "1   ID_844T2PSXTK  33.719292\n",
       "2   ID_4MCV3S8MLN  41.016182\n",
       "3   ID_L7441JV5F3  33.523708\n",
       "4   ID_5GUVM4YEWZ  34.842506\n",
       "..            ...        ...\n",
       "85  ID_MEW6189J1B  52.253662\n",
       "86  ID_TH9HRUXGTP  40.414333\n",
       "87  ID_GPC7YS3JG8  45.949684\n",
       "88  ID_1P7PJMPV0R  32.125221\n",
       "89  ID_NTFSOIOEOG  48.449558\n",
       "\n",
       "[90 rows x 2 columns]"
      ]
     },
     "execution_count": 366,
     "metadata": {},
     "output_type": "execute_result"
    }
   ],
   "source": [
    "preds"
   ]
  },
  {
   "cell_type": "code",
   "execution_count": null,
   "metadata": {},
   "outputs": [],
   "source": []
  }
 ],
 "metadata": {
  "colab": {
   "authorship_tag": "ABX9TyOihXjq07msZbeQcKWpSf4h",
   "mount_file_id": "1A8QpZiR1T7BX1Re4gixSxA2ju6cXFn4s",
   "provenance": []
  },
  "kernelspec": {
   "display_name": "Python 3 (ipykernel)",
   "language": "python",
   "name": "python3"
  },
  "language_info": {
   "codemirror_mode": {
    "name": "ipython",
    "version": 3
   },
   "file_extension": ".py",
   "mimetype": "text/x-python",
   "name": "python",
   "nbconvert_exporter": "python",
   "pygments_lexer": "ipython3",
   "version": "3.10.9"
  },
  "toc": {
   "base_numbering": 1,
   "nav_menu": {},
   "number_sections": true,
   "sideBar": true,
   "skip_h1_title": false,
   "title_cell": "Table of Contents",
   "title_sidebar": "Contents",
   "toc_cell": true,
   "toc_position": {},
   "toc_section_display": true,
   "toc_window_display": true
  }
 },
 "nbformat": 4,
 "nbformat_minor": 1
}
