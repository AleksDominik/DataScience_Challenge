{
 "cells": [
  {
   "cell_type": "markdown",
   "metadata": {
    "toc": true
   },
   "source": [
    "<h1>Table of Contents<span class=\"tocSkip\"></span></h1>\n",
    "<div class=\"toc\"><ul class=\"toc-item\"><li><span><a href=\"#Images-Extractions\" data-toc-modified-id=\"Images-Extractions-1\"><span class=\"toc-item-num\">1&nbsp;&nbsp;</span>Images Extractions</a></span><ul class=\"toc-item\"><li><span><a href=\"#Explore-datasets\" data-toc-modified-id=\"Explore-datasets-1.1\"><span class=\"toc-item-num\">1.1&nbsp;&nbsp;</span>Explore datasets</a></span></li><li><span><a href=\"#Some-visulizations\" data-toc-modified-id=\"Some-visulizations-1.2\"><span class=\"toc-item-num\">1.2&nbsp;&nbsp;</span>Some visulizations</a></span></li></ul></li><li><span><a href=\"#First-Baseline-With-Sklearn\" data-toc-modified-id=\"First-Baseline-With-Sklearn-2\"><span class=\"toc-item-num\">2&nbsp;&nbsp;</span>First Baseline With Sklearn</a></span><ul class=\"toc-item\"><li><span><a href=\"#Modelisation\" data-toc-modified-id=\"Modelisation-2.1\"><span class=\"toc-item-num\">2.1&nbsp;&nbsp;</span>Modelisation</a></span></li><li><span><a href=\"#convert-To-tensor-Dataset\" data-toc-modified-id=\"convert-To-tensor-Dataset-2.2\"><span class=\"toc-item-num\">2.2&nbsp;&nbsp;</span>convert To tensor Dataset</a></span><ul class=\"toc-item\"><li><span><a href=\"#Gridsearch\" data-toc-modified-id=\"Gridsearch-2.2.1\"><span class=\"toc-item-num\">2.2.1&nbsp;&nbsp;</span>Gridsearch</a></span></li><li><span><a href=\"#Predict-GIZ-Biomass\" data-toc-modified-id=\"Predict-GIZ-Biomass-2.2.2\"><span class=\"toc-item-num\">2.2.2&nbsp;&nbsp;</span>Predict GIZ Biomass</a></span></li></ul></li></ul></li></ul></div>"
   ]
  },
  {
   "cell_type": "markdown",
   "metadata": {
    "id": "28R01eNOra9X"
   },
   "source": [
    "In this notebook, we will show you the differents steps to train step by step dly your model in this competition."
   ]
  },
  {
   "cell_type": "markdown",
   "metadata": {
    "id": "BiF5fKp2Qv1d"
   },
   "source": [
    "# Images Extractions"
   ]
  },
  {
   "cell_type": "code",
   "execution_count": 262,
   "metadata": {
    "ExecuteTime": {
     "end_time": "2023-03-02T21:23:44.444387Z",
     "start_time": "2023-03-02T21:23:44.441057Z"
    },
    "executionInfo": {
     "elapsed": 662,
     "status": "ok",
     "timestamp": 1674723307296,
     "user": {
      "displayName": "Nelson Mganga",
      "userId": "15984282569117459010"
     },
     "user_tz": -180
    },
    "id": "ghyAh0w20yIH"
   },
   "outputs": [],
   "source": [
    "import h5py\n",
    "import matplotlib.pyplot as plt\n",
    "import pandas as pd\n",
    "import numpy as np\n",
    "import warnings\n",
    "import tensorflow as tf\n",
    "warnings.filterwarnings('ignore')"
   ]
  },
  {
   "cell_type": "code",
   "execution_count": 263,
   "metadata": {
    "ExecuteTime": {
     "end_time": "2023-03-02T21:23:47.315952Z",
     "start_time": "2023-03-02T21:23:47.313588Z"
    },
    "executionInfo": {
     "elapsed": 15503,
     "status": "ok",
     "timestamp": 1674723322797,
     "user": {
      "displayName": "Nelson Mganga",
      "userId": "15984282569117459010"
     },
     "user_tz": -180
    },
    "id": "FSbBd9XiQ5q5"
   },
   "outputs": [],
   "source": [
    "#!wget -q  https://share.phys.ethz.ch/~pf/albecker/abc/09072022_1154_train.h5\n",
    "#!wget -q  https://share.phys.ethz.ch/~pf/albecker/abc/09072022_1154_val.h5\n",
    "#!wget -q https://share.phys.ethz.ch/~pf/albecker/abc/09072022_1154_test.h5"
   ]
  },
  {
   "cell_type": "code",
   "execution_count": 264,
   "metadata": {
    "ExecuteTime": {
     "end_time": "2023-03-02T21:23:47.849679Z",
     "start_time": "2023-03-02T21:23:47.833254Z"
    },
    "executionInfo": {
     "elapsed": 7,
     "status": "ok",
     "timestamp": 1674723322798,
     "user": {
      "displayName": "Nelson Mganga",
      "userId": "15984282569117459010"
     },
     "user_tz": -180
    },
    "id": "k3ZQRlZOQ65B"
   },
   "outputs": [],
   "source": [
    "trainset = h5py.File(\"./data/09072022_1154_train.h5\", \"r\")\n",
    "validateset = h5py.File(\"./data/09072022_1154_val.h5\", \"r\")\n",
    "testset = h5py.File(\"./data/09072022_1154_test.h5\", \"r\")"
   ]
  },
  {
   "cell_type": "code",
   "execution_count": 265,
   "metadata": {
    "ExecuteTime": {
     "end_time": "2023-03-02T21:23:48.042030Z",
     "start_time": "2023-03-02T21:23:48.034032Z"
    },
    "colab": {
     "base_uri": "https://localhost:8080/"
    },
    "executionInfo": {
     "elapsed": 6,
     "status": "ok",
     "timestamp": 1674723322798,
     "user": {
      "displayName": "Nelson Mganga",
      "userId": "15984282569117459010"
     },
     "user_tz": -180
    },
    "id": "sQnKRSw9RDu6",
    "outputId": "3db2d7d8-aee9-4a1a-a8a2-bcf59fff71ee"
   },
   "outputs": [
    {
     "data": {
      "text/plain": [
       "<KeysViewHDF5 ['agbd', 'cloud', 'images', 'lat', 'lon', 'scl']>"
      ]
     },
     "execution_count": 265,
     "metadata": {},
     "output_type": "execute_result"
    }
   ],
   "source": [
    "# attributes of trainset\n",
    "trainset.keys()"
   ]
  },
  {
   "cell_type": "code",
   "execution_count": 266,
   "metadata": {
    "ExecuteTime": {
     "end_time": "2023-03-02T21:23:48.281175Z",
     "start_time": "2023-03-02T21:23:48.252299Z"
    }
   },
   "outputs": [
    {
     "data": {
      "text/plain": [
       "10"
      ]
     },
     "execution_count": 266,
     "metadata": {},
     "output_type": "execute_result"
    }
   ],
   "source": [
    "np.array(trainset['scl']).max()"
   ]
  },
  {
   "cell_type": "code",
   "execution_count": null,
   "metadata": {
    "ExecuteTime": {
     "end_time": "2023-02-17T23:53:32.322214Z",
     "start_time": "2023-02-17T23:53:32.318000Z"
    }
   },
   "outputs": [],
   "source": []
  },
  {
   "cell_type": "markdown",
   "metadata": {
    "id": "2rKhoGtGR1Xu"
   },
   "source": [
    "## Explore datasets"
   ]
  },
  {
   "cell_type": "code",
   "execution_count": 267,
   "metadata": {
    "ExecuteTime": {
     "end_time": "2023-03-02T21:23:51.313252Z",
     "start_time": "2023-03-02T21:23:50.728992Z"
    },
    "executionInfo": {
     "elapsed": 1089,
     "status": "ok",
     "timestamp": 1674723355639,
     "user": {
      "displayName": "Nelson Mganga",
      "userId": "15984282569117459010"
     },
     "user_tz": -180
    },
    "id": "YgOvKhevSGNV"
   },
   "outputs": [],
   "source": [
    "# train\n",
    "train_images = np.array(trainset['images'],dtype=np.float64)\n",
    "train_images = train_images.transpose(0,3,1,2)\n",
    "\n",
    "train_lat = np.array(trainset['lat'],dtype=np.float64)\n",
    "train_lon = np.array(trainset['lon'],dtype=np.float64)\n",
    "train_cloud = np.array(trainset['cloud'],dtype=np.float64)\n",
    "\n",
    "\n",
    "train_biomasses = np.array(trainset['agbd'],dtype=np.float64)\n",
    "\n",
    "# validate\n",
    "validate_images = np.array(validateset['images'],dtype=np.float64)\n",
    "validate_images = validate_images.transpose(0,3,1,2)\n",
    "\n",
    "validate_lat = np.array(validateset['lat'],dtype=np.float64)\n",
    "validate_lon = np.array(validateset['lon'],dtype=np.float64)\n",
    "validate_cloud = np.array(validateset['cloud'],dtype=np.float64)\n",
    "\n",
    "\n",
    "validate_biomasses = np.array(validateset['agbd'],dtype=np.float64)\n",
    "\n",
    "# test \n",
    "test_images = np.array(testset['images'],dtype=np.float32)\n",
    "test_images = test_images.transpose(0,3,1,2)\n",
    "test_lat = np.array(testset['lat'],dtype=np.float64)\n",
    "test_lon = np.array(testset['lon'],dtype=np.float64)\n",
    "test_cloud = np.array(testset['cloud'],dtype=np.float64)\n",
    "\n",
    "\n",
    "test_biomasses = np.array(testset['agbd'],dtype=np.float32)"
   ]
  },
  {
   "cell_type": "code",
   "execution_count": 268,
   "metadata": {
    "ExecuteTime": {
     "end_time": "2023-03-02T21:23:51.356317Z",
     "start_time": "2023-03-02T21:23:51.353850Z"
    },
    "colab": {
     "base_uri": "https://localhost:8080/"
    },
    "executionInfo": {
     "elapsed": 2,
     "status": "ok",
     "timestamp": 1674723355639,
     "user": {
      "displayName": "Nelson Mganga",
      "userId": "15984282569117459010"
     },
     "user_tz": -180
    },
    "id": "Ps-9IeIgSJ4w",
    "outputId": "8ed5a021-0c63-4eab-b4ac-1095c4158ee6"
   },
   "outputs": [
    {
     "name": "stdout",
     "output_type": "stream",
     "text": [
      "train dataset size (25036, 12, 15, 15) train lab size (25036,)\n",
      "\n",
      "validate dataset size (5174, 12, 15, 15) validate lab size (5174,)\n",
      "\n",
      "test dataset size (5190, 12, 15, 15) test lab size (5190,)\n"
     ]
    }
   ],
   "source": [
    "print(f\"train dataset size {train_images.shape} train lab size {train_biomasses.shape}\")\n",
    "print()\n",
    "print(f\"validate dataset size {validate_images.shape} validate lab size {validate_biomasses.shape}\")\n",
    "print()\n",
    "print(f\"test dataset size {test_images.shape} test lab size {test_biomasses.shape}\")"
   ]
  },
  {
   "cell_type": "code",
   "execution_count": 269,
   "metadata": {
    "ExecuteTime": {
     "end_time": "2023-03-02T21:23:51.734828Z",
     "start_time": "2023-03-02T21:23:51.627841Z"
    }
   },
   "outputs": [
    {
     "data": {
      "text/plain": [
       "<AxesSubplot: ylabel='Frequency'>"
      ]
     },
     "execution_count": 269,
     "metadata": {},
     "output_type": "execute_result"
    },
    {
     "data": {
      "image/png": "[encoded data removed]",
      "text/plain": [
       "<Figure size 640x480 with 1 Axes>"
      ]
     },
     "metadata": {},
     "output_type": "display_data"
    }
   ],
   "source": [
    "pd.Series(train_biomasses).plot(kind='hist')"
   ]
  },
  {
   "cell_type": "markdown",
   "metadata": {
    "id": "zNdh9lMISRdZ"
   },
   "source": [
    "##  Some visulizations"
   ]
  },
  {
   "cell_type": "code",
   "execution_count": 270,
   "metadata": {
    "ExecuteTime": {
     "end_time": "2023-03-02T21:23:53.527163Z",
     "start_time": "2023-03-02T21:23:53.523365Z"
    }
   },
   "outputs": [
    {
     "data": {
      "text/plain": [
       "array([[0., 0., 0., ..., 0., 0., 0.],\n",
       "       [0., 0., 0., ..., 0., 0., 0.],\n",
       "       [0., 0., 0., ..., 0., 0., 0.],\n",
       "       ...,\n",
       "       [0., 0., 0., ..., 0., 0., 0.],\n",
       "       [0., 1., 2., ..., 0., 0., 0.],\n",
       "       [0., 0., 0., ..., 0., 0., 0.]])"
      ]
     },
     "execution_count": 270,
     "metadata": {},
     "output_type": "execute_result"
    }
   ],
   "source": [
    "train_cloud[:,:,:].reshape((-1,225))"
   ]
  },
  {
   "cell_type": "code",
   "execution_count": 271,
   "metadata": {
    "ExecuteTime": {
     "end_time": "2023-03-02T21:23:53.798883Z",
     "start_time": "2023-03-02T21:23:53.702806Z"
    },
    "colab": {
     "base_uri": "https://localhost:8080/",
     "height": 282
    },
    "executionInfo": {
     "elapsed": 482,
     "status": "ok",
     "timestamp": 1674723358203,
     "user": {
      "displayName": "Nelson Mganga",
      "userId": "15984282569117459010"
     },
     "user_tz": -180
    },
    "id": "fp5UpiavSMqn",
    "outputId": "84eb860f-78fe-4dbb-9da2-ed65b0ece40d"
   },
   "outputs": [
    {
     "data": {
      "text/plain": [
       "<matplotlib.image.AxesImage at 0x7fee61cf37f0>"
      ]
     },
     "execution_count": 271,
     "metadata": {},
     "output_type": "execute_result"
    },
    {
     "data": {
      "image/png": "[encoded data removed]",
      "text/plain": [
       "<Figure size 640x480 with 1 Axes>"
      ]
     },
     "metadata": {},
     "output_type": "display_data"
    }
   ],
   "source": [
    "plt.imshow(train_images[1,1,:,:])"
   ]
  },
  {
   "cell_type": "code",
   "execution_count": 272,
   "metadata": {
    "ExecuteTime": {
     "end_time": "2023-03-02T21:23:56.068818Z",
     "start_time": "2023-03-02T21:23:55.332937Z"
    },
    "scrolled": false
   },
   "outputs": [
    {
     "data": {
      "image/png": "[encoded data removed]",
      "text/plain": [
       "<Figure size 640x480 with 1 Axes>"
      ]
     },
     "metadata": {},
     "output_type": "display_data"
    },
    {
     "data": {
      "image/png": "[encoded data removed]",
      "text/plain": [
       "<Figure size 640x480 with 1 Axes>"
      ]
     },
     "metadata": {},
     "output_type": "display_data"
    },
    {
     "data": {
      "image/png": "[encoded data removed]",
      "text/plain": [
       "<Figure size 640x480 with 1 Axes>"
      ]
     },
     "metadata": {},
     "output_type": "display_data"
    },
    {
     "data": {
      "image/png": "[encoded data removed]",
      "text/plain": [
       "<Figure size 640x480 with 1 Axes>"
      ]
     },
     "metadata": {},
     "output_type": "display_data"
    },
    {
     "data": {
      "image/png": "[encoded data removed]",
      "text/plain": [
       "<Figure size 640x480 with 1 Axes>"
      ]
     },
     "metadata": {},
     "output_type": "display_data"
    },
    {
     "data": {
      "image/png": "[encoded data removed]",
      "text/plain": [
       "<Figure size 640x480 with 1 Axes>"
      ]
     },
     "metadata": {},
     "output_type": "display_data"
    },
    {
     "data": {
      "image/png": "[encoded data removed]",
      "text/plain": [
       "<Figure size 640x480 with 1 Axes>"
      ]
     },
     "metadata": {},
     "output_type": "display_data"
    },
    {
     "data": {
      "image/png": "[encoded data removed]",
      "text/plain": [
       "<Figure size 640x480 with 1 Axes>"
      ]
     },
     "metadata": {},
     "output_type": "display_data"
    },
    {
     "data": {
      "image/png": "[encoded data removed]",
      "text/plain": [
       "<Figure size 640x480 with 1 Axes>"
      ]
     },
     "metadata": {},
     "output_type": "display_data"
    },
    {
     "data": {
      "image/png": "[encoded data removed]",
      "text/plain": [
       "<Figure size 640x480 with 1 Axes>"
      ]
     },
     "metadata": {},
     "output_type": "display_data"
    },
    {
     "data": {
      "image/png": "[encoded data removed]",
      "text/plain": [
       "<Figure size 640x480 with 1 Axes>"
      ]
     },
     "metadata": {},
     "output_type": "display_data"
    },
    {
     "data": {
      "image/png": "[encoded data removed]",
      "text/plain": [
       "<Figure size 640x480 with 1 Axes>"
      ]
     },
     "metadata": {},
     "output_type": "display_data"
    }
   ],
   "source": [
    "for k in range(12):\n",
    "    plt.imshow(train_images[1,k,:,:])\n",
    "    plt.show()"
   ]
  },
  {
   "cell_type": "code",
   "execution_count": 273,
   "metadata": {
    "ExecuteTime": {
     "end_time": "2023-03-02T21:23:56.073041Z",
     "start_time": "2023-03-02T21:23:56.070107Z"
    },
    "colab": {
     "base_uri": "https://localhost:8080/"
    },
    "executionInfo": {
     "elapsed": 5,
     "status": "ok",
     "timestamp": 1674723358203,
     "user": {
      "displayName": "Nelson Mganga",
      "userId": "15984282569117459010"
     },
     "user_tz": -180
    },
    "id": "TAFde--LSZR5",
    "outputId": "945db10c-44b5-48a2-e4d8-e0de199362d6"
   },
   "outputs": [
    {
     "data": {
      "text/plain": [
       "99.10187530517578"
      ]
     },
     "execution_count": 273,
     "metadata": {},
     "output_type": "execute_result"
    }
   ],
   "source": [
    "train_biomasses[1]"
   ]
  },
  {
   "cell_type": "code",
   "execution_count": 274,
   "metadata": {
    "ExecuteTime": {
     "end_time": "2023-03-02T21:23:56.119620Z",
     "start_time": "2023-03-02T21:23:56.115694Z"
    }
   },
   "outputs": [
    {
     "data": {
      "text/plain": [
       "(25036, 12, 15, 15)"
      ]
     },
     "execution_count": 274,
     "metadata": {},
     "output_type": "execute_result"
    }
   ],
   "source": [
    "train_images.shape"
   ]
  },
  {
   "cell_type": "code",
   "execution_count": 275,
   "metadata": {
    "ExecuteTime": {
     "end_time": "2023-03-02T21:23:58.070907Z",
     "start_time": "2023-03-02T21:23:58.066959Z"
    }
   },
   "outputs": [
    {
     "data": {
      "text/plain": [
       "(25036, 15, 15)"
      ]
     },
     "execution_count": 275,
     "metadata": {},
     "output_type": "execute_result"
    }
   ],
   "source": [
    "train_images[:,2].shape"
   ]
  },
  {
   "cell_type": "code",
   "execution_count": 276,
   "metadata": {
    "ExecuteTime": {
     "end_time": "2023-03-02T21:23:58.243197Z",
     "start_time": "2023-03-02T21:23:58.239620Z"
    }
   },
   "outputs": [
    {
     "data": {
      "text/plain": [
       "(15, 15, 1)"
      ]
     },
     "execution_count": 276,
     "metadata": {},
     "output_type": "execute_result"
    }
   ],
   "source": [
    "train_cloud[0].shape"
   ]
  },
  {
   "cell_type": "code",
   "execution_count": 277,
   "metadata": {
    "ExecuteTime": {
     "end_time": "2023-03-02T21:23:58.403517Z",
     "start_time": "2023-03-02T21:23:58.400260Z"
    }
   },
   "outputs": [
    {
     "data": {
      "text/plain": [
       "(15, 15, 1)"
      ]
     },
     "execution_count": 277,
     "metadata": {},
     "output_type": "execute_result"
    }
   ],
   "source": [
    "train_lon[0].shape"
   ]
  },
  {
   "cell_type": "markdown",
   "metadata": {
    "id": "ffXv4PbxI5QS"
   },
   "source": [
    " **Below we explore the skewness of train dataset in each channel**"
   ]
  },
  {
   "cell_type": "code",
   "execution_count": 278,
   "metadata": {
    "ExecuteTime": {
     "end_time": "2023-03-02T21:24:00.766996Z",
     "start_time": "2023-03-02T21:23:59.015787Z"
    },
    "executionInfo": {
     "elapsed": 3367,
     "status": "ok",
     "timestamp": 1674723363080,
     "user": {
      "displayName": "Nelson Mganga",
      "userId": "15984282569117459010"
     },
     "user_tz": -180
    },
    "id": "CrCKjC-mSmJm"
   },
   "outputs": [],
   "source": [
    "band_skewness = []\n",
    "band_skewness_after_sqrt = []\n",
    "for c in range(12):\n",
    "    #calculate skewness\n",
    "    band_skewness.append(pd.Series(train_images[:,c].flatten()).skew())\n",
    "    #calculate skewness after applying sqrt\n",
    "    band_skewness_after_sqrt.append(pd.Series(np.sqrt(train_images[:,c].flatten())).skew())"
   ]
  },
  {
   "cell_type": "code",
   "execution_count": 279,
   "metadata": {
    "ExecuteTime": {
     "end_time": "2023-03-02T21:24:00.856534Z",
     "start_time": "2023-03-02T21:24:00.768872Z"
    },
    "colab": {
     "base_uri": "https://localhost:8080/",
     "height": 279
    },
    "executionInfo": {
     "elapsed": 7,
     "status": "ok",
     "timestamp": 1674723363081,
     "user": {
      "displayName": "Nelson Mganga",
      "userId": "15984282569117459010"
     },
     "user_tz": -180
    },
    "id": "mQuF1liYSppT",
    "outputId": "25110683-aea1-44d1-fe7a-f460c69d3ae7"
   },
   "outputs": [
    {
     "data": {
      "image/png": "[encoded data removed]",
      "text/plain": [
       "<Figure size 640x480 with 1 Axes>"
      ]
     },
     "metadata": {},
     "output_type": "display_data"
    }
   ],
   "source": [
    "# skweness\n",
    "width = 0.25\n",
    "\n",
    "rng = [i for i in range(0,12)]\n",
    "rng2 = [i+width for i in range(0,12)]\n",
    "\n",
    "plt.bar(rng, band_skewness, align='center', width = width, label='Original', color ='b')\n",
    "plt.bar(rng2, band_skewness_after_sqrt, align='center', width = width, label='After sqrt', color ='g')\n",
    "plt.gca().set_xticks(rng)\n",
    "plt.legend()\n",
    "plt.xlabel('Band ID')\n",
    "plt.ylabel('Skewness')\n",
    "plt.show()"
   ]
  },
  {
   "cell_type": "markdown",
   "metadata": {
    "id": "SYkqo_nDQlzS"
   },
   "source": [
    "# First Baseline With Sklearn"
   ]
  },
  {
   "cell_type": "code",
   "execution_count": 280,
   "metadata": {
    "ExecuteTime": {
     "end_time": "2023-03-02T21:24:00.862683Z",
     "start_time": "2023-03-02T21:24:00.857914Z"
    },
    "executionInfo": {
     "elapsed": 1159,
     "status": "ok",
     "timestamp": 1674723364234,
     "user": {
      "displayName": "Nelson Mganga",
      "userId": "15984282569117459010"
     },
     "user_tz": -180
    },
    "id": "is7xLI-1VzAW"
   },
   "outputs": [],
   "source": [
    "from sklearn.linear_model import LinearRegression,Ridge,Lasso\n",
    "from sklearn.svm import LinearSVR\n",
    "from sklearn.neighbors import KNeighborsRegressor\n",
    "from sklearn.ensemble import RandomForestRegressor, GradientBoostingRegressor\n",
    "from sklearn.model_selection import GridSearchCV\n",
    "from sklearn.pipeline import Pipeline\n",
    "from sklearn.metrics import mean_squared_error\n",
    "from sklearn import model_selection\n",
    "from sklearn.compose import ColumnTransformer\n",
    "from sklearn.impute import SimpleImputer\n",
    "from sklearn.preprocessing import StandardScaler\n",
    "from sklearn.base import BaseEstimator, TransformerMixin"
   ]
  },
  {
   "cell_type": "code",
   "execution_count": 281,
   "metadata": {
    "ExecuteTime": {
     "end_time": "2023-03-02T21:24:00.866889Z",
     "start_time": "2023-03-02T21:24:00.864720Z"
    },
    "executionInfo": {
     "elapsed": 3,
     "status": "ok",
     "timestamp": 1674723364234,
     "user": {
      "displayName": "Nelson Mganga",
      "userId": "15984282569117459010"
     },
     "user_tz": -180
    },
    "id": "t54SAWW6pr1S"
   },
   "outputs": [],
   "source": [
    "from sklearn import set_config\n",
    "set_config(display='diagram')"
   ]
  },
  {
   "cell_type": "markdown",
   "metadata": {
    "id": "PVAxS2EwqKiW"
   },
   "source": [
    "## Modelisation"
   ]
  },
  {
   "cell_type": "markdown",
   "metadata": {},
   "source": [
    "## convert To tensor Dataset\n"
   ]
  },
  {
   "cell_type": "code",
   "execution_count": 282,
   "metadata": {
    "ExecuteTime": {
     "end_time": "2023-03-02T21:24:02.242334Z",
     "start_time": "2023-03-02T21:24:02.238634Z"
    }
   },
   "outputs": [
    {
     "data": {
      "text/plain": [
       "array([6.87387276, 6.87378263, 6.87369204, 6.87360191, 6.87351131,\n",
       "       6.87342119, 6.87333059, 6.87323999, 6.87314987, 6.87305927,\n",
       "       6.87296915, 6.87287855, 6.87278843, 6.87269783, 6.87260771])"
      ]
     },
     "execution_count": 282,
     "metadata": {},
     "output_type": "execute_result"
    }
   ],
   "source": [
    "train_lat[:,:,0].reshape((-1,15))[0]"
   ]
  },
  {
   "cell_type": "code",
   "execution_count": 283,
   "metadata": {
    "ExecuteTime": {
     "end_time": "2023-03-02T21:24:02.639700Z",
     "start_time": "2023-03-02T21:24:02.349484Z"
    }
   },
   "outputs": [],
   "source": [
    "from tensorflow.keras.preprocessing.image import ImageDataGenerator\n",
    "datagen= ImageDataGenerator(rescale=False)\n",
    "\n",
    "trainimg=tf.data.Dataset.from_tensor_slices(train_images)\n",
    "trainlat=tf.data.Dataset.from_tensor_slices(train_lat[:,:,0].reshape((-1,15)))\n",
    "trainlon=tf.data.Dataset.from_tensor_slices(train_lon[:,:,0].reshape((-1,15)))\n",
    "traincloud=tf.data.Dataset.from_tensor_slices(train_cloud[:,:,:].reshape((-1,225)))\n",
    "trainbiom=tf.data.Dataset.from_tensor_slices( train_biomasses)\n",
    "traindata=tf.data.Dataset.zip((trainimg,trainlat, trainlon, traincloud))\n",
    "traindata=tf.data.Dataset.zip((traindata, trainbiom)).batch(32).prefetch(tf.data.AUTOTUNE)\n",
    "\n",
    "validateimg=tf.data.Dataset.from_tensor_slices(validate_images) \n",
    "validatelat=tf.data.Dataset.from_tensor_slices(validate_lat[:,:,0].reshape((-1,15)))\n",
    "validatelon=tf.data.Dataset.from_tensor_slices(validate_lon[:,:,0].reshape((-1,15)))\n",
    "validatecloud=tf.data.Dataset.from_tensor_slices(validate_cloud[:,:,:].reshape((-1,225)))\n",
    "\n",
    "validatebiom=tf.data.Dataset.from_tensor_slices( validate_biomasses)\n",
    "validatedata=tf.data.Dataset.zip((validateimg,validatelat, validatelon, validatecloud))\n",
    "validatedata=tf.data.Dataset.zip((validatedata, validatebiom)).batch(32).prefetch(tf.data.AUTOTUNE)\n",
    "\n",
    "#traingen= datagen.flow( train_images,\n",
    "#        y=train_biomasses,\n",
    "#        batch_size=32,\n",
    "#        shuffle=True,\n",
    "#    )\n",
    "#valgen= datagen.flow( validate_images,\n",
    "#        y=validate_biomasses,\n",
    "#        batch_size=32,\n",
    "#        shuffle=True,\n",
    "#    )\n"
   ]
  },
  {
   "cell_type": "code",
   "execution_count": 284,
   "metadata": {
    "ExecuteTime": {
     "end_time": "2023-03-02T21:24:03.531585Z",
     "start_time": "2023-03-02T21:24:03.357078Z"
    }
   },
   "outputs": [
    {
     "name": "stdout",
     "output_type": "stream",
     "text": [
      "(32, 15)\n",
      "(32, 30)\n",
      "(32, 30)\n"
     ]
    }
   ],
   "source": [
    "for k in traindata:\n",
    "    print( k[0][2].shape)\n",
    "    d=tf.keras.layers.Concatenate(axis=-1)([k[0][2],k[0][1]])\n",
    "    print(d.shape)\n",
    "    d=tf.keras.layers.Flatten()(d)\n",
    "    print(d.shape)\n",
    "    \n",
    "    break"
   ]
  },
  {
   "cell_type": "code",
   "execution_count": 294,
   "metadata": {
    "ExecuteTime": {
     "end_time": "2023-03-08T21:26:56.188676Z",
     "start_time": "2023-03-08T21:26:55.440150Z"
    }
   },
   "outputs": [
    {
     "ename": "AttributeError",
     "evalue": "'KerasTensor' object has no attribute 'numpy'",
     "output_type": "error",
     "traceback": [
      "\u001b[0;31m---------------------------------------------------------------------------\u001b[0m",
      "\u001b[0;31mAttributeError\u001b[0m                            Traceback (most recent call last)",
      "Cell \u001b[0;32mIn[294], line 2\u001b[0m\n\u001b[1;32m      1\u001b[0m inputs_image,x_image\u001b[38;5;241m=\u001b[39m input_ly(( \u001b[38;5;241m12\u001b[39m,\u001b[38;5;241m15\u001b[39m,\u001b[38;5;241m15\u001b[39m), train_images)\n\u001b[0;32m----> 2\u001b[0m \u001b[43minputs_image\u001b[49m\u001b[38;5;241;43m.\u001b[39;49m\u001b[43mnumpy\u001b[49m()\n",
      "\u001b[0;31mAttributeError\u001b[0m: 'KerasTensor' object has no attribute 'numpy'"
     ]
    }
   ],
   "source": [
    "inputs_image,x_image= input_ly(( 12,15,15), train_images)\n",
    "inputs_image.numpy()"
   ]
  },
  {
   "cell_type": "code",
   "execution_count": 299,
   "metadata": {
    "ExecuteTime": {
     "end_time": "2023-03-08T21:32:36.216265Z",
     "start_time": "2023-03-08T21:32:34.450243Z"
    }
   },
   "outputs": [
    {
     "name": "stdout",
     "output_type": "stream",
     "text": [
      "(None, 12, 15, 15)\n",
      "KerasTensor(type_spec=TensorSpec(shape=(None, 12, 15, 15), dtype=tf.float32, name=None), name='normalization_148/truediv:0', description=\"created by layer 'normalization_148'\")\n"
     ]
    },
    {
     "ename": "TypeError",
     "evalue": "int() argument must be a string, a bytes-like object or a real number, not 'NoneType'",
     "output_type": "error",
     "traceback": [
      "\u001b[0;31m---------------------------------------------------------------------------\u001b[0m",
      "\u001b[0;31mTypeError\u001b[0m                                 Traceback (most recent call last)",
      "Cell \u001b[0;32mIn[299], line 68\u001b[0m\n\u001b[1;32m     62\u001b[0m     model\u001b[38;5;241m.\u001b[39mcompile(optimizer \u001b[38;5;241m=\u001b[39m Adam(\n\u001b[1;32m     63\u001b[0m                     learning_rate\u001b[38;5;241m=\u001b[39m\u001b[38;5;241m1e-8\u001b[39m),\n\u001b[1;32m     64\u001b[0m         loss \u001b[38;5;241m=\u001b[39m root_mean_squared_error, \n\u001b[1;32m     65\u001b[0m         metrics \u001b[38;5;241m=\u001b[39m [RootMeanSquaredError()]        \n\u001b[1;32m     66\u001b[0m     )\n\u001b[1;32m     67\u001b[0m     \u001b[38;5;28;01mreturn\u001b[39;00m model, model_v1\n\u001b[0;32m---> 68\u001b[0m model, model_v1\u001b[38;5;241m=\u001b[39m\u001b[43mgenerate_compile_model\u001b[49m\u001b[43m(\u001b[49m\u001b[43m)\u001b[49m\n",
      "Cell \u001b[0;32mIn[299], line 42\u001b[0m, in \u001b[0;36mgenerate_compile_model\u001b[0;34m()\u001b[0m\n\u001b[1;32m     40\u001b[0m \u001b[38;5;28mprint\u001b[39m(x_image\u001b[38;5;241m.\u001b[39mshape)\n\u001b[1;32m     41\u001b[0m \u001b[38;5;28mprint\u001b[39m(x_image)\n\u001b[0;32m---> 42\u001b[0m x_image\u001b[38;5;241m=\u001b[39m \u001b[43mtf\u001b[49m\u001b[38;5;241;43m.\u001b[39;49m\u001b[43mkeras\u001b[49m\u001b[38;5;241;43m.\u001b[39;49m\u001b[43mlayers\u001b[49m\u001b[38;5;241;43m.\u001b[39;49m\u001b[43mEinsumDense\u001b[49m\u001b[43m(\u001b[49m\n\u001b[1;32m     43\u001b[0m \u001b[43m            \u001b[49m\u001b[38;5;124;43m\"\u001b[39;49m\u001b[38;5;124;43mabc,a->bc\u001b[39;49m\u001b[38;5;124;43m\"\u001b[39;49m\u001b[43m,\u001b[49m\n\u001b[1;32m     44\u001b[0m \u001b[43m            \u001b[49m\u001b[43moutput_shape\u001b[49m\u001b[38;5;241;43m=\u001b[39;49m\u001b[43m(\u001b[49m\u001b[38;5;241;43m15\u001b[39;49m\u001b[43m,\u001b[49m\u001b[38;5;241;43m15\u001b[39;49m\u001b[43m)\u001b[49m\n\u001b[1;32m     45\u001b[0m \u001b[43m        \u001b[49m\u001b[43m)\u001b[49m\u001b[43m(\u001b[49m\u001b[43mx_image\u001b[49m\u001b[43m)\u001b[49m\n\u001b[1;32m     47\u001b[0m outputs_images \u001b[38;5;241m=\u001b[39m model_v1(x_image)\n\u001b[1;32m     49\u001b[0m coord\u001b[38;5;241m=\u001b[39mtf\u001b[38;5;241m.\u001b[39mkeras\u001b[38;5;241m.\u001b[39mlayers\u001b[38;5;241m.\u001b[39mConcatenate(axis\u001b[38;5;241m=\u001b[39m\u001b[38;5;241m1\u001b[39m)([x_lat[\u001b[38;5;241m0\u001b[39m],x_lon[\u001b[38;5;241m0\u001b[39m],x_cloud[\u001b[38;5;241m0\u001b[39m]])\n",
      "File \u001b[0;32m~/miniconda3/envs/ai310/lib/python3.10/site-packages/keras/utils/traceback_utils.py:70\u001b[0m, in \u001b[0;36mfilter_traceback.<locals>.error_handler\u001b[0;34m(*args, **kwargs)\u001b[0m\n\u001b[1;32m     67\u001b[0m     filtered_tb \u001b[38;5;241m=\u001b[39m _process_traceback_frames(e\u001b[38;5;241m.\u001b[39m__traceback__)\n\u001b[1;32m     68\u001b[0m     \u001b[38;5;66;03m# To get the full stack trace, call:\u001b[39;00m\n\u001b[1;32m     69\u001b[0m     \u001b[38;5;66;03m# `tf.debugging.disable_traceback_filtering()`\u001b[39;00m\n\u001b[0;32m---> 70\u001b[0m     \u001b[38;5;28;01mraise\u001b[39;00m e\u001b[38;5;241m.\u001b[39mwith_traceback(filtered_tb) \u001b[38;5;28;01mfrom\u001b[39;00m \u001b[38;5;28mNone\u001b[39m\n\u001b[1;32m     71\u001b[0m \u001b[38;5;28;01mfinally\u001b[39;00m:\n\u001b[1;32m     72\u001b[0m     \u001b[38;5;28;01mdel\u001b[39;00m filtered_tb\n",
      "File \u001b[0;32m~/miniconda3/envs/ai310/lib/python3.10/site-packages/keras/initializers/initializers_v2.py:1150\u001b[0m, in \u001b[0;36m_compute_fans\u001b[0;34m(shape)\u001b[0m\n\u001b[1;32m   1148\u001b[0m     fan_in \u001b[38;5;241m=\u001b[39m shape[\u001b[38;5;241m-\u001b[39m\u001b[38;5;241m2\u001b[39m] \u001b[38;5;241m*\u001b[39m receptive_field_size\n\u001b[1;32m   1149\u001b[0m     fan_out \u001b[38;5;241m=\u001b[39m shape[\u001b[38;5;241m-\u001b[39m\u001b[38;5;241m1\u001b[39m] \u001b[38;5;241m*\u001b[39m receptive_field_size\n\u001b[0;32m-> 1150\u001b[0m \u001b[38;5;28;01mreturn\u001b[39;00m \u001b[38;5;28;43mint\u001b[39;49m\u001b[43m(\u001b[49m\u001b[43mfan_in\u001b[49m\u001b[43m)\u001b[49m, \u001b[38;5;28mint\u001b[39m(fan_out)\n",
      "\u001b[0;31mTypeError\u001b[0m: int() argument must be a string, a bytes-like object or a real number, not 'NoneType'"
     ]
    }
   ],
   "source": [
    "from tensorflow import keras\n",
    "from tensorflow.keras import layers\n",
    "from tensorflow.keras.metrics import RootMeanSquaredError\n",
    "from tensorflow.keras.losses import Huber, MeanSquaredLogarithmicError\n",
    "from tensorflow.keras.optimizers import RMSprop, Adam,SGD\n",
    "import tensorflow.keras.backend as K\n",
    "\n",
    "def root_mean_squared_error(y_true, y_pred):\n",
    "        return K.sqrt(K.mean(K.square(y_pred - y_true))) \n",
    "\n",
    "\n",
    "def input_ly( shape, data, norm=True):\n",
    "    input_ = keras.Input(shape=shape)\n",
    "    normalizer = tf.keras.layers.Normalization()\n",
    "    normalizer.adapt(data)\n",
    "    x_image = normalizer(input_)\n",
    "    return input_, x_image\n",
    "\n",
    "\n",
    "def generate_compile_model():\n",
    "    model_v1 = tf.keras.models.Sequential([    \n",
    "            tf.keras.layers.Flatten(),\n",
    "            tf.keras.layers.Dense(100, activation='relu'),\n",
    "            #tf.keras.layers.Dense(150, activation='relu'),\n",
    "            tf.keras.layers.Dropout(0.3),\n",
    "            tf.keras.layers.Dense(1, activation='relu'),\n",
    "            tf.keras.layers.Lambda(lambda x:x*160)\n",
    "        ])\n",
    "    inputs_image = keras.Input(shape=( 12,15,15))\n",
    "    normalizer = tf.keras.layers.Normalization()\n",
    "    normalizer.adapt(train_images)\n",
    "    x_image = normalizer(inputs_image)\n",
    "    \n",
    "    #inputs_image,x_image= input_ly(( 12,15,15), train_images)\n",
    "    inputs_lat, x_lat=input_ly((15,1), train_lat, False)\n",
    "    inputs_lon, x_lon=input_ly((15,1), train_lon, False)\n",
    "    inputs_cloud, x_cloud=input_ly((225,1), train_cloud, False)\n",
    "    \n",
    "    #x_image=tf.keras.layers.Flatten()(x_image)\n",
    "    print(x_image.shape)\n",
    "    print(x_image)\n",
    "    x_image= tf.keras.layers.EinsumDense(\n",
    "                \"abc,a->bc\",\n",
    "                output_shape=(15,15)\n",
    "            )(x_image)\n",
    "\n",
    "    outputs_images = model_v1(x_image)\n",
    "    \n",
    "    coord=tf.keras.layers.Concatenate(axis=1)([x_lat[0],x_lon[0],x_cloud[0]])\n",
    "    coord=tf.keras.layers.Flatten()(coord)\n",
    "    coord= tf.keras.layers.Dense(50, activation='relu')( coord)\n",
    "    #coord= tf.keras.layers.Dropout(0.3)( coord)\n",
    "    \n",
    "    coord=tf.keras.layers.Concatenate(axis=-1)([coord,outputs_images])\n",
    "    coord= tf.keras.layers.Dense(50, activation='relu')( coord)\n",
    "    #coord= tf.keras.layers.Dense(150, activation='relu')( coord)\n",
    "    coord= tf.keras.layers.Dropout(0.3)( coord)\n",
    "    coord=tf.keras.layers.Dense(1, activation='relu')( coord)\n",
    "    outputs= tf.keras.layers.Lambda(lambda x:x*160)(coord)\n",
    "    model = keras.Model([inputs_image, inputs_lat,inputs_lon, inputs_cloud], outputs)\n",
    "    \n",
    "    model.compile(optimizer = Adam(\n",
    "                    learning_rate=1e-8),\n",
    "        loss = root_mean_squared_error, \n",
    "        metrics = [RootMeanSquaredError()]        \n",
    "    )\n",
    "    return model, model_v1\n",
    "model, model_v1=generate_compile_model()\n"
   ]
  },
  {
   "cell_type": "code",
   "execution_count": null,
   "metadata": {
    "ExecuteTime": {
     "end_time": "2023-02-26T19:26:52.970502Z",
     "start_time": "2023-02-26T19:26:52.970494Z"
    }
   },
   "outputs": [],
   "source": [
    "model_v1.summary()"
   ]
  },
  {
   "cell_type": "code",
   "execution_count": 227,
   "metadata": {
    "ExecuteTime": {
     "end_time": "2023-02-18T10:14:04.894324Z",
     "start_time": "2023-02-18T10:14:04.869808Z"
    }
   },
   "outputs": [
    {
     "name": "stdout",
     "output_type": "stream",
     "text": [
      "Model: \"model_20\"\n",
      "__________________________________________________________________________________________________\n",
      " Layer (type)                   Output Shape         Param #     Connected to                     \n",
      "==================================================================================================\n",
      " input_83 (InputLayer)          [(None, 15, 1)]      0           []                               \n",
      "                                                                                                  \n",
      " input_84 (InputLayer)          [(None, 15, 1)]      0           []                               \n",
      "                                                                                                  \n",
      " input_85 (InputLayer)          [(None, 225, 1)]     0           []                               \n",
      "                                                                                                  \n",
      " normalization_78 (Normalizatio  (1, None, 15, 1)    3           ['input_83[0][0]']               \n",
      " n)                                                                                               \n",
      "                                                                                                  \n",
      " normalization_79 (Normalizatio  (1, None, 15, 1)    3           ['input_84[0][0]']               \n",
      " n)                                                                                               \n",
      "                                                                                                  \n",
      " normalization_80 (Normalizatio  (1, None, 225, 1)   3           ['input_85[0][0]']               \n",
      " n)                                                                                               \n",
      "                                                                                                  \n",
      " tf.__operators__.getitem_59 (S  (None, 15, 1)       0           ['normalization_78[0][0]']       \n",
      " licingOpLambda)                                                                                  \n",
      "                                                                                                  \n",
      " tf.__operators__.getitem_60 (S  (None, 15, 1)       0           ['normalization_79[0][0]']       \n",
      " licingOpLambda)                                                                                  \n",
      "                                                                                                  \n",
      " tf.__operators__.getitem_61 (S  (None, 225, 1)      0           ['normalization_80[0][0]']       \n",
      " licingOpLambda)                                                                                  \n",
      "                                                                                                  \n",
      " input_82 (InputLayer)          [(None, 12, 15, 15)  0           []                               \n",
      "                                ]                                                                 \n",
      "                                                                                                  \n",
      " concatenate_44 (Concatenate)   (None, 255, 1)       0           ['tf.__operators__.getitem_59[0][\n",
      "                                                                 0]',                             \n",
      "                                                                  'tf.__operators__.getitem_60[0][\n",
      "                                                                 0]',                             \n",
      "                                                                  'tf.__operators__.getitem_61[0][\n",
      "                                                                 0]']                             \n",
      "                                                                                                  \n",
      " normalization_77 (Normalizatio  (None, 12, 15, 15)  31          ['input_82[0][0]']               \n",
      " n)                                                                                               \n",
      "                                                                                                  \n",
      " flatten_68 (Flatten)           (None, 255)          0           ['concatenate_44[0][0]']         \n",
      "                                                                                                  \n",
      " flatten_67 (Flatten)           (None, 2700)         0           ['normalization_77[0][0]']       \n",
      "                                                                                                  \n",
      " dense_126 (Dense)              (None, 50)           12800       ['flatten_68[0][0]']             \n",
      "                                                                                                  \n",
      " sequential_22 (Sequential)     (None, 1)            270201      ['flatten_67[0][0]']             \n",
      "                                                                                                  \n",
      " concatenate_45 (Concatenate)   (None, 51)           0           ['dense_126[0][0]',              \n",
      "                                                                  'sequential_22[0][0]']          \n",
      "                                                                                                  \n",
      " dense_127 (Dense)              (None, 50)           2600        ['concatenate_45[0][0]']         \n",
      "                                                                                                  \n",
      " dropout_33 (Dropout)           (None, 50)           0           ['dense_127[0][0]']              \n",
      "                                                                                                  \n",
      " dense_128 (Dense)              (None, 1)            51          ['dropout_33[0][0]']             \n",
      "                                                                                                  \n",
      " lambda_43 (Lambda)             (None, 1)            0           ['dense_128[0][0]']              \n",
      "                                                                                                  \n",
      "==================================================================================================\n",
      "Total params: 285,692\n",
      "Trainable params: 285,652\n",
      "Non-trainable params: 40\n",
      "__________________________________________________________________________________________________\n"
     ]
    }
   ],
   "source": [
    "model.summary()"
   ]
  },
  {
   "cell_type": "code",
   "execution_count": null,
   "metadata": {
    "ExecuteTime": {
     "end_time": "2023-02-12T17:35:07.873617Z",
     "start_time": "2023-02-12T17:35:07.870499Z"
    }
   },
   "outputs": [],
   "source": []
  },
  {
   "cell_type": "code",
   "execution_count": null,
   "metadata": {
    "ExecuteTime": {
     "end_time": "2023-02-12T16:47:00.270218Z",
     "start_time": "2023-02-12T16:47:00.261884Z"
    }
   },
   "outputs": [],
   "source": []
  },
  {
   "cell_type": "code",
   "execution_count": 228,
   "metadata": {
    "ExecuteTime": {
     "end_time": "2023-02-18T10:14:07.601066Z",
     "start_time": "2023-02-18T10:14:07.119825Z"
    },
    "executionInfo": {
     "elapsed": 1133,
     "status": "ok",
     "timestamp": 1674723365365,
     "user": {
      "displayName": "Nelson Mganga",
      "userId": "15984282569117459010"
     },
     "user_tz": -180
    },
    "id": "T3OrinVvV3-8"
   },
   "outputs": [],
   "source": [
    "# constante for standardization\n",
    "MEAN = train_images.mean((0,2,3))\n",
    "STD = train_images.std((0,2,3))"
   ]
  },
  {
   "cell_type": "code",
   "execution_count": 229,
   "metadata": {
    "ExecuteTime": {
     "end_time": "2023-02-18T10:14:07.717436Z",
     "start_time": "2023-02-18T10:14:07.602803Z"
    }
   },
   "outputs": [
    {
     "data": {
      "text/plain": [
       "15687.0"
      ]
     },
     "execution_count": 229,
     "metadata": {},
     "output_type": "execute_result"
    }
   ],
   "source": [
    "# Evaluate( with the hands) the max\n",
    "np.max(train_images.reshape(25036, 12,225),axis=2).max()"
   ]
  },
  {
   "cell_type": "code",
   "execution_count": 230,
   "metadata": {
    "ExecuteTime": {
     "end_time": "2023-02-18T10:14:08.232609Z",
     "start_time": "2023-02-18T10:14:08.230133Z"
    }
   },
   "outputs": [],
   "source": [
    "checkpoint_filepath='./checkpoints/'"
   ]
  },
  {
   "cell_type": "code",
   "execution_count": 231,
   "metadata": {
    "ExecuteTime": {
     "end_time": "2023-02-18T10:14:08.633717Z",
     "start_time": "2023-02-18T10:14:08.631401Z"
    }
   },
   "outputs": [],
   "source": [
    "model_checkpoint_callback = tf.keras.callbacks.ModelCheckpoint(\n",
    "    filepath=checkpoint_filepath,\n",
    "    save_weights_only=True,\n",
    "    monitor='val_root_mean_squared_error',\n",
    "    mode='min',\n",
    "    save_best_only=True)\n"
   ]
  },
  {
   "cell_type": "code",
   "execution_count": 232,
   "metadata": {
    "ExecuteTime": {
     "end_time": "2023-02-18T10:16:17.406837Z",
     "start_time": "2023-02-18T10:14:08.873230Z"
    },
    "scrolled": true
   },
   "outputs": [
    {
     "name": "stdout",
     "output_type": "stream",
     "text": [
      "Epoch 1/100\n",
      "783/783 - 2s - loss: 441.4664 - root_mean_squared_error: 563.8466 - val_loss: 72.2549 - val_root_mean_squared_error: 79.4961 - 2s/epoch - 3ms/step\n",
      "Epoch 2/100\n",
      "783/783 - 2s - loss: 391.1173 - root_mean_squared_error: 513.2232 - val_loss: 72.2781 - val_root_mean_squared_error: 79.5154 - 2s/epoch - 2ms/step\n",
      "Epoch 3/100\n",
      "783/783 - 2s - loss: 376.9043 - root_mean_squared_error: 492.4802 - val_loss: 72.2511 - val_root_mean_squared_error: 79.4897 - 2s/epoch - 2ms/step\n",
      "Epoch 4/100\n",
      "783/783 - 2s - loss: 347.2990 - root_mean_squared_error: 468.7434 - val_loss: 72.2415 - val_root_mean_squared_error: 79.4741 - 2s/epoch - 2ms/step\n",
      "Epoch 5/100\n",
      "783/783 - 2s - loss: 328.5695 - root_mean_squared_error: 440.3524 - val_loss: 72.2688 - val_root_mean_squared_error: 79.4488 - 2s/epoch - 2ms/step\n",
      "Epoch 6/100\n",
      "783/783 - 2s - loss: 287.9321 - root_mean_squared_error: 385.3746 - val_loss: 72.2318 - val_root_mean_squared_error: 79.4709 - 2s/epoch - 2ms/step\n",
      "Epoch 7/100\n",
      "783/783 - 2s - loss: 305.9720 - root_mean_squared_error: 416.6337 - val_loss: 72.2169 - val_root_mean_squared_error: 79.4533 - 2s/epoch - 2ms/step\n",
      "Epoch 8/100\n",
      "783/783 - 2s - loss: 303.2559 - root_mean_squared_error: 441.7422 - val_loss: 72.2151 - val_root_mean_squared_error: 79.4646 - 2s/epoch - 2ms/step\n",
      "Epoch 9/100\n",
      "783/783 - 2s - loss: 255.2307 - root_mean_squared_error: 382.4284 - val_loss: 72.1915 - val_root_mean_squared_error: 79.4285 - 2s/epoch - 3ms/step\n",
      "Epoch 10/100\n",
      "783/783 - 2s - loss: 237.2921 - root_mean_squared_error: 336.7499 - val_loss: 72.2299 - val_root_mean_squared_error: 79.4803 - 2s/epoch - 3ms/step\n",
      "Epoch 11/100\n",
      "783/783 - 2s - loss: 227.8012 - root_mean_squared_error: 325.3242 - val_loss: 72.2396 - val_root_mean_squared_error: 79.4969 - 2s/epoch - 3ms/step\n",
      "Epoch 12/100\n",
      "783/783 - 2s - loss: 236.3341 - root_mean_squared_error: 343.2204 - val_loss: 72.2774 - val_root_mean_squared_error: 79.5360 - 2s/epoch - 3ms/step\n",
      "Epoch 13/100\n",
      "783/783 - 2s - loss: 207.0404 - root_mean_squared_error: 305.5393 - val_loss: 72.2499 - val_root_mean_squared_error: 79.5156 - 2s/epoch - 3ms/step\n",
      "Epoch 14/100\n",
      "783/783 - 2s - loss: 202.7467 - root_mean_squared_error: 288.1256 - val_loss: 72.2150 - val_root_mean_squared_error: 79.4649 - 2s/epoch - 3ms/step\n",
      "Epoch 15/100\n",
      "783/783 - 2s - loss: 192.2274 - root_mean_squared_error: 287.8293 - val_loss: 72.2034 - val_root_mean_squared_error: 79.4525 - 2s/epoch - 3ms/step\n",
      "Epoch 16/100\n",
      "783/783 - 2s - loss: 191.9522 - root_mean_squared_error: 321.8754 - val_loss: 72.2121 - val_root_mean_squared_error: 79.4561 - 2s/epoch - 3ms/step\n",
      "Epoch 17/100\n",
      "783/783 - 2s - loss: 177.7008 - root_mean_squared_error: 271.2492 - val_loss: 72.2235 - val_root_mean_squared_error: 79.4670 - 2s/epoch - 3ms/step\n",
      "Epoch 18/100\n",
      "783/783 - 2s - loss: 170.2701 - root_mean_squared_error: 250.7693 - val_loss: 72.2043 - val_root_mean_squared_error: 79.4547 - 2s/epoch - 3ms/step\n",
      "Epoch 19/100\n",
      "783/783 - 2s - loss: 160.6730 - root_mean_squared_error: 244.0412 - val_loss: 72.1834 - val_root_mean_squared_error: 79.4350 - 2s/epoch - 3ms/step\n",
      "Epoch 20/100\n",
      "783/783 - 2s - loss: 156.1317 - root_mean_squared_error: 244.4546 - val_loss: 72.2038 - val_root_mean_squared_error: 79.4523 - 2s/epoch - 3ms/step\n",
      "Epoch 21/100\n",
      "783/783 - 2s - loss: 154.6394 - root_mean_squared_error: 237.7743 - val_loss: 72.1988 - val_root_mean_squared_error: 79.4486 - 2s/epoch - 3ms/step\n",
      "Epoch 22/100\n",
      "783/783 - 2s - loss: 148.1601 - root_mean_squared_error: 222.2445 - val_loss: 72.2018 - val_root_mean_squared_error: 79.4507 - 2s/epoch - 3ms/step\n",
      "Epoch 23/100\n",
      "783/783 - 2s - loss: 151.5212 - root_mean_squared_error: 238.3396 - val_loss: 72.2050 - val_root_mean_squared_error: 79.4536 - 2s/epoch - 3ms/step\n",
      "Epoch 24/100\n",
      "783/783 - 2s - loss: 143.4302 - root_mean_squared_error: 222.5424 - val_loss: 72.2023 - val_root_mean_squared_error: 79.4513 - 2s/epoch - 3ms/step\n",
      "Epoch 25/100\n",
      "783/783 - 2s - loss: 141.9512 - root_mean_squared_error: 228.7796 - val_loss: 72.2034 - val_root_mean_squared_error: 79.4519 - 2s/epoch - 3ms/step\n",
      "Epoch 26/100\n",
      "783/783 - 2s - loss: 132.7750 - root_mean_squared_error: 201.9906 - val_loss: 72.2035 - val_root_mean_squared_error: 79.4519 - 2s/epoch - 3ms/step\n",
      "Epoch 27/100\n",
      "783/783 - 2s - loss: 123.9081 - root_mean_squared_error: 194.0513 - val_loss: 72.2035 - val_root_mean_squared_error: 79.4519 - 2s/epoch - 3ms/step\n",
      "Epoch 28/100\n",
      "783/783 - 2s - loss: 129.1969 - root_mean_squared_error: 206.2076 - val_loss: 72.2009 - val_root_mean_squared_error: 79.4502 - 2s/epoch - 3ms/step\n",
      "Epoch 29/100\n",
      "783/783 - 2s - loss: 130.2467 - root_mean_squared_error: 211.1111 - val_loss: 72.2014 - val_root_mean_squared_error: 79.4507 - 2s/epoch - 3ms/step\n",
      "Epoch 30/100\n",
      "783/783 - 2s - loss: 116.6994 - root_mean_squared_error: 171.9658 - val_loss: 72.1996 - val_root_mean_squared_error: 79.4486 - 2s/epoch - 3ms/step\n",
      "Epoch 31/100\n",
      "783/783 - 2s - loss: 121.4220 - root_mean_squared_error: 182.3322 - val_loss: 72.1992 - val_root_mean_squared_error: 79.4481 - 2s/epoch - 3ms/step\n",
      "Epoch 32/100\n",
      "783/783 - 2s - loss: 123.3817 - root_mean_squared_error: 210.2562 - val_loss: 72.1991 - val_root_mean_squared_error: 79.4486 - 2s/epoch - 3ms/step\n",
      "Epoch 33/100\n",
      "783/783 - 2s - loss: 112.6036 - root_mean_squared_error: 166.3221 - val_loss: 72.2036 - val_root_mean_squared_error: 79.4525 - 2s/epoch - 3ms/step\n",
      "Epoch 34/100\n",
      "783/783 - 2s - loss: 109.8004 - root_mean_squared_error: 165.4267 - val_loss: 72.2026 - val_root_mean_squared_error: 79.4515 - 2s/epoch - 3ms/step\n",
      "Epoch 35/100\n",
      "783/783 - 2s - loss: 108.7274 - root_mean_squared_error: 159.8077 - val_loss: 72.1986 - val_root_mean_squared_error: 79.4476 - 2s/epoch - 3ms/step\n",
      "Epoch 36/100\n",
      "783/783 - 2s - loss: 109.3321 - root_mean_squared_error: 167.8488 - val_loss: 72.1991 - val_root_mean_squared_error: 79.4481 - 2s/epoch - 3ms/step\n",
      "Epoch 37/100\n",
      "783/783 - 2s - loss: 104.8006 - root_mean_squared_error: 160.8510 - val_loss: 72.2082 - val_root_mean_squared_error: 79.4544 - 2s/epoch - 3ms/step\n",
      "Epoch 38/100\n",
      "783/783 - 2s - loss: 109.1998 - root_mean_squared_error: 171.1902 - val_loss: 72.2277 - val_root_mean_squared_error: 79.4686 - 2s/epoch - 3ms/step\n",
      "Epoch 39/100\n",
      "783/783 - 2s - loss: 113.0834 - root_mean_squared_error: 215.3294 - val_loss: 72.2516 - val_root_mean_squared_error: 79.4871 - 2s/epoch - 3ms/step\n",
      "Epoch 40/100\n",
      "783/783 - 2s - loss: 97.2537 - root_mean_squared_error: 142.1874 - val_loss: 72.2721 - val_root_mean_squared_error: 79.5037 - 2s/epoch - 3ms/step\n",
      "Epoch 41/100\n",
      "783/783 - 2s - loss: 105.6670 - root_mean_squared_error: 182.6217 - val_loss: 72.2456 - val_root_mean_squared_error: 79.4819 - 2s/epoch - 3ms/step\n",
      "Epoch 42/100\n",
      "783/783 - 2s - loss: 101.5325 - root_mean_squared_error: 166.2349 - val_loss: 72.2058 - val_root_mean_squared_error: 79.4521 - 2s/epoch - 3ms/step\n",
      "Epoch 43/100\n",
      "783/783 - 2s - loss: 103.5286 - root_mean_squared_error: 160.0719 - val_loss: 72.1971 - val_root_mean_squared_error: 79.4460 - 2s/epoch - 3ms/step\n",
      "Epoch 44/100\n",
      "783/783 - 2s - loss: 101.3906 - root_mean_squared_error: 168.7939 - val_loss: 72.1979 - val_root_mean_squared_error: 79.4469 - 2s/epoch - 3ms/step\n",
      "Epoch 45/100\n",
      "783/783 - 2s - loss: 99.9015 - root_mean_squared_error: 155.1025 - val_loss: 72.1978 - val_root_mean_squared_error: 79.4468 - 2s/epoch - 3ms/step\n",
      "Epoch 46/100\n",
      "783/783 - 2s - loss: 95.8416 - root_mean_squared_error: 156.7370 - val_loss: 72.1958 - val_root_mean_squared_error: 79.4454 - 2s/epoch - 3ms/step\n",
      "Epoch 47/100\n",
      "783/783 - 2s - loss: 102.8704 - root_mean_squared_error: 170.1452 - val_loss: 72.1973 - val_root_mean_squared_error: 79.4463 - 2s/epoch - 3ms/step\n",
      "Epoch 48/100\n",
      "783/783 - 2s - loss: 95.5891 - root_mean_squared_error: 139.1439 - val_loss: 72.2027 - val_root_mean_squared_error: 79.4501 - 2s/epoch - 3ms/step\n",
      "Epoch 49/100\n",
      "783/783 - 2s - loss: 91.2604 - root_mean_squared_error: 131.5116 - val_loss: 72.2089 - val_root_mean_squared_error: 79.4545 - 2s/epoch - 3ms/step\n",
      "Epoch 50/100\n",
      "783/783 - 2s - loss: 92.6251 - root_mean_squared_error: 130.6479 - val_loss: 72.2163 - val_root_mean_squared_error: 79.4599 - 2s/epoch - 3ms/step\n",
      "Epoch 51/100\n",
      "783/783 - 2s - loss: 99.6948 - root_mean_squared_error: 152.6334 - val_loss: 72.2297 - val_root_mean_squared_error: 79.4699 - 2s/epoch - 3ms/step\n",
      "Epoch 52/100\n",
      "783/783 - 2s - loss: 91.0308 - root_mean_squared_error: 126.7006 - val_loss: 72.2424 - val_root_mean_squared_error: 79.4797 - 2s/epoch - 3ms/step\n"
     ]
    },
    {
     "name": "stdout",
     "output_type": "stream",
     "text": [
      "Epoch 53/100\n",
      "783/783 - 2s - loss: 92.9868 - root_mean_squared_error: 131.6148 - val_loss: 72.2346 - val_root_mean_squared_error: 79.4736 - 2s/epoch - 3ms/step\n",
      "Epoch 54/100\n",
      "783/783 - 2s - loss: 92.8173 - root_mean_squared_error: 147.7219 - val_loss: 72.2200 - val_root_mean_squared_error: 79.4625 - 2s/epoch - 3ms/step\n",
      "Epoch 55/100\n",
      "783/783 - 2s - loss: 87.6216 - root_mean_squared_error: 118.4866 - val_loss: 72.2119 - val_root_mean_squared_error: 79.4563 - 2s/epoch - 3ms/step\n",
      "Epoch 56/100\n",
      "783/783 - 2s - loss: 96.0276 - root_mean_squared_error: 144.7459 - val_loss: 72.2091 - val_root_mean_squared_error: 79.4545 - 2s/epoch - 3ms/step\n",
      "Epoch 57/100\n",
      "783/783 - 2s - loss: 95.6227 - root_mean_squared_error: 162.1272 - val_loss: 72.2087 - val_root_mean_squared_error: 79.4542 - 2s/epoch - 3ms/step\n",
      "Epoch 58/100\n",
      "783/783 - 2s - loss: 88.6707 - root_mean_squared_error: 133.2716 - val_loss: 72.2100 - val_root_mean_squared_error: 79.4548 - 2s/epoch - 3ms/step\n",
      "Epoch 59/100\n",
      "783/783 - 2s - loss: 96.4110 - root_mean_squared_error: 168.4733 - val_loss: 72.2099 - val_root_mean_squared_error: 79.4547 - 2s/epoch - 3ms/step\n",
      "Epoch 60/100\n",
      "783/783 - 2s - loss: 83.7463 - root_mean_squared_error: 110.3970 - val_loss: 72.2097 - val_root_mean_squared_error: 79.4545 - 2s/epoch - 3ms/step\n",
      "Epoch 61/100\n",
      "783/783 - 2s - loss: 94.5833 - root_mean_squared_error: 134.9296 - val_loss: 72.2094 - val_root_mean_squared_error: 79.4542 - 2s/epoch - 3ms/step\n",
      "Epoch 62/100\n"
     ]
    },
    {
     "ename": "KeyboardInterrupt",
     "evalue": "",
     "output_type": "error",
     "traceback": [
      "\u001b[0;31m---------------------------------------------------------------------------\u001b[0m",
      "\u001b[0;31mKeyboardInterrupt\u001b[0m                         Traceback (most recent call last)",
      "Cell \u001b[0;32mIn[232], line 1\u001b[0m\n\u001b[0;32m----> 1\u001b[0m history\u001b[38;5;241m=\u001b[39m\u001b[43mmodel\u001b[49m\u001b[38;5;241;43m.\u001b[39;49m\u001b[43mfit\u001b[49m\u001b[43m(\u001b[49m\n\u001b[1;32m      2\u001b[0m \u001b[43m            \u001b[49m\u001b[43mtraindata\u001b[49m\u001b[43m,\u001b[49m\n\u001b[1;32m      3\u001b[0m \u001b[43m        \u001b[49m\u001b[43mvalidation_data\u001b[49m\u001b[43m \u001b[49m\u001b[38;5;241;43m=\u001b[39;49m\u001b[43m \u001b[49m\u001b[43mvalidatedata\u001b[49m\u001b[43m,\u001b[49m\n\u001b[1;32m      4\u001b[0m \u001b[43m            \u001b[49m\u001b[38;5;66;43;03m#steps_per_epoch = 100,\u001b[39;49;00m\n\u001b[1;32m      5\u001b[0m \u001b[43m            \u001b[49m\u001b[43mepochs\u001b[49m\u001b[43m \u001b[49m\u001b[38;5;241;43m=\u001b[39;49m\u001b[43m \u001b[49m\u001b[38;5;241;43m100\u001b[39;49m\u001b[43m,\u001b[49m\n\u001b[1;32m      6\u001b[0m \u001b[43m            \u001b[49m\u001b[38;5;66;43;03m#validation_steps = 50,\u001b[39;49;00m\n\u001b[1;32m      7\u001b[0m \u001b[43m            \u001b[49m\u001b[43mcallbacks\u001b[49m\u001b[38;5;241;43m=\u001b[39;49m\u001b[43m[\u001b[49m\u001b[43mmodel_checkpoint_callback\u001b[49m\u001b[43m]\u001b[49m\u001b[43m,\u001b[49m\n\u001b[1;32m      8\u001b[0m \u001b[43m            \u001b[49m\u001b[43mverbose\u001b[49m\u001b[43m \u001b[49m\u001b[38;5;241;43m=\u001b[39;49m\u001b[43m \u001b[49m\u001b[38;5;241;43m2\u001b[39;49m\u001b[43m)\u001b[49m\n",
      "File \u001b[0;32m~/miniconda3/envs/ai310/lib/python3.10/site-packages/keras/utils/traceback_utils.py:65\u001b[0m, in \u001b[0;36mfilter_traceback.<locals>.error_handler\u001b[0;34m(*args, **kwargs)\u001b[0m\n\u001b[1;32m     63\u001b[0m filtered_tb \u001b[38;5;241m=\u001b[39m \u001b[38;5;28;01mNone\u001b[39;00m\n\u001b[1;32m     64\u001b[0m \u001b[38;5;28;01mtry\u001b[39;00m:\n\u001b[0;32m---> 65\u001b[0m     \u001b[38;5;28;01mreturn\u001b[39;00m \u001b[43mfn\u001b[49m\u001b[43m(\u001b[49m\u001b[38;5;241;43m*\u001b[39;49m\u001b[43margs\u001b[49m\u001b[43m,\u001b[49m\u001b[43m \u001b[49m\u001b[38;5;241;43m*\u001b[39;49m\u001b[38;5;241;43m*\u001b[39;49m\u001b[43mkwargs\u001b[49m\u001b[43m)\u001b[49m\n\u001b[1;32m     66\u001b[0m \u001b[38;5;28;01mexcept\u001b[39;00m \u001b[38;5;167;01mException\u001b[39;00m \u001b[38;5;28;01mas\u001b[39;00m e:\n\u001b[1;32m     67\u001b[0m     filtered_tb \u001b[38;5;241m=\u001b[39m _process_traceback_frames(e\u001b[38;5;241m.\u001b[39m__traceback__)\n",
      "File \u001b[0;32m~/miniconda3/envs/ai310/lib/python3.10/site-packages/keras/engine/training.py:1650\u001b[0m, in \u001b[0;36mModel.fit\u001b[0;34m(self, x, y, batch_size, epochs, verbose, callbacks, validation_split, validation_data, shuffle, class_weight, sample_weight, initial_epoch, steps_per_epoch, validation_steps, validation_batch_size, validation_freq, max_queue_size, workers, use_multiprocessing)\u001b[0m\n\u001b[1;32m   1642\u001b[0m \u001b[38;5;28;01mwith\u001b[39;00m tf\u001b[38;5;241m.\u001b[39mprofiler\u001b[38;5;241m.\u001b[39mexperimental\u001b[38;5;241m.\u001b[39mTrace(\n\u001b[1;32m   1643\u001b[0m     \u001b[38;5;124m\"\u001b[39m\u001b[38;5;124mtrain\u001b[39m\u001b[38;5;124m\"\u001b[39m,\n\u001b[1;32m   1644\u001b[0m     epoch_num\u001b[38;5;241m=\u001b[39mepoch,\n\u001b[0;32m   (...)\u001b[0m\n\u001b[1;32m   1647\u001b[0m     _r\u001b[38;5;241m=\u001b[39m\u001b[38;5;241m1\u001b[39m,\n\u001b[1;32m   1648\u001b[0m ):\n\u001b[1;32m   1649\u001b[0m     callbacks\u001b[38;5;241m.\u001b[39mon_train_batch_begin(step)\n\u001b[0;32m-> 1650\u001b[0m     tmp_logs \u001b[38;5;241m=\u001b[39m \u001b[38;5;28;43mself\u001b[39;49m\u001b[38;5;241;43m.\u001b[39;49m\u001b[43mtrain_function\u001b[49m\u001b[43m(\u001b[49m\u001b[43miterator\u001b[49m\u001b[43m)\u001b[49m\n\u001b[1;32m   1651\u001b[0m     \u001b[38;5;28;01mif\u001b[39;00m data_handler\u001b[38;5;241m.\u001b[39mshould_sync:\n\u001b[1;32m   1652\u001b[0m         context\u001b[38;5;241m.\u001b[39masync_wait()\n",
      "File \u001b[0;32m~/miniconda3/envs/ai310/lib/python3.10/site-packages/tensorflow/python/util/traceback_utils.py:150\u001b[0m, in \u001b[0;36mfilter_traceback.<locals>.error_handler\u001b[0;34m(*args, **kwargs)\u001b[0m\n\u001b[1;32m    148\u001b[0m filtered_tb \u001b[38;5;241m=\u001b[39m \u001b[38;5;28;01mNone\u001b[39;00m\n\u001b[1;32m    149\u001b[0m \u001b[38;5;28;01mtry\u001b[39;00m:\n\u001b[0;32m--> 150\u001b[0m   \u001b[38;5;28;01mreturn\u001b[39;00m \u001b[43mfn\u001b[49m\u001b[43m(\u001b[49m\u001b[38;5;241;43m*\u001b[39;49m\u001b[43margs\u001b[49m\u001b[43m,\u001b[49m\u001b[43m \u001b[49m\u001b[38;5;241;43m*\u001b[39;49m\u001b[38;5;241;43m*\u001b[39;49m\u001b[43mkwargs\u001b[49m\u001b[43m)\u001b[49m\n\u001b[1;32m    151\u001b[0m \u001b[38;5;28;01mexcept\u001b[39;00m \u001b[38;5;167;01mException\u001b[39;00m \u001b[38;5;28;01mas\u001b[39;00m e:\n\u001b[1;32m    152\u001b[0m   filtered_tb \u001b[38;5;241m=\u001b[39m _process_traceback_frames(e\u001b[38;5;241m.\u001b[39m__traceback__)\n",
      "File \u001b[0;32m~/miniconda3/envs/ai310/lib/python3.10/site-packages/tensorflow/python/eager/polymorphic_function/polymorphic_function.py:880\u001b[0m, in \u001b[0;36mFunction.__call__\u001b[0;34m(self, *args, **kwds)\u001b[0m\n\u001b[1;32m    877\u001b[0m compiler \u001b[38;5;241m=\u001b[39m \u001b[38;5;124m\"\u001b[39m\u001b[38;5;124mxla\u001b[39m\u001b[38;5;124m\"\u001b[39m \u001b[38;5;28;01mif\u001b[39;00m \u001b[38;5;28mself\u001b[39m\u001b[38;5;241m.\u001b[39m_jit_compile \u001b[38;5;28;01melse\u001b[39;00m \u001b[38;5;124m\"\u001b[39m\u001b[38;5;124mnonXla\u001b[39m\u001b[38;5;124m\"\u001b[39m\n\u001b[1;32m    879\u001b[0m \u001b[38;5;28;01mwith\u001b[39;00m OptionalXlaContext(\u001b[38;5;28mself\u001b[39m\u001b[38;5;241m.\u001b[39m_jit_compile):\n\u001b[0;32m--> 880\u001b[0m   result \u001b[38;5;241m=\u001b[39m \u001b[38;5;28;43mself\u001b[39;49m\u001b[38;5;241;43m.\u001b[39;49m\u001b[43m_call\u001b[49m\u001b[43m(\u001b[49m\u001b[38;5;241;43m*\u001b[39;49m\u001b[43margs\u001b[49m\u001b[43m,\u001b[49m\u001b[43m \u001b[49m\u001b[38;5;241;43m*\u001b[39;49m\u001b[38;5;241;43m*\u001b[39;49m\u001b[43mkwds\u001b[49m\u001b[43m)\u001b[49m\n\u001b[1;32m    882\u001b[0m new_tracing_count \u001b[38;5;241m=\u001b[39m \u001b[38;5;28mself\u001b[39m\u001b[38;5;241m.\u001b[39mexperimental_get_tracing_count()\n\u001b[1;32m    883\u001b[0m without_tracing \u001b[38;5;241m=\u001b[39m (tracing_count \u001b[38;5;241m==\u001b[39m new_tracing_count)\n",
      "File \u001b[0;32m~/miniconda3/envs/ai310/lib/python3.10/site-packages/tensorflow/python/eager/polymorphic_function/polymorphic_function.py:912\u001b[0m, in \u001b[0;36mFunction._call\u001b[0;34m(self, *args, **kwds)\u001b[0m\n\u001b[1;32m    909\u001b[0m   \u001b[38;5;28mself\u001b[39m\u001b[38;5;241m.\u001b[39m_lock\u001b[38;5;241m.\u001b[39mrelease()\n\u001b[1;32m    910\u001b[0m   \u001b[38;5;66;03m# In this case we have created variables on the first call, so we run the\u001b[39;00m\n\u001b[1;32m    911\u001b[0m   \u001b[38;5;66;03m# defunned version which is guaranteed to never create variables.\u001b[39;00m\n\u001b[0;32m--> 912\u001b[0m   \u001b[38;5;28;01mreturn\u001b[39;00m \u001b[38;5;28;43mself\u001b[39;49m\u001b[38;5;241;43m.\u001b[39;49m\u001b[43m_no_variable_creation_fn\u001b[49m\u001b[43m(\u001b[49m\u001b[38;5;241;43m*\u001b[39;49m\u001b[43margs\u001b[49m\u001b[43m,\u001b[49m\u001b[43m \u001b[49m\u001b[38;5;241;43m*\u001b[39;49m\u001b[38;5;241;43m*\u001b[39;49m\u001b[43mkwds\u001b[49m\u001b[43m)\u001b[49m  \u001b[38;5;66;03m# pylint: disable=not-callable\u001b[39;00m\n\u001b[1;32m    913\u001b[0m \u001b[38;5;28;01melif\u001b[39;00m \u001b[38;5;28mself\u001b[39m\u001b[38;5;241m.\u001b[39m_variable_creation_fn \u001b[38;5;129;01mis\u001b[39;00m \u001b[38;5;129;01mnot\u001b[39;00m \u001b[38;5;28;01mNone\u001b[39;00m:\n\u001b[1;32m    914\u001b[0m   \u001b[38;5;66;03m# Release the lock early so that multiple threads can perform the call\u001b[39;00m\n\u001b[1;32m    915\u001b[0m   \u001b[38;5;66;03m# in parallel.\u001b[39;00m\n\u001b[1;32m    916\u001b[0m   \u001b[38;5;28mself\u001b[39m\u001b[38;5;241m.\u001b[39m_lock\u001b[38;5;241m.\u001b[39mrelease()\n",
      "File \u001b[0;32m~/miniconda3/envs/ai310/lib/python3.10/site-packages/tensorflow/python/eager/polymorphic_function/tracing_compiler.py:134\u001b[0m, in \u001b[0;36mTracingCompiler.__call__\u001b[0;34m(self, *args, **kwargs)\u001b[0m\n\u001b[1;32m    131\u001b[0m \u001b[38;5;28;01mwith\u001b[39;00m \u001b[38;5;28mself\u001b[39m\u001b[38;5;241m.\u001b[39m_lock:\n\u001b[1;32m    132\u001b[0m   (concrete_function,\n\u001b[1;32m    133\u001b[0m    filtered_flat_args) \u001b[38;5;241m=\u001b[39m \u001b[38;5;28mself\u001b[39m\u001b[38;5;241m.\u001b[39m_maybe_define_function(args, kwargs)\n\u001b[0;32m--> 134\u001b[0m \u001b[38;5;28;01mreturn\u001b[39;00m \u001b[43mconcrete_function\u001b[49m\u001b[38;5;241;43m.\u001b[39;49m\u001b[43m_call_flat\u001b[49m\u001b[43m(\u001b[49m\n\u001b[1;32m    135\u001b[0m \u001b[43m    \u001b[49m\u001b[43mfiltered_flat_args\u001b[49m\u001b[43m,\u001b[49m\u001b[43m \u001b[49m\u001b[43mcaptured_inputs\u001b[49m\u001b[38;5;241;43m=\u001b[39;49m\u001b[43mconcrete_function\u001b[49m\u001b[38;5;241;43m.\u001b[39;49m\u001b[43mcaptured_inputs\u001b[49m\u001b[43m)\u001b[49m\n",
      "File \u001b[0;32m~/miniconda3/envs/ai310/lib/python3.10/site-packages/tensorflow/python/eager/polymorphic_function/monomorphic_function.py:1745\u001b[0m, in \u001b[0;36mConcreteFunction._call_flat\u001b[0;34m(self, args, captured_inputs, cancellation_manager)\u001b[0m\n\u001b[1;32m   1741\u001b[0m possible_gradient_type \u001b[38;5;241m=\u001b[39m gradients_util\u001b[38;5;241m.\u001b[39mPossibleTapeGradientTypes(args)\n\u001b[1;32m   1742\u001b[0m \u001b[38;5;28;01mif\u001b[39;00m (possible_gradient_type \u001b[38;5;241m==\u001b[39m gradients_util\u001b[38;5;241m.\u001b[39mPOSSIBLE_GRADIENT_TYPES_NONE\n\u001b[1;32m   1743\u001b[0m     \u001b[38;5;129;01mand\u001b[39;00m executing_eagerly):\n\u001b[1;32m   1744\u001b[0m   \u001b[38;5;66;03m# No tape is watching; skip to running the function.\u001b[39;00m\n\u001b[0;32m-> 1745\u001b[0m   \u001b[38;5;28;01mreturn\u001b[39;00m \u001b[38;5;28mself\u001b[39m\u001b[38;5;241m.\u001b[39m_build_call_outputs(\u001b[38;5;28;43mself\u001b[39;49m\u001b[38;5;241;43m.\u001b[39;49m\u001b[43m_inference_function\u001b[49m\u001b[38;5;241;43m.\u001b[39;49m\u001b[43mcall\u001b[49m\u001b[43m(\u001b[49m\n\u001b[1;32m   1746\u001b[0m \u001b[43m      \u001b[49m\u001b[43mctx\u001b[49m\u001b[43m,\u001b[49m\u001b[43m \u001b[49m\u001b[43margs\u001b[49m\u001b[43m,\u001b[49m\u001b[43m \u001b[49m\u001b[43mcancellation_manager\u001b[49m\u001b[38;5;241;43m=\u001b[39;49m\u001b[43mcancellation_manager\u001b[49m\u001b[43m)\u001b[49m)\n\u001b[1;32m   1747\u001b[0m forward_backward \u001b[38;5;241m=\u001b[39m \u001b[38;5;28mself\u001b[39m\u001b[38;5;241m.\u001b[39m_select_forward_and_backward_functions(\n\u001b[1;32m   1748\u001b[0m     args,\n\u001b[1;32m   1749\u001b[0m     possible_gradient_type,\n\u001b[1;32m   1750\u001b[0m     executing_eagerly)\n\u001b[1;32m   1751\u001b[0m forward_function, args_with_tangents \u001b[38;5;241m=\u001b[39m forward_backward\u001b[38;5;241m.\u001b[39mforward()\n",
      "File \u001b[0;32m~/miniconda3/envs/ai310/lib/python3.10/site-packages/tensorflow/python/eager/polymorphic_function/monomorphic_function.py:378\u001b[0m, in \u001b[0;36m_EagerDefinedFunction.call\u001b[0;34m(self, ctx, args, cancellation_manager)\u001b[0m\n\u001b[1;32m    376\u001b[0m \u001b[38;5;28;01mwith\u001b[39;00m _InterpolateFunctionError(\u001b[38;5;28mself\u001b[39m):\n\u001b[1;32m    377\u001b[0m   \u001b[38;5;28;01mif\u001b[39;00m cancellation_manager \u001b[38;5;129;01mis\u001b[39;00m \u001b[38;5;28;01mNone\u001b[39;00m:\n\u001b[0;32m--> 378\u001b[0m     outputs \u001b[38;5;241m=\u001b[39m \u001b[43mexecute\u001b[49m\u001b[38;5;241;43m.\u001b[39;49m\u001b[43mexecute\u001b[49m\u001b[43m(\u001b[49m\n\u001b[1;32m    379\u001b[0m \u001b[43m        \u001b[49m\u001b[38;5;28;43mstr\u001b[39;49m\u001b[43m(\u001b[49m\u001b[38;5;28;43mself\u001b[39;49m\u001b[38;5;241;43m.\u001b[39;49m\u001b[43msignature\u001b[49m\u001b[38;5;241;43m.\u001b[39;49m\u001b[43mname\u001b[49m\u001b[43m)\u001b[49m\u001b[43m,\u001b[49m\n\u001b[1;32m    380\u001b[0m \u001b[43m        \u001b[49m\u001b[43mnum_outputs\u001b[49m\u001b[38;5;241;43m=\u001b[39;49m\u001b[38;5;28;43mself\u001b[39;49m\u001b[38;5;241;43m.\u001b[39;49m\u001b[43m_num_outputs\u001b[49m\u001b[43m,\u001b[49m\n\u001b[1;32m    381\u001b[0m \u001b[43m        \u001b[49m\u001b[43minputs\u001b[49m\u001b[38;5;241;43m=\u001b[39;49m\u001b[43margs\u001b[49m\u001b[43m,\u001b[49m\n\u001b[1;32m    382\u001b[0m \u001b[43m        \u001b[49m\u001b[43mattrs\u001b[49m\u001b[38;5;241;43m=\u001b[39;49m\u001b[43mattrs\u001b[49m\u001b[43m,\u001b[49m\n\u001b[1;32m    383\u001b[0m \u001b[43m        \u001b[49m\u001b[43mctx\u001b[49m\u001b[38;5;241;43m=\u001b[39;49m\u001b[43mctx\u001b[49m\u001b[43m)\u001b[49m\n\u001b[1;32m    384\u001b[0m   \u001b[38;5;28;01melse\u001b[39;00m:\n\u001b[1;32m    385\u001b[0m     outputs \u001b[38;5;241m=\u001b[39m execute\u001b[38;5;241m.\u001b[39mexecute_with_cancellation(\n\u001b[1;32m    386\u001b[0m         \u001b[38;5;28mstr\u001b[39m(\u001b[38;5;28mself\u001b[39m\u001b[38;5;241m.\u001b[39msignature\u001b[38;5;241m.\u001b[39mname),\n\u001b[1;32m    387\u001b[0m         num_outputs\u001b[38;5;241m=\u001b[39m\u001b[38;5;28mself\u001b[39m\u001b[38;5;241m.\u001b[39m_num_outputs,\n\u001b[0;32m   (...)\u001b[0m\n\u001b[1;32m    390\u001b[0m         ctx\u001b[38;5;241m=\u001b[39mctx,\n\u001b[1;32m    391\u001b[0m         cancellation_manager\u001b[38;5;241m=\u001b[39mcancellation_manager)\n",
      "File \u001b[0;32m~/miniconda3/envs/ai310/lib/python3.10/site-packages/tensorflow/python/eager/execute.py:52\u001b[0m, in \u001b[0;36mquick_execute\u001b[0;34m(op_name, num_outputs, inputs, attrs, ctx, name)\u001b[0m\n\u001b[1;32m     50\u001b[0m \u001b[38;5;28;01mtry\u001b[39;00m:\n\u001b[1;32m     51\u001b[0m   ctx\u001b[38;5;241m.\u001b[39mensure_initialized()\n\u001b[0;32m---> 52\u001b[0m   tensors \u001b[38;5;241m=\u001b[39m \u001b[43mpywrap_tfe\u001b[49m\u001b[38;5;241;43m.\u001b[39;49m\u001b[43mTFE_Py_Execute\u001b[49m\u001b[43m(\u001b[49m\u001b[43mctx\u001b[49m\u001b[38;5;241;43m.\u001b[39;49m\u001b[43m_handle\u001b[49m\u001b[43m,\u001b[49m\u001b[43m \u001b[49m\u001b[43mdevice_name\u001b[49m\u001b[43m,\u001b[49m\u001b[43m \u001b[49m\u001b[43mop_name\u001b[49m\u001b[43m,\u001b[49m\n\u001b[1;32m     53\u001b[0m \u001b[43m                                      \u001b[49m\u001b[43minputs\u001b[49m\u001b[43m,\u001b[49m\u001b[43m \u001b[49m\u001b[43mattrs\u001b[49m\u001b[43m,\u001b[49m\u001b[43m \u001b[49m\u001b[43mnum_outputs\u001b[49m\u001b[43m)\u001b[49m\n\u001b[1;32m     54\u001b[0m \u001b[38;5;28;01mexcept\u001b[39;00m core\u001b[38;5;241m.\u001b[39m_NotOkStatusException \u001b[38;5;28;01mas\u001b[39;00m e:\n\u001b[1;32m     55\u001b[0m   \u001b[38;5;28;01mif\u001b[39;00m name \u001b[38;5;129;01mis\u001b[39;00m \u001b[38;5;129;01mnot\u001b[39;00m \u001b[38;5;28;01mNone\u001b[39;00m:\n",
      "\u001b[0;31mKeyboardInterrupt\u001b[0m: "
     ]
    }
   ],
   "source": [
    "history=model.fit(\n",
    "            traindata,\n",
    "        validation_data = validatedata,\n",
    "            #steps_per_epoch = 100,\n",
    "            epochs = 100,\n",
    "            #validation_steps = 50,\n",
    "            callbacks=[model_checkpoint_callback],\n",
    "            verbose = 2)"
   ]
  },
  {
   "cell_type": "code",
   "execution_count": 210,
   "metadata": {
    "ExecuteTime": {
     "end_time": "2023-02-18T10:08:11.503823Z",
     "start_time": "2023-02-18T10:08:11.420729Z"
    }
   },
   "outputs": [
    {
     "data": {
      "image/png": "[encoded data removed]",
      "text/plain": [
       "<Figure size 640x480 with 1 Axes>"
      ]
     },
     "metadata": {},
     "output_type": "display_data"
    },
    {
     "data": {
      "text/plain": [
       "<Figure size 640x480 with 0 Axes>"
      ]
     },
     "metadata": {},
     "output_type": "display_data"
    }
   ],
   "source": [
    "import matplotlib.pyplot as plt\n",
    "acc = history.history['root_mean_squared_error']\n",
    "val_acc = history.history['val_root_mean_squared_error']\n",
    "loss = history.history['loss']\n",
    "val_loss = history.history['val_loss']\n",
    "\n",
    "epochs = range(len(acc))\n",
    "\n",
    "plt.plot(epochs, acc, 'r', label='Training metric')\n",
    "plt.plot(epochs, val_acc, 'b', label='Validation metric')\n",
    "plt.title('Training and validation root_mean_squared_error')\n",
    "plt.legend(loc=0)\n",
    "plt.figure()\n",
    "\n",
    "\n",
    "plt.show()"
   ]
  },
  {
   "cell_type": "code",
   "execution_count": 214,
   "metadata": {
    "ExecuteTime": {
     "end_time": "2023-02-18T10:08:45.845660Z",
     "start_time": "2023-02-18T10:08:45.842888Z"
    }
   },
   "outputs": [],
   "source": [
    "\n",
    "\n",
    "# Set the learning rate scheduler\n",
    "lr_schedule = tf.keras.callbacks.LearningRateScheduler(\n",
    "    lambda epoch: 1e-8 * 10**(epoch / 20))\n",
    "\n"
   ]
  },
  {
   "cell_type": "code",
   "execution_count": 215,
   "metadata": {
    "ExecuteTime": {
     "end_time": "2023-02-18T10:11:57.940738Z",
     "start_time": "2023-02-18T10:08:45.978236Z"
    },
    "scrolled": true
   },
   "outputs": [
    {
     "name": "stdout",
     "output_type": "stream",
     "text": [
      "Epoch 1/100\n",
      "783/783 - 2s - loss: 860.8353 - root_mean_squared_error: 1066.6104 - val_loss: 220.3936 - val_root_mean_squared_error: 265.0178 - lr: 1.0000e-08 - 2s/epoch - 3ms/step\n",
      "Epoch 2/100\n",
      "783/783 - 2s - loss: 777.5468 - root_mean_squared_error: 982.2368 - val_loss: 209.7457 - val_root_mean_squared_error: 249.1093 - lr: 1.1220e-08 - 2s/epoch - 2ms/step\n",
      "Epoch 3/100\n",
      "783/783 - 2s - loss: 710.8957 - root_mean_squared_error: 898.0967 - val_loss: 199.6633 - val_root_mean_squared_error: 233.7155 - lr: 1.2589e-08 - 2s/epoch - 2ms/step\n",
      "Epoch 4/100\n",
      "783/783 - 2s - loss: 690.4170 - root_mean_squared_error: 884.5133 - val_loss: 191.1426 - val_root_mean_squared_error: 220.5994 - lr: 1.4125e-08 - 2s/epoch - 2ms/step\n",
      "Epoch 5/100\n",
      "783/783 - 2s - loss: 613.2546 - root_mean_squared_error: 800.5247 - val_loss: 183.8728 - val_root_mean_squared_error: 209.8885 - lr: 1.5849e-08 - 2s/epoch - 2ms/step\n",
      "Epoch 6/100\n",
      "783/783 - 2s - loss: 574.6234 - root_mean_squared_error: 749.2952 - val_loss: 177.9995 - val_root_mean_squared_error: 201.5227 - lr: 1.7783e-08 - 2s/epoch - 2ms/step\n",
      "Epoch 7/100\n",
      "783/783 - 2s - loss: 517.2958 - root_mean_squared_error: 700.1069 - val_loss: 173.3859 - val_root_mean_squared_error: 195.4872 - lr: 1.9953e-08 - 2s/epoch - 2ms/step\n",
      "Epoch 8/100\n",
      "783/783 - 2s - loss: 485.8020 - root_mean_squared_error: 666.1940 - val_loss: 170.4849 - val_root_mean_squared_error: 191.8916 - lr: 2.2387e-08 - 2s/epoch - 2ms/step\n",
      "Epoch 9/100\n",
      "783/783 - 2s - loss: 430.7404 - root_mean_squared_error: 585.9980 - val_loss: 168.9323 - val_root_mean_squared_error: 190.0554 - lr: 2.5119e-08 - 2s/epoch - 2ms/step\n",
      "Epoch 10/100\n",
      "783/783 - 2s - loss: 413.7609 - root_mean_squared_error: 563.4758 - val_loss: 167.9316 - val_root_mean_squared_error: 189.0685 - lr: 2.8184e-08 - 2s/epoch - 2ms/step\n",
      "Epoch 11/100\n",
      "783/783 - 2s - loss: 366.1425 - root_mean_squared_error: 521.8867 - val_loss: 167.0846 - val_root_mean_squared_error: 188.3644 - lr: 3.1623e-08 - 2s/epoch - 2ms/step\n",
      "Epoch 12/100\n",
      "783/783 - 2s - loss: 333.0344 - root_mean_squared_error: 461.0655 - val_loss: 166.4404 - val_root_mean_squared_error: 187.7404 - lr: 3.5481e-08 - 2s/epoch - 2ms/step\n",
      "Epoch 13/100\n",
      "783/783 - 2s - loss: 306.0823 - root_mean_squared_error: 426.8913 - val_loss: 165.8437 - val_root_mean_squared_error: 187.0819 - lr: 3.9811e-08 - 2s/epoch - 2ms/step\n",
      "Epoch 14/100\n",
      "783/783 - 2s - loss: 271.2326 - root_mean_squared_error: 369.8652 - val_loss: 165.1682 - val_root_mean_squared_error: 186.3354 - lr: 4.4668e-08 - 2s/epoch - 2ms/step\n",
      "Epoch 15/100\n",
      "783/783 - 2s - loss: 265.8701 - root_mean_squared_error: 374.3934 - val_loss: 164.4227 - val_root_mean_squared_error: 185.5116 - lr: 5.0119e-08 - 2s/epoch - 2ms/step\n",
      "Epoch 16/100\n",
      "783/783 - 2s - loss: 251.5426 - root_mean_squared_error: 353.1630 - val_loss: 163.5865 - val_root_mean_squared_error: 184.5856 - lr: 5.6234e-08 - 2s/epoch - 2ms/step\n",
      "Epoch 17/100\n",
      "783/783 - 2s - loss: 240.8517 - root_mean_squared_error: 338.1487 - val_loss: 162.6439 - val_root_mean_squared_error: 183.5414 - lr: 6.3096e-08 - 2s/epoch - 2ms/step\n",
      "Epoch 18/100\n",
      "783/783 - 2s - loss: 231.3047 - root_mean_squared_error: 303.8668 - val_loss: 161.5869 - val_root_mean_squared_error: 182.3709 - lr: 7.0795e-08 - 2s/epoch - 2ms/step\n",
      "Epoch 19/100\n",
      "783/783 - 2s - loss: 219.6861 - root_mean_squared_error: 293.8904 - val_loss: 160.4336 - val_root_mean_squared_error: 181.0941 - lr: 7.9433e-08 - 2s/epoch - 2ms/step\n",
      "Epoch 20/100\n",
      "783/783 - 2s - loss: 204.7737 - root_mean_squared_error: 269.1595 - val_loss: 159.1272 - val_root_mean_squared_error: 179.6452 - lr: 8.9125e-08 - 2s/epoch - 2ms/step\n",
      "Epoch 21/100\n",
      "783/783 - 2s - loss: 203.7882 - root_mean_squared_error: 268.2455 - val_loss: 157.6584 - val_root_mean_squared_error: 178.0146 - lr: 1.0000e-07 - 2s/epoch - 2ms/step\n",
      "Epoch 22/100\n",
      "783/783 - 2s - loss: 187.0646 - root_mean_squared_error: 236.7793 - val_loss: 156.0446 - val_root_mean_squared_error: 176.2262 - lr: 1.1220e-07 - 2s/epoch - 2ms/step\n",
      "Epoch 23/100\n",
      "783/783 - 2s - loss: 189.4896 - root_mean_squared_error: 252.0539 - val_loss: 154.2203 - val_root_mean_squared_error: 174.1942 - lr: 1.2589e-07 - 2s/epoch - 2ms/step\n",
      "Epoch 24/100\n",
      "783/783 - 2s - loss: 181.9096 - root_mean_squared_error: 220.8803 - val_loss: 152.2094 - val_root_mean_squared_error: 171.9515 - lr: 1.4125e-07 - 2s/epoch - 2ms/step\n",
      "Epoch 25/100\n",
      "783/783 - 2s - loss: 174.3598 - root_mean_squared_error: 211.8796 - val_loss: 149.9644 - val_root_mean_squared_error: 169.4564 - lr: 1.5849e-07 - 2s/epoch - 2ms/step\n",
      "Epoch 26/100\n",
      "783/783 - 2s - loss: 177.3247 - root_mean_squared_error: 229.1867 - val_loss: 147.5249 - val_root_mean_squared_error: 166.7342 - lr: 1.7783e-07 - 2s/epoch - 2ms/step\n",
      "Epoch 27/100\n",
      "783/783 - 2s - loss: 166.7538 - root_mean_squared_error: 197.2385 - val_loss: 144.8192 - val_root_mean_squared_error: 163.7073 - lr: 1.9953e-07 - 2s/epoch - 2ms/step\n",
      "Epoch 28/100\n",
      "783/783 - 2s - loss: 159.8698 - root_mean_squared_error: 182.8246 - val_loss: 141.8221 - val_root_mean_squared_error: 160.3554 - lr: 2.2387e-07 - 2s/epoch - 2ms/step\n",
      "Epoch 29/100\n",
      "783/783 - 2s - loss: 159.0984 - root_mean_squared_error: 190.6196 - val_loss: 138.5480 - val_root_mean_squared_error: 156.6811 - lr: 2.5119e-07 - 2s/epoch - 2ms/step\n",
      "Epoch 30/100\n",
      "783/783 - 2s - loss: 155.1582 - root_mean_squared_error: 178.4039 - val_loss: 134.9582 - val_root_mean_squared_error: 152.6375 - lr: 2.8184e-07 - 2s/epoch - 2ms/step\n",
      "Epoch 31/100\n",
      "783/783 - 2s - loss: 150.9267 - root_mean_squared_error: 174.2404 - val_loss: 131.0851 - val_root_mean_squared_error: 148.2628 - lr: 3.1623e-07 - 2s/epoch - 2ms/step\n",
      "Epoch 32/100\n",
      "783/783 - 2s - loss: 149.5736 - root_mean_squared_error: 183.4295 - val_loss: 126.8822 - val_root_mean_squared_error: 143.4827 - lr: 3.5481e-07 - 2s/epoch - 2ms/step\n",
      "Epoch 33/100\n",
      "783/783 - 2s - loss: 137.9943 - root_mean_squared_error: 157.0282 - val_loss: 122.4887 - val_root_mean_squared_error: 138.4818 - lr: 3.9811e-07 - 2s/epoch - 2ms/step\n",
      "Epoch 34/100\n",
      "783/783 - 2s - loss: 133.9324 - root_mean_squared_error: 150.8858 - val_loss: 117.6921 - val_root_mean_squared_error: 132.9787 - lr: 4.4668e-07 - 2s/epoch - 2ms/step\n",
      "Epoch 35/100\n",
      "783/783 - 2s - loss: 131.0367 - root_mean_squared_error: 150.6485 - val_loss: 112.6467 - val_root_mean_squared_error: 127.1638 - lr: 5.0119e-07 - 2s/epoch - 2ms/step\n",
      "Epoch 36/100\n",
      "783/783 - 2s - loss: 125.1100 - root_mean_squared_error: 141.9487 - val_loss: 107.3062 - val_root_mean_squared_error: 120.9729 - lr: 5.6234e-07 - 2s/epoch - 2ms/step\n",
      "Epoch 37/100\n",
      "783/783 - 2s - loss: 119.8629 - root_mean_squared_error: 137.8434 - val_loss: 101.8975 - val_root_mean_squared_error: 114.6776 - lr: 6.3096e-07 - 2s/epoch - 2ms/step\n",
      "Epoch 38/100\n",
      "783/783 - 2s - loss: 116.9127 - root_mean_squared_error: 135.7118 - val_loss: 96.3594 - val_root_mean_squared_error: 108.1959 - lr: 7.0795e-07 - 2s/epoch - 2ms/step\n",
      "Epoch 39/100\n",
      "783/783 - 2s - loss: 108.8995 - root_mean_squared_error: 127.3280 - val_loss: 91.0146 - val_root_mean_squared_error: 101.9628 - lr: 7.9433e-07 - 2s/epoch - 2ms/step\n",
      "Epoch 40/100\n",
      "783/783 - 2s - loss: 99.3374 - root_mean_squared_error: 110.8049 - val_loss: 85.8700 - val_root_mean_squared_error: 95.9999 - lr: 8.9125e-07 - 2s/epoch - 2ms/step\n",
      "Epoch 41/100\n",
      "783/783 - 2s - loss: 94.8027 - root_mean_squared_error: 104.7231 - val_loss: 80.6847 - val_root_mean_squared_error: 90.0373 - lr: 1.0000e-06 - 2s/epoch - 2ms/step\n",
      "Epoch 42/100\n",
      "783/783 - 2s - loss: 90.9688 - root_mean_squared_error: 101.2949 - val_loss: 75.8898 - val_root_mean_squared_error: 84.5825 - lr: 1.1220e-06 - 2s/epoch - 2ms/step\n",
      "Epoch 43/100\n",
      "783/783 - 2s - loss: 83.9772 - root_mean_squared_error: 91.4063 - val_loss: 71.7422 - val_root_mean_squared_error: 80.0134 - lr: 1.2589e-06 - 2s/epoch - 2ms/step\n",
      "Epoch 44/100\n",
      "783/783 - 2s - loss: 79.4241 - root_mean_squared_error: 86.4414 - val_loss: 68.4798 - val_root_mean_squared_error: 76.5055 - lr: 1.4125e-06 - 2s/epoch - 2ms/step\n",
      "Epoch 45/100\n",
      "783/783 - 2s - loss: 75.3264 - root_mean_squared_error: 81.1678 - val_loss: 65.9807 - val_root_mean_squared_error: 73.8573 - lr: 1.5849e-06 - 2s/epoch - 2ms/step\n",
      "Epoch 46/100\n",
      "783/783 - 2s - loss: 73.0393 - root_mean_squared_error: 77.9714 - val_loss: 63.9979 - val_root_mean_squared_error: 71.9045 - lr: 1.7783e-06 - 2s/epoch - 2ms/step\n"
     ]
    },
    {
     "name": "stdout",
     "output_type": "stream",
     "text": [
      "Epoch 47/100\n",
      "783/783 - 2s - loss: 69.0590 - root_mean_squared_error: 74.1315 - val_loss: 62.8730 - val_root_mean_squared_error: 70.8816 - lr: 1.9953e-06 - 2s/epoch - 3ms/step\n",
      "Epoch 48/100\n",
      "783/783 - 2s - loss: 67.4469 - root_mean_squared_error: 71.5693 - val_loss: 62.1013 - val_root_mean_squared_error: 70.2471 - lr: 2.2387e-06 - 2s/epoch - 3ms/step\n",
      "Epoch 49/100\n",
      "783/783 - 2s - loss: 64.8356 - root_mean_squared_error: 68.8549 - val_loss: 61.6847 - val_root_mean_squared_error: 69.9332 - lr: 2.5119e-06 - 2s/epoch - 3ms/step\n",
      "Epoch 50/100\n",
      "783/783 - 2s - loss: 64.0239 - root_mean_squared_error: 67.8325 - val_loss: 61.2678 - val_root_mean_squared_error: 69.6318 - lr: 2.8184e-06 - 2s/epoch - 3ms/step\n",
      "Epoch 51/100\n",
      "783/783 - 2s - loss: 62.7078 - root_mean_squared_error: 66.3458 - val_loss: 60.9843 - val_root_mean_squared_error: 69.4290 - lr: 3.1623e-06 - 2s/epoch - 3ms/step\n",
      "Epoch 52/100\n",
      "783/783 - 2s - loss: 61.7525 - root_mean_squared_error: 65.3770 - val_loss: 60.5129 - val_root_mean_squared_error: 69.0530 - lr: 3.5481e-06 - 2s/epoch - 3ms/step\n",
      "Epoch 53/100\n",
      "783/783 - 2s - loss: 61.7262 - root_mean_squared_error: 65.3577 - val_loss: 60.2826 - val_root_mean_squared_error: 68.8733 - lr: 3.9811e-06 - 2s/epoch - 3ms/step\n",
      "Epoch 54/100\n",
      "783/783 - 2s - loss: 61.9683 - root_mean_squared_error: 73.4155 - val_loss: 59.6795 - val_root_mean_squared_error: 68.3449 - lr: 4.4668e-06 - 2s/epoch - 3ms/step\n",
      "Epoch 55/100\n",
      "783/783 - 2s - loss: 59.9169 - root_mean_squared_error: 63.5130 - val_loss: 59.3473 - val_root_mean_squared_error: 68.0492 - lr: 5.0119e-06 - 2s/epoch - 3ms/step\n",
      "Epoch 56/100\n",
      "783/783 - 2s - loss: 59.5164 - root_mean_squared_error: 63.1681 - val_loss: 58.9906 - val_root_mean_squared_error: 67.7242 - lr: 5.6234e-06 - 2s/epoch - 3ms/step\n",
      "Epoch 57/100\n",
      "783/783 - 2s - loss: 59.1452 - root_mean_squared_error: 62.9452 - val_loss: 58.7239 - val_root_mean_squared_error: 67.4826 - lr: 6.3096e-06 - 2s/epoch - 3ms/step\n",
      "Epoch 58/100\n",
      "783/783 - 2s - loss: 58.7253 - root_mean_squared_error: 62.4325 - val_loss: 58.5858 - val_root_mean_squared_error: 67.3295 - lr: 7.0795e-06 - 2s/epoch - 3ms/step\n",
      "Epoch 59/100\n",
      "783/783 - 2s - loss: 58.1853 - root_mean_squared_error: 62.5194 - val_loss: 58.3745 - val_root_mean_squared_error: 67.1171 - lr: 7.9433e-06 - 2s/epoch - 3ms/step\n",
      "Epoch 60/100\n",
      "783/783 - 2s - loss: 57.6363 - root_mean_squared_error: 61.4561 - val_loss: 58.3383 - val_root_mean_squared_error: 67.0991 - lr: 8.9125e-06 - 2s/epoch - 3ms/step\n",
      "Epoch 61/100\n",
      "783/783 - 2s - loss: 57.3186 - root_mean_squared_error: 61.1431 - val_loss: 58.2386 - val_root_mean_squared_error: 66.9743 - lr: 1.0000e-05 - 2s/epoch - 2ms/step\n",
      "Epoch 62/100\n",
      "783/783 - 2s - loss: 56.9022 - root_mean_squared_error: 60.6980 - val_loss: 58.2150 - val_root_mean_squared_error: 66.9818 - lr: 1.1220e-05 - 2s/epoch - 2ms/step\n",
      "Epoch 63/100\n",
      "783/783 - 2s - loss: 56.6387 - root_mean_squared_error: 60.5195 - val_loss: 58.1325 - val_root_mean_squared_error: 66.8989 - lr: 1.2589e-05 - 2s/epoch - 3ms/step\n",
      "Epoch 64/100\n",
      "783/783 - 2s - loss: 56.4310 - root_mean_squared_error: 60.3249 - val_loss: 58.0564 - val_root_mean_squared_error: 66.8384 - lr: 1.4125e-05 - 2s/epoch - 3ms/step\n",
      "Epoch 65/100\n",
      "783/783 - 2s - loss: 56.0779 - root_mean_squared_error: 60.0695 - val_loss: 57.9936 - val_root_mean_squared_error: 66.7903 - lr: 1.5849e-05 - 2s/epoch - 3ms/step\n",
      "Epoch 66/100\n",
      "783/783 - 2s - loss: 55.9848 - root_mean_squared_error: 59.9070 - val_loss: 57.9536 - val_root_mean_squared_error: 66.7451 - lr: 1.7783e-05 - 2s/epoch - 2ms/step\n",
      "Epoch 67/100\n",
      "783/783 - 2s - loss: 55.8509 - root_mean_squared_error: 59.7287 - val_loss: 57.8665 - val_root_mean_squared_error: 66.6600 - lr: 1.9953e-05 - 2s/epoch - 2ms/step\n",
      "Epoch 68/100\n",
      "783/783 - 2s - loss: 55.7385 - root_mean_squared_error: 59.7168 - val_loss: 57.8224 - val_root_mean_squared_error: 66.6341 - lr: 2.2387e-05 - 2s/epoch - 2ms/step\n",
      "Epoch 69/100\n",
      "783/783 - 2s - loss: 55.5667 - root_mean_squared_error: 59.5651 - val_loss: 57.7835 - val_root_mean_squared_error: 66.5981 - lr: 2.5119e-05 - 2s/epoch - 2ms/step\n",
      "Epoch 70/100\n",
      "783/783 - 2s - loss: 55.5910 - root_mean_squared_error: 59.5264 - val_loss: 57.7055 - val_root_mean_squared_error: 66.5402 - lr: 2.8184e-05 - 2s/epoch - 2ms/step\n",
      "Epoch 71/100\n",
      "783/783 - 2s - loss: 55.2367 - root_mean_squared_error: 59.2761 - val_loss: 57.6151 - val_root_mean_squared_error: 66.4295 - lr: 3.1623e-05 - 2s/epoch - 2ms/step\n",
      "Epoch 72/100\n",
      "783/783 - 2s - loss: 55.1246 - root_mean_squared_error: 59.1003 - val_loss: 57.5385 - val_root_mean_squared_error: 66.3585 - lr: 3.5481e-05 - 2s/epoch - 2ms/step\n",
      "Epoch 73/100\n",
      "783/783 - 2s - loss: 54.9772 - root_mean_squared_error: 58.9164 - val_loss: 57.5609 - val_root_mean_squared_error: 66.3928 - lr: 3.9811e-05 - 2s/epoch - 2ms/step\n",
      "Epoch 74/100\n",
      "783/783 - 2s - loss: 54.9418 - root_mean_squared_error: 58.9023 - val_loss: 57.5470 - val_root_mean_squared_error: 66.3710 - lr: 4.4668e-05 - 2s/epoch - 2ms/step\n",
      "Epoch 75/100\n",
      "783/783 - 2s - loss: 54.8680 - root_mean_squared_error: 58.8594 - val_loss: 57.5255 - val_root_mean_squared_error: 66.3465 - lr: 5.0119e-05 - 2s/epoch - 2ms/step\n",
      "Epoch 76/100\n",
      "783/783 - 2s - loss: 54.6977 - root_mean_squared_error: 58.7001 - val_loss: 57.4397 - val_root_mean_squared_error: 66.2261 - lr: 5.6234e-05 - 2s/epoch - 2ms/step\n",
      "Epoch 77/100\n",
      "783/783 - 2s - loss: 54.5628 - root_mean_squared_error: 58.5718 - val_loss: 57.4133 - val_root_mean_squared_error: 66.2024 - lr: 6.3096e-05 - 2s/epoch - 2ms/step\n",
      "Epoch 78/100\n",
      "783/783 - 2s - loss: 54.5377 - root_mean_squared_error: 58.5522 - val_loss: 57.3293 - val_root_mean_squared_error: 66.1261 - lr: 7.0795e-05 - 2s/epoch - 2ms/step\n",
      "Epoch 79/100\n",
      "783/783 - 2s - loss: 54.3703 - root_mean_squared_error: 58.3916 - val_loss: 57.2904 - val_root_mean_squared_error: 66.1060 - lr: 7.9433e-05 - 2s/epoch - 2ms/step\n",
      "Epoch 80/100\n",
      "783/783 - 2s - loss: 54.2819 - root_mean_squared_error: 58.2869 - val_loss: 57.1641 - val_root_mean_squared_error: 65.9263 - lr: 8.9125e-05 - 2s/epoch - 2ms/step\n",
      "Epoch 81/100\n",
      "783/783 - 2s - loss: 54.1573 - root_mean_squared_error: 58.1811 - val_loss: 57.2105 - val_root_mean_squared_error: 65.9922 - lr: 1.0000e-04 - 2s/epoch - 2ms/step\n",
      "Epoch 82/100\n",
      "783/783 - 2s - loss: 53.9446 - root_mean_squared_error: 57.9689 - val_loss: 56.9728 - val_root_mean_squared_error: 65.7252 - lr: 1.1220e-04 - 2s/epoch - 2ms/step\n",
      "Epoch 83/100\n",
      "783/783 - 2s - loss: 53.7246 - root_mean_squared_error: 57.6973 - val_loss: 56.8226 - val_root_mean_squared_error: 65.6745 - lr: 1.2589e-04 - 2s/epoch - 2ms/step\n",
      "Epoch 84/100\n",
      "783/783 - 2s - loss: 53.4129 - root_mean_squared_error: 57.4512 - val_loss: 56.6365 - val_root_mean_squared_error: 65.4730 - lr: 1.4125e-04 - 2s/epoch - 2ms/step\n",
      "Epoch 85/100\n",
      "783/783 - 2s - loss: 53.7591 - root_mean_squared_error: 59.3149 - val_loss: 56.2576 - val_root_mean_squared_error: 65.0908 - lr: 1.5849e-04 - 2s/epoch - 3ms/step\n",
      "Epoch 86/100\n",
      "783/783 - 2s - loss: 52.6203 - root_mean_squared_error: 56.6551 - val_loss: 55.6611 - val_root_mean_squared_error: 64.6852 - lr: 1.7783e-04 - 2s/epoch - 3ms/step\n",
      "Epoch 87/100\n",
      "783/783 - 2s - loss: 51.9991 - root_mean_squared_error: 56.1118 - val_loss: 55.1400 - val_root_mean_squared_error: 64.1571 - lr: 1.9953e-04 - 2s/epoch - 3ms/step\n",
      "Epoch 88/100\n",
      "783/783 - 2s - loss: 51.7747 - root_mean_squared_error: 55.8911 - val_loss: 54.9578 - val_root_mean_squared_error: 64.0313 - lr: 2.2387e-04 - 2s/epoch - 3ms/step\n",
      "Epoch 89/100\n",
      "783/783 - 2s - loss: 51.5618 - root_mean_squared_error: 55.7163 - val_loss: 55.0198 - val_root_mean_squared_error: 64.0583 - lr: 2.5119e-04 - 2s/epoch - 3ms/step\n",
      "Epoch 90/100\n",
      "783/783 - 2s - loss: 51.5080 - root_mean_squared_error: 55.7001 - val_loss: 54.8738 - val_root_mean_squared_error: 63.8994 - lr: 2.8184e-04 - 2s/epoch - 3ms/step\n",
      "Epoch 91/100\n",
      "783/783 - 2s - loss: 51.4603 - root_mean_squared_error: 55.6189 - val_loss: 54.8587 - val_root_mean_squared_error: 63.9538 - lr: 3.1623e-04 - 2s/epoch - 3ms/step\n",
      "Epoch 92/100\n",
      "783/783 - 2s - loss: 51.4568 - root_mean_squared_error: 55.5921 - val_loss: 54.8119 - val_root_mean_squared_error: 63.9068 - lr: 3.5481e-04 - 2s/epoch - 3ms/step\n",
      "Epoch 93/100\n",
      "783/783 - 2s - loss: 51.4952 - root_mean_squared_error: 55.6698 - val_loss: 54.7028 - val_root_mean_squared_error: 63.7686 - lr: 3.9811e-04 - 2s/epoch - 3ms/step\n"
     ]
    },
    {
     "name": "stdout",
     "output_type": "stream",
     "text": [
      "Epoch 94/100\n",
      "783/783 - 3s - loss: 51.3465 - root_mean_squared_error: 55.5085 - val_loss: 54.7267 - val_root_mean_squared_error: 63.7910 - lr: 4.4668e-04 - 3s/epoch - 3ms/step\n",
      "Epoch 95/100\n",
      "783/783 - 2s - loss: 51.3904 - root_mean_squared_error: 55.5458 - val_loss: 54.8160 - val_root_mean_squared_error: 63.8257 - lr: 5.0119e-04 - 2s/epoch - 3ms/step\n",
      "Epoch 96/100\n",
      "783/783 - 2s - loss: 51.3161 - root_mean_squared_error: 55.4636 - val_loss: 54.7800 - val_root_mean_squared_error: 63.8833 - lr: 5.6234e-04 - 2s/epoch - 3ms/step\n",
      "Epoch 97/100\n",
      "783/783 - 2s - loss: 51.2449 - root_mean_squared_error: 55.4049 - val_loss: 54.8677 - val_root_mean_squared_error: 63.8997 - lr: 6.3096e-04 - 2s/epoch - 3ms/step\n",
      "Epoch 98/100\n",
      "783/783 - 2s - loss: 51.4154 - root_mean_squared_error: 55.5407 - val_loss: 54.7999 - val_root_mean_squared_error: 63.9237 - lr: 7.0795e-04 - 2s/epoch - 3ms/step\n",
      "Epoch 99/100\n",
      "783/783 - 2s - loss: 51.2472 - root_mean_squared_error: 55.4124 - val_loss: 54.8957 - val_root_mean_squared_error: 63.9315 - lr: 7.9433e-04 - 2s/epoch - 3ms/step\n",
      "Epoch 100/100\n",
      "783/783 - 2s - loss: 51.3502 - root_mean_squared_error: 55.5303 - val_loss: 55.1096 - val_root_mean_squared_error: 64.1554 - lr: 8.9125e-04 - 2s/epoch - 3ms/step\n"
     ]
    }
   ],
   "source": [
    "history=model.fit(\n",
    "        traindata,\n",
    "        validation_data = validatedata,\n",
    "        #steps_per_epoch = 100,\n",
    "        epochs = 100,\n",
    "        #validation_steps = 50,\n",
    "        verbose = 2,\n",
    "        callbacks=[lr_schedule])"
   ]
  },
  {
   "cell_type": "code",
   "execution_count": 216,
   "metadata": {
    "ExecuteTime": {
     "end_time": "2023-02-18T10:12:55.640990Z",
     "start_time": "2023-02-18T10:12:55.446007Z"
    }
   },
   "outputs": [
    {
     "data": {
      "image/png": "[encoded data removed]",
      "text/plain": [
       "<Figure size 1000x600 with 1 Axes>"
      ]
     },
     "metadata": {},
     "output_type": "display_data"
    }
   ],
   "source": [
    "# Define the learning rate array\n",
    "lrs = 1e-8 * (10 ** (np.arange(100) / 20))\n",
    "\n",
    "# Set the figure size\n",
    "plt.figure(figsize=(10, 6))\n",
    "\n",
    "# Set the grid\n",
    "plt.grid(True)\n",
    "\n",
    "# Plot the loss in log scale\n",
    "plt.semilogx(lrs, history.history[\"loss\"])\n",
    "\n",
    "# Increase the tickmarks size\n",
    "plt.tick_params('both', length=10, width=1, which='both')\n",
    "\n",
    "# Set the plot boundaries\n",
    "#plt.axis([1e-8, 1e-3, 0, 300])"
   ]
  },
  {
   "cell_type": "code",
   "execution_count": 159,
   "metadata": {
    "ExecuteTime": {
     "end_time": "2023-02-10T22:38:25.760250Z",
     "start_time": "2023-02-10T22:38:25.758485Z"
    },
    "colab": {
     "base_uri": "https://localhost:8080/"
    },
    "executionInfo": {
     "elapsed": 683,
     "status": "ok",
     "timestamp": 1674723386245,
     "user": {
      "displayName": "Nelson Mganga",
      "userId": "15984282569117459010"
     },
     "user_tz": -180
    },
    "id": "61dZDV4Dmx-h",
    "outputId": "d27f2c70-ac67-4309-a9bb-3d0625213bbc"
   },
   "outputs": [],
   "source": [
    "# predict\n",
    "#pred_train = pipe.predict(train_images)\n",
    "\n",
    "# train mse error\n",
    "#mse = mean_squared_error(train_biomasses, pred_train) \n",
    "#mse\n",
    "#rmse = np.sqrt(mse)"
   ]
  },
  {
   "cell_type": "code",
   "execution_count": 19,
   "metadata": {
    "ExecuteTime": {
     "end_time": "2023-02-09T23:22:42.218443Z",
     "start_time": "2023-02-09T23:22:42.068209Z"
    },
    "colab": {
     "base_uri": "https://localhost:8080/"
    },
    "executionInfo": {
     "elapsed": 3,
     "status": "ok",
     "timestamp": 1674723386245,
     "user": {
      "displayName": "Nelson Mganga",
      "userId": "15984282569117459010"
     },
     "user_tz": -180
    },
    "id": "T17ZqXTop6DJ",
    "outputId": "c38c43a0-719d-477d-f241-5edf2dcc918b"
   },
   "outputs": [
    {
     "data": {
      "text/plain": [
       "3961.942859655493"
      ]
     },
     "execution_count": 19,
     "metadata": {},
     "output_type": "execute_result"
    }
   ],
   "source": [
    "# predict\n",
    "#pred_validate = pipe.predict(validate_images)\n",
    "\n",
    "#  validate mse error\n",
    "#mse = mean_squared_error(validate_biomasses, pred_validate) \n",
    "#mse\n",
    "#rmse = np.sqrt(mse)\n",
    "3961.942859655493"
   ]
  },
  {
   "cell_type": "markdown",
   "metadata": {
    "id": "MjL1gMrGqSwY"
   },
   "source": [
    "### Gridsearch"
   ]
  },
  {
   "cell_type": "markdown",
   "metadata": {
    "colab": {
     "base_uri": "https://localhost:8080/",
     "height": 70
    },
    "executionInfo": {
     "elapsed": 3,
     "status": "ok",
     "timestamp": 1674652238306,
     "user": {
      "displayName": "Nelson Mganga",
      "userId": "15984282569117459010"
     },
     "user_tz": -180
    },
    "id": "bZZ00__izp6T",
    "outputId": "a1919452-072f-4d52-bf9b-6c113589e490"
   },
   "source": [
    " Initiaze the hyperparameters for each dictionary\n",
    "param1 = {}\n",
    "param1['classifier'] = [LinearRegression()]\n",
    "\n",
    "param2 = {}\n",
    "param2['classifier__alpha'] = [0.1, 0.5, 1]\n",
    "param2['classifier'] = [Ridge()]\n",
    "\n",
    "param3 = {}\n",
    "param3['classifier__alpha'] = [0.1, 0.5, 1]\n",
    "param3['classifier'] = [Lasso()]\n",
    "\n",
    "param4 = {}\n",
    "param4['classifier__n_neighbors'] = [2,5,10,25,50]\n",
    "param4['classifier'] = [KNeighborsRegressor()]\n",
    "\n",
    "\"\"\"\n",
    "param5 = {}\n",
    "param5['classifier__C'] = [10**-2, 10**-1, 10**0, 10**1, 10**2]\n",
    "param5['classifier__epsilon'] = [0.0,0.2,0.5,1]\n",
    "param5['classifier'] = [LinearSVR()]\n",
    "\"\"\""
   ]
  },
  {
   "cell_type": "markdown",
   "metadata": {
    "id": "ptJz-yeCNYzM"
   },
   "source": [
    "pipeline = pipe = Pipeline(steps=[(\"scaler\", CustomScaler(MEAN,STD)),\n",
    "                       (\"flatten\", FlattenTransformer()),\n",
    "                       (\"classifier\", LinearRegression())])\n",
    "params = [param1, param2, param3, param4] # param5\n"
   ]
  },
  {
   "cell_type": "markdown",
   "metadata": {
    "id": "f3NqYDHctRC5"
   },
   "source": [
    " Train the grid search model\n",
    "grid_search = GridSearchCV(pipeline, params, cv=3, scoring='neg_mean_squared_error').fit(train_images,train_biomasses)"
   ]
  },
  {
   "cell_type": "markdown",
   "metadata": {
    "ExecuteTime": {
     "end_time": "2023-02-10T22:22:37.938405Z",
     "start_time": "2023-02-10T22:22:37.930388Z"
    },
    "id": "GKM3uy2Cth2W"
   },
   "source": [
    " Best performing model and its corresponding hyperparameters\n",
    "grid_search.best_params_"
   ]
  },
  {
   "cell_type": "markdown",
   "metadata": {
    "id": "Ohdx1LKttk2y"
   },
   "source": [
    "model = grid_search.best_estimator_\n",
    " predict\n",
    "pred = model.predict(train_images)\n",
    "\n",
    " validate mse error\n",
    "mse = mean_squared_error(train_biomasses, pred) \n",
    "rmse = np.sqrt(mse)\n",
    "\n",
    "print(mse, rmse)\n",
    "\n",
    "model = grid_search.best_estimator_\n",
    " predict\n",
    "pred = model.predict(validate_images)\n",
    "\n",
    " validate mse error\n",
    "mse = mean_squared_error(validate_biomasses, pred) \n",
    "rmse = np.sqrt(mse)\n",
    "\n",
    "print(mse, rmse)"
   ]
  },
  {
   "cell_type": "markdown",
   "metadata": {
    "id": "pdAypOP5BkR_"
   },
   "source": [
    "### Predict GIZ Biomass"
   ]
  },
  {
   "cell_type": "code",
   "execution_count": 122,
   "metadata": {
    "ExecuteTime": {
     "end_time": "2023-02-12T16:08:45.504500Z",
     "start_time": "2023-02-12T16:08:45.499989Z"
    },
    "executionInfo": {
     "elapsed": 416,
     "status": "ok",
     "timestamp": 1674723578973,
     "user": {
      "displayName": "Nelson Mganga",
      "userId": "15984282569117459010"
     },
     "user_tz": -180
    },
    "id": "5LDX4p2XBoz2"
   },
   "outputs": [],
   "source": [
    "s2_images_h5 = h5py.File(\"./data/images_test.h5\", \"r\")"
   ]
  },
  {
   "cell_type": "code",
   "execution_count": 215,
   "metadata": {
    "ExecuteTime": {
     "end_time": "2023-02-12T17:21:39.235818Z",
     "start_time": "2023-02-12T17:21:39.212507Z"
    }
   },
   "outputs": [
    {
     "data": {
      "text/plain": [
       "<tensorflow.python.checkpoint.checkpoint.CheckpointLoadStatus at 0x7f22fffd4b80>"
      ]
     },
     "execution_count": 215,
     "metadata": {},
     "output_type": "execute_result"
    }
   ],
   "source": [
    "model.load_weights(checkpoint_filepath)\n"
   ]
  },
  {
   "cell_type": "code",
   "execution_count": 203,
   "metadata": {
    "ExecuteTime": {
     "end_time": "2023-02-12T17:15:08.277587Z",
     "start_time": "2023-02-12T17:15:08.273817Z"
    }
   },
   "outputs": [
    {
     "data": {
      "text/plain": [
       "<KeysViewHDF5 ['agbd', 'cloud', 'images', 'lat', 'lon', 'scl']>"
      ]
     },
     "execution_count": 203,
     "metadata": {},
     "output_type": "execute_result"
    }
   ],
   "source": [
    "testset.keys()"
   ]
  },
  {
   "cell_type": "code",
   "execution_count": 141,
   "metadata": {
    "ExecuteTime": {
     "end_time": "2023-02-12T16:35:47.718474Z",
     "start_time": "2023-02-12T16:35:47.697724Z"
    }
   },
   "outputs": [],
   "source": [
    "testimg=tf.data.Dataset.from_tensor_slices(test_images)\n",
    "\n",
    "testlat=tf.data.Dataset.from_tensor_slices(test_lat[:,:,0].reshape((-1,15)))\n",
    "testlon=tf.data.Dataset.from_tensor_slices(test_lon[:,:,0].reshape((-1,15)))\n",
    "testdata=tf.data.Dataset.zip((testimg,testlat, testlon)).batch(32)\n"
   ]
  },
  {
   "cell_type": "code",
   "execution_count": 354,
   "metadata": {
    "ExecuteTime": {
     "end_time": "2023-02-12T05:11:56.544471Z",
     "start_time": "2023-02-12T05:11:56.539709Z"
    },
    "executionInfo": {
     "elapsed": 1,
     "status": "ok",
     "timestamp": 1674723580772,
     "user": {
      "displayName": "Nelson Mganga",
      "userId": "15984282569117459010"
     },
     "user_tz": -180
    },
    "id": "PG3shy0oDS4A"
   },
   "outputs": [],
   "source": [
    "#prepare test set sentinel 2 images \n",
    "#s2_images = np.array(s2_images_h5[\"images\"])\n",
    "#s2_images = s2_images.transpose(0,3,1,2)"
   ]
  },
  {
   "cell_type": "code",
   "execution_count": 216,
   "metadata": {
    "ExecuteTime": {
     "end_time": "2023-02-12T17:21:43.898850Z",
     "start_time": "2023-02-12T17:21:43.525166Z"
    }
   },
   "outputs": [
    {
     "name": "stdout",
     "output_type": "stream",
     "text": [
      "162/162 [==============================] - 0s 2ms/step - loss: 56.9318 - root_mean_squared_error: 65.7728\n"
     ]
    },
    {
     "data": {
      "text/plain": [
       "(56.93183517456055, 65.77277374267578)"
      ]
     },
     "execution_count": 216,
     "metadata": {},
     "output_type": "execute_result"
    }
   ],
   "source": [
    "loss_eval, rmse_eval=model.evaluate(validatedata)\n",
    "loss_eval, rmse_eval\n",
    "#(54.43159866333008, 63.476097106933594)"
   ]
  },
  {
   "cell_type": "code",
   "execution_count": 217,
   "metadata": {
    "ExecuteTime": {
     "end_time": "2023-02-12T17:21:54.086334Z",
     "start_time": "2023-02-12T17:21:54.082561Z"
    }
   },
   "outputs": [
    {
     "data": {
      "text/plain": [
       "['loss', 'root_mean_squared_error']"
      ]
     },
     "execution_count": 217,
     "metadata": {},
     "output_type": "execute_result"
    }
   ],
   "source": [
    "model.metrics_names "
   ]
  },
  {
   "cell_type": "code",
   "execution_count": 219,
   "metadata": {
    "ExecuteTime": {
     "end_time": "2023-02-12T17:22:01.669434Z",
     "start_time": "2023-02-12T17:22:01.362781Z"
    },
    "executionInfo": {
     "elapsed": 2,
     "status": "ok",
     "timestamp": 1674723582520,
     "user": {
      "displayName": "Nelson Mganga",
      "userId": "15984282569117459010"
     },
     "user_tz": -180
    },
    "id": "F5uan3E8DpEU"
   },
   "outputs": [
    {
     "name": "stdout",
     "output_type": "stream",
     "text": [
      "163/163 [==============================] - 0s 1ms/step\n"
     ]
    },
    {
     "data": {
      "text/plain": [
       "(5190, 1)"
      ]
     },
     "execution_count": 219,
     "metadata": {},
     "output_type": "execute_result"
    }
   ],
   "source": [
    "# predict on giz test data\n",
    "pred_giz = model.predict([test_images,test_lat[:,:,0].reshape((-1,15)), test_lon[:,:,0].reshape((-1,15)) ])\n",
    "pred_giz.shape"
   ]
  },
  {
   "cell_type": "code",
   "execution_count": 220,
   "metadata": {
    "ExecuteTime": {
     "end_time": "2023-02-12T17:22:01.889547Z",
     "start_time": "2023-02-12T17:22:01.886042Z"
    }
   },
   "outputs": [
    {
     "data": {
      "text/plain": [
       "71.258865"
      ]
     },
     "execution_count": 220,
     "metadata": {},
     "output_type": "execute_result"
    }
   ],
   "source": [
    "pred_giz.max()"
   ]
  },
  {
   "cell_type": "code",
   "execution_count": 221,
   "metadata": {
    "ExecuteTime": {
     "end_time": "2023-02-12T17:22:02.431085Z",
     "start_time": "2023-02-12T17:22:02.428099Z"
    }
   },
   "outputs": [],
   "source": [
    "pred_giz=pred_giz.reshape(1,-1)[0]"
   ]
  },
  {
   "cell_type": "code",
   "execution_count": 222,
   "metadata": {
    "ExecuteTime": {
     "end_time": "2023-02-12T17:22:02.958182Z",
     "start_time": "2023-02-12T17:22:02.951214Z"
    },
    "executionInfo": {
     "elapsed": 427,
     "status": "ok",
     "timestamp": 1674723586040,
     "user": {
      "displayName": "Nelson Mganga",
      "userId": "15984282569117459010"
     },
     "user_tz": -180
    },
    "id": "WD4IyJWvGgzo"
   },
   "outputs": [],
   "source": [
    "ID_S2_pair = pd.read_csv('./data/UniqueID-SentinelPair.csv')\n",
    "\n",
    "preds = pd.DataFrame({'Target':pred_giz}).rename_axis('S2_idx').reset_index()\n",
    "preds = ID_S2_pair.merge(preds, on='S2_idx').drop(columns=['S2_idx'])"
   ]
  },
  {
   "cell_type": "code",
   "execution_count": 223,
   "metadata": {
    "ExecuteTime": {
     "end_time": "2023-02-12T17:22:04.204415Z",
     "start_time": "2023-02-12T17:22:04.200544Z"
    },
    "executionInfo": {
     "elapsed": 450,
     "status": "ok",
     "timestamp": 1674723608727,
     "user": {
      "displayName": "Nelson Mganga",
      "userId": "15984282569117459010"
     },
     "user_tz": -180
    },
    "id": "_zMlJsmG-rMO"
   },
   "outputs": [],
   "source": [
    "\n",
    "preds.to_csv(f'GIZ_Biomass_predictions_{rmse_eval}.csv', index=False)"
   ]
  },
  {
   "cell_type": "code",
   "execution_count": 224,
   "metadata": {
    "ExecuteTime": {
     "end_time": "2023-02-12T17:22:05.975551Z",
     "start_time": "2023-02-12T17:22:05.968844Z"
    },
    "colab": {
     "base_uri": "https://localhost:8080/",
     "height": 424
    },
    "executionInfo": {
     "elapsed": 524,
     "status": "ok",
     "timestamp": 1674723601203,
     "user": {
      "displayName": "Nelson Mganga",
      "userId": "15984282569117459010"
     },
     "user_tz": -180
    },
    "id": "9AYlcFAhTiHi",
    "outputId": "e7363c71-f2fa-4b7b-add6-945aa96ad803"
   },
   "outputs": [
    {
     "data": {
      "text/html": [
       "<div>\n",
       "<style scoped>\n",
       "    .dataframe tbody tr th:only-of-type {\n",
       "        vertical-align: middle;\n",
       "    }\n",
       "\n",
       "    .dataframe tbody tr th {\n",
       "        vertical-align: top;\n",
       "    }\n",
       "\n",
       "    .dataframe thead th {\n",
       "        text-align: right;\n",
       "    }\n",
       "</style>\n",
       "<table border=\"1\" class=\"dataframe\">\n",
       "  <thead>\n",
       "    <tr style=\"text-align: right;\">\n",
       "      <th></th>\n",
       "      <th>ID</th>\n",
       "      <th>Target</th>\n",
       "    </tr>\n",
       "  </thead>\n",
       "  <tbody>\n",
       "    <tr>\n",
       "      <th>0</th>\n",
       "      <td>ID_1EB0DGFP07</td>\n",
       "      <td>20.650194</td>\n",
       "    </tr>\n",
       "    <tr>\n",
       "      <th>1</th>\n",
       "      <td>ID_844T2PSXTK</td>\n",
       "      <td>45.734779</td>\n",
       "    </tr>\n",
       "    <tr>\n",
       "      <th>2</th>\n",
       "      <td>ID_4MCV3S8MLN</td>\n",
       "      <td>24.583229</td>\n",
       "    </tr>\n",
       "    <tr>\n",
       "      <th>3</th>\n",
       "      <td>ID_L7441JV5F3</td>\n",
       "      <td>0.000000</td>\n",
       "    </tr>\n",
       "    <tr>\n",
       "      <th>4</th>\n",
       "      <td>ID_5GUVM4YEWZ</td>\n",
       "      <td>24.172304</td>\n",
       "    </tr>\n",
       "    <tr>\n",
       "      <th>...</th>\n",
       "      <td>...</td>\n",
       "      <td>...</td>\n",
       "    </tr>\n",
       "    <tr>\n",
       "      <th>85</th>\n",
       "      <td>ID_MEW6189J1B</td>\n",
       "      <td>20.551460</td>\n",
       "    </tr>\n",
       "    <tr>\n",
       "      <th>86</th>\n",
       "      <td>ID_TH9HRUXGTP</td>\n",
       "      <td>24.196527</td>\n",
       "    </tr>\n",
       "    <tr>\n",
       "      <th>87</th>\n",
       "      <td>ID_GPC7YS3JG8</td>\n",
       "      <td>42.248810</td>\n",
       "    </tr>\n",
       "    <tr>\n",
       "      <th>88</th>\n",
       "      <td>ID_1P7PJMPV0R</td>\n",
       "      <td>30.628073</td>\n",
       "    </tr>\n",
       "    <tr>\n",
       "      <th>89</th>\n",
       "      <td>ID_NTFSOIOEOG</td>\n",
       "      <td>24.182327</td>\n",
       "    </tr>\n",
       "  </tbody>\n",
       "</table>\n",
       "<p>90 rows × 2 columns</p>\n",
       "</div>"
      ],
      "text/plain": [
       "               ID     Target\n",
       "0   ID_1EB0DGFP07  20.650194\n",
       "1   ID_844T2PSXTK  45.734779\n",
       "2   ID_4MCV3S8MLN  24.583229\n",
       "3   ID_L7441JV5F3   0.000000\n",
       "4   ID_5GUVM4YEWZ  24.172304\n",
       "..            ...        ...\n",
       "85  ID_MEW6189J1B  20.551460\n",
       "86  ID_TH9HRUXGTP  24.196527\n",
       "87  ID_GPC7YS3JG8  42.248810\n",
       "88  ID_1P7PJMPV0R  30.628073\n",
       "89  ID_NTFSOIOEOG  24.182327\n",
       "\n",
       "[90 rows x 2 columns]"
      ]
     },
     "execution_count": 224,
     "metadata": {},
     "output_type": "execute_result"
    }
   ],
   "source": [
    "preds"
   ]
  },
  {
   "cell_type": "code",
   "execution_count": null,
   "metadata": {},
   "outputs": [],
   "source": []
  }
 ],
 "metadata": {
  "colab": {
   "authorship_tag": "ABX9TyOihXjq07msZbeQcKWpSf4h",
   "mount_file_id": "1A8QpZiR1T7BX1Re4gixSxA2ju6cXFn4s",
   "provenance": []
  },
  "kernelspec": {
   "display_name": "Python 3 (ipykernel)",
   "language": "python",
   "name": "python3"
  },
  "language_info": {
   "codemirror_mode": {
    "name": "ipython",
    "version": 3
   },
   "file_extension": ".py",
   "mimetype": "text/x-python",
   "name": "python",
   "nbconvert_exporter": "python",
   "pygments_lexer": "ipython3",
   "version": "3.10.9"
  },
  "toc": {
   "base_numbering": 1,
   "nav_menu": {},
   "number_sections": true,
   "sideBar": true,
   "skip_h1_title": false,
   "title_cell": "Table of Contents",
   "title_sidebar": "Contents",
   "toc_cell": true,
   "toc_position": {},
   "toc_section_display": true,
   "toc_window_display": true
  }
 },
 "nbformat": 4,
 "nbformat_minor": 1
}
